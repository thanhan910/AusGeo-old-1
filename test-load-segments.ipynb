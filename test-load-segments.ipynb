{
 "cells": [
  {
   "cell_type": "code",
   "execution_count": 1,
   "metadata": {},
   "outputs": [],
   "source": [
    "import json\n",
    "import numpy as np"
   ]
  },
  {
   "cell_type": "code",
   "execution_count": 2,
   "metadata": {},
   "outputs": [],
   "source": [
    "with open('local/segments.json') as f:\n",
    "    data = json.load(f)\n",
    "# 20m"
   ]
  },
  {
   "cell_type": "code",
   "execution_count": 3,
   "metadata": {},
   "outputs": [
    {
     "data": {
      "text/plain": [
       "19275924"
      ]
     },
     "execution_count": 3,
     "metadata": {},
     "output_type": "execute_result"
    }
   ],
   "source": [
    "len(data)"
   ]
  },
  {
   "cell_type": "code",
   "execution_count": 4,
   "metadata": {},
   "outputs": [
    {
     "data": {
      "text/plain": [
       "[[[146.92785052248806, -36.083647638487946],\n",
       "  [146.92814537261944, -36.082103778500326]],\n",
       " [[146.92814537261944, -36.082103778500326],\n",
       "  [146.92833977270186, -36.08112205850874]],\n",
       " [[146.92833977270186, -36.08112205850874],\n",
       "  [146.92913934256234, -36.081217648570366]],\n",
       " [[146.92913934256234, -36.081217648570366],\n",
       "  [146.92905871252603, -36.081642608567]],\n",
       " [[146.92905871252603, -36.081642608567],\n",
       "  [146.92883442242544, -36.0828227085576]]]"
      ]
     },
     "execution_count": 4,
     "metadata": {},
     "output_type": "execute_result"
    }
   ],
   "source": [
    "data[:5]"
   ]
  },
  {
   "cell_type": "code",
   "execution_count": 1,
   "metadata": {},
   "outputs": [
    {
     "ename": "NameError",
     "evalue": "name 'data' is not defined",
     "output_type": "error",
     "traceback": [
      "\u001b[1;31m---------------------------------------------------------------------------\u001b[0m",
      "\u001b[1;31mNameError\u001b[0m                                 Traceback (most recent call last)",
      "Cell \u001b[1;32mIn[1], line 1\u001b[0m\n\u001b[1;32m----> 1\u001b[0m reordered_data \u001b[38;5;241m=\u001b[39m [(x, y) \u001b[38;5;28;01mif\u001b[39;00m x \u001b[38;5;241m<\u001b[39m y \u001b[38;5;28;01melse\u001b[39;00m (y, x) \u001b[38;5;28;01mfor\u001b[39;00m x, y \u001b[38;5;129;01min\u001b[39;00m \u001b[43mdata\u001b[49m[:\u001b[38;5;241m5\u001b[39m]]\n",
      "\u001b[1;31mNameError\u001b[0m: name 'data' is not defined"
     ]
    }
   ],
   "source": [
    "reordered_data = [(x, y) if x < y else (y, x) for x, y in data[:5]]"
   ]
  }
 ],
 "metadata": {
  "kernelspec": {
   "display_name": "Python 3",
   "language": "python",
   "name": "python3"
  },
  "language_info": {
   "codemirror_mode": {
    "name": "ipython",
    "version": 3
   },
   "file_extension": ".py",
   "mimetype": "text/x-python",
   "name": "python",
   "nbconvert_exporter": "python",
   "pygments_lexer": "ipython3",
   "version": "3.12.0"
  }
 },
 "nbformat": 4,
 "nbformat_minor": 2
}
