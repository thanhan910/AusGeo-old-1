{
 "cells": [
  {
   "cell_type": "code",
   "execution_count": 49,
   "metadata": {},
   "outputs": [],
   "source": [
    "import pandas as pd\n",
    "import geopandas as gpd\n",
    "import shapely.geometry as geom\n",
    "import numpy as np\n",
    "import json\n",
    "import os"
   ]
  },
  {
   "cell_type": "code",
   "execution_count": 2,
   "metadata": {},
   "outputs": [],
   "source": [
    "\n",
    "gdf : gpd.GeoDataFrame = gpd.read_file('local/MB_2021_AUST_SHP_GDA2020/MB_2021_AUST_GDA2020.shp')\n",
    "# 4m - 9m"
   ]
  },
  {
   "cell_type": "code",
   "execution_count": 3,
   "metadata": {},
   "outputs": [],
   "source": [
    "gdf : gpd.GeoDataFrame = gdf[['MB_CODE21', 'geometry']].rename(columns={'MB_CODE21': 'id'})"
   ]
  },
  {
   "cell_type": "code",
   "execution_count": 11,
   "metadata": {},
   "outputs": [],
   "source": [
    "gdfn : gpd.GeoDataFrame = gdf.dropna().copy()\n",
    "# 10s"
   ]
  },
  {
   "cell_type": "code",
   "execution_count": 6,
   "metadata": {},
   "outputs": [],
   "source": [
    "gdf_geom : gpd.GeoSeries = gdfn.boundary\n",
    "# 30s"
   ]
  },
  {
   "cell_type": "code",
   "execution_count": 8,
   "metadata": {},
   "outputs": [],
   "source": [
    "# Combine multiple linestring and multilinestring geometries into single multilinestring geometry\n",
    "gdml = gdf_geom.apply(lambda x: geom.MultiLineString([x]) if isinstance(x, geom.LineString) else x)\n",
    "# 1m\n",
    "# 30s"
   ]
  },
  {
   "cell_type": "code",
   "execution_count": 14,
   "metadata": {},
   "outputs": [],
   "source": [
    "gdfn['multilinestring'] = gdml"
   ]
  },
  {
   "cell_type": "code",
   "execution_count": 16,
   "metadata": {},
   "outputs": [],
   "source": [
    "gdfn['line_order'] = gdfn['multilinestring'].apply(lambda x: np.array(range(len(x.geoms))))\n",
    "# 15s"
   ]
  },
  {
   "cell_type": "code",
   "execution_count": 18,
   "metadata": {},
   "outputs": [],
   "source": [
    "gdfn['linestring'] = gdfn['multilinestring'].apply(lambda x: x.geoms)\n",
    "# 5s"
   ]
  },
  {
   "cell_type": "code",
   "execution_count": 26,
   "metadata": {},
   "outputs": [],
   "source": [
    "gd_line_order = gdfn[['id', 'line_order']].explode('line_order')\n",
    "# 1m 30s"
   ]
  },
  {
   "cell_type": "code",
   "execution_count": 28,
   "metadata": {},
   "outputs": [],
   "source": [
    "gd_linestring = gdfn['linestring'].explode()\n",
    "# 1m"
   ]
  },
  {
   "cell_type": "code",
   "execution_count": 33,
   "metadata": {},
   "outputs": [],
   "source": [
    "df_lines = pd.concat([gd_line_order, gd_linestring], axis=1)"
   ]
  },
  {
   "cell_type": "code",
   "execution_count": 35,
   "metadata": {},
   "outputs": [],
   "source": [
    "df_lines['linestring'] = df_lines['linestring'].apply(lambda x: np.array(x.coords))\n",
    "# 30s - 1m"
   ]
  },
  {
   "cell_type": "code",
   "execution_count": 39,
   "metadata": {},
   "outputs": [],
   "source": [
    "df_points = df_lines.explode('linestring')\n",
    "# 4m"
   ]
  },
  {
   "cell_type": "code",
   "execution_count": 41,
   "metadata": {},
   "outputs": [],
   "source": [
    "# Split the linestring into lon and lat\n",
    "df_points['lon'] = df_points['linestring'].apply(lambda x: x[0])\n",
    "df_points['lat'] = df_points['linestring'].apply(lambda x: x[1])\n",
    "# 3m - 4m"
   ]
  },
  {
   "cell_type": "code",
   "execution_count": 45,
   "metadata": {},
   "outputs": [],
   "source": [
    "df_point_order = df_lines['linestring'].apply(lambda x: np.array(range(len(x)))).explode()\n",
    "# 20s"
   ]
  },
  {
   "cell_type": "code",
   "execution_count": 47,
   "metadata": {},
   "outputs": [],
   "source": [
    "df_points['point_order'] = df_point_order\n",
    "# 10s"
   ]
  },
  {
   "cell_type": "code",
   "execution_count": 50,
   "metadata": {},
   "outputs": [],
   "source": [
    "# df_points.drop(columns=['linestring'], inplace=True)\n",
    "# # 2m 30s"
   ]
  },
  {
   "cell_type": "code",
   "execution_count": 78,
   "metadata": {},
   "outputs": [],
   "source": [
    "df_points = df_points[['id', 'line_order', 'point_order', 'lon', 'lat']]\n",
    "# 30s"
   ]
  },
  {
   "cell_type": "code",
   "execution_count": 66,
   "metadata": {},
   "outputs": [],
   "source": [
    "os.makedirs('data/mb-points', exist_ok=True)"
   ]
  },
  {
   "cell_type": "code",
   "execution_count": 80,
   "metadata": {},
   "outputs": [],
   "source": [
    "df_points['id5'] = df_points['id'].str[:5]\n",
    "# 30s - 1m30s"
   ]
  },
  {
   "cell_type": "code",
   "execution_count": 81,
   "metadata": {},
   "outputs": [
    {
     "data": {
      "text/plain": [
       "id5\n",
       "11205    652163\n",
       "11204    489706\n",
       "30563    461821\n",
       "20631    367844\n",
       "50391    312449\n",
       "          ...  \n",
       "85830         6\n",
       "85742         5\n",
       "85839         5\n",
       "85871         5\n",
       "50172         5\n",
       "Name: count, Length: 4225, dtype: int64"
      ]
     },
     "execution_count": 81,
     "metadata": {},
     "output_type": "execute_result"
    }
   ],
   "source": [
    "df_points['id5'].value_counts()"
   ]
  },
  {
   "cell_type": "code",
   "execution_count": 82,
   "metadata": {},
   "outputs": [
    {
     "data": {
      "text/html": [
       "<div>\n",
       "<style scoped>\n",
       "    .dataframe tbody tr th:only-of-type {\n",
       "        vertical-align: middle;\n",
       "    }\n",
       "\n",
       "    .dataframe tbody tr th {\n",
       "        vertical-align: top;\n",
       "    }\n",
       "\n",
       "    .dataframe thead th {\n",
       "        text-align: right;\n",
       "    }\n",
       "</style>\n",
       "<table border=\"1\" class=\"dataframe\">\n",
       "  <thead>\n",
       "    <tr style=\"text-align: right;\">\n",
       "      <th></th>\n",
       "    </tr>\n",
       "  </thead>\n",
       "  <tbody>\n",
       "  </tbody>\n",
       "</table>\n",
       "</div>"
      ],
      "text/plain": [
       "Empty DataFrame\n",
       "Columns: []\n",
       "Index: []"
      ]
     },
     "execution_count": 82,
     "metadata": {},
     "output_type": "execute_result"
    }
   ],
   "source": [
    "df_points.groupby('id5').apply(lambda x: x[['id', 'line_order', 'point_order', 'lon', 'lat']].to_csv(f'data/mb-points/mb-{x.name}.csv', index=False))\n",
    "# 7m -8m"
   ]
  },
  {
   "cell_type": "code",
   "execution_count": null,
   "metadata": {},
   "outputs": [],
   "source": [
    "# # Save the data into chunks of csv\n",
    "# n = 200\n",
    "# size = len(df_points)\n",
    "# step = size // n\n",
    "# for i in range(n):\n",
    "#     start = i * step\n",
    "#     end = (i + 1) * step\n",
    "#     if i == n - 1:\n",
    "#         end = size\n",
    "#     df_points[start:end].to_csv(f'data/mb-points/mb-points-{i:03}.csv', index=False)"
   ]
  },
  {
   "cell_type": "code",
   "execution_count": 55,
   "metadata": {},
   "outputs": [
    {
     "name": "stderr",
     "output_type": "stream",
     "text": [
      "C:\\Users\\An\\AppData\\Local\\Temp\\ipykernel_22368\\1883261777.py:2: SettingWithCopyWarning: \n",
      "A value is trying to be set on a copy of a slice from a DataFrame.\n",
      "Try using .loc[row_indexer,col_indexer] = value instead\n",
      "\n",
      "See the caveats in the documentation: https://pandas.pydata.org/pandas-docs/stable/user_guide/indexing.html#returning-a-view-versus-a-copy\n",
      "  df_points['id2'] = df_points['id'].str[:2]\n"
     ]
    }
   ],
   "source": [
    "# # Split df_points into chunks by the first 2 characters of the id\n",
    "# df_points['id2'] = df_points['id'].str[:2]\n",
    "# # 30s - 1m"
   ]
  },
  {
   "cell_type": "code",
   "execution_count": 61,
   "metadata": {},
   "outputs": [
    {
     "data": {
      "text/html": [
       "<div>\n",
       "<style scoped>\n",
       "    .dataframe tbody tr th:only-of-type {\n",
       "        vertical-align: middle;\n",
       "    }\n",
       "\n",
       "    .dataframe tbody tr th {\n",
       "        vertical-align: top;\n",
       "    }\n",
       "\n",
       "    .dataframe thead th {\n",
       "        text-align: right;\n",
       "    }\n",
       "</style>\n",
       "<table border=\"1\" class=\"dataframe\">\n",
       "  <thead>\n",
       "    <tr style=\"text-align: right;\">\n",
       "      <th></th>\n",
       "      <th>id</th>\n",
       "      <th>line_order</th>\n",
       "      <th>point_order</th>\n",
       "      <th>lon</th>\n",
       "      <th>lat</th>\n",
       "      <th>id2</th>\n",
       "    </tr>\n",
       "  </thead>\n",
       "  <tbody>\n",
       "    <tr>\n",
       "      <th>0</th>\n",
       "      <td>10000010000</td>\n",
       "      <td>0</td>\n",
       "      <td>0</td>\n",
       "      <td>146.927851</td>\n",
       "      <td>-36.083648</td>\n",
       "      <td>10</td>\n",
       "    </tr>\n",
       "    <tr>\n",
       "      <th>0</th>\n",
       "      <td>10000010000</td>\n",
       "      <td>0</td>\n",
       "      <td>1</td>\n",
       "      <td>146.928145</td>\n",
       "      <td>-36.082104</td>\n",
       "      <td>10</td>\n",
       "    </tr>\n",
       "    <tr>\n",
       "      <th>0</th>\n",
       "      <td>10000010000</td>\n",
       "      <td>0</td>\n",
       "      <td>2</td>\n",
       "      <td>146.928340</td>\n",
       "      <td>-36.081122</td>\n",
       "      <td>10</td>\n",
       "    </tr>\n",
       "    <tr>\n",
       "      <th>0</th>\n",
       "      <td>10000010000</td>\n",
       "      <td>0</td>\n",
       "      <td>3</td>\n",
       "      <td>146.929139</td>\n",
       "      <td>-36.081218</td>\n",
       "      <td>10</td>\n",
       "    </tr>\n",
       "    <tr>\n",
       "      <th>0</th>\n",
       "      <td>10000010000</td>\n",
       "      <td>0</td>\n",
       "      <td>4</td>\n",
       "      <td>146.929059</td>\n",
       "      <td>-36.081643</td>\n",
       "      <td>10</td>\n",
       "    </tr>\n",
       "    <tr>\n",
       "      <th>...</th>\n",
       "      <td>...</td>\n",
       "      <td>...</td>\n",
       "      <td>...</td>\n",
       "      <td>...</td>\n",
       "      <td>...</td>\n",
       "      <td>...</td>\n",
       "    </tr>\n",
       "    <tr>\n",
       "      <th>368283</th>\n",
       "      <td>97000003777</td>\n",
       "      <td>0</td>\n",
       "      <td>0</td>\n",
       "      <td>167.972812</td>\n",
       "      <td>-29.016558</td>\n",
       "      <td>97</td>\n",
       "    </tr>\n",
       "    <tr>\n",
       "      <th>368283</th>\n",
       "      <td>97000003777</td>\n",
       "      <td>0</td>\n",
       "      <td>1</td>\n",
       "      <td>167.972812</td>\n",
       "      <td>-29.015658</td>\n",
       "      <td>97</td>\n",
       "    </tr>\n",
       "    <tr>\n",
       "      <th>368283</th>\n",
       "      <td>97000003777</td>\n",
       "      <td>0</td>\n",
       "      <td>2</td>\n",
       "      <td>167.973840</td>\n",
       "      <td>-29.015658</td>\n",
       "      <td>97</td>\n",
       "    </tr>\n",
       "    <tr>\n",
       "      <th>368283</th>\n",
       "      <td>97000003777</td>\n",
       "      <td>0</td>\n",
       "      <td>3</td>\n",
       "      <td>167.973840</td>\n",
       "      <td>-29.016558</td>\n",
       "      <td>97</td>\n",
       "    </tr>\n",
       "    <tr>\n",
       "      <th>368283</th>\n",
       "      <td>97000003777</td>\n",
       "      <td>0</td>\n",
       "      <td>4</td>\n",
       "      <td>167.972812</td>\n",
       "      <td>-29.016558</td>\n",
       "      <td>97</td>\n",
       "    </tr>\n",
       "  </tbody>\n",
       "</table>\n",
       "<p>19647448 rows × 6 columns</p>\n",
       "</div>"
      ],
      "text/plain": [
       "                 id line_order point_order         lon        lat id2\n",
       "0       10000010000          0           0  146.927851 -36.083648  10\n",
       "0       10000010000          0           1  146.928145 -36.082104  10\n",
       "0       10000010000          0           2  146.928340 -36.081122  10\n",
       "0       10000010000          0           3  146.929139 -36.081218  10\n",
       "0       10000010000          0           4  146.929059 -36.081643  10\n",
       "...             ...        ...         ...         ...        ...  ..\n",
       "368283  97000003777          0           0  167.972812 -29.016558  97\n",
       "368283  97000003777          0           1  167.972812 -29.015658  97\n",
       "368283  97000003777          0           2  167.973840 -29.015658  97\n",
       "368283  97000003777          0           3  167.973840 -29.016558  97\n",
       "368283  97000003777          0           4  167.972812 -29.016558  97\n",
       "\n",
       "[19647448 rows x 6 columns]"
      ]
     },
     "execution_count": 61,
     "metadata": {},
     "output_type": "execute_result"
    }
   ],
   "source": [
    "df_points"
   ]
  }
 ],
 "metadata": {
  "kernelspec": {
   "display_name": "Python 3",
   "language": "python",
   "name": "python3"
  },
  "language_info": {
   "codemirror_mode": {
    "name": "ipython",
    "version": 3
   },
   "file_extension": ".py",
   "mimetype": "text/x-python",
   "name": "python",
   "nbconvert_exporter": "python",
   "pygments_lexer": "ipython3",
   "version": "3.12.0"
  }
 },
 "nbformat": 4,
 "nbformat_minor": 2
}
