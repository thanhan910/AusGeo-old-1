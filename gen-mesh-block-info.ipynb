{
 "cells": [
  {
   "cell_type": "code",
   "execution_count": 1,
   "metadata": {},
   "outputs": [],
   "source": [
    "import pandas as pd\n",
    "import numpy as np\n",
    "import geopandas as gpd\n",
    "import os"
   ]
  },
  {
   "cell_type": "code",
   "execution_count": 2,
   "metadata": {},
   "outputs": [],
   "source": [
    "base_url = 'https://www.abs.gov.au/statistics/standards/australian-statistical-geography-standard-asgs-edition-3/jul2021-jun2026/access-and-downloads/allocation-files'"
   ]
  },
  {
   "cell_type": "code",
   "execution_count": 3,
   "metadata": {},
   "outputs": [],
   "source": [
    "df_MB = pd.read_excel(f'{base_url}/MB_2021_AUST.xlsx')\n",
    "# 3m 30s"
   ]
  },
  {
   "cell_type": "code",
   "execution_count": 4,
   "metadata": {},
   "outputs": [],
   "source": [
    "df_LGA = pd.read_excel(f'{base_url}/LGA_2023_AUST.xlsx')\n",
    "# 2m"
   ]
  },
  {
   "cell_type": "code",
   "execution_count": 5,
   "metadata": {},
   "outputs": [],
   "source": [
    "df_SAL = pd.read_excel(f'{base_url}/SAL_2021_AUST.xlsx')\n",
    "# 3m 30s"
   ]
  },
  {
   "cell_type": "code",
   "execution_count": 6,
   "metadata": {},
   "outputs": [],
   "source": [
    "df_POA = pd.read_excel(f'{base_url}/POA_2021_AUST.xlsx')\n",
    "# 2m"
   ]
  },
  {
   "cell_type": "code",
   "execution_count": 7,
   "metadata": {},
   "outputs": [],
   "source": [
    "df = pd.merge(df_MB, df_LGA, on='MB_CODE_2021', how='left', suffixes=('', '_LGA'))\n",
    "df = pd.merge(df, df_SAL, on='MB_CODE_2021', how='left', suffixes=('', '_SAL'))\n",
    "df = pd.merge(df, df_POA, on='MB_CODE_2021', how='left', suffixes=('', '_POA'))\n",
    "# 10s"
   ]
  },
  {
   "cell_type": "code",
   "execution_count": 8,
   "metadata": {},
   "outputs": [],
   "source": [
    "# Drop duplicate columns\n",
    "df.drop(columns=['STATE_CODE_2021_LGA', 'STATE_NAME_2021_LGA', 'AUS_CODE_2021_LGA', 'AUS_NAME_2021_LGA', 'AREA_ALBERS_SQKM_LGA', 'ASGS_LOCI_URI_2021_LGA', 'STATE_CODE_2021_SAL', 'STATE_NAME_2021_SAL', 'AUS_CODE_2021_SAL', 'AUS_NAME_2021_SAL', 'AREA_ALBERS_SQKM_SAL', 'ASGS_LOCI_URI_2021_SAL', 'AUS_CODE_2021_POA', 'AUS_NAME_2021_POA', 'AREA_ALBERS_SQKM_POA', 'ASGS_LOCI_URI_2021_POA'], inplace=True)"
   ]
  },
  {
   "cell_type": "code",
   "execution_count": 11,
   "metadata": {},
   "outputs": [],
   "source": [
    "os.makedirs('data/blocks', exist_ok=True)"
   ]
  },
  {
   "cell_type": "code",
   "execution_count": null,
   "metadata": {},
   "outputs": [],
   "source": [
    "# Split df into states\n",
    "states = df['STATE_CODE_2021'].unique()\n",
    "for state_code in states:\n",
    "    df[df['STATE_CODE_2021'] == state_code].to_csv(f'data/blocks/MB-{state_code}.csv', index=False)"
   ]
  }
 ],
 "metadata": {
  "kernelspec": {
   "display_name": "Python 3",
   "language": "python",
   "name": "python3"
  },
  "language_info": {
   "codemirror_mode": {
    "name": "ipython",
    "version": 3
   },
   "file_extension": ".py",
   "mimetype": "text/x-python",
   "name": "python",
   "nbconvert_exporter": "python",
   "pygments_lexer": "ipython3",
   "version": "0.0.0"
  }
 },
 "nbformat": 4,
 "nbformat_minor": 2
}
