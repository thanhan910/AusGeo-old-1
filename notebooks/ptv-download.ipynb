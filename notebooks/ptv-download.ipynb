{
 "cells": [
  {
   "cell_type": "code",
   "execution_count": 2,
   "metadata": {},
   "outputs": [],
   "source": [
    "import pyptvgtfs\n",
    "import pandas as pd\n",
    "import os\n",
    "from shapely.geometry import Point"
   ]
  },
  {
   "cell_type": "code",
   "execution_count": 3,
   "metadata": {},
   "outputs": [],
   "source": [
    "ptv = pyptvgtfs.process_gtfs_zip('http://data.ptv.vic.gov.au/downloads/gtfs.zip', '')\n",
    "ptv = ptv.set_index(['branch_id', 'table_name'], inplace=False)['df']\n",
    "# 30s"
   ]
  },
  {
   "cell_type": "code",
   "execution_count": 6,
   "metadata": {},
   "outputs": [],
   "source": [
    "branch_ids = ptv.index.get_level_values('branch_id').unique()\n",
    "table_names = ptv.index.get_level_values('table_name').unique()"
   ]
  },
  {
   "cell_type": "code",
   "execution_count": 9,
   "metadata": {},
   "outputs": [],
   "source": [
    "os.makedirs('../data/ptv/20240224', exist_ok=True)"
   ]
  },
  {
   "cell_type": "code",
   "execution_count": 10,
   "metadata": {},
   "outputs": [
    {
     "name": "stdout",
     "output_type": "stream",
     "text": [
      "Chunk 1-agency-1 saved.\n",
      "Chunk 1-calendar-1 saved.\n",
      "Chunk 1-calendar_dates-1 saved.\n",
      "Chunk 1-routes-1 saved.\n",
      "Chunk 1-shapes-1 saved.\n",
      "Chunk 1-shapes-2 saved.\n",
      "Chunk 1-stops-1 saved.\n",
      "Chunk 1-stop_times-1 saved.\n",
      "Chunk 1-trips-1 saved.\n",
      "Chunk 10-agency-1 saved.\n",
      "Chunk 10-calendar-1 saved.\n",
      "Chunk 10-calendar_dates-1 saved.\n",
      "Chunk 10-routes-1 saved.\n",
      "Chunk 10-shapes-1 saved.\n",
      "Chunk 10-stops-1 saved.\n",
      "Chunk 10-stop_times-1 saved.\n",
      "Chunk 10-trips-1 saved.\n",
      "Chunk 11-agency-1 saved.\n",
      "Chunk 11-calendar-1 saved.\n",
      "Chunk 11-calendar_dates-1 saved.\n",
      "Chunk 11-routes-1 saved.\n",
      "Chunk 11-shapes-1 saved.\n",
      "Chunk 11-stops-1 saved.\n",
      "Chunk 11-stop_times-1 saved.\n",
      "Chunk 11-trips-1 saved.\n",
      "Chunk 2-agency-1 saved.\n",
      "Chunk 2-calendar-1 saved.\n",
      "Chunk 2-calendar_dates-1 saved.\n",
      "Chunk 2-routes-1 saved.\n",
      "Chunk 2-shapes-1 saved.\n",
      "Chunk 2-stops-1 saved.\n",
      "Chunk 2-stop_times-1 saved.\n",
      "Chunk 2-trips-1 saved.\n",
      "Chunk 3-agency-1 saved.\n",
      "Chunk 3-calendar-1 saved.\n",
      "Chunk 3-calendar_dates-1 saved.\n",
      "Chunk 3-routes-1 saved.\n",
      "Chunk 3-shapes-1 saved.\n",
      "Chunk 3-stops-1 saved.\n",
      "Chunk 3-stop_times-1 saved.\n",
      "Chunk 3-stop_times-2 saved.\n",
      "Chunk 3-stop_times-3 saved.\n",
      "Chunk 3-trips-1 saved.\n",
      "Chunk 4-agency-1 saved.\n",
      "Chunk 4-calendar-1 saved.\n",
      "Chunk 4-calendar_dates-1 saved.\n",
      "Chunk 4-routes-1 saved.\n",
      "Chunk 4-shapes-1 saved.\n",
      "Chunk 4-stops-1 saved.\n",
      "Chunk 4-stop_times-1 saved.\n",
      "Chunk 4-stop_times-2 saved.\n",
      "Chunk 4-stop_times-3 saved.\n",
      "Chunk 4-stop_times-4 saved.\n",
      "Chunk 4-stop_times-5 saved.\n",
      "Chunk 4-stop_times-6 saved.\n",
      "Chunk 4-trips-1 saved.\n",
      "Chunk 5-agency-1 saved.\n",
      "Chunk 5-calendar-1 saved.\n",
      "Chunk 5-calendar_dates-1 saved.\n",
      "Chunk 5-routes-1 saved.\n",
      "Chunk 5-shapes-1 saved.\n",
      "Chunk 5-shapes-2 saved.\n",
      "Chunk 5-shapes-3 saved.\n",
      "Chunk 5-shapes-4 saved.\n",
      "Chunk 5-shapes-5 saved.\n",
      "Chunk 5-stops-1 saved.\n",
      "Chunk 5-stop_times-1 saved.\n",
      "Chunk 5-trips-1 saved.\n",
      "Chunk 6-agency-1 saved.\n",
      "Chunk 6-calendar-1 saved.\n",
      "Chunk 6-calendar_dates-1 saved.\n",
      "Chunk 6-routes-1 saved.\n",
      "Chunk 6-shapes-1 saved.\n",
      "Chunk 6-stops-1 saved.\n",
      "Chunk 6-stop_times-1 saved.\n",
      "Chunk 6-trips-1 saved.\n",
      "Chunk 7-agency-1 saved.\n",
      "Chunk 7-routes-1 saved.\n",
      "Chunk 8-agency-1 saved.\n",
      "Chunk 8-routes-1 saved.\n"
     ]
    }
   ],
   "source": [
    "for branch_id in branch_ids:\n",
    "    for table_name in table_names:\n",
    "        df = ptv[branch_id][table_name]\n",
    "        \n",
    "        total_rows = len(df)\n",
    "\n",
    "        chunk_size = 1000000\n",
    "\n",
    "        num_chunks = -(-total_rows // chunk_size)  # Ceiling division to ensure all rows are covered\n",
    "\n",
    "        # Split the DataFrame into chunks and save each chunk to a separate CSV file\n",
    "        for i, chunk_start in enumerate(range(0, total_rows, chunk_size), 1):\n",
    "            chunk_end = min(chunk_start + chunk_size, total_rows)\n",
    "            chunk = df.iloc[chunk_start:chunk_end]\n",
    "            chunk.to_csv(f'../data/ptv/20240224/ptv-{branch_id}-{table_name}-{i}.csv', index=False)\n",
    "            print(f'Chunk {branch_id}-{table_name}-{i} saved.')"
   ]
  },
  {
   "cell_type": "code",
   "execution_count": null,
   "metadata": {},
   "outputs": [],
   "source": [
    "ptv['5']['shapes']"
   ]
  },
  {
   "cell_type": "code",
   "execution_count": null,
   "metadata": {},
   "outputs": [],
   "source": [
    "for branch_id in branch_ids:\n",
    "    ptv[branch_id]['stops']['branch_id'] = branch_id"
   ]
  },
  {
   "cell_type": "code",
   "execution_count": null,
   "metadata": {},
   "outputs": [],
   "source": [
    "[ptv[branch_id]['stops']['stop_id'].is_unique for branch_id in branch_ids]"
   ]
  },
  {
   "cell_type": "code",
   "execution_count": null,
   "metadata": {},
   "outputs": [],
   "source": [
    "df_stops : pd.DataFrame = pd.concat([ptv[branch_id]['stops'] for branch_id in branch_ids])"
   ]
  },
  {
   "cell_type": "code",
   "execution_count": null,
   "metadata": {},
   "outputs": [],
   "source": [
    "gdf_vic = gdf[gdf['STE_CODE21'] == '2']"
   ]
  },
  {
   "cell_type": "code",
   "execution_count": null,
   "metadata": {},
   "outputs": [],
   "source": [
    "df_stops_points = df_stops.set_index(['stop_id', 'branch_id']).apply(lambda x: Point(x['stop_lon'], x['stop_lat']), axis=1)"
   ]
  },
  {
   "cell_type": "code",
   "execution_count": null,
   "metadata": {},
   "outputs": [],
   "source": [
    "df_stmb : pd.DataFrame = df_stops_points.apply(lambda p: gdf_vic[gdf_vic.geometry.contains(p)]['MB_CODE21'].unique())\n",
    "# 5m - 10m"
   ]
  },
  {
   "cell_type": "code",
   "execution_count": null,
   "metadata": {},
   "outputs": [],
   "source": [
    "df_stmb.apply(lambda x: len(x)).value_counts()"
   ]
  },
  {
   "cell_type": "code",
   "execution_count": null,
   "metadata": {},
   "outputs": [],
   "source": [
    "df_stmbx : pd.Series = df_stmb.apply(lambda x: x[0] if len(x) == 1 else None)\n",
    "df_stmbx.rename('mb_id', inplace=True)\n",
    "df_stmbx : pd.DataFrame = df_stmbx.to_frame().reset_index()"
   ]
  },
  {
   "cell_type": "code",
   "execution_count": null,
   "metadata": {},
   "outputs": [],
   "source": [
    "df_stops['mb_id'] = df_stmbx['mb_id']"
   ]
  },
  {
   "cell_type": "code",
   "execution_count": null,
   "metadata": {},
   "outputs": [],
   "source": [
    "os.makedirs('../data/ptv/', exist_ok=True)"
   ]
  },
  {
   "cell_type": "code",
   "execution_count": null,
   "metadata": {},
   "outputs": [],
   "source": [
    "df_stops.to_csv('../data/ptv/stops_mb.csv', index=False)"
   ]
  }
 ],
 "metadata": {
  "kernelspec": {
   "display_name": "Python 3",
   "language": "python",
   "name": "python3"
  },
  "language_info": {
   "codemirror_mode": {
    "name": "ipython",
    "version": 3
   },
   "file_extension": ".py",
   "mimetype": "text/x-python",
   "name": "python",
   "nbconvert_exporter": "python",
   "pygments_lexer": "ipython3",
   "version": "3.10.13"
  }
 },
 "nbformat": 4,
 "nbformat_minor": 2
}
