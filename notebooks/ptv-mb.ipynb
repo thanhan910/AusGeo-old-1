{
 "cells": [
  {
   "cell_type": "code",
   "execution_count": null,
   "metadata": {},
   "outputs": [],
   "source": [
    "import pyptvgtfs\n",
    "import geopandas as gpd \n",
    "import pandas as pd\n",
    "import os\n",
    "from shapely.geometry import Point\n",
    "from tqdm import tqdm"
   ]
  },
  {
   "cell_type": "code",
   "execution_count": null,
   "metadata": {},
   "outputs": [],
   "source": [
    "ptv = pyptvgtfs.process_gtfs_zip('http://data.ptv.vic.gov.au/downloads/gtfs.zip', '')\n",
    "ptv = ptv.set_index(['branch_id', 'table_name'], inplace=False)['df']"
   ]
  },
  {
   "cell_type": "code",
   "execution_count": null,
   "metadata": {},
   "outputs": [],
   "source": [
    "gdf : gpd.GeoDataFrame = gpd.GeoDataFrame(pd.concat([gpd.read_file(f'../data/core/mb-geojson/{file}') for file in os.listdir('../data/core/mb-geojson')], ignore_index=True))\n"
   ]
  },
  {
   "cell_type": "code",
   "execution_count": null,
   "metadata": {},
   "outputs": [],
   "source": [
    "branch_ids = ptv.index.get_level_values('branch_id').unique()"
   ]
  },
  {
   "cell_type": "code",
   "execution_count": null,
   "metadata": {},
   "outputs": [],
   "source": [
    "for branch_id in branch_ids:\n",
    "    ptv[branch_id]['stops']['branch_id'] = branch_id"
   ]
  },
  {
   "cell_type": "code",
   "execution_count": null,
   "metadata": {},
   "outputs": [],
   "source": [
    "[ptv[branch_id]['stops']['stop_id'].is_unique for branch_id in branch_ids]"
   ]
  },
  {
   "cell_type": "code",
   "execution_count": null,
   "metadata": {},
   "outputs": [],
   "source": [
    "df_stops : pd.DataFrame = pd.concat([ptv[branch_id]['stops'] for branch_id in branch_ids])"
   ]
  },
  {
   "cell_type": "code",
   "execution_count": null,
   "metadata": {},
   "outputs": [],
   "source": [
    "df_stops[df_stops['stop_id'].duplicated(keep=False)].sort_values(by='stop_id')"
   ]
  },
  {
   "cell_type": "code",
   "execution_count": null,
   "metadata": {},
   "outputs": [],
   "source": [
    "point0 = df_stops.iloc[0]\n",
    "point0 = Point(point0['stop_lon'], point0['stop_lat'])"
   ]
  },
  {
   "cell_type": "code",
   "execution_count": null,
   "metadata": {},
   "outputs": [],
   "source": [
    "gdf[gdf.geometry.contains(point0)]['MB_CODE21'].unique()"
   ]
  },
  {
   "cell_type": "code",
   "execution_count": null,
   "metadata": {},
   "outputs": [],
   "source": [
    "df_stops_mb = df_stops.apply(lambda row: gdf[gdf.geometry.contains(Point(row['stop_lon'], row['stop_lat']))]['MB_CODE21'].unique(), axis=1)"
   ]
  },
  {
   "cell_type": "code",
   "execution_count": null,
   "metadata": {},
   "outputs": [],
   "source": [
    "df_stops_points = df_stops.set_index(['stop_id', 'branch_id']).apply(axis=1, func=lambda row: Point(row['stop_lon'], row['stop_lat']))"
   ]
  },
  {
   "cell_type": "code",
   "execution_count": null,
   "metadata": {},
   "outputs": [],
   "source": [
    "def temp(p):\n",
    "    print(p)\n",
    "    return gdf[gdf.geometry.contains(p)]['MB_CODE21'].unique()\n",
    "df_stmb = df_stops_points.apply(temp)"
   ]
  }
 ],
 "metadata": {
  "kernelspec": {
   "display_name": "Python 3",
   "language": "python",
   "name": "python3"
  },
  "language_info": {
   "codemirror_mode": {
    "name": "ipython",
    "version": 3
   },
   "file_extension": ".py",
   "mimetype": "text/x-python",
   "name": "python",
   "nbconvert_exporter": "python",
   "pygments_lexer": "ipython3",
   "version": "3.10.13"
  }
 },
 "nbformat": 4,
 "nbformat_minor": 2
}
