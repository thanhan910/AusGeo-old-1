{
 "cells": [
  {
   "cell_type": "code",
   "execution_count": 195,
   "metadata": {},
   "outputs": [],
   "source": [
    "import pandas as pd\n",
    "import os\n",
    "import shapely.geometry as sg\n",
    "import geopandas as gpd\n",
    "import numpy as np\n",
    "from shapely.geometry import LineString, MultiLineString, Point, MultiPoint\n",
    "from shapely.ops import unary_union\n",
    "data_directory = os.path.join('..', 'data', 'ptv', '20240224')"
   ]
  },
  {
   "cell_type": "code",
   "execution_count": 1,
   "metadata": {},
   "outputs": [],
   "source": [
    "\n",
    "ROUTE_TYPES = {\n",
    "    0 : 'Tram',\n",
    "    1 : 'Metro',\n",
    "    2 : 'Rail',\n",
    "    3 : 'Bus',\n",
    "    4 : 'Ferry',\n",
    "    5 : 'Cable tram',\n",
    "    6 : 'Gondola',\n",
    "    7 : 'Funicular',\n",
    "    11 : 'Trolleybus',\n",
    "    12 : 'Monorail',\n",
    "}\n",
    "ROUTE_TYPES_LONG = {\n",
    "    0 : 'Tram, Streetcar, Light rail. Any light rail or street level system within a metropolitan area.',\n",
    "    1 : 'Subway, Metro. Any underground rail system within a metropolitan area.',\n",
    "    2 : 'Rail. Used for intercity or long-distance travel.',\n",
    "    3 : 'Bus. Used for short- and long-distance bus routes.',\n",
    "    4 : 'Ferry. Used for short- and long-distance boat service.',\n",
    "    5 : 'Cable tram. Used for street-level rail cars where the cable runs beneath the vehicle, e.g., cable car in San Francisco.',\n",
    "    6 : 'Aerial lift, suspended cable car (e.g., gondola lift, aerial tramway). Cable transport where cabins, cars, gondolas or open chairs are suspended by means of one or more cables.',\n",
    "    7 : 'Funicular. Any rail system designed for steep inclines.',\n",
    "    11 : 'Trolleybus. Electric buses that draw power from overhead wires using poles.',\n",
    "    12 : 'Monorail. Railway in which the track consists of a single rail or a beam.',\n",
    "}\n",
    "\n",
    "BRANCH_IDS_ALL = ['1', '2', '3', '4', '5', '6', '7', '8', '10', '11']\n",
    "BRANCH_IDS = ['1', '2', '3', '4', '5', '6', '10', '11']\n",
    "TABLE_NAMES = ['stop_times', 'stops', 'trips', 'routes', 'calendar', 'calendar_dates', 'agency', 'shapes']\n",
    "# GTFS File Fields\n",
    "# agency.txt \n",
    "# agency_id, agency_name, agency_url, agency_timezone, agency_lang\n",
    "# calendar.txt \n",
    "# service_id, monday, tuesday, wednesday, thursday, friday, saturday, sunday, start_date, end_date\n",
    "# calendar_dates.txt \n",
    "# service_id ,date, exception_type\n",
    "# routes.txt \n",
    "# route_id, agency_id, route_short_name, route_long_name,\n",
    "# route_type, route_color,route_text_color\n",
    "# trips.txt \n",
    "# route_id, service_id, trip_id, shape_id, trip_headsign, direction_id\n",
    "# stops.txt \n",
    "# stop_id, stop_name, stop_lat, stop_lon\n",
    "# stop_times.txt \n",
    "# trip_id, arrival_time, departure_time, stop_id, stop_sequence, stop_headsign, pickup_type, drop_off_type, shape_dist_traveled\n",
    "# shapes.txt \n",
    "# shape_id, shape_pt_lat, shape_pt_lon, shape_pt_sequence, shape_dist_traveled \n",
    "def get_df(branch_id, table_name):\n",
    "    files = [os.path.join(data_directory, f) for f in os.listdir(data_directory) if f.split('-')[1] == str(branch_id) and f.split('-')[2] == table_name]\n",
    "    if len(files) == 0:\n",
    "        return None\n",
    "    return pd.concat([pd.read_csv(f, keep_default_na=False, na_values=['']) for f in files])\n",
    "\n",
    "DF = {branch_id: {table_name: get_df(branch_id, table_name) for table_name in TABLE_NAMES} for branch_id in BRANCH_IDS_ALL}\n",
    "# 15s - 30s\n"
   ]
  },
  {
   "cell_type": "code",
   "execution_count": 2,
   "metadata": {},
   "outputs": [],
   "source": [
    "\n",
    "# Assert all shape_id contains route_id\n",
    "for bid in BRANCH_IDS:\n",
    "    assert DF[bid]['trips'].dropna(subset=['route_id', 'shape_id']).apply(lambda x: x['route_id'] in x['shape_id'], axis=1).all(), bid\n",
    "\n",
    "# Assert all shape start with distance = 0\n",
    "for bid in BRANCH_IDS:\n",
    "    assert DF[bid]['shapes'][DF[bid]['shapes']['shape_pt_sequence'] == 1]['shape_dist_traveled'].unique() == [0], bid\n"
   ]
  },
  {
   "cell_type": "code",
   "execution_count": 3,
   "metadata": {},
   "outputs": [],
   "source": [
    "# Add stop names to stop_times, to make it easier to read\n",
    "for bid in BRANCH_IDS:\n",
    "    DF[bid]['stop_times'] = pd.merge(DF[bid]['stop_times'], DF[bid]['stops'], on='stop_id')\n",
    "    DF[bid]['stop_times'].sort_values(by=['trip_id', 'stop_sequence'], inplace=True)\n",
    "# 15s - 30s"
   ]
  },
  {
   "cell_type": "code",
   "execution_count": 6,
   "metadata": {},
   "outputs": [],
   "source": [
    "\n",
    "# Get list of stops for each trip\n",
    "for bid in BRANCH_IDS:\n",
    "    DF[bid]['trip_stops'] = DF[bid]['stop_times'].sort_values(by=['trip_id', 'stop_sequence']).groupby('trip_id')['stop_id'].apply(np.array).reset_index()\n",
    "    DF[bid]['trip_stops']['stops_count'] = DF[bid]['trip_stops']['stop_id'].apply(len)\n",
    "# 10s - 30s. Faster when using np.array instead of list or .apply(lambda x: x.to_numpy())"
   ]
  },
  {
   "cell_type": "code",
   "execution_count": 7,
   "metadata": {},
   "outputs": [],
   "source": [
    "# Equivalently, get list of stop sequence for each trip\n",
    "for bid in BRANCH_IDS:\n",
    "    df_trip_stopsorder = DF[bid]['stop_times'].groupby('trip_id')['stop_sequence'].apply(np.array)\n",
    "    DF[bid]['trip_stops'] = pd.merge(df_trip_stopsorder, DF[bid]['trip_stops'], on='trip_id')\n",
    "# 5s - 10s"
   ]
  },
  {
   "cell_type": "code",
   "execution_count": 8,
   "metadata": {},
   "outputs": [],
   "source": [
    "# Get full information about trips, including stop sequence and route, shape ids\n",
    "for bid in BRANCH_IDS:\n",
    "    DF[bid]['trips_full'] = pd.merge(DF[bid]['trips'], DF[bid]['trip_stops'], on='trip_id')\n",
    "    DF[bid]['trips_full']['stop_pattern'] = DF[bid]['trips_full']['stop_id'].apply(lambda x: '-'.join([str(i) for i in x]))\n",
    "# 3s - 5s"
   ]
  },
  {
   "cell_type": "code",
   "execution_count": 9,
   "metadata": {},
   "outputs": [],
   "source": [
    "# Concatenate all trips_full\n",
    "DFTRIPSFULL : pd.DataFrame = pd.concat([DF[bid]['trips_full'] for bid in BRANCH_IDS])\n",
    "\n",
    "# Confirm that each shape_id has only one stop_pattern (stop sequence)\n",
    "assert DFTRIPSFULL.groupby('shape_id')['stop_pattern'].nunique().unique() == [1]\n"
   ]
  },
  {
   "cell_type": "code",
   "execution_count": 10,
   "metadata": {},
   "outputs": [],
   "source": [
    "for bid in BRANCH_IDS:\n",
    "    DF[bid]['shape_stops'] = DF[bid]['trips_full'].groupby('shape_id')['stop_pattern'].unique().apply(lambda x: x[0]).reset_index()\n",
    "\n",
    "DFSHAPESTOPS = pd.concat([DF[bid]['shape_stops'] for bid in BRANCH_IDS])"
   ]
  },
  {
   "cell_type": "code",
   "execution_count": 12,
   "metadata": {},
   "outputs": [],
   "source": [
    "\n",
    "for bid in BRANCH_IDS:\n",
    "    DF[bid]['shapes'].sort_values(by=['shape_id', 'shape_pt_sequence'], inplace=True)\n",
    "    DF[bid]['shapes']['points'] = list(zip(DF[bid]['shapes']['shape_pt_lon'], DF[bid]['shapes']['shape_pt_lat']))\n",
    "    DF[bid]['lines'] = DF[bid]['shapes'].groupby('shape_id').apply(lambda x: x['points'].to_numpy()).rename('line').reset_index()\n",
    "# 15s - 30s\n",
    "    \n",
    "for bid in BRANCH_IDS:\n",
    "    DF[bid]['lines']['direction'] = DF[bid]['lines']['shape_id'].transform(lambda x: ''.join(x.split('.')[-1]))\n",
    "    DF[bid]['lines']['route_id'] = DF[bid]['lines']['shape_id'].transform(lambda x: ''.join(x.split('.')[0]))\n",
    "    DF[bid]['lines']['route_name'] = DF[bid]['lines']['route_id'].transform(lambda x: ''.join(x.split('-')[1:-2]))\n",
    "    DF[bid]['lines']['branch'] = DF[bid]['lines']['shape_id'].transform(lambda x: x.split('-')[0])\n",
    "    DF[bid]['lines']['class'] = bid\n",
    "\n",
    "# Total 2m    \n",
    "    \n",
    "DFLINES : pd.DataFrame = pd.concat([DF[bid]['lines'] for bid in BRANCH_IDS])\n",
    "\n",
    "DFLINES = pd.merge(DFLINES, DFSHAPESTOPS, on='shape_id')\n",
    "\n",
    "DFLINES['stops'] = DFLINES['stop_pattern'].apply(lambda x: x.split('-'))\n",
    "DFLINES['points_count'] = DFLINES['line'].apply(len)\n",
    "DFLINES['stops_count'] = DFLINES['stops'].apply(len)\n",
    "\n",
    "DFLINES = DFLINES[['route_name', 'direction', 'branch', 'class', 'route_id', 'shape_id', 'stop_pattern', 'stops', 'stops_count', 'line', 'points_count']]\n",
    "\n",
    "DFLINES.sort_values(\n",
    "    by=['class', 'route_name', 'branch', 'direction', 'stops_count', 'points_count', 'stop_pattern'], \n",
    "    ascending=[True, True, True, True, False, False, True],\n",
    "    inplace=True, \n",
    ")\n",
    "\n",
    "DFLINES.reset_index(drop=True, inplace=True)\n",
    "\n",
    "# Total: 1m 30s - 2m"
   ]
  },
  {
   "cell_type": "code",
   "execution_count": 13,
   "metadata": {},
   "outputs": [],
   "source": [
    "DFSTOPPATTERNS = DFLINES.drop_duplicates(subset=['route_name', 'class', 'direction', 'stop_pattern'])[['route_name', 'class', 'direction', 'stop_pattern', 'stops', 'stops_count']]\n",
    "\n",
    "DFROUTESTOPS = DFSTOPPATTERNS[['route_name', 'class', 'direction', 'stops']].explode('stops').reset_index(drop=True)\n",
    "DFROUTESTOPS = DFROUTESTOPS.groupby(['route_name', 'class', 'direction'])['stops'].unique().reset_index()\n",
    "DFROUTESTOPS['stops_count'] = DFROUTESTOPS['stops'].apply(len)\n",
    "DFROUTESTOPS.rename(columns={'stops': 'stopset', 'stops_count' : 'stopsetsize'}, inplace=True)\n",
    "\n",
    "DFSTOPPATTERNS.sort_values(by=['class', 'route_name', 'direction', 'stops_count', 'stop_pattern'], ascending=[True, True, True, False, True], inplace=True)\n",
    "DFSTOPPATTERNS.reset_index(drop=True, inplace=True)\n",
    "\n",
    "def find_smallest_number_of_lists(lists):\n",
    "    # Create a set to store all unique elements from all lists\n",
    "    all_elements = set()\n",
    "    for lst in lists:\n",
    "        all_elements.update(lst)\n",
    "\n",
    "    # Initialize an empty list to store the selected lists\n",
    "    selected_lists = []\n",
    "\n",
    "    # Iterate until all elements are covered\n",
    "    while all_elements:\n",
    "        # Find the list that covers the maximum number of uncovered elements\n",
    "        max_covered = set()\n",
    "        max_list = None\n",
    "        for lst in lists:\n",
    "            covered = set(lst).intersection(all_elements)\n",
    "            if len(covered) > len(max_covered):\n",
    "                max_covered = covered\n",
    "                max_list = lst\n",
    "\n",
    "        # Remove covered elements from the set of all elements\n",
    "        all_elements.difference_update(max_covered)\n",
    "\n",
    "        # Add the selected list to the result\n",
    "        selected_lists.append(max_list)\n",
    "\n",
    "    return selected_lists\n",
    "\n",
    "\n",
    "DFROUTEPATTERNSMULTI = DFSTOPPATTERNS.groupby(['route_name', 'class', 'direction'])['stops'].apply(list).rename('stop_patterns').reset_index()\n",
    "DFROUTEPATTERNSMULTI['stop_patterns'] = DFROUTEPATTERNSMULTI['stop_patterns'].apply(lambda x: sorted(x, key=lambda y: len(y), reverse=True))\n",
    "DFROUTEPATTERNSMULTI['spcover'] = DFROUTEPATTERNSMULTI['stop_patterns'].apply(lambda x: find_smallest_number_of_lists(x))\n",
    "DFROUTEPATTERNSMULTI['stop_patterns_len'] = DFROUTEPATTERNSMULTI['stop_patterns'].apply(len)\n",
    "DFROUTEPATTERNSMULTI['spcover_len'] = DFROUTEPATTERNSMULTI['spcover'].apply(len)\n",
    "DFROUTEPATTERNSMULTI['diff'] = DFROUTEPATTERNSMULTI['stop_patterns_len'] - DFROUTEPATTERNSMULTI['spcover_len']\n",
    "DFROUTEPATTERNSMULTI['spcoverid'] = DFROUTEPATTERNSMULTI['spcover'].apply(lambda lst: ['-'.join(lst1) for lst1 in lst])\n",
    "DFROUTEPATTERNSMULTI.sort_values(by=['spcover_len', 'diff'], ascending=[False, True], inplace=True)\n",
    "DFROUTEPATTERNSMULTI.reset_index(drop=True, inplace=True)\n",
    "\n",
    "DFROUTEPATTERNCOVER = DFROUTEPATTERNSMULTI.explode('spcoverid').reset_index(drop=True)[['route_name', 'class', 'direction', 'spcoverid']]\n",
    "DFROUTEPATTERNCOVER.rename(columns={'spcoverid': 'stop_pattern'}, inplace=True)\n",
    "\n",
    "DFSTOPPATTERNSMIN = pd.merge(DFSTOPPATTERNS, DFROUTEPATTERNCOVER, on=['route_name', 'class', 'direction', 'stop_pattern'], how='right')\n",
    "DFSTOPPATTERNSMIN.sort_values(by=['class', 'route_name', 'direction', 'stops_count', 'stop_pattern'], ascending=[True, True, True, False, True], inplace=True)\n",
    "DFSTOPPATTERNSMIN.reset_index(drop=True, inplace=True)\n",
    "# DFSTOPPATTERNSMIN: Minimal selected stop patterns that cover all stops for each route\n"
   ]
  },
  {
   "cell_type": "code",
   "execution_count": 125,
   "metadata": {},
   "outputs": [],
   "source": [
    "DFLINESMULTI = DFLINES.groupby(['route_name', 'class', 'direction'])['line'].apply(np.array).rename('lines').reset_index()\n",
    "DFLINESMULTI['lines_cover'] = DFLINESMULTI['lines'].apply(lambda x: find_smallest_number_of_lists(x))\n",
    "# 20s - 1m"
   ]
  },
  {
   "cell_type": "code",
   "execution_count": 126,
   "metadata": {},
   "outputs": [],
   "source": [
    "DFLINESMULTI['lines_cover_count'] = DFLINESMULTI['lines_cover'].apply(len)\n",
    "DFLINESMULTI['lines_full_count'] = DFLINESMULTI['lines'].apply(len)"
   ]
  },
  {
   "cell_type": "code",
   "execution_count": 127,
   "metadata": {},
   "outputs": [],
   "source": [
    "DFLINESMULTI['geo_full'] = DFLINESMULTI['lines'].apply(lambda x: [LineString(i) for i in x])\n",
    "DFLINESMULTI['union_full'] = DFLINESMULTI['geo_full'].apply(unary_union)\n",
    "DFLINESMULTI['geom_full_count'] = DFLINESMULTI['union_full'].apply(lambda x: len(x.geoms) if x.geom_type == 'MultiLineString' else 1)\n",
    "# 12m - 15m"
   ]
  },
  {
   "cell_type": "code",
   "execution_count": 128,
   "metadata": {},
   "outputs": [],
   "source": [
    "DFLINESMULTI['geo_cover'] = DFLINESMULTI['lines_cover'].apply(lambda x: [LineString(i) for i in x])\n",
    "# 2s - 5s\n",
    "DFLINESMULTI['union_cover'] = DFLINESMULTI['geo_cover'].apply(unary_union)\n",
    "# 1s - 2s\n",
    "DFLINESMULTI['geom_cover_count'] = DFLINESMULTI['union_cover'].apply(lambda x: len(x.geoms) if x.geom_type == 'MultiLineString' else 1)"
   ]
  },
  {
   "cell_type": "code",
   "execution_count": 130,
   "metadata": {},
   "outputs": [
    {
     "data": {
      "image/svg+xml": [
       "<svg xmlns=\"http://www.w3.org/2000/svg\" xmlns:xlink=\"http://www.w3.org/1999/xlink\" width=\"100.0\" height=\"100.0\" viewBox=\"144.94456833280768 -37.85130423323391 0.03762183210363901 0.11262530356142264\" preserveAspectRatio=\"xMinYMin meet\"><g transform=\"matrix(1,0,0,-1,0,-75.5899831629064)\"><g><polyline fill=\"none\" stroke=\"#66cc99\" stroke-width=\"0.002252506071228453\" points=\"144.948739640347,-37.8471329256946 144.949915208448,-37.845720545439\" opacity=\"0.8\" /><polyline fill=\"none\" stroke=\"#66cc99\" stroke-width=\"0.002252506071228453\" points=\"144.949915208448,-37.845720545439 144.951361201893,-37.8439794262355\" opacity=\"0.8\" /><polyline fill=\"none\" stroke=\"#66cc99\" stroke-width=\"0.002252506071228453\" points=\"144.951361201893,-37.8439794262355 144.953218861197,-37.8417317791039\" opacity=\"0.8\" /><polyline fill=\"none\" stroke=\"#66cc99\" stroke-width=\"0.002252506071228453\" points=\"144.953218861197,-37.8417317791039 144.953359641969,-37.8415720160379\" opacity=\"0.8\" /><polyline fill=\"none\" stroke=\"#66cc99\" stroke-width=\"0.002252506071228453\" points=\"144.953359641969,-37.8415720160379 144.953617240501,-37.8412971313512\" opacity=\"0.8\" /><polyline fill=\"none\" stroke=\"#66cc99\" stroke-width=\"0.002252506071228453\" points=\"144.953617240501,-37.8412971313512 144.955438361906,-37.8407790604555\" opacity=\"0.8\" /><polyline fill=\"none\" stroke=\"#66cc99\" stroke-width=\"0.002252506071228453\" points=\"144.955438361906,-37.8407790604555 144.955701836343,-37.8407025307772\" opacity=\"0.8\" /><polyline fill=\"none\" stroke=\"#66cc99\" stroke-width=\"0.002252506071228453\" points=\"144.955701836343,-37.8407025307772 144.954233637729,-37.8374958907116\" opacity=\"0.8\" /><polyline fill=\"none\" stroke=\"#66cc99\" stroke-width=\"0.002252506071228453\" points=\"144.954233637729,-37.8374958907116 144.954169225396,-37.8373595956326\" opacity=\"0.8\" /><polyline fill=\"none\" stroke=\"#66cc99\" stroke-width=\"0.002252506071228453\" points=\"144.954169225396,-37.8373595956326 144.956448522129,-37.8367052815041\" opacity=\"0.8\" /><polyline fill=\"none\" stroke=\"#66cc99\" stroke-width=\"0.002252506071228453\" points=\"144.956448522129,-37.8367052815041 144.956986796659,-37.836552413121\" opacity=\"0.8\" /><polyline fill=\"none\" stroke=\"#66cc99\" stroke-width=\"0.002252506071228453\" points=\"144.956986796659,-37.836552413121 144.958933951214,-37.8359914146198\" opacity=\"0.8\" /><polyline fill=\"none\" stroke=\"#66cc99\" stroke-width=\"0.002252506071228453\" points=\"144.958933951214,-37.8359914146198 144.961350694784,-37.8352943286292\" opacity=\"0.8\" /><polyline fill=\"none\" stroke=\"#66cc99\" stroke-width=\"0.002252506071228453\" points=\"144.961350694784,-37.8352943286292 144.961591181428,-37.835226399046\" opacity=\"0.8\" /><polyline fill=\"none\" stroke=\"#66cc99\" stroke-width=\"0.002252506071228453\" points=\"144.961591181428,-37.835226399046 144.963882205108,-37.8345541186932\" opacity=\"0.8\" /><polyline fill=\"none\" stroke=\"#66cc99\" stroke-width=\"0.002252506071228453\" points=\"144.963882205108,-37.8345541186932 144.964718212108,-37.8343162461615\" opacity=\"0.8\" /><polyline fill=\"none\" stroke=\"#66cc99\" stroke-width=\"0.002252506071228453\" points=\"144.964718212108,-37.8343162461615 144.965423425999,-37.8330487694558\" opacity=\"0.8\" /><polyline fill=\"none\" stroke=\"#66cc99\" stroke-width=\"0.002252506071228453\" points=\"144.965423425999,-37.8330487694558 144.965069931602,-37.8322676505338\" opacity=\"0.8\" /><polyline fill=\"none\" stroke=\"#66cc99\" stroke-width=\"0.002252506071228453\" points=\"144.965069931602,-37.8322676505338 144.965048950435,-37.8322042057183\" opacity=\"0.8\" /><polyline fill=\"none\" stroke=\"#66cc99\" stroke-width=\"0.002252506071228453\" points=\"144.965048950435,-37.8322042057183 144.964868012904,-37.8317595029656\" opacity=\"0.8\" /><polyline fill=\"none\" stroke=\"#66cc99\" stroke-width=\"0.002252506071228453\" points=\"144.964868012904,-37.8317595029656 144.965356706699,-37.8301007780297\" opacity=\"0.8\" /><polyline fill=\"none\" stroke=\"#66cc99\" stroke-width=\"0.002252506071228453\" points=\"144.965356706699,-37.8301007780297 144.965856485887,-37.8284512536747\" opacity=\"0.8\" /><polyline fill=\"none\" stroke=\"#66cc99\" stroke-width=\"0.002252506071228453\" points=\"144.965856485887,-37.8284512536747 144.966656725834,-37.825788588617\" opacity=\"0.8\" /><polyline fill=\"none\" stroke=\"#66cc99\" stroke-width=\"0.002252506071228453\" points=\"144.966656725834,-37.825788588617 144.967256185629,-37.823816355007\" opacity=\"0.8\" /><polyline fill=\"none\" stroke=\"#66cc99\" stroke-width=\"0.002252506071228453\" points=\"144.967256185629,-37.823816355007 144.967343830544,-37.8235204803608\" opacity=\"0.8\" /><polyline fill=\"none\" stroke=\"#66cc99\" stroke-width=\"0.002252506071228453\" points=\"144.967343830544,-37.8235204803608 144.968621324598,-37.8237497986277\" opacity=\"0.8\" /><polyline fill=\"none\" stroke=\"#66cc99\" stroke-width=\"0.002252506071228453\" points=\"144.968621324598,-37.8237497986277 144.970132847823,-37.8233162682196\" opacity=\"0.8\" /><polyline fill=\"none\" stroke=\"#66cc99\" stroke-width=\"0.002252506071228453\" points=\"144.970132847823,-37.8233162682196 144.969296498885,-37.8214994950461\" opacity=\"0.8\" /><polyline fill=\"none\" stroke=\"#66cc99\" stroke-width=\"0.002252506071228453\" points=\"144.969296498885,-37.8214994950461 144.967956398339,-37.8185836002742\" opacity=\"0.8\" /><polyline fill=\"none\" stroke=\"#66cc99\" stroke-width=\"0.002252506071228453\" points=\"144.967956398339,-37.8185836002742 144.967913943663,-37.8184747264645\" opacity=\"0.8\" /><polyline fill=\"none\" stroke=\"#66cc99\" stroke-width=\"0.002252506071228453\" points=\"144.967913943663,-37.8184747264645 144.967613552413,-37.817829706853\" opacity=\"0.8\" /><polyline fill=\"none\" stroke=\"#66cc99\" stroke-width=\"0.002252506071228453\" points=\"144.967613552413,-37.817829706853 144.966637871573,-37.8157131215422\" opacity=\"0.8\" /><polyline fill=\"none\" stroke=\"#66cc99\" stroke-width=\"0.002252506071228453\" points=\"144.966637871573,-37.8157131215422 144.966541614874,-37.8154951769789\" opacity=\"0.8\" /><polyline fill=\"none\" stroke=\"#66cc99\" stroke-width=\"0.002252506071228453\" points=\"144.966541614874,-37.8154951769789 144.965629912992,-37.8135328881069\" opacity=\"0.8\" /><polyline fill=\"none\" stroke=\"#66cc99\" stroke-width=\"0.002252506071228453\" points=\"144.965629912992,-37.8135328881069 144.965265640874,-37.8127335588144\" opacity=\"0.8\" /><polyline fill=\"none\" stroke=\"#66cc99\" stroke-width=\"0.002252506071228453\" points=\"144.965265640874,-37.8127335588144 144.963958419473,-37.8098722570578\" opacity=\"0.8\" /><polyline fill=\"none\" stroke=\"#66cc99\" stroke-width=\"0.002252506071228453\" points=\"144.963958419473,-37.8098722570578 144.963829849592,-37.8095906691793\" opacity=\"0.8\" /><polyline fill=\"none\" stroke=\"#66cc99\" stroke-width=\"0.002252506071228453\" points=\"144.963829849592,-37.8095906691793 144.962982443765,-37.8077736597573\" opacity=\"0.8\" /><polyline fill=\"none\" stroke=\"#66cc99\" stroke-width=\"0.002252506071228453\" points=\"144.962982443765,-37.8077736597573 144.962778618168,-37.8073375688316\" opacity=\"0.8\" /><polyline fill=\"none\" stroke=\"#66cc99\" stroke-width=\"0.002252506071228453\" points=\"144.962778618168,-37.8073375688316 144.963157141612,-37.8051362334608\" opacity=\"0.8\" /><polyline fill=\"none\" stroke=\"#66cc99\" stroke-width=\"0.002252506071228453\" points=\"144.963157141612,-37.8051362334608 144.963589461282,-37.8026294258744\" opacity=\"0.8\" /><polyline fill=\"none\" stroke=\"#66cc99\" stroke-width=\"0.002252506071228453\" points=\"144.963589461282,-37.8026294258744 144.963737839335,-37.8017758730189\" opacity=\"0.8\" /><polyline fill=\"none\" stroke=\"#66cc99\" stroke-width=\"0.002252506071228453\" points=\"144.963737839335,-37.8017758730189 144.964274777954,-37.798766210446\" opacity=\"0.8\" /><polyline fill=\"none\" stroke=\"#66cc99\" stroke-width=\"0.002252506071228453\" points=\"144.964274777954,-37.798766210446 144.964622834582,-37.7968437051769\" opacity=\"0.8\" /><polyline fill=\"none\" stroke=\"#66cc99\" stroke-width=\"0.002252506071228453\" points=\"144.964622834582,-37.7968437051769 144.967159382059,-37.7971128122442\" opacity=\"0.8\" /><polyline fill=\"none\" stroke=\"#66cc99\" stroke-width=\"0.002252506071228453\" points=\"144.967159382059,-37.7971128122442 144.967555696342,-37.7971556997888\" opacity=\"0.8\" /><polyline fill=\"none\" stroke=\"#66cc99\" stroke-width=\"0.002252506071228453\" points=\"144.967555696342,-37.7971556997888 144.968070230232,-37.7941276054053\" opacity=\"0.8\" /><polyline fill=\"none\" stroke=\"#66cc99\" stroke-width=\"0.002252506071228453\" points=\"144.968070230232,-37.7941276054053 144.968314031114,-37.7926899246241\" opacity=\"0.8\" /><polyline fill=\"none\" stroke=\"#66cc99\" stroke-width=\"0.002252506071228453\" points=\"144.968314031114,-37.7926899246241 144.968842065189,-37.7895809508327\" opacity=\"0.8\" /><polyline fill=\"none\" stroke=\"#66cc99\" stroke-width=\"0.002252506071228453\" points=\"144.968842065189,-37.7895809508327 144.969220787896,-37.7873615668448\" opacity=\"0.8\" /><polyline fill=\"none\" stroke=\"#66cc99\" stroke-width=\"0.002252506071228453\" points=\"144.969220787896,-37.7873615668448 144.969735167883,-37.7843334565449\" opacity=\"0.8\" /><polyline fill=\"none\" stroke=\"#66cc99\" stroke-width=\"0.002252506071228453\" points=\"144.969735167883,-37.7843334565449 144.969777351118,-37.7840367940269\" opacity=\"0.8\" /><polyline fill=\"none\" stroke=\"#66cc99\" stroke-width=\"0.002252506071228453\" points=\"144.969777351118,-37.7840367940269 144.970119005312,-37.7819249074439\" opacity=\"0.8\" /><polyline fill=\"none\" stroke=\"#66cc99\" stroke-width=\"0.002252506071228453\" points=\"144.970119005312,-37.7819249074439 144.97066806938,-37.7784558084813\" opacity=\"0.8\" /><polyline fill=\"none\" stroke=\"#66cc99\" stroke-width=\"0.002252506071228453\" points=\"144.97066806938,-37.7784558084813 144.970695200803,-37.7782940632216\" opacity=\"0.8\" /><polyline fill=\"none\" stroke=\"#66cc99\" stroke-width=\"0.002252506071228453\" points=\"144.970695200803,-37.7782940632216 144.971045414765,-37.7758669052874\" opacity=\"0.8\" /><polyline fill=\"none\" stroke=\"#66cc99\" stroke-width=\"0.002252506071228453\" points=\"144.971045414765,-37.7758669052874 144.971014079059,-37.7757672354829\" opacity=\"0.8\" /><polyline fill=\"none\" stroke=\"#66cc99\" stroke-width=\"0.002252506071228453\" points=\"144.971014079059,-37.7757672354829 144.971027890062,-37.7756773551765\" opacity=\"0.8\" /><polyline fill=\"none\" stroke=\"#66cc99\" stroke-width=\"0.002252506071228453\" points=\"144.971027890062,-37.7756773551765 144.971482893057,-37.7727383256508\" opacity=\"0.8\" /><polyline fill=\"none\" stroke=\"#66cc99\" stroke-width=\"0.002252506071228453\" points=\"144.971482893057,-37.7727383256508 144.971860197497,-37.7705639604208\" opacity=\"0.8\" /><polyline fill=\"none\" stroke=\"#66cc99\" stroke-width=\"0.002252506071228453\" points=\"144.971860197497,-37.7705639604208 144.972006184892,-37.7697914565376\" opacity=\"0.8\" /><polyline fill=\"none\" stroke=\"#66cc99\" stroke-width=\"0.002252506071228453\" points=\"144.972006184892,-37.7697914565376 144.97229913371,-37.7682104172912\" opacity=\"0.8\" /><polyline fill=\"none\" stroke=\"#66cc99\" stroke-width=\"0.002252506071228453\" points=\"144.97229913371,-37.7682104172912 144.972579737655,-37.7666652116736\" opacity=\"0.8\" /><polyline fill=\"none\" stroke=\"#66cc99\" stroke-width=\"0.002252506071228453\" points=\"144.972579737655,-37.7666652116736 144.97296979329,-37.7644369886151\" opacity=\"0.8\" /><polyline fill=\"none\" stroke=\"#66cc99\" stroke-width=\"0.002252506071228453\" points=\"144.97296979329,-37.7644369886151 144.973343804683,-37.7623797122351\" opacity=\"0.8\" /><polyline fill=\"none\" stroke=\"#66cc99\" stroke-width=\"0.002252506071228453\" points=\"144.973343804683,-37.7623797122351 144.973371168697,-37.7622089579951\" opacity=\"0.8\" /><polyline fill=\"none\" stroke=\"#66cc99\" stroke-width=\"0.002252506071228453\" points=\"144.973371168697,-37.7622089579951 144.973907635065,-37.7621010319581\" opacity=\"0.8\" /><polyline fill=\"none\" stroke=\"#66cc99\" stroke-width=\"0.002252506071228453\" points=\"144.973907635065,-37.7621010319581 144.973955477761,-37.7620117363615\" opacity=\"0.8\" /><polyline fill=\"none\" stroke=\"#66cc99\" stroke-width=\"0.002252506071228453\" points=\"144.973955477761,-37.7620117363615 144.974401410922,-37.7593969578011\" opacity=\"0.8\" /><polyline fill=\"none\" stroke=\"#66cc99\" stroke-width=\"0.002252506071228453\" points=\"144.974401410922,-37.7593969578011 144.97483301541,-37.7568900720755\" opacity=\"0.8\" /><polyline fill=\"none\" stroke=\"#66cc99\" stroke-width=\"0.002252506071228453\" points=\"144.97483301541,-37.7568900720755 144.974872946979,-37.7566744740641\" opacity=\"0.8\" /><polyline fill=\"none\" stroke=\"#66cc99\" stroke-width=\"0.002252506071228453\" points=\"144.974872946979,-37.7566744740641 144.975780513498,-37.7541937878283\" opacity=\"0.8\" /><polyline fill=\"none\" stroke=\"#66cc99\" stroke-width=\"0.002252506071228453\" points=\"144.975780513498,-37.7541937878283 144.976012515233,-37.7535939793936\" opacity=\"0.8\" /><polyline fill=\"none\" stroke=\"#66cc99\" stroke-width=\"0.002252506071228453\" points=\"144.976012515233,-37.7535939793936 144.97635545162,-37.7526716490326\" opacity=\"0.8\" /><polyline fill=\"none\" stroke=\"#66cc99\" stroke-width=\"0.002252506071228453\" points=\"144.97635545162,-37.7526716490326 144.976572795452,-37.7513596504583\" opacity=\"0.8\" /><polyline fill=\"none\" stroke=\"#66cc99\" stroke-width=\"0.002252506071228453\" points=\"144.976572795452,-37.7513596504583 144.976897813527,-37.7494276815233\" opacity=\"0.8\" /><polyline fill=\"none\" stroke=\"#66cc99\" stroke-width=\"0.002252506071228453\" points=\"144.976897813527,-37.7494276815233 144.977400449823,-37.7463903004365\" opacity=\"0.8\" /><polyline fill=\"none\" stroke=\"#66cc99\" stroke-width=\"0.002252506071228453\" points=\"144.977400449823,-37.7463903004365 144.977415227005,-37.7462643879434\" opacity=\"0.8\" /><polyline fill=\"none\" stroke=\"#66cc99\" stroke-width=\"0.002252506071228453\" points=\"144.977415227005,-37.7462643879434 144.97755416784,-37.7453295385215\" opacity=\"0.8\" /><polyline fill=\"none\" stroke=\"#66cc99\" stroke-width=\"0.002252506071228453\" points=\"144.97755416784,-37.7453295385215 144.977724748095,-37.7448998966595\" opacity=\"0.8\" /><polyline fill=\"none\" stroke=\"#66cc99\" stroke-width=\"0.002252506071228453\" points=\"144.977724748095,-37.7448998966595 144.977795931657,-37.7443694179712\" opacity=\"0.8\" /><polyline fill=\"none\" stroke=\"#66cc99\" stroke-width=\"0.002252506071228453\" points=\"144.977795931657,-37.7443694179712 144.978018857372,-37.7428502372118\" opacity=\"0.8\" /></g></g></svg>"
      ],
      "text/plain": [
       "<MULTILINESTRING ((144.949 -37.847, 144.95 -37.846), (144.95 -37.846, 144.95...>"
      ]
     },
     "execution_count": 130,
     "metadata": {},
     "output_type": "execute_result"
    }
   ],
   "source": [
    "DFLINESMULTI.iloc[0]['union_full']"
   ]
  },
  {
   "cell_type": "code",
   "execution_count": 131,
   "metadata": {},
   "outputs": [
    {
     "data": {
      "image/svg+xml": [
       "<svg xmlns=\"http://www.w3.org/2000/svg\" xmlns:xlink=\"http://www.w3.org/1999/xlink\" width=\"100.0\" height=\"100.0\" viewBox=\"144.94456833280768 -37.85130423323391 0.03762183210363901 0.11262530356142264\" preserveAspectRatio=\"xMinYMin meet\"><g transform=\"matrix(1,0,0,-1,0,-75.5899831629064)\"><polyline fill=\"none\" stroke=\"#66cc99\" stroke-width=\"0.002252506071228453\" points=\"144.948739640347,-37.8471329256946 144.949915208448,-37.845720545439 144.951361201893,-37.8439794262355 144.953218861197,-37.8417317791039 144.953359641969,-37.8415720160379 144.953617240501,-37.8412971313512 144.955438361906,-37.8407790604555 144.955701836343,-37.8407025307772 144.954233637729,-37.8374958907116 144.954169225396,-37.8373595956326 144.956448522129,-37.8367052815041 144.956986796659,-37.836552413121 144.958933951214,-37.8359914146198 144.961350694784,-37.8352943286292 144.961591181428,-37.835226399046 144.963882205108,-37.8345541186932 144.964718212108,-37.8343162461615 144.965423425999,-37.8330487694558 144.965069931602,-37.8322676505338 144.965048950435,-37.8322042057183 144.964868012904,-37.8317595029656 144.965356706699,-37.8301007780297 144.965856485887,-37.8284512536747 144.966656725834,-37.825788588617 144.967256185629,-37.823816355007 144.967343830544,-37.8235204803608 144.968621324598,-37.8237497986277 144.970132847823,-37.8233162682196 144.969296498885,-37.8214994950461 144.967956398339,-37.8185836002742 144.967913943663,-37.8184747264645 144.967613552413,-37.817829706853 144.966637871573,-37.8157131215422 144.966541614874,-37.8154951769789 144.965629912992,-37.8135328881069 144.965265640874,-37.8127335588144 144.963958419473,-37.8098722570578 144.963829849592,-37.8095906691793 144.962982443765,-37.8077736597573 144.962778618168,-37.8073375688316 144.963157141612,-37.8051362334608 144.963589461282,-37.8026294258744 144.963737839335,-37.8017758730189 144.964274777954,-37.798766210446 144.964622834582,-37.7968437051769 144.967159382059,-37.7971128122442 144.967555696342,-37.7971556997888 144.968070230232,-37.7941276054053 144.968314031114,-37.7926899246241 144.968842065189,-37.7895809508327 144.969220787896,-37.7873615668448 144.969735167883,-37.7843334565449 144.969777351118,-37.7840367940269 144.970119005312,-37.7819249074439 144.97066806938,-37.7784558084813 144.970695200803,-37.7782940632216 144.971045414765,-37.7758669052874 144.971014079059,-37.7757672354829 144.971027890062,-37.7756773551765 144.971482893057,-37.7727383256508 144.971860197497,-37.7705639604208 144.972006184892,-37.7697914565376 144.97229913371,-37.7682104172912 144.972579737655,-37.7666652116736 144.97296979329,-37.7644369886151 144.973343804683,-37.7623797122351 144.973371168697,-37.7622089579951 144.973907635065,-37.7621010319581 144.973955477761,-37.7620117363615 144.974401410922,-37.7593969578011 144.97483301541,-37.7568900720755 144.974872946979,-37.7566744740641 144.975780513498,-37.7541937878283 144.976012515233,-37.7535939793936 144.97635545162,-37.7526716490326 144.976572795452,-37.7513596504583 144.976897813527,-37.7494276815233 144.977400449823,-37.7463903004365 144.977415227005,-37.7462643879434 144.97755416784,-37.7453295385215 144.977724748095,-37.7448998966595 144.977795931657,-37.7443694179712 144.978018857372,-37.7428502372118\" opacity=\"0.8\" /></g></svg>"
      ],
      "text/plain": [
       "<LINESTRING (144.949 -37.847, 144.95 -37.846, 144.951 -37.844, 144.953 -37.8...>"
      ]
     },
     "execution_count": 131,
     "metadata": {},
     "output_type": "execute_result"
    }
   ],
   "source": [
    "DFLINESMULTI.iloc[0]['union_cover']"
   ]
  },
  {
   "cell_type": "code",
   "execution_count": 134,
   "metadata": {},
   "outputs": [],
   "source": [
    "DFLINESGEOFULL = DFLINESMULTI[['route_name', 'class', 'direction', 'union_full', 'geom_full_count']]"
   ]
  },
  {
   "cell_type": "code",
   "execution_count": 136,
   "metadata": {},
   "outputs": [
    {
     "name": "stderr",
     "output_type": "stream",
     "text": [
      "C:\\Users\\An\\AppData\\Local\\Temp\\ipykernel_9320\\1232868180.py:2: SettingWithCopyWarning: \n",
      "A value is trying to be set on a copy of a slice from a DataFrame.\n",
      "Try using .loc[row_indexer,col_indexer] = value instead\n",
      "\n",
      "See the caveats in the documentation: https://pandas.pydata.org/pandas-docs/stable/user_guide/indexing.html#returning-a-view-versus-a-copy\n",
      "  DFLINESGEOFULL['points_full'] = DFLINESGEOFULL['union_full'].apply(lambda x: np.array(x.geoms) if x.geom_type == 'MultiLineString' else np.array([x]))\n"
     ]
    }
   ],
   "source": [
    "# Convert linestring to array of points\n",
    "DFLINESGEOFULL['points_full'] = DFLINESGEOFULL['union_full'].apply(lambda x: np.array(x.geoms) if x.geom_type == 'MultiLineString' else np.array([x]))\n",
    "# 5s - 10s\n",
    "DFLINESGEOFULL = DFLINESGEOFULL.explode('points_full').reset_index(drop=True)\n",
    "DFLINESGEOFULL['points_full'] = DFLINESGEOFULL['points_full'].apply(lambda x: np.array(x.coords))\n",
    "# 5s - 10s\n",
    "DFLINESGEOFULL['points_len'] = DFLINESGEOFULL['points_full'].apply(len)\n",
    "DFLINESGEOFULL = DFLINESGEOFULL[['route_name', 'class', 'direction', 'points_full', 'points_len']]\n",
    "\n",
    "DFLINESGEOFULL = DFLINESGEOFULL.groupby(['route_name', 'class', 'direction'])['points_full'].apply(np.array).reset_index()\n",
    "DFLINESGEOFULL.rename(columns={'points_full': 'lines'}, inplace=True)\n",
    "DFLINESGEOFULL['lines_count'] = DFLINESGEOFULL['lines'].apply(len)"
   ]
  },
  {
   "cell_type": "code",
   "execution_count": 183,
   "metadata": {},
   "outputs": [],
   "source": [
    "def merge_directed_paths(input_paths : np.ndarray[np.ndarray[np.ndarray]]) -> np.ndarray[np.ndarray[np.ndarray]]:\n",
    "    merged_paths = []\n",
    "    for path in input_paths:\n",
    "        merged = False\n",
    "        for i, existing_path in enumerate(merged_paths):\n",
    "            if all(path[0] == existing_path[-1]):\n",
    "                merged_paths[i] = np.concatenate((existing_path, path[1:]))\n",
    "                merged = True\n",
    "                break\n",
    "            elif all(path[-1] == existing_path[0]):\n",
    "                merged_paths[i] = np.concatenate((path[:-1], existing_path))\n",
    "                merged = True\n",
    "                break\n",
    "        if not merged:\n",
    "            merged_paths.append(path)\n",
    "    return merged_paths\n"
   ]
  },
  {
   "cell_type": "code",
   "execution_count": 185,
   "metadata": {},
   "outputs": [],
   "source": [
    "DFLINESGEOFULL['paths'] = DFLINESGEOFULL['lines'].transform(lambda x: merge_directed_paths(x))\n",
    "# 5s -10s\n",
    "DFLINESGEOFULL['paths_count'] = DFLINESGEOFULL['paths'].apply(len)"
   ]
  },
  {
   "cell_type": "code",
   "execution_count": 192,
   "metadata": {},
   "outputs": [],
   "source": [
    "DFLINESGEOFULL.sort_values(by='paths_count', ascending=False, inplace=True)\n",
    "DFLINESGEOFULL.reset_index(drop=True, inplace=True)"
   ]
  },
  {
   "cell_type": "code",
   "execution_count": 197,
   "metadata": {},
   "outputs": [],
   "source": [
    "DFLINESGEOFULL['geo_lines'] = DFLINESGEOFULL['lines'].apply(lambda x: MultiLineString([LineString(i) for i in x]))\n",
    "# 10s - 15s"
   ]
  },
  {
   "cell_type": "code",
   "execution_count": 206,
   "metadata": {},
   "outputs": [],
   "source": [
    "DFLINESGEOFULL['geo_paths'] = DFLINESGEOFULL['paths'].apply(lambda x: MultiLineString([LineString(i) for i in x]) if len(x) > 1 else LineString(x[0]))"
   ]
  },
  {
   "cell_type": "code",
   "execution_count": 211,
   "metadata": {},
   "outputs": [],
   "source": [
    "GDF_LINES = DFLINESGEOFULL[['route_name', 'class', 'direction', 'geo_paths']]\n",
    "GDF_LINES = gpd.GeoDataFrame(GDF_LINES, geometry='geo_paths')"
   ]
  },
  {
   "cell_type": "code",
   "execution_count": 213,
   "metadata": {},
   "outputs": [],
   "source": [
    "GDF_LINES.rename(columns={'class': 'opbranch'}, inplace=True)"
   ]
  },
  {
   "cell_type": "code",
   "execution_count": 215,
   "metadata": {},
   "outputs": [],
   "source": [
    "GDF_LINES.sort_values(by=['opbranch', 'route_name', 'direction'], inplace=True)"
   ]
  },
  {
   "cell_type": "code",
   "execution_count": 218,
   "metadata": {},
   "outputs": [],
   "source": [
    "GDF_LINES.to_file('../data/ptv/ptv-lines.geojson', driver='GeoJSON')\n",
    "# 20s"
   ]
  },
  {
   "cell_type": "code",
   "execution_count": null,
   "metadata": {},
   "outputs": [],
   "source": [
    "\n",
    "# Example input paths (directed)\n",
    "input_paths = [['C', 'D'],['D', 'C'], ['E', 'F', 'G'], ['A', 'B', 'C'], ['G', 'H'], ['I', 'J'], ['J', 'K']]\n",
    "\n",
    "# Merge the directed paths\n",
    "merged_paths = merge_directed_paths(input_paths)\n",
    "\n",
    "# Output the merged paths\n",
    "for i, path in enumerate(merged_paths):\n",
    "    print(f\"Merged Path {i+1}: {' -> '.join(path)}\")\n"
   ]
  },
  {
   "cell_type": "code",
   "execution_count": 23,
   "metadata": {},
   "outputs": [],
   "source": [
    "for bid in BRANCH_IDS:\n",
    "    DF[bid]['shapes'].sort_values(by=['shape_id', 'shape_pt_sequence'], inplace=True)\n",
    "    DF[bid]['shapes_pt_sequence'] = DF[bid]['shapes'].groupby('shape_id')['shape_pt_sequence'].apply(np.array).reset_index()\n",
    "# 5s - 10s"
   ]
  },
  {
   "cell_type": "code",
   "execution_count": 30,
   "metadata": {},
   "outputs": [],
   "source": [
    "for bid in BRANCH_IDS:\n",
    "    # Assert that all shape_pt_sequence are continuous\n",
    "    assert DF[bid]['shapes_pt_sequence']['shape_pt_sequence'].apply(lambda x: x[-1] - x[0] + 1 == len(x)).all(), bid\n"
   ]
  },
  {
   "cell_type": "code",
   "execution_count": 32,
   "metadata": {},
   "outputs": [],
   "source": [
    "for bid in BRANCH_IDS:\n",
    "    DF[bid]['trip_stops']['continuous'] = DF[bid]['trip_stops']['stop_sequence'].apply(lambda x: x[-1] - x[0] + 1 == len(x))\n",
    "    \n",
    "    "
   ]
  },
  {
   "cell_type": "code",
   "execution_count": 42,
   "metadata": {},
   "outputs": [
    {
     "name": "stdout",
     "output_type": "stream",
     "text": [
      "1 not continuous\n",
      "2 not continuous\n",
      "5 not continuous\n",
      "6 not continuous\n",
      "10 not continuous\n"
     ]
    }
   ],
   "source": [
    "# Not all stop_sequence are continuous\n",
    "# assert DF[bid]['trip_stops']['stop_sequence'].apply(lambda x: x[-1] - x[0] + 1 == len(x)).all(), bid\n",
    "# The reason is that some stops are temporary fully skipped on a route_id, or an entire route (can be not just on a route_id, but on all route_ids of a route)\n",
    "# e.g. SYM (Subury) skipping South Kensington\n",
    "for bid in BRANCH_IDS:\n",
    "    if not DF[bid]['trip_stops']['continuous'].all():\n",
    "        print(bid, 'not continuous')"
   ]
  }
 ],
 "metadata": {
  "kernelspec": {
   "display_name": "Python 3",
   "language": "python",
   "name": "python3"
  },
  "language_info": {
   "codemirror_mode": {
    "name": "ipython",
    "version": 3
   },
   "file_extension": ".py",
   "mimetype": "text/x-python",
   "name": "python",
   "nbconvert_exporter": "python",
   "pygments_lexer": "ipython3",
   "version": "3.12.0"
  }
 },
 "nbformat": 4,
 "nbformat_minor": 2
}
