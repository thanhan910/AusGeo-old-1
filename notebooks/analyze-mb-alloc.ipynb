{
 "cells": [
  {
   "cell_type": "code",
   "execution_count": 1,
   "metadata": {},
   "outputs": [
    {
     "name": "stderr",
     "output_type": "stream",
     "text": [
      "/tmp/ipykernel_56920/2038222792.py:1: DeprecationWarning: \n",
      "Pyarrow will become a required dependency of pandas in the next major release of pandas (pandas 3.0),\n",
      "(to allow more performant data types, such as the Arrow string type, and better interoperability with other libraries)\n",
      "but was not found to be installed on your system.\n",
      "If this would cause problems for you,\n",
      "please provide us feedback at https://github.com/pandas-dev/pandas/issues/54466\n",
      "        \n",
      "  import pandas as pd\n"
     ]
    }
   ],
   "source": [
    "import pandas as pd\n",
    "import geopandas as gpd\n",
    "import numpy as np\n",
    "import json\n",
    "import os\n",
    "import requests\n",
    "import io\n",
    "import zipfile"
   ]
  },
  {
   "cell_type": "code",
   "execution_count": 2,
   "metadata": {},
   "outputs": [],
   "source": [
    "table_names = {\n",
    "  'MB_2021_AUST': 'Mesh Blocks - 2021',\n",
    "  'SA1_2021_AUST': 'Statistical Areas Level 1 - 2021',\n",
    "  'SA2_2021_AUST': 'Statistical Areas Level 2 - 2021',\n",
    "  'SA3_2021_AUST': 'Statistical Areas Level 3 - 2021',\n",
    "  'SA4_2021_AUST': 'Statistical Areas Level 4 - 2021',\n",
    "  'GCCSA_2021_AUST': 'Greater Capital City Statistical Areas - 2021',\n",
    "  'STE_2021_AUST': 'States and Territories - 2021',\n",
    "  'AUS_2021_AUST': 'Australia - 2021',\n",
    "  'INDIGENOUS_STRUCTURE_ALLOCATION_2021': 'Indigenous Structure - 2021',\n",
    "  'ILOC_2021_AUST': 'Indigenous Locations - 2021',\n",
    "  'IARE_2021_AUST': 'Indigenous Areas - 2021',\n",
    "  'IREG_2021_AUST': 'Indigenous Regions - 2021',\n",
    "  'LGA_2023_AUST': 'Local Government Areas - 2023',\n",
    "  'LGA_2022_AUST': 'Local Government Areas - 2022',\n",
    "  'LGA_2021_AUST': 'Local Government Areas - 2021',\n",
    "  'SED_2022_AUST': 'State Electoral Divisions - 2022',\n",
    "  'SED_2021_AUST': 'State Electoral Divisions - 2021',\n",
    "  'CED_2021_AUST': 'Commonwealth Electoral Divisions - 2021',\n",
    "  'POA_2021_AUST': 'Postal Areas - 2021',\n",
    "  'TR_2021_AUST': 'Tourism Regions - 2021',\n",
    "  'ADD_2021_AUST': 'Australian Drainage Divisions - 2021',\n",
    "  'SAL_2021_AUST': 'Suburbs and Localities - 2021',\n",
    "  'MB_DZN_2021_AUST': 'Destination Zones - 2021',\n",
    "  'DZN_SA2_2021_AUST': 'Destination Zones to Statistical Areas Level 2 - 2021',\n",
    "  'SUA_2021_AUST': 'Significant Urban Areas - 2021',\n",
    "  'UCL_SOSR_SOS_2021_AUST': 'Urban Centres and Localities, Section of State and Section of State Range - 2021',\n",
    "  'SUA_association_2016_2021': 'Significant Urban Area association - 2016 to 2021',\n",
    "  'UCL_association_2016_2021': 'Urban Centre and Locality association - 2016 to 2021',\n",
    "  'RA_2021_AUST': 'Remoteness Areas - 2021'\n",
    "}\n"
   ]
  },
  {
   "cell_type": "code",
   "execution_count": 21,
   "metadata": {},
   "outputs": [
    {
     "name": "stderr",
     "output_type": "stream",
     "text": [
      "/tmp/ipykernel_56920/2926999295.py:1: DtypeWarning: Columns (1,5,6,8,10,14) have mixed types. Specify dtype option on import or set low_memory=False.\n",
      "  dfs = { file.split('.')[0] : pd.read_csv(f'../data/core/mb-alloc/{file}', index_col=0) for file in os.listdir('../data/core/mb-alloc')}\n",
      "/tmp/ipykernel_56920/2926999295.py:1: DtypeWarning: Columns (1,2,4) have mixed types. Specify dtype option on import or set low_memory=False.\n",
      "  dfs = { file.split('.')[0] : pd.read_csv(f'../data/core/mb-alloc/{file}', index_col=0) for file in os.listdir('../data/core/mb-alloc')}\n",
      "/tmp/ipykernel_56920/2926999295.py:1: DtypeWarning: Columns (1,2,4) have mixed types. Specify dtype option on import or set low_memory=False.\n",
      "  dfs = { file.split('.')[0] : pd.read_csv(f'../data/core/mb-alloc/{file}', index_col=0) for file in os.listdir('../data/core/mb-alloc')}\n",
      "/tmp/ipykernel_56920/2926999295.py:1: DtypeWarning: Columns (1,2,4) have mixed types. Specify dtype option on import or set low_memory=False.\n",
      "  dfs = { file.split('.')[0] : pd.read_csv(f'../data/core/mb-alloc/{file}', index_col=0) for file in os.listdir('../data/core/mb-alloc')}\n",
      "/tmp/ipykernel_56920/2926999295.py:1: DtypeWarning: Columns (1,2,4) have mixed types. Specify dtype option on import or set low_memory=False.\n",
      "  dfs = { file.split('.')[0] : pd.read_csv(f'../data/core/mb-alloc/{file}', index_col=0) for file in os.listdir('../data/core/mb-alloc')}\n",
      "/tmp/ipykernel_56920/2926999295.py:1: DtypeWarning: Columns (1) have mixed types. Specify dtype option on import or set low_memory=False.\n",
      "  dfs = { file.split('.')[0] : pd.read_csv(f'../data/core/mb-alloc/{file}', index_col=0) for file in os.listdir('../data/core/mb-alloc')}\n",
      "/tmp/ipykernel_56920/2926999295.py:1: DtypeWarning: Columns (1,2,3,5) have mixed types. Specify dtype option on import or set low_memory=False.\n",
      "  dfs = { file.split('.')[0] : pd.read_csv(f'../data/core/mb-alloc/{file}', index_col=0) for file in os.listdir('../data/core/mb-alloc')}\n",
      "/tmp/ipykernel_56920/2926999295.py:1: DtypeWarning: Columns (1,2,4) have mixed types. Specify dtype option on import or set low_memory=False.\n",
      "  dfs = { file.split('.')[0] : pd.read_csv(f'../data/core/mb-alloc/{file}', index_col=0) for file in os.listdir('../data/core/mb-alloc')}\n",
      "/tmp/ipykernel_56920/2926999295.py:1: DtypeWarning: Columns (1,2,3) have mixed types. Specify dtype option on import or set low_memory=False.\n",
      "  dfs = { file.split('.')[0] : pd.read_csv(f'../data/core/mb-alloc/{file}', index_col=0) for file in os.listdir('../data/core/mb-alloc')}\n",
      "/tmp/ipykernel_56920/2926999295.py:1: DtypeWarning: Columns (1,2,4) have mixed types. Specify dtype option on import or set low_memory=False.\n",
      "  dfs = { file.split('.')[0] : pd.read_csv(f'../data/core/mb-alloc/{file}', index_col=0) for file in os.listdir('../data/core/mb-alloc')}\n",
      "/tmp/ipykernel_56920/2926999295.py:1: DtypeWarning: Columns (1,4,6,8,12) have mixed types. Specify dtype option on import or set low_memory=False.\n",
      "  dfs = { file.split('.')[0] : pd.read_csv(f'../data/core/mb-alloc/{file}', index_col=0) for file in os.listdir('../data/core/mb-alloc')}\n",
      "/tmp/ipykernel_56920/2926999295.py:1: DtypeWarning: Columns (1,2,4) have mixed types. Specify dtype option on import or set low_memory=False.\n",
      "  dfs = { file.split('.')[0] : pd.read_csv(f'../data/core/mb-alloc/{file}', index_col=0) for file in os.listdir('../data/core/mb-alloc')}\n"
     ]
    }
   ],
   "source": [
    "dfs = { file.split('.')[0] : pd.read_csv(f'../data/core/mb-alloc/{file}') for file in os.listdir('../data/core/mb-alloc')}"
   ]
  },
  {
   "cell_type": "code",
   "execution_count": 24,
   "metadata": {},
   "outputs": [
    {
     "name": "stdout",
     "output_type": "stream",
     "text": [
      "DZN_SA2_2021_AUST\n",
      "RA_2021_AUST\n",
      "MB_2021_AUST\n",
      "LGA_2022_AUST\n",
      "AUS_2021_AUST\n",
      "SA3_2021_AUST\n",
      "SED_2022_AUST\n",
      "GCCSA_2021_AUST\n",
      "UCL_association_2016_2021\n",
      "CED_2021_AUST\n",
      "UCL_SOSR_SOS_2021_AUST\n",
      "LGA_2023_AUST\n",
      "STE_2021_AUST\n",
      "INDIGENOUS_STRUCTURE_ALLOCATION_2021\n",
      "ADD_2021_AUST\n",
      "SA2_2021_AUST\n",
      "MB_DZN_2021_AUST\n",
      "SED_2021_AUST\n",
      "POA_2021_AUST\n",
      "LGA_2021_AUST\n",
      "ILOC_2021_AUST\n",
      "IARE_2021_AUST\n",
      "TR_2021_AUST\n",
      "SUA_association_2016_2021\n",
      "SA1_2021_AUST\n",
      "SA4_2021_AUST\n",
      "SUA_2021_AUST\n",
      "SAL_2021_AUST\n",
      "IREG_2021_AUST\n"
     ]
    }
   ],
   "source": [
    "for k, df in dfs.items():\n",
    "    df.to_csv(f'../data/core/mb-alloc/{k}.csv', index=False)\n",
    "    print(k)"
   ]
  },
  {
   "cell_type": "code",
   "execution_count": 33,
   "metadata": {},
   "outputs": [
    {
     "data": {
      "text/plain": [
       "{'DZN_SA2_2021_AUST': (1, 2),\n",
       " 'RA_2021_AUST': (1, 2),\n",
       " 'MB_2021_AUST': (6, 2),\n",
       " 'LGA_2022_AUST': (1, 2),\n",
       " 'AUS_2021_AUST': (0, 1),\n",
       " 'SA3_2021_AUST': (3, 2),\n",
       " 'SED_2022_AUST': (1, 2),\n",
       " 'GCCSA_2021_AUST': (1, 2),\n",
       " 'UCL_association_2016_2021': (0, 0),\n",
       " 'CED_2021_AUST': (1, 2),\n",
       " 'UCL_SOSR_SOS_2021_AUST': (1, 2),\n",
       " 'LGA_2023_AUST': (1, 2),\n",
       " 'STE_2021_AUST': (0, 2),\n",
       " 'INDIGENOUS_STRUCTURE_ALLOCATION_2021': (1, 2),\n",
       " 'ADD_2021_AUST': (1, 1),\n",
       " 'SA2_2021_AUST': (4, 2),\n",
       " 'MB_DZN_2021_AUST': (2, 2),\n",
       " 'SED_2021_AUST': (1, 2),\n",
       " 'POA_2021_AUST': (1, 1),\n",
       " 'LGA_2021_AUST': (1, 2),\n",
       " 'ILOC_2021_AUST': (0, 2),\n",
       " 'IARE_2021_AUST': (0, 2),\n",
       " 'TR_2021_AUST': (1, 2),\n",
       " 'SUA_association_2016_2021': (0, 0),\n",
       " 'SA1_2021_AUST': (5, 2),\n",
       " 'SA4_2021_AUST': (2, 2),\n",
       " 'SUA_2021_AUST': (1, 1),\n",
       " 'SAL_2021_AUST': (1, 2),\n",
       " 'IREG_2021_AUST': (0, 2)}"
      ]
     },
     "execution_count": 33,
     "metadata": {},
     "output_type": "execute_result"
    }
   ],
   "source": [
    "{k : (len([c for c in df.columns if c in ['MB_CODE_2021', 'SA1_CODE_2021', 'SA2_CODE_2021', 'SA3_CODE_2021', 'SA4_CODE_2021', 'GCCSA_CODE_2021']]), len([c for c in df.columns if c in ['STATE_CODE_2021', 'AUS_CODE_2021']])) for k, df in dfs.items()}"
   ]
  },
  {
   "cell_type": "code",
   "execution_count": 44,
   "metadata": {},
   "outputs": [
    {
     "data": {
      "text/plain": [
       "{'DZN_SA2_2021_AUST': (1, 0),\n",
       " 'RA_2021_AUST': (1, 0),\n",
       " 'MB_2021_AUST': (5, 1),\n",
       " 'LGA_2022_AUST': (1, 0),\n",
       " 'AUS_2021_AUST': (0, 0),\n",
       " 'SA3_2021_AUST': (2, 1),\n",
       " 'SED_2022_AUST': (1, 0),\n",
       " 'GCCSA_2021_AUST': (0, 1),\n",
       " 'UCL_association_2016_2021': (0, 0),\n",
       " 'CED_2021_AUST': (1, 0),\n",
       " 'UCL_SOSR_SOS_2021_AUST': (1, 0),\n",
       " 'LGA_2023_AUST': (1, 0),\n",
       " 'STE_2021_AUST': (0, 0),\n",
       " 'INDIGENOUS_STRUCTURE_ALLOCATION_2021': (1, 0),\n",
       " 'ADD_2021_AUST': (1, 0),\n",
       " 'SA2_2021_AUST': (3, 1),\n",
       " 'MB_DZN_2021_AUST': (2, 0),\n",
       " 'SED_2021_AUST': (1, 0),\n",
       " 'POA_2021_AUST': (1, 0),\n",
       " 'LGA_2021_AUST': (1, 0),\n",
       " 'ILOC_2021_AUST': (0, 0),\n",
       " 'IARE_2021_AUST': (0, 0),\n",
       " 'TR_2021_AUST': (1, 0),\n",
       " 'SUA_association_2016_2021': (0, 0),\n",
       " 'SA1_2021_AUST': (4, 1),\n",
       " 'SA4_2021_AUST': (1, 1),\n",
       " 'SUA_2021_AUST': (1, 0),\n",
       " 'SAL_2021_AUST': (1, 0),\n",
       " 'IREG_2021_AUST': (0, 0)}"
      ]
     },
     "execution_count": 44,
     "metadata": {},
     "output_type": "execute_result"
    }
   ],
   "source": [
    "{k : (len([c for c in df.columns if c in ['MB_CODE_2021', 'SA1_CODE_2021', 'SA2_CODE_2021', 'SA3_CODE_2021', 'SA4_CODE_2021']]), len([c for c in df.columns if c in ['GCCSA_CODE_2021']])) for k, df in dfs.items()}"
   ]
  },
  {
   "cell_type": "markdown",
   "metadata": {},
   "source": [
    "# Index/Primary key\n",
    "\n",
    "For mesh-block based tables: MB_CODE_2021 or its higher level ('SA1_CODE_2021', 'SA2_CODE_2021', 'SA3_CODE_2021', 'SA4_CODE_2021')\n",
    "\n",
    "For indigenous areas: ILOC_2021_AUST -> IARE_2021_AUST -> IREG_2021_AUST. Primary keys: ILOC_CODE_2021 -> IARE_CODE_2021 -> IREG_CODE_2021\n"
   ]
  },
  {
   "cell_type": "code",
   "execution_count": 54,
   "metadata": {},
   "outputs": [
    {
     "data": {
      "text/plain": [
       "SUA_NAME_2021\n",
       "Melbourne                                  350\n",
       "Sydney                                     333\n",
       "Brisbane                                   235\n",
       "Perth                                      175\n",
       "Not in any Significant Urban Area (NSW)    146\n",
       "                                          ... \n",
       "Warwick                                      1\n",
       "Emerald                                      1\n",
       "Yeppoon                                      1\n",
       "Airlie Beach - Cannonvale                    1\n",
       "Outside Australia                            1\n",
       "Name: count, Length: 112, dtype: int64"
      ]
     },
     "execution_count": 54,
     "metadata": {},
     "output_type": "execute_result"
    }
   ],
   "source": [
    "dfs['SUA_2021_AUST']['SUA_NAME_2021'].value_counts()"
   ]
  },
  {
   "cell_type": "code",
   "execution_count": 55,
   "metadata": {},
   "outputs": [
    {
     "data": {
      "text/plain": [
       "UCL_NAME_2021\n",
       "Sydney               10827\n",
       "Melbourne            10614\n",
       "Brisbane              5354\n",
       "Perth (WA)            4603\n",
       "Adelaide              2829\n",
       "                     ...  \n",
       "Badu Island (L)          1\n",
       "Black River (L)          1\n",
       "Bluewater (L)            1\n",
       "Booral (L)               1\n",
       "Outside Australia        1\n",
       "Name: count, Length: 1837, dtype: int64"
      ]
     },
     "execution_count": 55,
     "metadata": {},
     "output_type": "execute_result"
    }
   ],
   "source": [
    "dfs['UCL_SOSR_SOS_2021_AUST']['UCL_NAME_2021'].value_counts()"
   ]
  }
 ],
 "metadata": {
  "kernelspec": {
   "display_name": "Python 3",
   "language": "python",
   "name": "python3"
  },
  "language_info": {
   "codemirror_mode": {
    "name": "ipython",
    "version": 3
   },
   "file_extension": ".py",
   "mimetype": "text/x-python",
   "name": "python",
   "nbconvert_exporter": "python",
   "pygments_lexer": "ipython3",
   "version": "3.10.13"
  }
 },
 "nbformat": 4,
 "nbformat_minor": 2
}
