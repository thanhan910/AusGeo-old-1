{
 "cells": [
  {
   "cell_type": "code",
   "execution_count": 1,
   "metadata": {},
   "outputs": [],
   "source": [
    "import pandas as pd\n",
    "import os\n",
    "import shapely.geometry as sg\n",
    "import geopandas as gpd\n",
    "import numpy as np\n",
    "from shapely.geometry import LineString\n",
    "from shapely.ops import unary_union\n",
    "data_directory = os.path.join('..', 'data', 'ptv', '20240224')\n",
    "ROUTE_TYPES = {\n",
    "    0 : 'Tram',\n",
    "    1 : 'Metro',\n",
    "    2 : 'Rail',\n",
    "    3 : 'Bus',\n",
    "    4 : 'Ferry',\n",
    "    5 : 'Cable tram',\n",
    "    6 : 'Gondola',\n",
    "    7 : 'Funicular',\n",
    "    11 : 'Trolleybus',\n",
    "    12 : 'Monorail',\n",
    "}\n",
    "ROUTE_TYPES_LONG = {\n",
    "    0 : 'Tram, Streetcar, Light rail. Any light rail or street level system within a metropolitan area.',\n",
    "    1 : 'Subway, Metro. Any underground rail system within a metropolitan area.',\n",
    "    2 : 'Rail. Used for intercity or long-distance travel.',\n",
    "    3 : 'Bus. Used for short- and long-distance bus routes.',\n",
    "    4 : 'Ferry. Used for short- and long-distance boat service.',\n",
    "    5 : 'Cable tram. Used for street-level rail cars where the cable runs beneath the vehicle, e.g., cable car in San Francisco.',\n",
    "    6 : 'Aerial lift, suspended cable car (e.g., gondola lift, aerial tramway). Cable transport where cabins, cars, gondolas or open chairs are suspended by means of one or more cables.',\n",
    "    7 : 'Funicular. Any rail system designed for steep inclines.',\n",
    "    11 : 'Trolleybus. Electric buses that draw power from overhead wires using poles.',\n",
    "    12 : 'Monorail. Railway in which the track consists of a single rail or a beam.',\n",
    "}\n",
    "\n",
    "BRANCH_IDS_ALL = ['1', '2', '3', '4', '5', '6', '7', '8', '10', '11']\n",
    "BRANCH_IDS = ['1', '2', '3', '4', '5', '6', '10', '11']\n",
    "TABLE_NAMES = ['stop_times', 'stops', 'trips', 'routes', 'calendar', 'calendar_dates', 'agency', 'shapes']\n",
    "# GTFS File Fields\n",
    "# agency.txt \n",
    "# agency_id, agency_name, agency_url, agency_timezone, agency_lang\n",
    "# calendar.txt \n",
    "# service_id, monday, tuesday, wednesday, thursday, friday, saturday, sunday, start_date, end_date\n",
    "# calendar_dates.txt \n",
    "# service_id ,date, exception_type\n",
    "# routes.txt \n",
    "# route_id, agency_id, route_short_name, route_long_name,\n",
    "# route_type, route_color,route_text_color\n",
    "# trips.txt \n",
    "# route_id, service_id, trip_id, shape_id, trip_headsign, direction_id\n",
    "# stops.txt \n",
    "# stop_id, stop_name, stop_lat, stop_lon\n",
    "# stop_times.txt \n",
    "# trip_id, arrival_time, departure_time, stop_id, stop_sequence, stop_headsign, pickup_type, drop_off_type, shape_dist_traveled\n",
    "# shapes.txt \n",
    "# shape_id, shape_pt_lat, shape_pt_lon, shape_pt_sequence, shape_dist_traveled \n",
    "def get_df(branch_id, table_name):\n",
    "    files = [os.path.join(data_directory, f) for f in os.listdir(data_directory) if f.split('-')[1] == str(branch_id) and f.split('-')[2] == table_name]\n",
    "    if len(files) == 0:\n",
    "        return None\n",
    "    return pd.concat([pd.read_csv(f, keep_default_na=False, na_values=['']) for f in files])\n",
    "\n",
    "DF = {branch_id: {table_name: get_df(branch_id, table_name) for table_name in TABLE_NAMES} for branch_id in BRANCH_IDS_ALL}\n",
    "# 15s - 30s\n",
    "\n",
    "# Assert all shape_id contains route_id\n",
    "for bid in BRANCH_IDS:\n",
    "    assert DF[bid]['trips'].dropna(subset=['route_id', 'shape_id']).apply(lambda x: x['route_id'] in x['shape_id'], axis=1).all(), bid\n",
    "\n",
    "for bid in BRANCH_IDS:\n",
    "    DF[bid]['stop_times'] = pd.merge(DF[bid]['stop_times'], DF[bid]['stops'], on='stop_id')\n",
    "\n",
    "for bid in BRANCH_IDS:\n",
    "    assert DF[bid]['shapes'][DF[bid]['shapes']['shape_pt_sequence'] == 1]['shape_dist_traveled'].unique() == [0], bid\n",
    "\n",
    "# 1m 30s"
   ]
  },
  {
   "cell_type": "code",
   "execution_count": 5,
   "metadata": {},
   "outputs": [],
   "source": [
    "for bid in BRANCH_IDS:\n",
    "    DF[bid]['shapes'].sort_values(by=['shape_id', 'shape_pt_sequence'], inplace=True)\n",
    "    DF[bid]['shapes']['points'] = list(zip(DF[bid]['shapes']['shape_pt_lon'], DF[bid]['shapes']['shape_pt_lat']))\n",
    "    DF[bid]['gdf'] = DF[bid]['shapes'].groupby('shape_id').apply(lambda x: sg.LineString(x['points'].to_numpy())).rename('geometry').reset_index()"
   ]
  },
  {
   "cell_type": "code",
   "execution_count": 67,
   "metadata": {},
   "outputs": [],
   "source": [
    "for bid in BRANCH_IDS:\n",
    "    DF[bid]['points'] = DF[bid]['shapes'].groupby('shape_id')['points'].apply(lambda x: x.to_numpy()).reset_index()"
   ]
  },
  {
   "cell_type": "code",
   "execution_count": 72,
   "metadata": {},
   "outputs": [],
   "source": [
    "maxLines = 0\n",
    "for bid in BRANCH_IDS:\n",
    "    maxLine = DF[bid]['points']['points'].apply(lambda x: len(x)).max()\n",
    "    maxLines = max(maxLines, maxLine)"
   ]
  },
  {
   "cell_type": "code",
   "execution_count": 73,
   "metadata": {},
   "outputs": [
    {
     "data": {
      "text/plain": [
       "8391"
      ]
     },
     "execution_count": 73,
     "metadata": {},
     "output_type": "execute_result"
    }
   ],
   "source": [
    "maxLines"
   ]
  },
  {
   "cell_type": "code",
   "execution_count": 59,
   "metadata": {},
   "outputs": [],
   "source": [
    "for bid in BRANCH_IDS:\n",
    "    # DF[bid]['shapes']['route_name'] = DF[bid]['shapes']['shape_id'].transform(lambda x: ''.join(x.split('-')[1:-2]))\n",
    "    # DF[bid]['shapes']['direction'] = DF[bid]['shapes']['shape_id'].transform(lambda x: ''.join(x.split('.')[-1]))\n",
    "    DF[bid]['shapes']['route_id'] = DF[bid]['shapes']['shape_id'].str.split('.', expand=True)[0]\n",
    "    "
   ]
  },
  {
   "cell_type": "code",
   "execution_count": 7,
   "metadata": {},
   "outputs": [],
   "source": [
    "for bid in BRANCH_IDS:\n",
    "    DF[bid]['gdf'] = gpd.GeoDataFrame(DF[bid]['gdf'], geometry='geometry')"
   ]
  },
  {
   "cell_type": "code",
   "execution_count": 8,
   "metadata": {},
   "outputs": [],
   "source": [
    "for bid in BRANCH_IDS:\n",
    "    DF[bid]['gdf']['route_name'] = DF[bid]['gdf']['shape_id'].transform(lambda x: ''.join(x.split('-')[1:-2]))\n",
    "    DF[bid]['gdf']['direction'] = DF[bid]['gdf']['shape_id'].transform(lambda x: ''.join(x.split('.')[-1]))\n",
    "    DF[bid]['gdf']['branch'] = bid\n",
    "    "
   ]
  },
  {
   "cell_type": "code",
   "execution_count": 17,
   "metadata": {},
   "outputs": [],
   "source": [
    "df2unaryunion = DF['2']['gdf'].groupby(['route_name', 'direction'])['geometry'].apply(lambda x: x.unary_union).reset_index()"
   ]
  },
  {
   "cell_type": "code",
   "execution_count": 60,
   "metadata": {},
   "outputs": [
    {
     "data": {
      "text/html": [
       "<div>\n",
       "<style scoped>\n",
       "    .dataframe tbody tr th:only-of-type {\n",
       "        vertical-align: middle;\n",
       "    }\n",
       "\n",
       "    .dataframe tbody tr th {\n",
       "        vertical-align: top;\n",
       "    }\n",
       "\n",
       "    .dataframe thead th {\n",
       "        text-align: right;\n",
       "    }\n",
       "</style>\n",
       "<table border=\"1\" class=\"dataframe\">\n",
       "  <thead>\n",
       "    <tr style=\"text-align: right;\">\n",
       "      <th></th>\n",
       "      <th>shape_id</th>\n",
       "      <th>shape_pt_lat</th>\n",
       "      <th>shape_pt_lon</th>\n",
       "      <th>shape_pt_sequence</th>\n",
       "      <th>shape_dist_traveled</th>\n",
       "      <th>points</th>\n",
       "      <th>route_name</th>\n",
       "      <th>direction</th>\n",
       "      <th>branch</th>\n",
       "      <th>route_id</th>\n",
       "    </tr>\n",
       "  </thead>\n",
       "  <tbody>\n",
       "    <tr>\n",
       "      <th>878</th>\n",
       "      <td>2-ALM-mjp-2.1.H</td>\n",
       "      <td>-37.826576</td>\n",
       "      <td>145.058697</td>\n",
       "      <td>1</td>\n",
       "      <td>0.00</td>\n",
       "      <td>(145.058696941084, -37.8265761521519)</td>\n",
       "      <td>ALM</td>\n",
       "      <td>H</td>\n",
       "      <td>2</td>\n",
       "      <td>2-ALM-mjp-2</td>\n",
       "    </tr>\n",
       "    <tr>\n",
       "      <th>879</th>\n",
       "      <td>2-ALM-mjp-2.1.H</td>\n",
       "      <td>-37.826493</td>\n",
       "      <td>145.061858</td>\n",
       "      <td>2</td>\n",
       "      <td>277.76</td>\n",
       "      <td>(145.061857621326, -37.8264930451824)</td>\n",
       "      <td>ALM</td>\n",
       "      <td>H</td>\n",
       "      <td>2</td>\n",
       "      <td>2-ALM-mjp-2</td>\n",
       "    </tr>\n",
       "    <tr>\n",
       "      <th>880</th>\n",
       "      <td>2-ALM-mjp-2.1.H</td>\n",
       "      <td>-37.826347</td>\n",
       "      <td>145.063373</td>\n",
       "      <td>3</td>\n",
       "      <td>411.80</td>\n",
       "      <td>(145.063372528623, -37.8263467469695)</td>\n",
       "      <td>ALM</td>\n",
       "      <td>H</td>\n",
       "      <td>2</td>\n",
       "      <td>2-ALM-mjp-2</td>\n",
       "    </tr>\n",
       "    <tr>\n",
       "      <th>881</th>\n",
       "      <td>2-ALM-mjp-2.1.H</td>\n",
       "      <td>-37.826282</td>\n",
       "      <td>145.064931</td>\n",
       "      <td>4</td>\n",
       "      <td>548.85</td>\n",
       "      <td>(145.064930739406, -37.8262822478073)</td>\n",
       "      <td>ALM</td>\n",
       "      <td>H</td>\n",
       "      <td>2</td>\n",
       "      <td>2-ALM-mjp-2</td>\n",
       "    </tr>\n",
       "    <tr>\n",
       "      <th>882</th>\n",
       "      <td>2-ALM-mjp-2.1.H</td>\n",
       "      <td>-37.826264</td>\n",
       "      <td>145.065488</td>\n",
       "      <td>5</td>\n",
       "      <td>597.82</td>\n",
       "      <td>(145.065487919579, -37.8262643681409)</td>\n",
       "      <td>ALM</td>\n",
       "      <td>H</td>\n",
       "      <td>2</td>\n",
       "      <td>2-ALM-mjp-2</td>\n",
       "    </tr>\n",
       "    <tr>\n",
       "      <th>...</th>\n",
       "      <td>...</td>\n",
       "      <td>...</td>\n",
       "      <td>...</td>\n",
       "      <td>...</td>\n",
       "      <td>...</td>\n",
       "      <td>...</td>\n",
       "      <td>...</td>\n",
       "      <td>...</td>\n",
       "      <td>...</td>\n",
       "      <td>...</td>\n",
       "    </tr>\n",
       "    <tr>\n",
       "      <th>873</th>\n",
       "      <td>2-ain-mjp-5.2.R</td>\n",
       "      <td>-37.820984</td>\n",
       "      <td>144.954088</td>\n",
       "      <td>72</td>\n",
       "      <td>5819.98</td>\n",
       "      <td>(144.954087557086, -37.8209838709669)</td>\n",
       "      <td>ain</td>\n",
       "      <td>R</td>\n",
       "      <td>2</td>\n",
       "      <td>2-ain-mjp-5</td>\n",
       "    </tr>\n",
       "    <tr>\n",
       "      <th>874</th>\n",
       "      <td>2-ain-mjp-5.2.R</td>\n",
       "      <td>-37.820366</td>\n",
       "      <td>144.953298</td>\n",
       "      <td>73</td>\n",
       "      <td>5917.57</td>\n",
       "      <td>(144.953298021051, -37.8203663626677)</td>\n",
       "      <td>ain</td>\n",
       "      <td>R</td>\n",
       "      <td>2</td>\n",
       "      <td>2-ain-mjp-5</td>\n",
       "    </tr>\n",
       "    <tr>\n",
       "      <th>875</th>\n",
       "      <td>2-ain-mjp-5.2.R</td>\n",
       "      <td>-37.820146</td>\n",
       "      <td>144.953088</td>\n",
       "      <td>74</td>\n",
       "      <td>5948.19</td>\n",
       "      <td>(144.953088249621, -37.8201464343392)</td>\n",
       "      <td>ain</td>\n",
       "      <td>R</td>\n",
       "      <td>2</td>\n",
       "      <td>2-ain-mjp-5</td>\n",
       "    </tr>\n",
       "    <tr>\n",
       "      <th>876</th>\n",
       "      <td>2-ain-mjp-5.2.R</td>\n",
       "      <td>-37.819472</td>\n",
       "      <td>144.952652</td>\n",
       "      <td>75</td>\n",
       "      <td>6032.39</td>\n",
       "      <td>(144.952652472148, -37.8194719891413)</td>\n",
       "      <td>ain</td>\n",
       "      <td>R</td>\n",
       "      <td>2</td>\n",
       "      <td>2-ain-mjp-5</td>\n",
       "    </tr>\n",
       "    <tr>\n",
       "      <th>877</th>\n",
       "      <td>2-ain-mjp-5.2.R</td>\n",
       "      <td>-37.817919</td>\n",
       "      <td>144.951434</td>\n",
       "      <td>76</td>\n",
       "      <td>6235.55</td>\n",
       "      <td>(144.951434426959, -37.8179188078356)</td>\n",
       "      <td>ain</td>\n",
       "      <td>R</td>\n",
       "      <td>2</td>\n",
       "      <td>2-ain-mjp-5</td>\n",
       "    </tr>\n",
       "  </tbody>\n",
       "</table>\n",
       "<p>452457 rows × 10 columns</p>\n",
       "</div>"
      ],
      "text/plain": [
       "            shape_id  shape_pt_lat  shape_pt_lon  shape_pt_sequence  \\\n",
       "878  2-ALM-mjp-2.1.H    -37.826576    145.058697                  1   \n",
       "879  2-ALM-mjp-2.1.H    -37.826493    145.061858                  2   \n",
       "880  2-ALM-mjp-2.1.H    -37.826347    145.063373                  3   \n",
       "881  2-ALM-mjp-2.1.H    -37.826282    145.064931                  4   \n",
       "882  2-ALM-mjp-2.1.H    -37.826264    145.065488                  5   \n",
       "..               ...           ...           ...                ...   \n",
       "873  2-ain-mjp-5.2.R    -37.820984    144.954088                 72   \n",
       "874  2-ain-mjp-5.2.R    -37.820366    144.953298                 73   \n",
       "875  2-ain-mjp-5.2.R    -37.820146    144.953088                 74   \n",
       "876  2-ain-mjp-5.2.R    -37.819472    144.952652                 75   \n",
       "877  2-ain-mjp-5.2.R    -37.817919    144.951434                 76   \n",
       "\n",
       "     shape_dist_traveled                                 points route_name  \\\n",
       "878                 0.00  (145.058696941084, -37.8265761521519)        ALM   \n",
       "879               277.76  (145.061857621326, -37.8264930451824)        ALM   \n",
       "880               411.80  (145.063372528623, -37.8263467469695)        ALM   \n",
       "881               548.85  (145.064930739406, -37.8262822478073)        ALM   \n",
       "882               597.82  (145.065487919579, -37.8262643681409)        ALM   \n",
       "..                   ...                                    ...        ...   \n",
       "873              5819.98  (144.954087557086, -37.8209838709669)        ain   \n",
       "874              5917.57  (144.953298021051, -37.8203663626677)        ain   \n",
       "875              5948.19  (144.953088249621, -37.8201464343392)        ain   \n",
       "876              6032.39  (144.952652472148, -37.8194719891413)        ain   \n",
       "877              6235.55  (144.951434426959, -37.8179188078356)        ain   \n",
       "\n",
       "    direction branch     route_id  \n",
       "878         H      2  2-ALM-mjp-2  \n",
       "879         H      2  2-ALM-mjp-2  \n",
       "880         H      2  2-ALM-mjp-2  \n",
       "881         H      2  2-ALM-mjp-2  \n",
       "882         H      2  2-ALM-mjp-2  \n",
       "..        ...    ...          ...  \n",
       "873         R      2  2-ain-mjp-5  \n",
       "874         R      2  2-ain-mjp-5  \n",
       "875         R      2  2-ain-mjp-5  \n",
       "876         R      2  2-ain-mjp-5  \n",
       "877         R      2  2-ain-mjp-5  \n",
       "\n",
       "[452457 rows x 10 columns]"
      ]
     },
     "execution_count": 60,
     "metadata": {},
     "output_type": "execute_result"
    }
   ],
   "source": [
    "DF['2']['shapes']"
   ]
  },
  {
   "cell_type": "code",
   "execution_count": 61,
   "metadata": {},
   "outputs": [],
   "source": [
    "df2pd = DF['2']['shapes'].groupby(['route_name', 'direction', 'shape_pt_lat','shape_pt_lon'])['shape_dist_traveled'].unique()"
   ]
  },
  {
   "cell_type": "code",
   "execution_count": 63,
   "metadata": {},
   "outputs": [
    {
     "data": {
      "text/plain": [
       "shape_id\n",
       "2-HBG-mjp-4.30.R     463\n",
       "2-HBG-mjp-8.20.R     463\n",
       "2-HBG-mjp-8.19.R     463\n",
       "2-HBG-mjp-6.20.R     463\n",
       "2-HBG-mjp-5.28.R     463\n",
       "                    ... \n",
       "2-FKN-mjp-11.15.R     17\n",
       "2-FKN-mjp-9.15.R      17\n",
       "2-MER-mjp-3.1.H       17\n",
       "2-MER-mjp-3.16.R      17\n",
       "2-FKN-mjp-9.1.H       17\n",
       "Name: count, Length: 1966, dtype: int64"
      ]
     },
     "execution_count": 63,
     "metadata": {},
     "output_type": "execute_result"
    }
   ],
   "source": [
    "DF['2']['shapes']['shape_id'].value_counts()"
   ]
  },
  {
   "cell_type": "code",
   "execution_count": 54,
   "metadata": {},
   "outputs": [
    {
     "data": {
      "text/plain": [
       "shape_id         shape_pt_lat  shape_pt_lon\n",
       "2-ALM-mjp-2.1.H  -37.868320    145.079656      [5923.31]\n",
       "                 -37.865562    145.080159      [5613.42]\n",
       "                 -37.864367    145.080395      [5478.97]\n",
       "                 -37.863775    145.080558      [5411.59]\n",
       "                 -37.863542    145.080655      [5384.35]\n",
       "                                                 ...    \n",
       "2-ain-mjp-5.2.R  -37.808025    144.970256      [2854.52]\n",
       "                 -37.808002    144.969916      [2824.52]\n",
       "                 -37.807995    144.969564       [2793.6]\n",
       "                 -37.807808    144.942695        [41.91]\n",
       "                 -37.807489    144.942443          [0.0]\n",
       "Name: shape_dist_traveled, Length: 419486, dtype: object"
      ]
     },
     "execution_count": 54,
     "metadata": {},
     "output_type": "execute_result"
    }
   ],
   "source": [
    "df2pd"
   ]
  },
  {
   "cell_type": "code",
   "execution_count": 31,
   "metadata": {},
   "outputs": [],
   "source": [
    "\n",
    "\n",
    "# Define the coordinates for the two LineStrings\n",
    "line_coords1 = [(1, 2), (2, 4), (4, 8), (8, 16), (16, 25), (25, 100), (100, 200), (200, 400)]\n",
    "line_coords2 = [(25, 25), (1, 2), (8, 16), (25, 100)]\n",
    "\n",
    "# Create LineString objects\n",
    "line1 = LineString(line_coords1)\n",
    "line2 = LineString(line_coords2)\n",
    "\n",
    "# Compute the union of the LineStrings\n",
    "union_result = unary_union([line1, line2])\n"
   ]
  },
  {
   "cell_type": "code",
   "execution_count": 37,
   "metadata": {},
   "outputs": [
    {
     "name": "stdout",
     "output_type": "stream",
     "text": [
      "MULTILINESTRING ((1 2, 2 4), (2 4, 4 8), (4 8, 8 16), (8 16, 16 25, 25 100), (25 100, 100 200, 200 400), (25 25, 1 2), (8 16, 25 100))\n"
     ]
    }
   ],
   "source": [
    "print(union_result)"
   ]
  }
 ],
 "metadata": {
  "kernelspec": {
   "display_name": "Python 3",
   "language": "python",
   "name": "python3"
  },
  "language_info": {
   "codemirror_mode": {
    "name": "ipython",
    "version": 3
   },
   "file_extension": ".py",
   "mimetype": "text/x-python",
   "name": "python",
   "nbconvert_exporter": "python",
   "pygments_lexer": "ipython3",
   "version": "3.12.0"
  }
 },
 "nbformat": 4,
 "nbformat_minor": 2
}
