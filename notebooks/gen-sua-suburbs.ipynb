{
 "cells": [
  {
   "cell_type": "code",
   "execution_count": 1,
   "metadata": {},
   "outputs": [
    {
     "name": "stderr",
     "output_type": "stream",
     "text": [
      "/tmp/ipykernel_67582/2038222792.py:1: DeprecationWarning: \n",
      "Pyarrow will become a required dependency of pandas in the next major release of pandas (pandas 3.0),\n",
      "(to allow more performant data types, such as the Arrow string type, and better interoperability with other libraries)\n",
      "but was not found to be installed on your system.\n",
      "If this would cause problems for you,\n",
      "please provide us feedback at https://github.com/pandas-dev/pandas/issues/54466\n",
      "        \n",
      "  import pandas as pd\n"
     ]
    }
   ],
   "source": [
    "import pandas as pd\n",
    "import geopandas as gpd\n",
    "import numpy as np\n",
    "import json\n",
    "import os\n",
    "import requests\n",
    "import io\n",
    "import zipfile"
   ]
  },
  {
   "cell_type": "code",
   "execution_count": 2,
   "metadata": {},
   "outputs": [],
   "source": [
    "dfs : dict[str, pd.DataFrame] = { file.split('.')[0] : pd.read_csv(f'../data/core/mb-alloc/{file}', dtype=str) for file in os.listdir('../data/core/mb-alloc')}"
   ]
  },
  {
   "cell_type": "code",
   "execution_count": 3,
   "metadata": {},
   "outputs": [],
   "source": [
    "dfs = dict(sorted(dfs.items()))"
   ]
  },
  {
   "cell_type": "code",
   "execution_count": 4,
   "metadata": {},
   "outputs": [
    {
     "data": {
      "text/plain": [
       "(True, True, True, True)"
      ]
     },
     "execution_count": 4,
     "metadata": {},
     "output_type": "execute_result"
    }
   ],
   "source": [
    "dfs['MB_2021_AUST']['MB_CODE_2021'].is_unique, dfs['SAL_2021_AUST']['MB_CODE_2021'].is_unique, dfs['POA_2021_AUST']['MB_CODE_2021'].is_unique, dfs['SUA_2021_AUST']['SA2_CODE_2021'].is_unique"
   ]
  },
  {
   "cell_type": "code",
   "execution_count": 5,
   "metadata": {},
   "outputs": [
    {
     "data": {
      "text/plain": [
       "(2473, 2473)"
      ]
     },
     "execution_count": 5,
     "metadata": {},
     "output_type": "execute_result"
    }
   ],
   "source": [
    "dfs['MB_2021_AUST']['SA2_CODE_2021'].unique().size, dfs['SUA_2021_AUST']['SA2_CODE_2021'].unique().size"
   ]
  },
  {
   "cell_type": "code",
   "execution_count": 6,
   "metadata": {},
   "outputs": [
    {
     "data": {
      "text/plain": [
       "(368286, 368286)"
      ]
     },
     "execution_count": 6,
     "metadata": {},
     "output_type": "execute_result"
    }
   ],
   "source": [
    "dfs['MB_2021_AUST']['MB_CODE_2021'].unique().size, dfs['POA_2021_AUST']['MB_CODE_2021'].unique().size"
   ]
  },
  {
   "cell_type": "code",
   "execution_count": 7,
   "metadata": {},
   "outputs": [
    {
     "data": {
      "text/plain": [
       "(368286, 368286)"
      ]
     },
     "execution_count": 7,
     "metadata": {},
     "output_type": "execute_result"
    }
   ],
   "source": [
    "dfs['MB_2021_AUST']['MB_CODE_2021'].unique().size, dfs['POA_2021_AUST']['MB_CODE_2021'].unique().size"
   ]
  },
  {
   "cell_type": "code",
   "execution_count": 8,
   "metadata": {},
   "outputs": [],
   "source": [
    "dfMB = pd.merge(dfs['MB_2021_AUST'], dfs['SAL_2021_AUST'], on='MB_CODE_2021', how='left', suffixes=('', '_SAL_'))\n",
    "dfMB = pd.merge(dfMB, dfs['POA_2021_AUST'], on='MB_CODE_2021', how='left', suffixes=('', '_POA_'))\n",
    "dfMB = pd.merge(dfMB, dfs['LGA_2023_AUST'], on='MB_CODE_2021', how='left', suffixes=('', '_LGA_'))\n",
    "dfMB = pd.merge(dfMB, dfs['SUA_2021_AUST'], on='SA2_CODE_2021', how='left', suffixes=('', '_SUA_'))\n",
    "dfMB.drop(columns=[c for c in dfMB.columns if c.endswith('_')], inplace=True)\n",
    "dfMB['AREA_ALBERS_SQKM'] = dfMB['AREA_ALBERS_SQKM'].astype(float)"
   ]
  },
  {
   "cell_type": "code",
   "execution_count": 9,
   "metadata": {},
   "outputs": [
    {
     "data": {
      "text/html": [
       "<div>\n",
       "<style scoped>\n",
       "    .dataframe tbody tr th:only-of-type {\n",
       "        vertical-align: middle;\n",
       "    }\n",
       "\n",
       "    .dataframe tbody tr th {\n",
       "        vertical-align: top;\n",
       "    }\n",
       "\n",
       "    .dataframe thead th {\n",
       "        text-align: right;\n",
       "    }\n",
       "</style>\n",
       "<table border=\"1\" class=\"dataframe\">\n",
       "  <thead>\n",
       "    <tr style=\"text-align: right;\">\n",
       "      <th></th>\n",
       "      <th>MB_CODE_2021</th>\n",
       "      <th>MB_CATEGORY_2021</th>\n",
       "      <th>CHANGE_FLAG_2021</th>\n",
       "      <th>CHANGE_LABEL_2021</th>\n",
       "      <th>SA1_CODE_2021</th>\n",
       "      <th>SA2_CODE_2021</th>\n",
       "      <th>SA2_NAME_2021</th>\n",
       "      <th>SA3_CODE_2021</th>\n",
       "      <th>SA3_NAME_2021</th>\n",
       "      <th>SA4_CODE_2021</th>\n",
       "      <th>...</th>\n",
       "      <th>AREA_ALBERS_SQKM</th>\n",
       "      <th>ASGS_LOCI_URI_2021</th>\n",
       "      <th>SAL_CODE_2021</th>\n",
       "      <th>SAL_NAME_2021</th>\n",
       "      <th>POA_CODE_2021</th>\n",
       "      <th>POA_NAME_2021</th>\n",
       "      <th>LGA_CODE_2023</th>\n",
       "      <th>LGA_NAME_2023</th>\n",
       "      <th>SUA_CODE_2021</th>\n",
       "      <th>SUA_NAME_2021</th>\n",
       "    </tr>\n",
       "  </thead>\n",
       "  <tbody>\n",
       "  </tbody>\n",
       "</table>\n",
       "<p>0 rows × 27 columns</p>\n",
       "</div>"
      ],
      "text/plain": [
       "Empty DataFrame\n",
       "Columns: [MB_CODE_2021, MB_CATEGORY_2021, CHANGE_FLAG_2021, CHANGE_LABEL_2021, SA1_CODE_2021, SA2_CODE_2021, SA2_NAME_2021, SA3_CODE_2021, SA3_NAME_2021, SA4_CODE_2021, SA4_NAME_2021, GCCSA_CODE_2021, GCCSA_NAME_2021, STATE_CODE_2021, STATE_NAME_2021, AUS_CODE_2021, AUS_NAME_2021, AREA_ALBERS_SQKM, ASGS_LOCI_URI_2021, SAL_CODE_2021, SAL_NAME_2021, POA_CODE_2021, POA_NAME_2021, LGA_CODE_2023, LGA_NAME_2023, SUA_CODE_2021, SUA_NAME_2021]\n",
       "Index: []\n",
       "\n",
       "[0 rows x 27 columns]"
      ]
     },
     "execution_count": 9,
     "metadata": {},
     "output_type": "execute_result"
    }
   ],
   "source": [
    "dfMB[dfMB['SUA_CODE_2021'].isna()]"
   ]
  },
  {
   "cell_type": "code",
   "execution_count": null,
   "metadata": {},
   "outputs": [],
   "source": [
    "df_suburbs = dfMB.groupby(['SAL_CODE_2021', 'POA_CODE_2021']).aggregate({\n",
    "    'SAL_NAME_2021' : 'first',\n",
    "    'POA_NAME_2021' : 'first',\n",
    "    'GCCSA_CODE_2021' : 'unique',\n",
    "    'GCCSA_NAME_2021' : 'unique',\n",
    "    'LGA_CODE_2023' : 'unique',\n",
    "    'LGA_NAME_2023' : 'unique',\n",
    "    'SUA_CODE_2021' : 'unique',\n",
    "    'SUA_NAME_2021' : 'unique',\n",
    "    'STATE_CODE_2021' : 'first',\n",
    "    'STATE_NAME_2021' : 'first',\n",
    "    'AUS_CODE_2021' : 'first',\n",
    "    'AUS_NAME_2021' : 'first',\n",
    "    'AREA_ALBERS_SQKM' : 'sum',\n",
    "    'MB_CATEGORY_2021' : 'unique',\n",
    "}).reset_index().rename(columns={\n",
    "    'SAL_CODE_2021' : 'suburb_id',\n",
    "    'SAL_NAME_2021' : 'suburb_name',\n",
    "    'POA_CODE_2021' : 'postcode_id',\n",
    "    'POA_NAME_2021' : 'postcode',\n",
    "    'GCCSA_CODE_2021' : 'gccsa_id',\n",
    "    'GCCSA_NAME_2021' : 'capital_area',\n",
    "    'LGA_CODE_2023' : 'lga_id',\n",
    "    'LGA_NAME_2023' : 'lga_name',\n",
    "    'SUA_CODE_2021' : 'sua_id',\n",
    "    'SUA_NAME_2021' : 'urban_area',\n",
    "    'STATE_CODE_2021' : 'state_id',\n",
    "    'STATE_NAME_2021' : 'state_name',\n",
    "    'AUS_CODE_2021' : 'country_id',\n",
    "    'AUS_NAME_2021' : 'country_name',\n",
    "    'AREA_ALBERS_SQKM' : 'area_sqkm',\n",
    "    'MB_CATEGORY_2021' : 'categories',\n",
    "})\n"
   ]
  },
  {
   "cell_type": "code",
   "execution_count": null,
   "metadata": {},
   "outputs": [],
   "source": [
    "sua_ids = dfs['SUA_2021_AUST']['SUA_CODE_2021'].unique()"
   ]
  },
  {
   "cell_type": "code",
   "execution_count": null,
   "metadata": {},
   "outputs": [],
   "source": [
    "dfk_sua_suburbs = {}\n",
    "for sua_id in sua_ids:\n",
    "    dfk_sua_suburbs[sua_id] = df_suburbs[df_suburbs['sua_id'].apply(lambda x: sua_id in x)]"
   ]
  },
  {
   "cell_type": "code",
   "execution_count": null,
   "metadata": {},
   "outputs": [],
   "source": [
    "gdf_suburbs : gpd.GeoDataFrame = gpd.GeoDataFrame(pd.concat([gpd.read_file(f'../data/core/suburbs/{file}') for file in os.listdir('../data/core/suburbs')], ignore_index=True))"
   ]
  },
  {
   "cell_type": "code",
   "execution_count": null,
   "metadata": {},
   "outputs": [],
   "source": [
    "len(df_suburbs), len(gdf_suburbs)"
   ]
  },
  {
   "cell_type": "code",
   "execution_count": null,
   "metadata": {},
   "outputs": [],
   "source": [
    "df_suburbs[['suburb_id', 'postcode_id', 'sua_id']].head()"
   ]
  },
  {
   "cell_type": "code",
   "execution_count": null,
   "metadata": {},
   "outputs": [],
   "source": [
    "gdf_suburbs.apply(lambda x: (x['suburb_id'], x['postcode_id']), axis=1).is_unique"
   ]
  },
  {
   "cell_type": "code",
   "execution_count": null,
   "metadata": {},
   "outputs": [],
   "source": [
    "df_suburbs.apply(lambda x: (x['suburb_id'], x['postcode_id']), axis=1).is_unique"
   ]
  },
  {
   "cell_type": "code",
   "execution_count": null,
   "metadata": {},
   "outputs": [],
   "source": [
    "gdf_sua = pd.merge(gdf_suburbs, df_suburbs[['suburb_id', 'postcode_id', 'sua_id']], on=['suburb_id', 'postcode_id'], how='left')"
   ]
  },
  {
   "cell_type": "code",
   "execution_count": null,
   "metadata": {},
   "outputs": [],
   "source": [
    "gdf_sua = gpd.GeoDataFrame(gdf_sua)"
   ]
  },
  {
   "cell_type": "code",
   "execution_count": null,
   "metadata": {},
   "outputs": [],
   "source": [
    "os.makedirs('../data/sua-suburbs', exist_ok=True)"
   ]
  },
  {
   "cell_type": "code",
   "execution_count": null,
   "metadata": {},
   "outputs": [],
   "source": [
    "for sua_id in sua_ids:\n",
    "    if sua_id == '1000':\n",
    "        continue # potential file size of sua_id=1000 might be > 100M\n",
    "    gdf_sua[gdf_sua['sua_id'].apply(lambda x: sua_id in x)].drop(columns=['sua_id']).to_file(f'../data/sua-suburbs/sua-suburbs-{sua_id}.geojson', driver='GeoJSON')\n",
    "# 1m 30s"
   ]
  },
  {
   "cell_type": "code",
   "execution_count": null,
   "metadata": {},
   "outputs": [],
   "source": [
    "gdf_sua_1000 = gdf_sua[gdf_sua['sua_id'].apply(lambda x: '1000' in x)].drop(columns=['sua_id'])"
   ]
  },
  {
   "cell_type": "code",
   "execution_count": null,
   "metadata": {},
   "outputs": [],
   "source": [
    "gdf_sua_1000[gdf_sua_1000['postcode'] < '2500'].to_file(f'../data/sua-suburbs/sua-suburbs-1000-24.geojson', driver='GeoJSON')"
   ]
  },
  {
   "cell_type": "code",
   "execution_count": null,
   "metadata": {},
   "outputs": [],
   "source": [
    "gdf_sua_1000[gdf_sua_1000['postcode'] >= '2500'].to_file(f'../data/sua-suburbs/sua-suburbs-1000-25.geojson', driver='GeoJSON')"
   ]
  },
  {
   "cell_type": "code",
   "execution_count": 15,
   "metadata": {},
   "outputs": [],
   "source": [
    "dfs['SUA_2021_AUST'].groupby('SUA_CODE_2021').aggregate({\n",
    "    'SUA_NAME_2021' : 'first',\n",
    "    'AUS_CODE_2021' : 'first',\n",
    "    'AUS_NAME_2021' : 'first'\n",
    "}).reset_index().rename(columns={\n",
    "    'SUA_CODE_2021' : 'sua_id',\n",
    "    'SUA_NAME_2021' : 'sua_name',\n",
    "    'AUS_CODE_2021' : 'country_id',\n",
    "    'AUS_NAME_2021' : 'country_name'\n",
    "}).to_csv('../data/sua-suburbs/sua-info.csv')"
   ]
  }
 ],
 "metadata": {
  "kernelspec": {
   "display_name": "Python 3",
   "language": "python",
   "name": "python3"
  },
  "language_info": {
   "codemirror_mode": {
    "name": "ipython",
    "version": 3
   },
   "file_extension": ".py",
   "mimetype": "text/x-python",
   "name": "python",
   "nbconvert_exporter": "python",
   "pygments_lexer": "ipython3",
   "version": "3.10.13"
  }
 },
 "nbformat": 4,
 "nbformat_minor": 2
}
