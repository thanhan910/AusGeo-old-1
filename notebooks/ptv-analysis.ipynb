{
 "cells": [
  {
   "cell_type": "code",
   "execution_count": 1,
   "metadata": {},
   "outputs": [],
   "source": [
    "import pandas as pd\n",
    "import os\n",
    "import shapely.geometry as sg\n",
    "data_directory = os.path.join('..', 'data', 'ptv', '20240224')"
   ]
  },
  {
   "cell_type": "code",
   "execution_count": 2,
   "metadata": {},
   "outputs": [],
   "source": [
    "branch_ids = ['1', '2', '3', '4', '5', '6', '7', '8', '10', '11']\n",
    "table_names = ['stop_times', 'stops', 'trips', 'routes', 'calendar', 'calendar_dates', 'agency', 'shapes']"
   ]
  },
  {
   "cell_type": "code",
   "execution_count": 3,
   "metadata": {},
   "outputs": [],
   "source": [
    "def get_df(branch_id, table_name):\n",
    "    files = [os.path.join(data_directory, f) for f in os.listdir(data_directory) if f.split('-')[1] == str(branch_id) and f.split('-')[2] == table_name]\n",
    "    if len(files) == 0:\n",
    "        return None\n",
    "    return pd.concat([pd.read_csv(f) for f in files])"
   ]
  },
  {
   "cell_type": "code",
   "execution_count": 4,
   "metadata": {},
   "outputs": [],
   "source": [
    "df = {branch_id: {table_name: get_df(branch_id, table_name) for table_name in table_names} for branch_id in branch_ids}"
   ]
  },
  {
   "cell_type": "code",
   "execution_count": null,
   "metadata": {},
   "outputs": [],
   "source": [
    "bid = '3'"
   ]
  },
  {
   "cell_type": "code",
   "execution_count": 5,
   "metadata": {},
   "outputs": [],
   "source": [
    "df_trams = df['3']['stop_times'].groupby('trip_id')['stop_id'].apply(lambda x: x.to_numpy()).to_frame(name='stops_sequence').reset_index()\n",
    "df_trams = pd.merge(df['3']['trips'], df_trams, on='trip_id')\n",
    "df_trams = pd.merge(df['3']['routes'], df_trams, on='route_id')\n",
    "df_trams['stops_count'] = df_trams['stops_sequence'].apply(lambda x: len(x))\n",
    "df_trams = df_trams.sort_values(by=['route_short_name', 'stops_count'], ascending=False).drop_duplicates(subset=['route_short_name', 'trip_headsign', 'direction_id'], keep='first')\n",
    "\n",
    "df_tram_stops = pd.merge(df['3']['stop_times'], df['3']['trips'], on='trip_id')\n",
    "df_tram_stops = pd.merge(df_tram_stops, df['3']['routes'], on='route_id')\n",
    "df_tram_stops  = df_tram_stops.groupby(['route_short_name', 'trip_headsign', 'direction_id'])['stop_id'].apply(lambda x: x.unique()).to_frame(name='stops').reset_index()\n",
    "\n",
    "df_trams = df_trams.merge(df_tram_stops, on=['route_short_name', 'trip_headsign', 'direction_id'])\n",
    "\n",
    "df_trams['stops_count_2'] = df_trams['stops'].apply(lambda x: len(x))\n",
    "df_trams['stops_set_1'] = df_trams['stops_sequence'].apply(lambda x: sorted(x))\n",
    "df_trams['stops_set_2'] = df_trams['stops'].apply(lambda x: sorted(x))\n",
    "\n",
    "df_trams['stops_set_1_size'] = df_trams['stops_set_1'].apply(lambda x: len(set(x)))\n",
    "df_trams['stops_set_2_size'] = df_trams['stops_set_2'].apply(lambda x: len(set(x)))"
   ]
  },
  {
   "cell_type": "code",
   "execution_count": 6,
   "metadata": {},
   "outputs": [
    {
     "data": {
      "text/plain": [
       "array([18038, 18039, 18052, 18040, 18041, 18042, 18043, 18044, 18045,\n",
       "       18046, 18047, 18048, 18049, 18050, 17880, 20979, 18105, 18174,\n",
       "       18175, 18176, 18178, 21233, 21232, 18179, 18180, 18181, 18182,\n",
       "       18183, 18037, 18038], dtype=int64)"
      ]
     },
     "execution_count": 6,
     "metadata": {},
     "output_type": "execute_result"
    }
   ],
   "source": [
    "df_trams[df_trams['stops_set_1'] != df_trams['stops_set_2']].iloc[2]['stops_sequence']"
   ]
  },
  {
   "cell_type": "code",
   "execution_count": 7,
   "metadata": {},
   "outputs": [],
   "source": [
    "df_routes_full = pd.merge(df['3']['trips'], df['3']['routes'], on='route_id', how='left')"
   ]
  },
  {
   "cell_type": "code",
   "execution_count": 12,
   "metadata": {},
   "outputs": [],
   "source": [
    "df_routes_full = pd.merge(df_routes_full, df['3']['stop_times'], on='trip_id', how='left')"
   ]
  },
  {
   "cell_type": "code",
   "execution_count": 8,
   "metadata": {},
   "outputs": [],
   "source": [
    "df_trams['anomalies'] = df_trams.apply(lambda x: set(x['stops']) - set(x['stops_sequence']), axis=1)"
   ]
  },
  {
   "cell_type": "code",
   "execution_count": 9,
   "metadata": {},
   "outputs": [],
   "source": [
    "df_anomalies = df_trams[df_trams['anomalies'].apply(lambda x: len(x) > 0)][['route_short_name', 'trip_headsign', 'direction_id', 'anomalies']]"
   ]
  },
  {
   "cell_type": "code",
   "execution_count": 16,
   "metadata": {},
   "outputs": [],
   "source": [
    "df_at = df_anomalies.explode('anomalies').merge(df_routes_full, left_on=['route_short_name', 'trip_headsign', 'direction_id', 'anomalies'], right_on=['route_short_name', 'trip_headsign', 'direction_id', 'stop_id']).sort_values(by=['trip_id', 'stop_sequence'], ascending=True)\n",
    "df_at = df_at.groupby('trip_id')['stop_id'].apply(lambda x: x.to_numpy()).to_frame(name='stops_sequence').reset_index()"
   ]
  },
  {
   "cell_type": "code",
   "execution_count": 20,
   "metadata": {},
   "outputs": [],
   "source": [
    "df_at = df_at.groupby('trip_id')['stop_id'].apply(lambda x: x.to_numpy()).to_frame(name='stops_sequence').reset_index()"
   ]
  },
  {
   "cell_type": "code",
   "execution_count": 22,
   "metadata": {},
   "outputs": [],
   "source": [
    "df_at = pd.merge(df['3']['trips'], df_at, on='trip_id')"
   ]
  },
  {
   "cell_type": "code",
   "execution_count": 24,
   "metadata": {},
   "outputs": [],
   "source": [
    "df_at['stops_count'] = df_at['stops_sequence'].apply(lambda x: len(x))"
   ]
  },
  {
   "cell_type": "code",
   "execution_count": 26,
   "metadata": {},
   "outputs": [],
   "source": [
    "df_at = pd.merge(df['3']['routes'], df_at, on='route_id')"
   ]
  },
  {
   "cell_type": "code",
   "execution_count": 30,
   "metadata": {},
   "outputs": [],
   "source": [
    "df_at = df_at.sort_values(by=['route_short_name', 'stops_count'], ascending=False).drop_duplicates(subset=['route_short_name', 'trip_headsign', 'direction_id'], keep='first').merge(df_anomalies, on=['route_short_name', 'trip_headsign', 'direction_id'], how='left')"
   ]
  },
  {
   "cell_type": "code",
   "execution_count": 33,
   "metadata": {},
   "outputs": [
    {
     "data": {
      "text/html": [
       "<div>\n",
       "<style scoped>\n",
       "    .dataframe tbody tr th:only-of-type {\n",
       "        vertical-align: middle;\n",
       "    }\n",
       "\n",
       "    .dataframe tbody tr th {\n",
       "        vertical-align: top;\n",
       "    }\n",
       "\n",
       "    .dataframe thead th {\n",
       "        text-align: right;\n",
       "    }\n",
       "</style>\n",
       "<table border=\"1\" class=\"dataframe\">\n",
       "  <thead>\n",
       "    <tr style=\"text-align: right;\">\n",
       "      <th></th>\n",
       "      <th>route_id</th>\n",
       "      <th>agency_id</th>\n",
       "      <th>route_short_name</th>\n",
       "      <th>route_long_name</th>\n",
       "      <th>route_type</th>\n",
       "      <th>route_color</th>\n",
       "      <th>route_text_color</th>\n",
       "      <th>service_id</th>\n",
       "      <th>trip_id</th>\n",
       "      <th>shape_id</th>\n",
       "      <th>trip_headsign</th>\n",
       "      <th>direction_id</th>\n",
       "      <th>stops_sequence</th>\n",
       "      <th>stops_count</th>\n",
       "      <th>anomalies</th>\n",
       "    </tr>\n",
       "  </thead>\n",
       "  <tbody>\n",
       "  </tbody>\n",
       "</table>\n",
       "</div>"
      ],
      "text/plain": [
       "Empty DataFrame\n",
       "Columns: [route_id, agency_id, route_short_name, route_long_name, route_type, route_color, route_text_color, service_id, trip_id, shape_id, trip_headsign, direction_id, stops_sequence, stops_count, anomalies]\n",
       "Index: []"
      ]
     },
     "execution_count": 33,
     "metadata": {},
     "output_type": "execute_result"
    }
   ],
   "source": [
    "df_at[df_at.apply(lambda x: set(x['anomalies']) - set(x['stops_sequence']), axis=1).apply(lambda x: len(x) > 0)]"
   ]
  },
  {
   "cell_type": "code",
   "execution_count": 34,
   "metadata": {},
   "outputs": [],
   "source": [
    "df_at = df_at[['route_short_name', 'trip_headsign', 'direction_id', 'trip_id']]"
   ]
  },
  {
   "cell_type": "code",
   "execution_count": 36,
   "metadata": {},
   "outputs": [],
   "source": [
    "df_at = df_at.merge(df['3']['stop_times'], on='trip_id')"
   ]
  },
  {
   "cell_type": "code",
   "execution_count": 38,
   "metadata": {},
   "outputs": [],
   "source": [
    "df_at = df_at.groupby('trip_id')['stop_id'].apply(lambda x: x.to_numpy()).to_frame(name='stops_sequence').reset_index()"
   ]
  },
  {
   "cell_type": "code",
   "execution_count": 40,
   "metadata": {},
   "outputs": [],
   "source": [
    "df_at = pd.merge(df['3']['trips'], df_at, on='trip_id')\n",
    "df_at = pd.merge(df['3']['routes'], df_at, on='route_id')"
   ]
  },
  {
   "cell_type": "code",
   "execution_count": 42,
   "metadata": {},
   "outputs": [],
   "source": [
    "df_at = pd.concat([df_at, df_trams])"
   ]
  },
  {
   "cell_type": "code",
   "execution_count": 44,
   "metadata": {},
   "outputs": [],
   "source": [
    "df_at.drop(columns=['anomalies', 'stops_count', 'stops', 'stops_count_2', 'stops_set_1', 'stops_set_2', 'stops_set_1_size', 'stops_set_2_size'], inplace=True)"
   ]
  },
  {
   "cell_type": "code",
   "execution_count": 46,
   "metadata": {},
   "outputs": [],
   "source": [
    "df_at['stops_count'] = df_at['stops_sequence'].apply(lambda x: len(x))"
   ]
  },
  {
   "cell_type": "code",
   "execution_count": 49,
   "metadata": {},
   "outputs": [],
   "source": [
    "df_at.sort_values(by=['route_short_name', 'trip_headsign', 'direction_id', 'stops_count'], ascending=False, inplace=True)\n",
    "df_at.to_csv('trips.csv', index=False)"
   ]
  },
  {
   "cell_type": "code",
   "execution_count": 58,
   "metadata": {},
   "outputs": [],
   "source": [
    "df['3']['shapes']['point'] = df['3']['shapes'].apply(lambda x: sg.Point(x['shape_pt_lon'], x['shape_pt_lat']), axis=1)"
   ]
  },
  {
   "cell_type": "code",
   "execution_count": 59,
   "metadata": {},
   "outputs": [],
   "source": [
    "df_lines = df['3']['shapes'].groupby('shape_id')['point'].apply(lambda x: sg.LineString(x.to_numpy())).to_frame(name='line').reset_index()"
   ]
  },
  {
   "cell_type": "code",
   "execution_count": 65,
   "metadata": {},
   "outputs": [],
   "source": [
    "df['3']['stops']['stop_pt'] = df['3']['stops'].apply(lambda x: sg.Point(x['stop_lon'], x['stop_lat']), axis=1)"
   ]
  },
  {
   "cell_type": "code",
   "execution_count": 68,
   "metadata": {},
   "outputs": [],
   "source": [
    "df_geo = pd.merge(df['3']['stop_times'], df['3']['trips'][['trip_id', 'shape_id']], on='trip_id')\n",
    "df_geo = pd.merge(df_geo, df_lines, on='shape_id')\n",
    "df_geo = df_geo[['shape_id', 'stop_id']].drop_duplicates()\n",
    "df_geo = pd.merge(df_geo, df_lines, on='shape_id')\n",
    "df_geo = pd.merge(df_geo, df['3']['stops'][['stop_id', 'stop_pt']], on='stop_id')"
   ]
  },
  {
   "cell_type": "code",
   "execution_count": 82,
   "metadata": {},
   "outputs": [
    {
     "data": {
      "text/html": [
       "<div>\n",
       "<style scoped>\n",
       "    .dataframe tbody tr th:only-of-type {\n",
       "        vertical-align: middle;\n",
       "    }\n",
       "\n",
       "    .dataframe tbody tr th {\n",
       "        vertical-align: top;\n",
       "    }\n",
       "\n",
       "    .dataframe thead th {\n",
       "        text-align: right;\n",
       "    }\n",
       "</style>\n",
       "<table border=\"1\" class=\"dataframe\">\n",
       "  <thead>\n",
       "    <tr style=\"text-align: right;\">\n",
       "      <th></th>\n",
       "      <th>shape_id</th>\n",
       "      <th>stop_id</th>\n",
       "      <th>line</th>\n",
       "      <th>stop_pt</th>\n",
       "    </tr>\n",
       "  </thead>\n",
       "  <tbody>\n",
       "    <tr>\n",
       "      <th>1330</th>\n",
       "      <td>3-109-mjp-5.6.R</td>\n",
       "      <td>17897</td>\n",
       "      <td>LINESTRING (145.122349164379 -37.8178755249435...</td>\n",
       "      <td>POINT (144.974487687436 -37.8123788849696)</td>\n",
       "    </tr>\n",
       "    <tr>\n",
       "      <th>1331</th>\n",
       "      <td>3-109-mjp-7.6.R</td>\n",
       "      <td>17897</td>\n",
       "      <td>LINESTRING (145.122349164379 -37.8178755249435...</td>\n",
       "      <td>POINT (144.974487687436 -37.8123788849696)</td>\n",
       "    </tr>\n",
       "    <tr>\n",
       "      <th>1332</th>\n",
       "      <td>3-109-mjp-6.6.R</td>\n",
       "      <td>17897</td>\n",
       "      <td>LINESTRING (145.122349164379 -37.8178755249435...</td>\n",
       "      <td>POINT (144.974487687436 -37.8123788849696)</td>\n",
       "    </tr>\n",
       "    <tr>\n",
       "      <th>1333</th>\n",
       "      <td>3-109-mjp-3.10.R</td>\n",
       "      <td>17897</td>\n",
       "      <td>LINESTRING (145.122349164379 -37.8178755249435...</td>\n",
       "      <td>POINT (144.974487687436 -37.8123788849696)</td>\n",
       "    </tr>\n",
       "    <tr>\n",
       "      <th>1334</th>\n",
       "      <td>3-109-mjp-4.10.R</td>\n",
       "      <td>17897</td>\n",
       "      <td>LINESTRING (145.122349164379 -37.8178755249435...</td>\n",
       "      <td>POINT (144.974487687436 -37.8123788849696)</td>\n",
       "    </tr>\n",
       "    <tr>\n",
       "      <th>...</th>\n",
       "      <td>...</td>\n",
       "      <td>...</td>\n",
       "      <td>...</td>\n",
       "      <td>...</td>\n",
       "    </tr>\n",
       "    <tr>\n",
       "      <th>20167</th>\n",
       "      <td>3-57-mjp-5.4.R</td>\n",
       "      <td>17948</td>\n",
       "      <td>LINESTRING (144.877988852369 -37.7688291815855...</td>\n",
       "      <td>POINT (144.914787348936 -37.78035451832)</td>\n",
       "    </tr>\n",
       "    <tr>\n",
       "      <th>20168</th>\n",
       "      <td>3-57-mjp-7.4.R</td>\n",
       "      <td>17948</td>\n",
       "      <td>LINESTRING (144.877988852369 -37.7688291815855...</td>\n",
       "      <td>POINT (144.914787348936 -37.78035451832)</td>\n",
       "    </tr>\n",
       "    <tr>\n",
       "      <th>20169</th>\n",
       "      <td>3-57-mjp-6.4.R</td>\n",
       "      <td>17948</td>\n",
       "      <td>LINESTRING (144.877988852369 -37.7688291815855...</td>\n",
       "      <td>POINT (144.914787348936 -37.78035451832)</td>\n",
       "    </tr>\n",
       "    <tr>\n",
       "      <th>20170</th>\n",
       "      <td>3-57-mjp-3.4.R</td>\n",
       "      <td>17948</td>\n",
       "      <td>LINESTRING (144.877988852369 -37.7688291815855...</td>\n",
       "      <td>POINT (144.914787348936 -37.78035451832)</td>\n",
       "    </tr>\n",
       "    <tr>\n",
       "      <th>20171</th>\n",
       "      <td>3-57-mjp-4.4.R</td>\n",
       "      <td>17948</td>\n",
       "      <td>LINESTRING (144.877988852369 -37.7688291815855...</td>\n",
       "      <td>POINT (144.914787348936 -37.78035451832)</td>\n",
       "    </tr>\n",
       "  </tbody>\n",
       "</table>\n",
       "<p>189 rows × 4 columns</p>\n",
       "</div>"
      ],
      "text/plain": [
       "               shape_id  stop_id  \\\n",
       "1330    3-109-mjp-5.6.R    17897   \n",
       "1331    3-109-mjp-7.6.R    17897   \n",
       "1332    3-109-mjp-6.6.R    17897   \n",
       "1333   3-109-mjp-3.10.R    17897   \n",
       "1334   3-109-mjp-4.10.R    17897   \n",
       "...                 ...      ...   \n",
       "20167    3-57-mjp-5.4.R    17948   \n",
       "20168    3-57-mjp-7.4.R    17948   \n",
       "20169    3-57-mjp-6.4.R    17948   \n",
       "20170    3-57-mjp-3.4.R    17948   \n",
       "20171    3-57-mjp-4.4.R    17948   \n",
       "\n",
       "                                                    line  \\\n",
       "1330   LINESTRING (145.122349164379 -37.8178755249435...   \n",
       "1331   LINESTRING (145.122349164379 -37.8178755249435...   \n",
       "1332   LINESTRING (145.122349164379 -37.8178755249435...   \n",
       "1333   LINESTRING (145.122349164379 -37.8178755249435...   \n",
       "1334   LINESTRING (145.122349164379 -37.8178755249435...   \n",
       "...                                                  ...   \n",
       "20167  LINESTRING (144.877988852369 -37.7688291815855...   \n",
       "20168  LINESTRING (144.877988852369 -37.7688291815855...   \n",
       "20169  LINESTRING (144.877988852369 -37.7688291815855...   \n",
       "20170  LINESTRING (144.877988852369 -37.7688291815855...   \n",
       "20171  LINESTRING (144.877988852369 -37.7688291815855...   \n",
       "\n",
       "                                          stop_pt  \n",
       "1330   POINT (144.974487687436 -37.8123788849696)  \n",
       "1331   POINT (144.974487687436 -37.8123788849696)  \n",
       "1332   POINT (144.974487687436 -37.8123788849696)  \n",
       "1333   POINT (144.974487687436 -37.8123788849696)  \n",
       "1334   POINT (144.974487687436 -37.8123788849696)  \n",
       "...                                           ...  \n",
       "20167    POINT (144.914787348936 -37.78035451832)  \n",
       "20168    POINT (144.914787348936 -37.78035451832)  \n",
       "20169    POINT (144.914787348936 -37.78035451832)  \n",
       "20170    POINT (144.914787348936 -37.78035451832)  \n",
       "20171    POINT (144.914787348936 -37.78035451832)  \n",
       "\n",
       "[189 rows x 4 columns]"
      ]
     },
     "execution_count": 82,
     "metadata": {},
     "output_type": "execute_result"
    }
   ],
   "source": [
    "df_geo[df_geo.apply(lambda x: x['line'].contains(x['stop_pt']), axis=1)]"
   ]
  },
  {
   "cell_type": "code",
   "execution_count": 128,
   "metadata": {},
   "outputs": [],
   "source": [
    "dfrt = pd.merge(df[bid]['routes'], df[bid]['trips'], on='route_id')\n",
    "assert dfrt.apply(lambda x: str(x['route_short_name']) in x['route_id'], axis=1).all()\n",
    "assert dfrt.apply(lambda x: x['route_id'] in x['shape_id'], axis=1).all()\n",
    "assert dfrt.apply(lambda x: x['shape_id'] in x['trip_id'], axis=1).all()\n",
    "dfrt['trip_id_x'] = dfrt['trip_id'].apply(lambda x: x.split('.'))\n",
    "trip_id_x = dfrt['trip_id_x'].apply(len).unique()\n",
    "assert len(trip_id_x) == 1\n",
    "trip_id_count = trip_id_x[0]\n",
    "for i in range(trip_id_count):\n",
    "    dfrt[f'trip_id_{i}'] = dfrt['trip_id_x'].apply(lambda x: x[i])\n"
   ]
  },
  {
   "cell_type": "code",
   "execution_count": 100,
   "metadata": {},
   "outputs": [
    {
     "data": {
      "text/html": [
       "<div>\n",
       "<style scoped>\n",
       "    .dataframe tbody tr th:only-of-type {\n",
       "        vertical-align: middle;\n",
       "    }\n",
       "\n",
       "    .dataframe tbody tr th {\n",
       "        vertical-align: top;\n",
       "    }\n",
       "\n",
       "    .dataframe thead th {\n",
       "        text-align: right;\n",
       "    }\n",
       "</style>\n",
       "<table border=\"1\" class=\"dataframe\">\n",
       "  <thead>\n",
       "    <tr style=\"text-align: right;\">\n",
       "      <th></th>\n",
       "      <th>route_id</th>\n",
       "      <th>agency_id</th>\n",
       "      <th>route_short_name</th>\n",
       "      <th>route_long_name</th>\n",
       "      <th>route_type</th>\n",
       "      <th>route_color</th>\n",
       "      <th>route_text_color</th>\n",
       "    </tr>\n",
       "  </thead>\n",
       "  <tbody>\n",
       "    <tr>\n",
       "      <th>0</th>\n",
       "      <td>3-109-mjp-3</td>\n",
       "      <td>NaN</td>\n",
       "      <td>109</td>\n",
       "      <td>Port Melbourne - Box Hill</td>\n",
       "      <td>0</td>\n",
       "      <td>E87722</td>\n",
       "      <td>000000</td>\n",
       "    </tr>\n",
       "    <tr>\n",
       "      <th>1</th>\n",
       "      <td>3-109-mjp-4</td>\n",
       "      <td>NaN</td>\n",
       "      <td>109</td>\n",
       "      <td>Port Melbourne - Box Hill</td>\n",
       "      <td>0</td>\n",
       "      <td>E87722</td>\n",
       "      <td>000000</td>\n",
       "    </tr>\n",
       "  </tbody>\n",
       "</table>\n",
       "</div>"
      ],
      "text/plain": [
       "      route_id  agency_id  route_short_name            route_long_name  \\\n",
       "0  3-109-mjp-3        NaN               109  Port Melbourne - Box Hill   \n",
       "1  3-109-mjp-4        NaN               109  Port Melbourne - Box Hill   \n",
       "\n",
       "   route_type route_color route_text_color  \n",
       "0           0      E87722           000000  \n",
       "1           0      E87722           000000  "
      ]
     },
     "execution_count": 100,
     "metadata": {},
     "output_type": "execute_result"
    }
   ],
   "source": [
    "df['3']['routes'].head(2)"
   ]
  },
  {
   "cell_type": "code",
   "execution_count": 135,
   "metadata": {},
   "outputs": [
    {
     "data": {
      "text/plain": [
       "direction_id  trip_id_4\n",
       "0             H            25576\n",
       "1             R            24795\n",
       "Name: count, dtype: int64"
      ]
     },
     "execution_count": 135,
     "metadata": {},
     "output_type": "execute_result"
    }
   ],
   "source": [
    "dfrt[['direction_id', 'trip_id_4']].value_counts()"
   ]
  },
  {
   "cell_type": "code",
   "execution_count": 150,
   "metadata": {},
   "outputs": [
    {
     "data": {
      "text/plain": [
       "array([0, 1], dtype=int64)"
      ]
     },
     "execution_count": 150,
     "metadata": {},
     "output_type": "execute_result"
    }
   ],
   "source": [
    "df['3']['trips']['direction_id'].unique()"
   ]
  },
  {
   "cell_type": "code",
   "execution_count": 142,
   "metadata": {},
   "outputs": [
    {
     "data": {
      "text/plain": [
       "0       0\n",
       "1       1\n",
       "2       0\n",
       "3       1\n",
       "4       0\n",
       "       ..\n",
       "6726    0\n",
       "6727    0\n",
       "6728    0\n",
       "6729    0\n",
       "6730    1\n",
       "Name: direction_id, Length: 6731, dtype: int64"
      ]
     },
     "execution_count": 142,
     "metadata": {},
     "output_type": "execute_result"
    }
   ],
   "source": [
    "df['5']['trips']['direction_id']"
   ]
  },
  {
   "cell_type": "code",
   "execution_count": 126,
   "metadata": {},
   "outputs": [],
   "source": [
    "assert dfrt.apply(lambda x: x['shape_id'] in x['trip_id'], axis=1).all()"
   ]
  },
  {
   "cell_type": "code",
   "execution_count": 125,
   "metadata": {},
   "outputs": [
    {
     "data": {
      "text/plain": [
       "array(['3', '5', '8', '9', '10', '4', '1', '2', '6', '7', '11', '12',\n",
       "       '13', '14'], dtype=object)"
      ]
     },
     "execution_count": 125,
     "metadata": {},
     "output_type": "execute_result"
    }
   ],
   "source": [
    "dfrt['shape_id_1'].unique()"
   ]
  },
  {
   "cell_type": "code",
   "execution_count": 113,
   "metadata": {},
   "outputs": [
    {
     "data": {
      "text/plain": [
       "1"
      ]
     },
     "execution_count": 113,
     "metadata": {},
     "output_type": "execute_result"
    }
   ],
   "source": [
    "assert dfrt['shape_id_x'].apply(len).nunique()"
   ]
  },
  {
   "cell_type": "code",
   "execution_count": 106,
   "metadata": {},
   "outputs": [
    {
     "data": {
      "text/plain": [
       "array([5], dtype=int64)"
      ]
     },
     "execution_count": 106,
     "metadata": {},
     "output_type": "execute_result"
    }
   ],
   "source": [
    "dfrt['trip_id_x'].apply(len).unique()"
   ]
  },
  {
   "cell_type": "code",
   "execution_count": 104,
   "metadata": {},
   "outputs": [
    {
     "data": {
      "text/plain": [
       "0        [3-109-mjp-3, 3, H]\n",
       "1        [3-109-mjp-3, 5, H]\n",
       "2        [3-109-mjp-3, 5, H]\n",
       "3        [3-109-mjp-3, 5, H]\n",
       "4        [3-109-mjp-3, 5, H]\n",
       "                ...         \n",
       "50366     [3-96-mjp-7, 6, H]\n",
       "50367    [3-96-mjp-7, 11, R]\n",
       "50368     [3-96-mjp-7, 6, H]\n",
       "50369     [3-96-mjp-7, 6, H]\n",
       "50370    [3-96-mjp-7, 11, R]\n",
       "Name: shape_id_1, Length: 50371, dtype: object"
      ]
     },
     "execution_count": 104,
     "metadata": {},
     "output_type": "execute_result"
    }
   ],
   "source": [
    "dfrt['shape_id_2'] = dfrt['shape_id_1'].apply(lambda x: x[1])\n",
    "dfrt['trip_id_2'] = dfrt['trip_id_1'].apply(lambda x: x[1])\n"
   ]
  },
  {
   "cell_type": "code",
   "execution_count": 85,
   "metadata": {},
   "outputs": [
    {
     "data": {
      "text/plain": [
       "route_short_name  trip_headsign                                       direction_id\n",
       "1                 East Coburg to South Melbourne Beach                1               [3-1-mjp-3.9.R, 3-1-mjp-3.10.R, 3-1-mjp-3.11.R...\n",
       "                  South Melbourne Beach to East Coburg                0               [3-1-mjp-3.3.H, 3-1-mjp-3.4.H, 3-1-mjp-3.5.H, ...\n",
       "3                 East Malvern to Melbourne University                1               [3-3-mjp-3.5.R, 3-3-mjp-3.6.R, 3-3-mjp-4.5.R, ...\n",
       "                  Melbourne University to East Malvern                0               [3-3-mjp-3.2.H, 3-3-mjp-3.3.H, 3-3-mjp-4.2.H, ...\n",
       "5                 Malvern (Burke Road) to Melbourne University        1               [3-5-mjp-3.4.R, 3-5-mjp-4.4.R, 3-5-mjp-5.2.R, ...\n",
       "                  Melbourne University to Malvern (Burke Road)        0               [3-5-mjp-3.2.H, 3-5-mjp-4.2.H, 3-5-mjp-5.1.H, ...\n",
       "6                 Glen Iris to Moreland                               1               [3-6-mjp-3.7.R, 3-6-mjp-3.8.R, 3-6-mjp-3.9.R, ...\n",
       "                  Moreland to Glen Iris                               0               [3-6-mjp-3.2.H, 3-6-mjp-3.3.H, 3-6-mjp-3.4.H, ...\n",
       "11                Victoria Harbour Docklands to West Preston          0               [3-11-mjp-3.1.H, 3-11-mjp-4.1.H, 3-11-mjp-5.1....\n",
       "                  West Preston to Victoria Harbour Docklands          1               [3-11-mjp-3.3.R, 3-11-mjp-4.3.R, 3-11-mjp-5.3....\n",
       "12                St Kilda (Fitzroy St) to Victoria Gardens           0               [3-12-mjp-3.1.H, 3-12-mjp-3.2.H, 3-12-mjp-3.3....\n",
       "                  Victoria Gardens to St Kilda (Fitzroy St)           1               [3-12-mjp-3.4.R, 3-12-mjp-3.5.R, 3-12-mjp-3.6....\n",
       "16                Kew to Melbourne University via St Kilda Beach      1               [3-16-mjp-3.10.R, 3-16-mjp-3.11.R, 3-16-mjp-3....\n",
       "                  Melbourne University to Kew via St Kilda Beach      0               [3-16-mjp-3.2.H, 3-16-mjp-3.3.H, 3-16-mjp-3.7....\n",
       "19                Flinders Street Station, City to North Coburg       0               [3-19-mjp-3.2.H, 3-19-mjp-3.3.H, 3-19-mjp-4.2....\n",
       "                  North Coburg to Flinders Street Station (City)      1               [3-19-mjp-3.5.R, 3-19-mjp-3.6.R, 3-19-mjp-4.5....\n",
       "30                Central Pier Docklands to St Vincents Plaza         0               [3-30-mjp-3.1.H, 3-30-mjp-4.1.H, 3-30-mjp-5.1....\n",
       "                  St Vincents Plaza to Central Pier Docklands         1               [3-30-mjp-3.3.R, 3-30-mjp-3.2.R, 3-30-mjp-4.3....\n",
       "35                Clockwise to Clockwise                              0               [3-35-mjp-3.1.H, 3-35-mjp-4.1.H, 3-35-mjp-5.1....\n",
       "48                North Balwyn to Victoria Harbour Docklands          1               [3-48-mjp-3.2.R, 3-48-mjp-4.2.R, 3-48-mjp-5.2....\n",
       "                  Victoria Harbour Docklands to North Balwyn          0               [3-48-mjp-3.1.H, 3-48-mjp-4.1.H, 3-48-mjp-5.1....\n",
       "57                Flinders Street Station, City to West Maribyrnong   0               [3-57-mjp-3.1.H, 3-57-mjp-3.2.H, 3-57-mjp-4.1....\n",
       "                  West Maribyrnong to Flinders Street Station (City)  1               [3-57-mjp-3.3.R, 3-57-mjp-3.4.R, 3-57-mjp-4.3....\n",
       "58                Toorak to West Coburg                               0               [3-58-mjp-3.1.H, 3-58-mjp-3.2.H, 3-58-mjp-3.5....\n",
       "                  West Coburg to Toorak                               1               [3-58-mjp-3.6.R, 3-58-mjp-3.7.R, 3-58-mjp-3.8....\n",
       "59                Airport West to Flinders Street Station (City)      1               [3-59-mjp-3.4.R, 3-59-mjp-3.5.R, 3-59-mjp-3.6....\n",
       "                  Flinders Street Station, City to Airport West       0               [3-59-mjp-3.1.H, 3-59-mjp-3.2.H, 3-59-mjp-3.3....\n",
       "64                East Brighton to Melbourne University               1               [3-64-mjp-3.7.R, 3-64-mjp-3.8.R, 3-64-mjp-3.9....\n",
       "                  Melbourne University to East Brighton               0               [3-64-mjp-3.2.H, 3-64-mjp-3.3.H, 3-64-mjp-3.4....\n",
       "67                Carnegie to Melbourne University                    1               [3-67-mjp-3.5.R, 3-67-mjp-3.7.R, 3-67-mjp-4.5....\n",
       "                  Melbourne University to Carnegie                    0               [3-67-mjp-3.2.H, 3-67-mjp-3.3.H, 3-67-mjp-4.2....\n",
       "70                Waterfront City Docklands to Wattle Park            0               [3-70-mjp-3.1.H, 3-70-mjp-3.2.H, 3-70-mjp-3.3....\n",
       "                  Wattle Park to Waterfront City Docklands            1               [3-70-mjp-3.4.R, 3-70-mjp-3.5.R, 3-70-mjp-3.6....\n",
       "72                Camberwell to Melbourne University                  1               [3-72-mjp-3.6.R, 3-72-mjp-3.7.R, 3-72-mjp-3.8....\n",
       "                  Melbourne University to Camberwell                  0               [3-72-mjp-3.2.H, 3-72-mjp-3.3.H, 3-72-mjp-4.2....\n",
       "75                Central Pier Docklands to Vermont South             0               [3-75-mjp-3.1.H, 3-75-mjp-3.3.H, 3-75-mjp-4.1....\n",
       "                  Vermont South to Central Pier Docklands             1               [3-75-mjp-3.4.R, 3-75-mjp-3.5.R, 3-75-mjp-3.6....\n",
       "78                Balaclava via Prahran to North Richmond             0               [3-78-mjp-3.1.H, 3-78-mjp-4.1.H, 3-78-mjp-5.1....\n",
       "                  North Richmond to Balaclava via Prahran             1               [3-78-mjp-3.2.R, 3-78-mjp-4.2.R, 3-78-mjp-5.2....\n",
       "82                Footscray to Moonee Ponds                           1               [3-82-mjp-3.2.R, 3-82-mjp-4.2.R, 3-82-mjp-5.2....\n",
       "                  Moonee Ponds to Footscray                           0               [3-82-mjp-3.1.H, 3-82-mjp-4.1.H, 3-82-mjp-5.1....\n",
       "86                Bundoora RMIT to Waterfront City Docklands          1               [3-86-mjp-3.4.R, 3-86-mjp-3.5.R, 3-86-mjp-3.6....\n",
       "                  Waterfront City Docklands to Bundoora RMIT          0               [3-86-mjp-3.1.H, 3-86-mjp-3.3.H, 3-86-mjp-3.2....\n",
       "96                East Brunswick to St Kilda Beach                    1               [3-96-mjp-3.7.R, 3-96-mjp-3.8.R, 3-96-mjp-3.9....\n",
       "                  St Kilda Beach to East Brunswick                    0               [3-96-mjp-3.1.H, 3-96-mjp-3.3.H, 3-96-mjp-3.6....\n",
       "109               Box Hill to Port Melbourne                          1               [3-109-mjp-3.8.R, 3-109-mjp-3.9.R, 3-109-mjp-3...\n",
       "                  Port Melbourne to Box Hill                          0               [3-109-mjp-3.3.H, 3-109-mjp-3.5.H, 3-109-mjp-3...\n",
       "Name: shape_id, dtype: object"
      ]
     },
     "execution_count": 85,
     "metadata": {},
     "output_type": "execute_result"
    }
   ],
   "source": [
    "pd.merge(df['3']['routes'], df['3']['trips'], on='route_id').groupby(['route_short_name', 'trip_headsign', 'direction_id'])['shape_id'].unique()"
   ]
  }
 ],
 "metadata": {
  "kernelspec": {
   "display_name": "Python 3",
   "language": "python",
   "name": "python3"
  },
  "language_info": {
   "codemirror_mode": {
    "name": "ipython",
    "version": 3
   },
   "file_extension": ".py",
   "mimetype": "text/x-python",
   "name": "python",
   "nbconvert_exporter": "python",
   "pygments_lexer": "ipython3",
   "version": "3.12.0"
  }
 },
 "nbformat": 4,
 "nbformat_minor": 2
}
