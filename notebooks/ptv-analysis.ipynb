{
 "cells": [
  {
   "cell_type": "code",
   "execution_count": 26,
   "metadata": {},
   "outputs": [],
   "source": [
    "import pandas as pd\n",
    "import os\n",
    "import shapely.geometry as sg\n",
    "import geopandas as gpd\n",
    "import numpy as np\n",
    "data_directory = os.path.join('..', 'data', 'ptv', '20240224')\n",
    "ROUTE_TYPES = {\n",
    "    0 : 'Tram',\n",
    "    1 : 'Metro',\n",
    "    2 : 'Rail',\n",
    "    3 : 'Bus',\n",
    "    4 : 'Ferry',\n",
    "    5 : 'Cable tram',\n",
    "    6 : 'Gondola',\n",
    "    7 : 'Funicular',\n",
    "    11 : 'Trolleybus',\n",
    "    12 : 'Monorail',\n",
    "}\n",
    "ROUTE_TYPES_LONG = {\n",
    "    0 : 'Tram, Streetcar, Light rail. Any light rail or street level system within a metropolitan area.',\n",
    "    1 : 'Subway, Metro. Any underground rail system within a metropolitan area.',\n",
    "    2 : 'Rail. Used for intercity or long-distance travel.',\n",
    "    3 : 'Bus. Used for short- and long-distance bus routes.',\n",
    "    4 : 'Ferry. Used for short- and long-distance boat service.',\n",
    "    5 : 'Cable tram. Used for street-level rail cars where the cable runs beneath the vehicle, e.g., cable car in San Francisco.',\n",
    "    6 : 'Aerial lift, suspended cable car (e.g., gondola lift, aerial tramway). Cable transport where cabins, cars, gondolas or open chairs are suspended by means of one or more cables.',\n",
    "    7 : 'Funicular. Any rail system designed for steep inclines.',\n",
    "    11 : 'Trolleybus. Electric buses that draw power from overhead wires using poles.',\n",
    "    12 : 'Monorail. Railway in which the track consists of a single rail or a beam.',\n",
    "}\n",
    "\n",
    "BRANCH_IDS_ALL = ['1', '2', '3', '4', '5', '6', '7', '8', '10', '11']\n",
    "BRANCH_IDS = ['1', '2', '3', '4', '5', '6', '10', '11']\n",
    "TABLE_NAMES = ['stop_times', 'stops', 'trips', 'routes', 'calendar', 'calendar_dates', 'agency', 'shapes']\n",
    "# GTFS File Fields\n",
    "# agency.txt \n",
    "# agency_id, agency_name, agency_url, agency_timezone, agency_lang\n",
    "# calendar.txt \n",
    "# service_id, monday, tuesday, wednesday, thursday, friday, saturday, sunday, start_date, end_date\n",
    "# calendar_dates.txt \n",
    "# service_id ,date, exception_type\n",
    "# routes.txt \n",
    "# route_id, agency_id, route_short_name, route_long_name,\n",
    "# route_type, route_color,route_text_color\n",
    "# trips.txt \n",
    "# route_id, service_id, trip_id, shape_id, trip_headsign, direction_id\n",
    "# stops.txt \n",
    "# stop_id, stop_name, stop_lat, stop_lon\n",
    "# stop_times.txt \n",
    "# trip_id, arrival_time, departure_time, stop_id, stop_sequence, stop_headsign, pickup_type, drop_off_type, shape_dist_traveled\n",
    "# shapes.txt \n",
    "# shape_id, shape_pt_lat, shape_pt_lon, shape_pt_sequence, shape_dist_traveled \n",
    "def get_df(branch_id, table_name):\n",
    "    files = [os.path.join(data_directory, f) for f in os.listdir(data_directory) if f.split('-')[1] == str(branch_id) and f.split('-')[2] == table_name]\n",
    "    if len(files) == 0:\n",
    "        return None\n",
    "    return pd.concat([pd.read_csv(f, keep_default_na=False, na_values=['']) for f in files])\n",
    "\n",
    "DF = {branch_id: {table_name: get_df(branch_id, table_name) for table_name in TABLE_NAMES} for branch_id in BRANCH_IDS_ALL}\n",
    "# 15s - 30s\n",
    "\n",
    "# Assert all shape_id contains route_id\n",
    "for bid in BRANCH_IDS:\n",
    "    assert DF[bid]['trips'].dropna(subset=['route_id', 'shape_id']).apply(lambda x: x['route_id'] in x['shape_id'], axis=1).all()\n",
    "\n",
    "for bid in BRANCH_IDS:\n",
    "    DF[bid]['stop_times'] = pd.merge(DF[bid]['stop_times'], DF[bid]['stops'], on='stop_id')"
   ]
  },
  {
   "cell_type": "code",
   "execution_count": 27,
   "metadata": {},
   "outputs": [],
   "source": [
    "for bid in BRANCH_IDS_ALL:\n",
    "    DF[bid]['routes']['route_idx'] = DF[bid]['routes']['route_id'].str.split('-')\n",
    "    DF[bid]['routes']['branch'] = DF[bid]['routes']['route_idx'].apply(lambda x: x[0])\n",
    "    DF[bid]['routes']['route_name'] = DF[bid]['routes']['route_idx'].apply(lambda x: ''.join(x[1:-2]))\n",
    "    DF[bid]['routes']['route_range'] = DF[bid]['routes']['route_idx'].apply(lambda x: x[-2])\n",
    "    DF[bid]['routes']['route_id_order'] = DF[bid]['routes']['route_idx'].apply(lambda x: x[-1])"
   ]
  },
  {
   "cell_type": "code",
   "execution_count": 10,
   "metadata": {},
   "outputs": [],
   "source": [
    "df4_branches = DF['4']['routes'].groupby('route_name')['branch'].unique()"
   ]
  },
  {
   "cell_type": "code",
   "execution_count": 12,
   "metadata": {},
   "outputs": [
    {
     "data": {
      "text/plain": [
       "route_name\n",
       "200        [14, 17, 33]\n",
       "207        [14, 17, 33]\n",
       "234            [17, 35]\n",
       "235            [17, 35]\n",
       "236            [17, 35]\n",
       "             ...       \n",
       "903    [14, 17, 18, 35]\n",
       "905            [14, 17]\n",
       "906            [14, 17]\n",
       "907            [14, 17]\n",
       "908            [14, 17]\n",
       "Name: branch, Length: 94, dtype: object"
      ]
     },
     "execution_count": 12,
     "metadata": {},
     "output_type": "execute_result"
    }
   ],
   "source": [
    "df4_branches[df4_branches.apply(lambda x: len(x)) > 1]"
   ]
  },
  {
   "cell_type": "code",
   "execution_count": 14,
   "metadata": {},
   "outputs": [
    {
     "data": {
      "text/html": [
       "<div>\n",
       "<style scoped>\n",
       "    .dataframe tbody tr th:only-of-type {\n",
       "        vertical-align: middle;\n",
       "    }\n",
       "\n",
       "    .dataframe tbody tr th {\n",
       "        vertical-align: top;\n",
       "    }\n",
       "\n",
       "    .dataframe thead th {\n",
       "        text-align: right;\n",
       "    }\n",
       "</style>\n",
       "<table border=\"1\" class=\"dataframe\">\n",
       "  <thead>\n",
       "    <tr style=\"text-align: right;\">\n",
       "      <th></th>\n",
       "      <th>route_id</th>\n",
       "      <th>agency_id</th>\n",
       "      <th>route_short_name</th>\n",
       "      <th>route_long_name</th>\n",
       "      <th>route_type</th>\n",
       "      <th>route_color</th>\n",
       "      <th>route_text_color</th>\n",
       "      <th>route_idx</th>\n",
       "      <th>branch</th>\n",
       "      <th>route_name</th>\n",
       "      <th>route_range</th>\n",
       "      <th>route_id_order</th>\n",
       "    </tr>\n",
       "  </thead>\n",
       "  <tbody>\n",
       "    <tr>\n",
       "      <th>48</th>\n",
       "      <td>14-903-aus-1</td>\n",
       "      <td>NaN</td>\n",
       "      <td>903</td>\n",
       "      <td>Mordialloc - Altona</td>\n",
       "      <td>3</td>\n",
       "      <td>FF8200</td>\n",
       "      <td>FFFFFF</td>\n",
       "      <td>[14, 903, aus, 1]</td>\n",
       "      <td>14</td>\n",
       "      <td>903</td>\n",
       "      <td>aus</td>\n",
       "      <td>1</td>\n",
       "    </tr>\n",
       "    <tr>\n",
       "      <th>87</th>\n",
       "      <td>17-903-aus-1</td>\n",
       "      <td>NaN</td>\n",
       "      <td>903</td>\n",
       "      <td>Mordialloc - Altona</td>\n",
       "      <td>3</td>\n",
       "      <td>FF8200</td>\n",
       "      <td>FFFFFF</td>\n",
       "      <td>[17, 903, aus, 1]</td>\n",
       "      <td>17</td>\n",
       "      <td>903</td>\n",
       "      <td>aus</td>\n",
       "      <td>1</td>\n",
       "    </tr>\n",
       "    <tr>\n",
       "      <th>94</th>\n",
       "      <td>18-903-aus-1</td>\n",
       "      <td>NaN</td>\n",
       "      <td>903</td>\n",
       "      <td>Mordialloc - Altona</td>\n",
       "      <td>3</td>\n",
       "      <td>FF8200</td>\n",
       "      <td>FFFFFF</td>\n",
       "      <td>[18, 903, aus, 1]</td>\n",
       "      <td>18</td>\n",
       "      <td>903</td>\n",
       "      <td>aus</td>\n",
       "      <td>1</td>\n",
       "    </tr>\n",
       "    <tr>\n",
       "      <th>315</th>\n",
       "      <td>35-903-aus-1</td>\n",
       "      <td>NaN</td>\n",
       "      <td>903</td>\n",
       "      <td>Mordialloc - Altona</td>\n",
       "      <td>3</td>\n",
       "      <td>FF8200</td>\n",
       "      <td>FFFFFF</td>\n",
       "      <td>[35, 903, aus, 1]</td>\n",
       "      <td>35</td>\n",
       "      <td>903</td>\n",
       "      <td>aus</td>\n",
       "      <td>1</td>\n",
       "    </tr>\n",
       "  </tbody>\n",
       "</table>\n",
       "</div>"
      ],
      "text/plain": [
       "         route_id  agency_id route_short_name      route_long_name  \\\n",
       "48   14-903-aus-1        NaN              903  Mordialloc - Altona   \n",
       "87   17-903-aus-1        NaN              903  Mordialloc - Altona   \n",
       "94   18-903-aus-1        NaN              903  Mordialloc - Altona   \n",
       "315  35-903-aus-1        NaN              903  Mordialloc - Altona   \n",
       "\n",
       "     route_type route_color route_text_color          route_idx branch  \\\n",
       "48            3      FF8200           FFFFFF  [14, 903, aus, 1]     14   \n",
       "87            3      FF8200           FFFFFF  [17, 903, aus, 1]     17   \n",
       "94            3      FF8200           FFFFFF  [18, 903, aus, 1]     18   \n",
       "315           3      FF8200           FFFFFF  [35, 903, aus, 1]     35   \n",
       "\n",
       "    route_name route_range route_id_order  \n",
       "48         903         aus              1  \n",
       "87         903         aus              1  \n",
       "94         903         aus              1  \n",
       "315        903         aus              1  "
      ]
     },
     "execution_count": 14,
     "metadata": {},
     "output_type": "execute_result"
    }
   ],
   "source": [
    "DF['4']['routes'][DF['4']['routes']['route_name'] == '903']"
   ]
  },
  {
   "cell_type": "code",
   "execution_count": 32,
   "metadata": {},
   "outputs": [
    {
     "name": "stdout",
     "output_type": "stream",
     "text": [
      "4 shape_id contains null\n"
     ]
    }
   ],
   "source": [
    "for bid in BRANCH_IDS:\n",
    "    if DF[bid]['trips']['shape_id'].isna().any():\n",
    "        print(bid, '> trips > shape_id contains NA')"
   ]
  },
  {
   "cell_type": "code",
   "execution_count": 37,
   "metadata": {},
   "outputs": [],
   "source": [
    "routeId_shapeIdNA = DF['4']['trips'][DF['4']['trips']['shape_id'].isna()]['route_id'].unique()"
   ]
  },
  {
   "cell_type": "code",
   "execution_count": 41,
   "metadata": {},
   "outputs": [
    {
     "data": {
      "text/plain": [
       "array([nan], dtype=object)"
      ]
     },
     "execution_count": 41,
     "metadata": {},
     "output_type": "execute_result"
    }
   ],
   "source": [
    "DF['4']['trips'].groupby('route_id')['shape_id'].unique()[routeId_shapeIdNA[1]]"
   ]
  },
  {
   "cell_type": "code",
   "execution_count": 47,
   "metadata": {},
   "outputs": [
    {
     "data": {
      "text/html": [
       "<div>\n",
       "<style scoped>\n",
       "    .dataframe tbody tr th:only-of-type {\n",
       "        vertical-align: middle;\n",
       "    }\n",
       "\n",
       "    .dataframe tbody tr th {\n",
       "        vertical-align: top;\n",
       "    }\n",
       "\n",
       "    .dataframe thead th {\n",
       "        text-align: right;\n",
       "    }\n",
       "</style>\n",
       "<table border=\"1\" class=\"dataframe\">\n",
       "  <thead>\n",
       "    <tr style=\"text-align: right;\">\n",
       "      <th></th>\n",
       "      <th>route_id</th>\n",
       "      <th>agency_id</th>\n",
       "      <th>route_short_name</th>\n",
       "      <th>route_long_name</th>\n",
       "      <th>route_type</th>\n",
       "      <th>route_color</th>\n",
       "      <th>route_text_color</th>\n",
       "      <th>route_idx</th>\n",
       "      <th>branch</th>\n",
       "      <th>route_name</th>\n",
       "      <th>route_range</th>\n",
       "      <th>route_id_order</th>\n",
       "    </tr>\n",
       "  </thead>\n",
       "  <tbody>\n",
       "    <tr>\n",
       "      <th>329</th>\n",
       "      <td>39-301-A-aus-1</td>\n",
       "      <td>NaN</td>\n",
       "      <td>301SB</td>\n",
       "      <td>NaN</td>\n",
       "      <td>3</td>\n",
       "      <td>FF8200</td>\n",
       "      <td>FFFFFF</td>\n",
       "      <td>[39, 301, A, aus, 1]</td>\n",
       "      <td>39</td>\n",
       "      <td>301A</td>\n",
       "      <td>aus</td>\n",
       "      <td>1</td>\n",
       "    </tr>\n",
       "    <tr>\n",
       "      <th>330</th>\n",
       "      <td>39-301-aus-1</td>\n",
       "      <td>NaN</td>\n",
       "      <td>301</td>\n",
       "      <td>Reservoir - La Trobe University</td>\n",
       "      <td>3</td>\n",
       "      <td>FF8200</td>\n",
       "      <td>FFFFFF</td>\n",
       "      <td>[39, 301, aus, 1]</td>\n",
       "      <td>39</td>\n",
       "      <td>301</td>\n",
       "      <td>aus</td>\n",
       "      <td>1</td>\n",
       "    </tr>\n",
       "  </tbody>\n",
       "</table>\n",
       "</div>"
      ],
      "text/plain": [
       "           route_id  agency_id route_short_name  \\\n",
       "329  39-301-A-aus-1        NaN            301SB   \n",
       "330    39-301-aus-1        NaN              301   \n",
       "\n",
       "                     route_long_name  route_type route_color route_text_color  \\\n",
       "329                              NaN           3      FF8200           FFFFFF   \n",
       "330  Reservoir - La Trobe University           3      FF8200           FFFFFF   \n",
       "\n",
       "                route_idx branch route_name route_range route_id_order  \n",
       "329  [39, 301, A, aus, 1]     39       301A         aus              1  \n",
       "330     [39, 301, aus, 1]     39        301         aus              1  "
      ]
     },
     "execution_count": 47,
     "metadata": {},
     "output_type": "execute_result"
    }
   ],
   "source": [
    "DF['4']['routes'][DF['4']['routes']['route_short_name'].str.contains('301')]"
   ]
  },
  {
   "cell_type": "code",
   "execution_count": 48,
   "metadata": {},
   "outputs": [
    {
     "data": {
      "text/html": [
       "<div>\n",
       "<style scoped>\n",
       "    .dataframe tbody tr th:only-of-type {\n",
       "        vertical-align: middle;\n",
       "    }\n",
       "\n",
       "    .dataframe tbody tr th {\n",
       "        vertical-align: top;\n",
       "    }\n",
       "\n",
       "    .dataframe thead th {\n",
       "        text-align: right;\n",
       "    }\n",
       "</style>\n",
       "<table border=\"1\" class=\"dataframe\">\n",
       "  <thead>\n",
       "    <tr style=\"text-align: right;\">\n",
       "      <th></th>\n",
       "      <th>route_id</th>\n",
       "      <th>service_id</th>\n",
       "      <th>trip_id</th>\n",
       "      <th>shape_id</th>\n",
       "      <th>trip_headsign</th>\n",
       "      <th>direction_id</th>\n",
       "    </tr>\n",
       "  </thead>\n",
       "  <tbody>\n",
       "    <tr>\n",
       "      <th>94812</th>\n",
       "      <td>39-301-A-aus-1</td>\n",
       "      <td>MF3-39-301-A-aus</td>\n",
       "      <td>39-301-A-1-MF3-516</td>\n",
       "      <td>NaN</td>\n",
       "      <td>Reservoir Station</td>\n",
       "      <td>1</td>\n",
       "    </tr>\n",
       "    <tr>\n",
       "      <th>94813</th>\n",
       "      <td>39-301-A-aus-1</td>\n",
       "      <td>MF6-39-301-A-aus</td>\n",
       "      <td>39-301-A-1-MF6-516</td>\n",
       "      <td>NaN</td>\n",
       "      <td>Reservoir Station</td>\n",
       "      <td>1</td>\n",
       "    </tr>\n",
       "    <tr>\n",
       "      <th>94814</th>\n",
       "      <td>39-301-aus-1</td>\n",
       "      <td>MF3-39-301-aus</td>\n",
       "      <td>39-301--1-MF3-443</td>\n",
       "      <td>39-301-aus-1.2.H</td>\n",
       "      <td>Reservoir</td>\n",
       "      <td>0</td>\n",
       "    </tr>\n",
       "    <tr>\n",
       "      <th>94815</th>\n",
       "      <td>39-301-aus-1</td>\n",
       "      <td>MF3-39-301-aus</td>\n",
       "      <td>39-301--1-MF3-444</td>\n",
       "      <td>39-301-aus-1.2.H</td>\n",
       "      <td>Reservoir</td>\n",
       "      <td>0</td>\n",
       "    </tr>\n",
       "    <tr>\n",
       "      <th>94816</th>\n",
       "      <td>39-301-aus-1</td>\n",
       "      <td>MF3-39-301-aus</td>\n",
       "      <td>39-301--1-MF3-445</td>\n",
       "      <td>39-301-aus-1.2.H</td>\n",
       "      <td>Reservoir</td>\n",
       "      <td>0</td>\n",
       "    </tr>\n",
       "    <tr>\n",
       "      <th>...</th>\n",
       "      <td>...</td>\n",
       "      <td>...</td>\n",
       "      <td>...</td>\n",
       "      <td>...</td>\n",
       "      <td>...</td>\n",
       "      <td>...</td>\n",
       "    </tr>\n",
       "    <tr>\n",
       "      <th>95101</th>\n",
       "      <td>39-301-aus-1</td>\n",
       "      <td>MF6-39-301-aus</td>\n",
       "      <td>39-301--1-MF6-585</td>\n",
       "      <td>39-301-aus-1.3.R</td>\n",
       "      <td>La Trobe University</td>\n",
       "      <td>1</td>\n",
       "    </tr>\n",
       "    <tr>\n",
       "      <th>95102</th>\n",
       "      <td>39-301-aus-1</td>\n",
       "      <td>MF6-39-301-aus</td>\n",
       "      <td>39-301--1-MF6-586</td>\n",
       "      <td>39-301-aus-1.3.R</td>\n",
       "      <td>La Trobe University</td>\n",
       "      <td>1</td>\n",
       "    </tr>\n",
       "    <tr>\n",
       "      <th>95103</th>\n",
       "      <td>39-301-aus-1</td>\n",
       "      <td>MF6-39-301-aus</td>\n",
       "      <td>39-301--1-MF6-587</td>\n",
       "      <td>39-301-aus-1.3.R</td>\n",
       "      <td>La Trobe University</td>\n",
       "      <td>1</td>\n",
       "    </tr>\n",
       "    <tr>\n",
       "      <th>95104</th>\n",
       "      <td>39-301-aus-1</td>\n",
       "      <td>MF6-39-301-aus</td>\n",
       "      <td>39-301--1-MF6-588</td>\n",
       "      <td>39-301-aus-1.3.R</td>\n",
       "      <td>La Trobe University</td>\n",
       "      <td>1</td>\n",
       "    </tr>\n",
       "    <tr>\n",
       "      <th>95105</th>\n",
       "      <td>39-301-aus-1</td>\n",
       "      <td>MF6-39-301-aus</td>\n",
       "      <td>39-301--1-MF6-589</td>\n",
       "      <td>39-301-aus-1.3.R</td>\n",
       "      <td>La Trobe University</td>\n",
       "      <td>1</td>\n",
       "    </tr>\n",
       "  </tbody>\n",
       "</table>\n",
       "<p>294 rows × 6 columns</p>\n",
       "</div>"
      ],
      "text/plain": [
       "             route_id        service_id             trip_id          shape_id  \\\n",
       "94812  39-301-A-aus-1  MF3-39-301-A-aus  39-301-A-1-MF3-516               NaN   \n",
       "94813  39-301-A-aus-1  MF6-39-301-A-aus  39-301-A-1-MF6-516               NaN   \n",
       "94814    39-301-aus-1    MF3-39-301-aus   39-301--1-MF3-443  39-301-aus-1.2.H   \n",
       "94815    39-301-aus-1    MF3-39-301-aus   39-301--1-MF3-444  39-301-aus-1.2.H   \n",
       "94816    39-301-aus-1    MF3-39-301-aus   39-301--1-MF3-445  39-301-aus-1.2.H   \n",
       "...               ...               ...                 ...               ...   \n",
       "95101    39-301-aus-1    MF6-39-301-aus   39-301--1-MF6-585  39-301-aus-1.3.R   \n",
       "95102    39-301-aus-1    MF6-39-301-aus   39-301--1-MF6-586  39-301-aus-1.3.R   \n",
       "95103    39-301-aus-1    MF6-39-301-aus   39-301--1-MF6-587  39-301-aus-1.3.R   \n",
       "95104    39-301-aus-1    MF6-39-301-aus   39-301--1-MF6-588  39-301-aus-1.3.R   \n",
       "95105    39-301-aus-1    MF6-39-301-aus   39-301--1-MF6-589  39-301-aus-1.3.R   \n",
       "\n",
       "             trip_headsign  direction_id  \n",
       "94812    Reservoir Station             1  \n",
       "94813    Reservoir Station             1  \n",
       "94814            Reservoir             0  \n",
       "94815            Reservoir             0  \n",
       "94816            Reservoir             0  \n",
       "...                    ...           ...  \n",
       "95101  La Trobe University             1  \n",
       "95102  La Trobe University             1  \n",
       "95103  La Trobe University             1  \n",
       "95104  La Trobe University             1  \n",
       "95105  La Trobe University             1  \n",
       "\n",
       "[294 rows x 6 columns]"
      ]
     },
     "execution_count": 48,
     "metadata": {},
     "output_type": "execute_result"
    }
   ],
   "source": [
    "DF['4']['trips'][DF['4']['trips']['route_id'].str.contains('39-301-')]"
   ]
  },
  {
   "cell_type": "code",
   "execution_count": 50,
   "metadata": {},
   "outputs": [
    {
     "data": {
      "text/html": [
       "<div>\n",
       "<style scoped>\n",
       "    .dataframe tbody tr th:only-of-type {\n",
       "        vertical-align: middle;\n",
       "    }\n",
       "\n",
       "    .dataframe tbody tr th {\n",
       "        vertical-align: top;\n",
       "    }\n",
       "\n",
       "    .dataframe thead th {\n",
       "        text-align: right;\n",
       "    }\n",
       "</style>\n",
       "<table border=\"1\" class=\"dataframe\">\n",
       "  <thead>\n",
       "    <tr style=\"text-align: right;\">\n",
       "      <th></th>\n",
       "      <th>trip_id</th>\n",
       "      <th>arrival_time</th>\n",
       "      <th>departure_time</th>\n",
       "      <th>stop_id</th>\n",
       "      <th>stop_sequence</th>\n",
       "      <th>stop_headsign</th>\n",
       "      <th>pickup_type</th>\n",
       "      <th>drop_off_type</th>\n",
       "      <th>shape_dist_traveled</th>\n",
       "    </tr>\n",
       "  </thead>\n",
       "  <tbody>\n",
       "    <tr>\n",
       "      <th>357415</th>\n",
       "      <td>39-301--1-MF6-588</td>\n",
       "      <td>19:00:00</td>\n",
       "      <td>19:00:00</td>\n",
       "      <td>48036</td>\n",
       "      <td>1</td>\n",
       "      <td>NaN</td>\n",
       "      <td>0</td>\n",
       "      <td>0</td>\n",
       "      <td>0.00</td>\n",
       "    </tr>\n",
       "    <tr>\n",
       "      <th>357416</th>\n",
       "      <td>39-301--1-MF6-588</td>\n",
       "      <td>19:13:00</td>\n",
       "      <td>19:13:00</td>\n",
       "      <td>18864</td>\n",
       "      <td>2</td>\n",
       "      <td>NaN</td>\n",
       "      <td>0</td>\n",
       "      <td>0</td>\n",
       "      <td>4576.73</td>\n",
       "    </tr>\n",
       "  </tbody>\n",
       "</table>\n",
       "</div>"
      ],
      "text/plain": [
       "                  trip_id arrival_time departure_time  stop_id  stop_sequence  \\\n",
       "357415  39-301--1-MF6-588     19:00:00       19:00:00    48036              1   \n",
       "357416  39-301--1-MF6-588     19:13:00       19:13:00    18864              2   \n",
       "\n",
       "        stop_headsign  pickup_type  drop_off_type  shape_dist_traveled  \n",
       "357415            NaN            0              0                 0.00  \n",
       "357416            NaN            0              0              4576.73  "
      ]
     },
     "execution_count": 50,
     "metadata": {},
     "output_type": "execute_result"
    }
   ],
   "source": [
    "DF['4']['stop_times'][DF['4']['stop_times']['trip_id'] == '39-301--1-MF6-588']"
   ]
  },
  {
   "cell_type": "code",
   "execution_count": 52,
   "metadata": {},
   "outputs": [],
   "source": [
    "for bid in BRANCH_IDS:\n",
    "    DF[bid]['stop_times'] = pd.merge(DF[bid]['stop_times'], DF[bid]['stops'], on='stop_id')"
   ]
  },
  {
   "cell_type": "code",
   "execution_count": null,
   "metadata": {},
   "outputs": [],
   "source": [
    "bid = '2'\n",
    "dft = DF[bid]['stop_times'].groupby('trip_id')['stop_id'].apply(lambda x: x.to_numpy()).to_frame(name='stops_sequence').reset_index()\n",
    "dft = pd.merge(DF[bid]['trips'], dft, on='trip_id')\n",
    "dft = pd.merge(DF[bid]['routes'], dft, on='route_id')\n",
    "dft['stops_count'] = dft['stops_sequence'].apply(lambda x: len(x))"
   ]
  },
  {
   "cell_type": "code",
   "execution_count": null,
   "metadata": {},
   "outputs": [],
   "source": [
    "DF['1']['routes']"
   ]
  },
  {
   "cell_type": "code",
   "execution_count": null,
   "metadata": {},
   "outputs": [],
   "source": [
    "for bid in BRANCH_IDS:\n",
    "    dfrt = pd.merge(DF[bid]['routes'], DF[bid]['trips'], on='route_id')\n",
    "    dfrd = dfrt[['route_short_name', 'trip_headsign' ,'direction_id']].drop_duplicates()\n",
    "    print(dfrd.groupby(['route_short_name', 'direction_id']).value_counts().nunique())\n",
    "    \n"
   ]
  },
  {
   "cell_type": "code",
   "execution_count": null,
   "metadata": {},
   "outputs": [],
   "source": [
    "for bid in BRANCH_IDS:\n",
    "    if not (DF[bid]['routes']['route_short_name'].notna().all() or DF[bid]['routes']['route_short_name'].isna().all()):\n",
    "        print(bid)"
   ]
  },
  {
   "cell_type": "code",
   "execution_count": null,
   "metadata": {},
   "outputs": [],
   "source": [
    "dfshapes = pd.concat([DF[bid]['shapes'] for bid in BRANCH_IDS]).groupby('shape_id')[['shape_pt_lon', 'shape_pt_lat']].apply(lambda x: x.to_numpy())"
   ]
  },
  {
   "cell_type": "code",
   "execution_count": null,
   "metadata": {},
   "outputs": [],
   "source": [
    "dfshapes"
   ]
  },
  {
   "cell_type": "code",
   "execution_count": null,
   "metadata": {},
   "outputs": [],
   "source": [
    "bid = '4'\n",
    "k_short_long_names = {}\n",
    "k_route_order = {}\n",
    "k_range = {}\n",
    "k_type = {}\n",
    "k_branches = {}\n",
    "for bid in BRANCH_IDS_ALL:\n",
    "    k_short_long_names[bid] = DF[bid]['routes'].dropna(subset=['route_short_name', 'route_long_name']).groupby('route_long_name')['route_short_name'].nunique().unique()\n",
    "    k_range[bid] = DF[bid]['routes']['route_range'].unique()\n",
    "    k_type[bid] = DF[bid]['routes']['route_type'].apply(lambda x: ROUTE_TYPES[x]).unique()\n",
    "    k_route_order[bid] = DF[bid]['routes']['route_id_order'].unique()\n",
    "    k_branches[bid] = DF[bid]['routes']['branch'].unique()"
   ]
  },
  {
   "cell_type": "code",
   "execution_count": null,
   "metadata": {},
   "outputs": [],
   "source": [
    "k_branches"
   ]
  },
  {
   "cell_type": "code",
   "execution_count": null,
   "metadata": {},
   "outputs": [],
   "source": [
    "DF['8']['routes']['route_short_name'].sort_values().unique()"
   ]
  },
  {
   "cell_type": "code",
   "execution_count": null,
   "metadata": {},
   "outputs": [],
   "source": [
    "DF['4']['routes']['route_short_name'].sort_values().unique()"
   ]
  },
  {
   "cell_type": "code",
   "execution_count": null,
   "metadata": {},
   "outputs": [],
   "source": [
    "DF['2']['routes'].dropna(subset=['route_short_name', 'route_long_name']).groupby('route_short_name')['route_long_name'].unique()"
   ]
  },
  {
   "cell_type": "code",
   "execution_count": null,
   "metadata": {},
   "outputs": [],
   "source": [
    "bid = '10'\n",
    "DF[bid]['routes'][(DF[bid]['routes']['route_short_name'].astype(str) != DF[bid]['routes']['route_name']) & (DF[bid]['routes']['route_short_name'].notna())]\n",
    "DF[bid]['routes']"
   ]
  },
  {
   "cell_type": "code",
   "execution_count": null,
   "metadata": {},
   "outputs": [],
   "source": [
    "DF['4']['routes']['route_id'].transform(lambda x: x.split('-')[2]).unique()"
   ]
  },
  {
   "cell_type": "code",
   "execution_count": null,
   "metadata": {},
   "outputs": [],
   "source": [
    "DF['11']['routes']['route_short_name'].isna().all()"
   ]
  },
  {
   "cell_type": "code",
   "execution_count": null,
   "metadata": {},
   "outputs": [],
   "source": [
    "DF['4']['routes']['route_id'].transform(lambda x: x.split('-')[1]).unique()"
   ]
  },
  {
   "cell_type": "code",
   "execution_count": null,
   "metadata": {},
   "outputs": [],
   "source": [
    "bid = '5'\n",
    "dfrt = pd.merge(DF[bid]['routes'], DF[bid]['trips'], on='route_id')\n",
    "dfrd = dfrt[['route_short_name', 'trip_headsign' ,'direction_id']].drop_duplicates()\n",
    "dfrd"
   ]
  },
  {
   "cell_type": "code",
   "execution_count": null,
   "metadata": {},
   "outputs": [],
   "source": [
    "dfrd.groupby(['route_short_name', 'direction_id']).value_counts()"
   ]
  },
  {
   "cell_type": "code",
   "execution_count": null,
   "metadata": {},
   "outputs": [],
   "source": [
    "dfrd.groupby(['route_short_name', 'direction_id']).value_counts().nunique()"
   ]
  },
  {
   "cell_type": "code",
   "execution_count": null,
   "metadata": {},
   "outputs": [],
   "source": [
    "dft.groupby('route_id')['service_id'].unique()"
   ]
  },
  {
   "cell_type": "code",
   "execution_count": null,
   "metadata": {},
   "outputs": [],
   "source": [
    "bid = '3'"
   ]
  },
  {
   "cell_type": "code",
   "execution_count": null,
   "metadata": {},
   "outputs": [],
   "source": [
    "df_trams = DF['3']['stop_times'].groupby('trip_id')['stop_id'].apply(lambda x: x.to_numpy()).to_frame(name='stops_sequence').reset_index()\n",
    "df_trams = pd.merge(DF['3']['trips'], df_trams, on='trip_id')\n",
    "df_trams = pd.merge(DF['3']['routes'], df_trams, on='route_id')\n",
    "df_trams['stops_count'] = df_trams['stops_sequence'].apply(lambda x: len(x))\n",
    "df_trams = df_trams.sort_values(by=['route_short_name', 'stops_count'], ascending=False).drop_duplicates(subset=['route_short_name', 'trip_headsign', 'direction_id'], keep='first')\n",
    "\n",
    "df_tram_stops = pd.merge(DF['3']['stop_times'], DF['3']['trips'], on='trip_id')\n",
    "df_tram_stops = pd.merge(df_tram_stops, DF['3']['routes'], on='route_id')\n",
    "df_tram_stops  = df_tram_stops.groupby(['route_short_name', 'trip_headsign', 'direction_id'])['stop_id'].apply(lambda x: x.unique()).to_frame(name='stops').reset_index()\n",
    "\n",
    "df_trams = df_trams.merge(df_tram_stops, on=['route_short_name', 'trip_headsign', 'direction_id'])\n",
    "\n",
    "df_trams['stops_count_2'] = df_trams['stops'].apply(lambda x: len(x))\n",
    "df_trams['stops_set_1'] = df_trams['stops_sequence'].apply(lambda x: sorted(x))\n",
    "df_trams['stops_set_2'] = df_trams['stops'].apply(lambda x: sorted(x))\n",
    "\n",
    "df_trams['stops_set_1_size'] = df_trams['stops_set_1'].apply(lambda x: len(set(x)))\n",
    "df_trams['stops_set_2_size'] = df_trams['stops_set_2'].apply(lambda x: len(set(x)))"
   ]
  },
  {
   "cell_type": "code",
   "execution_count": null,
   "metadata": {},
   "outputs": [],
   "source": [
    "df_trams[df_trams['stops_set_1'] != df_trams['stops_set_2']].iloc[2]['stops_sequence']"
   ]
  },
  {
   "cell_type": "code",
   "execution_count": null,
   "metadata": {},
   "outputs": [],
   "source": [
    "df_routes_full = pd.merge(DF['3']['trips'], DF['3']['routes'], on='route_id', how='left')"
   ]
  },
  {
   "cell_type": "code",
   "execution_count": null,
   "metadata": {},
   "outputs": [],
   "source": [
    "df_routes_full = pd.merge(df_routes_full, DF['3']['stop_times'], on='trip_id', how='left')"
   ]
  },
  {
   "cell_type": "code",
   "execution_count": null,
   "metadata": {},
   "outputs": [],
   "source": [
    "df_trams['anomalies'] = df_trams.apply(lambda x: set(x['stops']) - set(x['stops_sequence']), axis=1)"
   ]
  },
  {
   "cell_type": "code",
   "execution_count": null,
   "metadata": {},
   "outputs": [],
   "source": [
    "df_anomalies = df_trams[df_trams['anomalies'].apply(lambda x: len(x) > 0)][['route_short_name', 'trip_headsign', 'direction_id', 'anomalies']]"
   ]
  },
  {
   "cell_type": "code",
   "execution_count": null,
   "metadata": {},
   "outputs": [],
   "source": [
    "df_at = df_anomalies.explode('anomalies').merge(df_routes_full, left_on=['route_short_name', 'trip_headsign', 'direction_id', 'anomalies'], right_on=['route_short_name', 'trip_headsign', 'direction_id', 'stop_id']).sort_values(by=['trip_id', 'stop_sequence'], ascending=True)\n",
    "df_at = df_at.groupby('trip_id')['stop_id'].apply(lambda x: x.to_numpy()).to_frame(name='stops_sequence').reset_index()"
   ]
  },
  {
   "cell_type": "code",
   "execution_count": null,
   "metadata": {},
   "outputs": [],
   "source": [
    "df_at = df_at.groupby('trip_id')['stop_id'].apply(lambda x: x.to_numpy()).to_frame(name='stops_sequence').reset_index()"
   ]
  },
  {
   "cell_type": "code",
   "execution_count": null,
   "metadata": {},
   "outputs": [],
   "source": [
    "df_at = pd.merge(DF['3']['trips'], df_at, on='trip_id')"
   ]
  },
  {
   "cell_type": "code",
   "execution_count": null,
   "metadata": {},
   "outputs": [],
   "source": [
    "df_at['stops_count'] = df_at['stops_sequence'].apply(lambda x: len(x))"
   ]
  },
  {
   "cell_type": "code",
   "execution_count": null,
   "metadata": {},
   "outputs": [],
   "source": [
    "df_at = pd.merge(DF['3']['routes'], df_at, on='route_id')"
   ]
  },
  {
   "cell_type": "code",
   "execution_count": null,
   "metadata": {},
   "outputs": [],
   "source": [
    "df_at = df_at.sort_values(by=['route_short_name', 'stops_count'], ascending=False).drop_duplicates(subset=['route_short_name', 'trip_headsign', 'direction_id'], keep='first').merge(df_anomalies, on=['route_short_name', 'trip_headsign', 'direction_id'], how='left')"
   ]
  },
  {
   "cell_type": "code",
   "execution_count": null,
   "metadata": {},
   "outputs": [],
   "source": [
    "df_at[df_at.apply(lambda x: set(x['anomalies']) - set(x['stops_sequence']), axis=1).apply(lambda x: len(x) > 0)]"
   ]
  },
  {
   "cell_type": "code",
   "execution_count": null,
   "metadata": {},
   "outputs": [],
   "source": [
    "df_at = df_at[['route_short_name', 'trip_headsign', 'direction_id', 'trip_id']]"
   ]
  },
  {
   "cell_type": "code",
   "execution_count": null,
   "metadata": {},
   "outputs": [],
   "source": [
    "df_at = df_at.merge(DF['3']['stop_times'], on='trip_id')"
   ]
  },
  {
   "cell_type": "code",
   "execution_count": null,
   "metadata": {},
   "outputs": [],
   "source": [
    "df_at = df_at.groupby('trip_id')['stop_id'].apply(lambda x: x.to_numpy()).to_frame(name='stops_sequence').reset_index()"
   ]
  },
  {
   "cell_type": "code",
   "execution_count": null,
   "metadata": {},
   "outputs": [],
   "source": [
    "df_at = pd.merge(DF['3']['trips'], df_at, on='trip_id')\n",
    "df_at = pd.merge(DF['3']['routes'], df_at, on='route_id')"
   ]
  },
  {
   "cell_type": "code",
   "execution_count": null,
   "metadata": {},
   "outputs": [],
   "source": [
    "df_at = pd.concat([df_at, df_trams])"
   ]
  },
  {
   "cell_type": "code",
   "execution_count": null,
   "metadata": {},
   "outputs": [],
   "source": [
    "df_at.drop(columns=['anomalies', 'stops_count', 'stops', 'stops_count_2', 'stops_set_1', 'stops_set_2', 'stops_set_1_size', 'stops_set_2_size'], inplace=True)"
   ]
  },
  {
   "cell_type": "code",
   "execution_count": null,
   "metadata": {},
   "outputs": [],
   "source": [
    "df_at['stops_count'] = df_at['stops_sequence'].apply(lambda x: len(x))"
   ]
  },
  {
   "cell_type": "code",
   "execution_count": null,
   "metadata": {},
   "outputs": [],
   "source": [
    "df_at.sort_values(by=['route_short_name', 'trip_headsign', 'direction_id', 'stops_count'], ascending=False, inplace=True)\n",
    "df_at.to_csv('trips.csv', index=False)"
   ]
  },
  {
   "cell_type": "code",
   "execution_count": null,
   "metadata": {},
   "outputs": [],
   "source": [
    "DF['3']['shapes']['point'] = DF['3']['shapes'].apply(lambda x: sg.Point(x['shape_pt_lon'], x['shape_pt_lat']), axis=1)"
   ]
  },
  {
   "cell_type": "code",
   "execution_count": null,
   "metadata": {},
   "outputs": [],
   "source": [
    "df_lines = DF['3']['shapes'].groupby('shape_id')['point'].apply(lambda x: sg.LineString(x.to_numpy())).to_frame(name='line').reset_index()"
   ]
  },
  {
   "cell_type": "code",
   "execution_count": null,
   "metadata": {},
   "outputs": [],
   "source": [
    "DF['3']['stops']['stop_pt'] = DF['3']['stops'].apply(lambda x: sg.Point(x['stop_lon'], x['stop_lat']), axis=1)"
   ]
  },
  {
   "cell_type": "code",
   "execution_count": null,
   "metadata": {},
   "outputs": [],
   "source": [
    "df_geo = pd.merge(DF['3']['stop_times'], DF['3']['trips'][['trip_id', 'shape_id']], on='trip_id')\n",
    "df_geo = pd.merge(df_geo, df_lines, on='shape_id')\n",
    "df_geo = df_geo[['shape_id', 'stop_id']].drop_duplicates()\n",
    "df_geo = pd.merge(df_geo, df_lines, on='shape_id')\n",
    "df_geo = pd.merge(df_geo, DF['3']['stops'][['stop_id', 'stop_pt']], on='stop_id')"
   ]
  },
  {
   "cell_type": "code",
   "execution_count": null,
   "metadata": {},
   "outputs": [],
   "source": [
    "df_geo[df_geo.apply(lambda x: x['line'].contains(x['stop_pt']), axis=1)]"
   ]
  },
  {
   "cell_type": "code",
   "execution_count": null,
   "metadata": {},
   "outputs": [],
   "source": [
    "bid = '4'\n",
    "dfrt = pd.merge(DF[bid]['routes'], DF[bid]['trips'], on='route_id')\n",
    "# assert dfrt.apply(lambda x: str(x['route_short_name']) in x['route_id'], axis=1).all()\n"
   ]
  },
  {
   "cell_type": "code",
   "execution_count": null,
   "metadata": {},
   "outputs": [],
   "source": [
    "assert dfrt.apply(lambda x: str(x['route_id']) in str(x['shape_id']), axis=1).all()\n",
    "assert dfrt.apply(lambda x: x['shape_id'] in x['trip_id'], axis=1).all()\n"
   ]
  },
  {
   "cell_type": "code",
   "execution_count": null,
   "metadata": {},
   "outputs": [],
   "source": [
    "bid = '5'\n",
    "dfrt = pd.merge(DF[bid]['routes'], DF[bid]['trips'], on='route_id')\n",
    "dfrt.dropna(subset=['shape_id'], inplace=True)\n",
    "dfrt['shape_id_x'] = dfrt['shape_id'].apply(lambda x: x.split('.'))\n",
    "shape_id_x = dfrt['shape_id_x'].apply(len).unique()\n",
    "assert len(shape_id_x) == 1\n",
    "shape_id_count = shape_id_x[0]\n",
    "for i in range(shape_id_count):\n",
    "    dfrt[f'shape_id_{i}'] = dfrt['shape_id_x'].apply(lambda x: x[i])\n",
    "dfrt[['shape_id_1', 'shape_id_2']].sort_values(by=['shape_id_1', 'shape_id_2'], ascending=True).value_counts()\n"
   ]
  },
  {
   "cell_type": "code",
   "execution_count": null,
   "metadata": {},
   "outputs": [],
   "source": [
    "bid = '11'\n",
    "dfrt = pd.merge(DF[bid]['routes'], DF[bid]['trips'], on='route_id')\n",
    "dfrt.groupby('route_id')['direction_id'].unique().apply(len).value_counts()"
   ]
  },
  {
   "cell_type": "code",
   "execution_count": null,
   "metadata": {},
   "outputs": [],
   "source": [
    "dfrt[['shape_id_1', 'shape_id_2']].value_counts()"
   ]
  },
  {
   "cell_type": "code",
   "execution_count": null,
   "metadata": {},
   "outputs": [],
   "source": [
    "bid = '11'\n",
    "DF[bid]['routes'][DF[bid]['routes'].apply(lambda x: str(x['route_short_name']) not in x['route_id'], axis=1)]"
   ]
  },
  {
   "cell_type": "code",
   "execution_count": null,
   "metadata": {},
   "outputs": [],
   "source": [
    "dfrt[['direction_id', 'trip_id_4']].value_counts()"
   ]
  },
  {
   "cell_type": "code",
   "execution_count": null,
   "metadata": {},
   "outputs": [],
   "source": [
    "DF['3']['trips']['direction_id'].unique()"
   ]
  },
  {
   "cell_type": "code",
   "execution_count": null,
   "metadata": {},
   "outputs": [],
   "source": [
    "DF['5']['trips']['direction_id']"
   ]
  },
  {
   "cell_type": "code",
   "execution_count": null,
   "metadata": {},
   "outputs": [],
   "source": [
    "assert dfrt.apply(lambda x: x['shape_id'] in x['trip_id'], axis=1).all()"
   ]
  },
  {
   "cell_type": "code",
   "execution_count": null,
   "metadata": {},
   "outputs": [],
   "source": [
    "dfrt['shape_id_1'].unique()"
   ]
  },
  {
   "cell_type": "code",
   "execution_count": null,
   "metadata": {},
   "outputs": [],
   "source": [
    "assert dfrt['shape_id_x'].apply(len).nunique()"
   ]
  },
  {
   "cell_type": "code",
   "execution_count": null,
   "metadata": {},
   "outputs": [],
   "source": [
    "dfrt['trip_id_x'].apply(len).unique()"
   ]
  },
  {
   "cell_type": "code",
   "execution_count": null,
   "metadata": {},
   "outputs": [],
   "source": [
    "dfrt['shape_id_2'] = dfrt['shape_id_1'].apply(lambda x: x[1])\n",
    "dfrt['trip_id_2'] = dfrt['trip_id_1'].apply(lambda x: x[1])\n"
   ]
  },
  {
   "cell_type": "code",
   "execution_count": null,
   "metadata": {},
   "outputs": [],
   "source": [
    "pd.merge(DF['3']['routes'], DF['3']['trips'], on='route_id').groupby(['route_short_name', 'trip_headsign', 'direction_id'])['shape_id'].unique()"
   ]
  }
 ],
 "metadata": {
  "kernelspec": {
   "display_name": "Python 3",
   "language": "python",
   "name": "python3"
  },
  "language_info": {
   "codemirror_mode": {
    "name": "ipython",
    "version": 3
   },
   "file_extension": ".py",
   "mimetype": "text/x-python",
   "name": "python",
   "nbconvert_exporter": "python",
   "pygments_lexer": "ipython3",
   "version": "3.12.0"
  }
 },
 "nbformat": 4,
 "nbformat_minor": 2
}
