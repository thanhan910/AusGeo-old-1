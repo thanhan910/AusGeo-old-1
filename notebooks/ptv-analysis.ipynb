{
 "cells": [
  {
   "cell_type": "code",
   "execution_count": 1,
   "metadata": {},
   "outputs": [],
   "source": [
    "import pandas as pd\n",
    "import os\n",
    "import shapely.geometry as sg\n",
    "import geopandas as gpd\n",
    "import numpy as np\n",
    "data_directory = os.path.join('..', 'data', 'ptv', '20240224')\n",
    "ROUTE_TYPES = {\n",
    "    0 : 'Tram',\n",
    "    1 : 'Metro',\n",
    "    2 : 'Rail',\n",
    "    3 : 'Bus',\n",
    "    4 : 'Ferry',\n",
    "    5 : 'Cable tram',\n",
    "    6 : 'Gondola',\n",
    "    7 : 'Funicular',\n",
    "    11 : 'Trolleybus',\n",
    "    12 : 'Monorail',\n",
    "}\n",
    "ROUTE_TYPES_LONG = {\n",
    "    0 : 'Tram, Streetcar, Light rail. Any light rail or street level system within a metropolitan area.',\n",
    "    1 : 'Subway, Metro. Any underground rail system within a metropolitan area.',\n",
    "    2 : 'Rail. Used for intercity or long-distance travel.',\n",
    "    3 : 'Bus. Used for short- and long-distance bus routes.',\n",
    "    4 : 'Ferry. Used for short- and long-distance boat service.',\n",
    "    5 : 'Cable tram. Used for street-level rail cars where the cable runs beneath the vehicle, e.g., cable car in San Francisco.',\n",
    "    6 : 'Aerial lift, suspended cable car (e.g., gondola lift, aerial tramway). Cable transport where cabins, cars, gondolas or open chairs are suspended by means of one or more cables.',\n",
    "    7 : 'Funicular. Any rail system designed for steep inclines.',\n",
    "    11 : 'Trolleybus. Electric buses that draw power from overhead wires using poles.',\n",
    "    12 : 'Monorail. Railway in which the track consists of a single rail or a beam.',\n",
    "}\n",
    "\n",
    "BRANCH_IDS_ALL = ['1', '2', '3', '4', '5', '6', '7', '8', '10', '11']\n",
    "BRANCH_IDS = ['1', '2', '3', '4', '5', '6', '10', '11']\n",
    "TABLE_NAMES = ['stop_times', 'stops', 'trips', 'routes', 'calendar', 'calendar_dates', 'agency', 'shapes']\n",
    "# GTFS File Fields\n",
    "# agency.txt \n",
    "# agency_id, agency_name, agency_url, agency_timezone, agency_lang\n",
    "# calendar.txt \n",
    "# service_id, monday, tuesday, wednesday, thursday, friday, saturday, sunday, start_date, end_date\n",
    "# calendar_dates.txt \n",
    "# service_id ,date, exception_type\n",
    "# routes.txt \n",
    "# route_id, agency_id, route_short_name, route_long_name,\n",
    "# route_type, route_color,route_text_color\n",
    "# trips.txt \n",
    "# route_id, service_id, trip_id, shape_id, trip_headsign, direction_id\n",
    "# stops.txt \n",
    "# stop_id, stop_name, stop_lat, stop_lon\n",
    "# stop_times.txt \n",
    "# trip_id, arrival_time, departure_time, stop_id, stop_sequence, stop_headsign, pickup_type, drop_off_type, shape_dist_traveled\n",
    "# shapes.txt \n",
    "# shape_id, shape_pt_lat, shape_pt_lon, shape_pt_sequence, shape_dist_traveled \n",
    "def get_df(branch_id, table_name):\n",
    "    files = [os.path.join(data_directory, f) for f in os.listdir(data_directory) if f.split('-')[1] == str(branch_id) and f.split('-')[2] == table_name]\n",
    "    if len(files) == 0:\n",
    "        return None\n",
    "    return pd.concat([pd.read_csv(f, keep_default_na=False, na_values=['']) for f in files])\n",
    "\n",
    "DF = {branch_id: {table_name: get_df(branch_id, table_name) for table_name in TABLE_NAMES} for branch_id in BRANCH_IDS_ALL}\n",
    "# 15s - 30s\n",
    "\n",
    "# Assert all shape_id contains route_id\n",
    "for bid in BRANCH_IDS:\n",
    "    assert DF[bid]['trips'].dropna(subset=['route_id', 'shape_id']).apply(lambda x: x['route_id'] in x['shape_id'], axis=1).all()\n",
    "\n",
    "for bid in BRANCH_IDS:\n",
    "    DF[bid]['stop_times'] = pd.merge(DF[bid]['stop_times'], DF[bid]['stops'], on='stop_id')\n",
    "\n",
    "# 1m 30s"
   ]
  },
  {
   "cell_type": "code",
   "execution_count": 2,
   "metadata": {},
   "outputs": [],
   "source": [
    "for bid in BRANCH_IDS_ALL:\n",
    "    DF[bid]['routes']['route_idx'] = DF[bid]['routes']['route_id'].str.split('-')\n",
    "    DF[bid]['routes']['branch'] = DF[bid]['routes']['route_idx'].apply(lambda x: x[0])\n",
    "    DF[bid]['routes']['route_name'] = DF[bid]['routes']['route_idx'].apply(lambda x: ''.join(x[1:-2]))\n",
    "    DF[bid]['routes']['route_range'] = DF[bid]['routes']['route_idx'].apply(lambda x: x[-2])\n",
    "    DF[bid]['routes']['route_id_order'] = DF[bid]['routes']['route_idx'].apply(lambda x: x[-1])"
   ]
  },
  {
   "cell_type": "code",
   "execution_count": 3,
   "metadata": {},
   "outputs": [
    {
     "data": {
      "text/html": [
       "<div>\n",
       "<style scoped>\n",
       "    .dataframe tbody tr th:only-of-type {\n",
       "        vertical-align: middle;\n",
       "    }\n",
       "\n",
       "    .dataframe tbody tr th {\n",
       "        vertical-align: top;\n",
       "    }\n",
       "\n",
       "    .dataframe thead th {\n",
       "        text-align: right;\n",
       "    }\n",
       "</style>\n",
       "<table border=\"1\" class=\"dataframe\">\n",
       "  <thead>\n",
       "    <tr style=\"text-align: right;\">\n",
       "      <th></th>\n",
       "      <th>route_id</th>\n",
       "      <th>agency_id</th>\n",
       "      <th>route_short_name</th>\n",
       "      <th>route_long_name</th>\n",
       "      <th>route_type</th>\n",
       "      <th>route_color</th>\n",
       "      <th>route_text_color</th>\n",
       "      <th>route_idx</th>\n",
       "      <th>branch</th>\n",
       "      <th>route_name</th>\n",
       "      <th>route_range</th>\n",
       "      <th>route_id_order</th>\n",
       "    </tr>\n",
       "  </thead>\n",
       "  <tbody>\n",
       "    <tr>\n",
       "      <th>329</th>\n",
       "      <td>39-301-A-aus-1</td>\n",
       "      <td>NaN</td>\n",
       "      <td>301SB</td>\n",
       "      <td>NaN</td>\n",
       "      <td>3</td>\n",
       "      <td>FF8200</td>\n",
       "      <td>FFFFFF</td>\n",
       "      <td>[39, 301, A, aus, 1]</td>\n",
       "      <td>39</td>\n",
       "      <td>301A</td>\n",
       "      <td>aus</td>\n",
       "      <td>1</td>\n",
       "    </tr>\n",
       "  </tbody>\n",
       "</table>\n",
       "</div>"
      ],
      "text/plain": [
       "           route_id  agency_id route_short_name route_long_name  route_type  \\\n",
       "329  39-301-A-aus-1        NaN            301SB             NaN           3   \n",
       "\n",
       "    route_color route_text_color             route_idx branch route_name  \\\n",
       "329      FF8200           FFFFFF  [39, 301, A, aus, 1]     39       301A   \n",
       "\n",
       "    route_range route_id_order  \n",
       "329         aus              1  "
      ]
     },
     "execution_count": 3,
     "metadata": {},
     "output_type": "execute_result"
    }
   ],
   "source": [
    "DF['4']['routes'][DF['4']['routes']['route_name'] != DF['4']['routes']['route_short_name']]"
   ]
  },
  {
   "cell_type": "code",
   "execution_count": 6,
   "metadata": {},
   "outputs": [
    {
     "data": {
      "text/plain": [
       "array(['1'], dtype=object)"
      ]
     },
     "execution_count": 6,
     "metadata": {},
     "output_type": "execute_result"
    }
   ],
   "source": [
    "DF['4']['routes']['route_id_order'].unique()"
   ]
  },
  {
   "cell_type": "code",
   "execution_count": 8,
   "metadata": {},
   "outputs": [
    {
     "data": {
      "text/plain": [
       "route_name\n",
       "200        [14, 17, 33]\n",
       "207        [14, 17, 33]\n",
       "234            [17, 35]\n",
       "235            [17, 35]\n",
       "236            [17, 35]\n",
       "             ...       \n",
       "903    [14, 17, 18, 35]\n",
       "905            [14, 17]\n",
       "906            [14, 17]\n",
       "907            [14, 17]\n",
       "908            [14, 17]\n",
       "Name: branch, Length: 94, dtype: object"
      ]
     },
     "execution_count": 8,
     "metadata": {},
     "output_type": "execute_result"
    }
   ],
   "source": [
    "dftemp = DF['4']['routes'].groupby('route_name')['branch'].unique()\n",
    "dftemp[dftemp.apply(lambda x: len(x) > 1)]"
   ]
  },
  {
   "cell_type": "code",
   "execution_count": 13,
   "metadata": {},
   "outputs": [],
   "source": [
    "dftemp2 = DF['4']['routes'].groupby('route_short_name')['route_short_name'].value_counts()"
   ]
  },
  {
   "cell_type": "code",
   "execution_count": 26,
   "metadata": {},
   "outputs": [
    {
     "data": {
      "text/plain": [
       "True"
      ]
     },
     "execution_count": 26,
     "metadata": {},
     "output_type": "execute_result"
    }
   ],
   "source": [
    "dftemp3 = DF['4']['routes'].groupby('route_short_name').aggregate({'branch': 'nunique', 'route_id': 'nunique'})\n",
    "assert (dftemp3['branch'] == dftemp3['route_id']).all()"
   ]
  },
  {
   "cell_type": "code",
   "execution_count": 46,
   "metadata": {},
   "outputs": [],
   "source": [
    "df_idlist = pd.DataFrame()\n",
    "df_idlist['route_idx'] = DF['4']['trips']['route_id'].str.split('-')\n",
    "df_idlist['service_idx'] = DF['4']['trips']['service_id'].str.split('-')\n",
    "df_idlist['trip_idx'] = DF['4']['trips']['trip_id'].str.split('-')"
   ]
  },
  {
   "cell_type": "code",
   "execution_count": 44,
   "metadata": {},
   "outputs": [],
   "source": [
    "assert df_idlist['trip_idx'].apply(len).unique() == [6]"
   ]
  },
  {
   "cell_type": "code",
   "execution_count": 57,
   "metadata": {},
   "outputs": [],
   "source": [
    "df_idlist['route_branch'] = df_idlist['route_idx'].apply(lambda x: x[0])\n",
    "df_idlist['route_range'] = df_idlist['route_idx'].apply(lambda x: x[-2])\n",
    "df_idlist['route_order'] = df_idlist['route_idx'].apply(lambda x: x[-1])\n",
    "df_idlist['route_name'] = df_idlist['route_idx'].apply(lambda x: ''.join(x[1:-2]))\n",
    "df_idlist['service_sname'] = df_idlist['service_idx'].apply(lambda x: x[0])\n",
    "df_idlist['service_branch'] = df_idlist['service_idx'].apply(lambda x: x[1])\n",
    "df_idlist['service_range'] = df_idlist['service_idx'].apply(lambda x: x[-1])\n",
    "df_idlist['service_name'] = df_idlist['service_idx'].apply(lambda x: ''.join(x[2:-1]))\n",
    "df_idlist['trip_sname'] = df_idlist['trip_idx'].apply(lambda x: x[4])\n",
    "df_idlist['trip_branch'] = df_idlist['trip_idx'].apply(lambda x: x[0])\n",
    "df_idlist['trip_name'] = df_idlist['trip_idx'].apply(lambda x: ''.join(x[1:3]))\n",
    "df_idlist['trip_order'] = df_idlist['trip_idx'].apply(lambda x: x[3])"
   ]
  },
  {
   "cell_type": "code",
   "execution_count": 58,
   "metadata": {},
   "outputs": [],
   "source": [
    "assert (df_idlist['route_branch'] == df_idlist['service_branch']).all()\n",
    "assert (df_idlist['route_branch'] == df_idlist['trip_branch']).all()\n",
    "assert (df_idlist['trip_branch'] == df_idlist['service_branch']).all()\n",
    "assert (df_idlist['route_range'] == df_idlist['service_range']).all()\n",
    "assert (df_idlist['route_order'] == df_idlist['trip_order']).all()\n",
    "assert (df_idlist['service_sname'] == df_idlist['trip_sname']).all()\n",
    "assert (df_idlist['route_name'] == df_idlist['trip_name']).all()\n",
    "assert (df_idlist['service_name'] == df_idlist['trip_name']).all()\n",
    "assert (df_idlist['route_name'] == df_idlist['service_name']).all()\n"
   ]
  },
  {
   "cell_type": "code",
   "execution_count": 138,
   "metadata": {},
   "outputs": [],
   "source": [
    "DF['4']['calendar']['service_idx'] = DF['4']['calendar']['service_id'].str.split('-')\n",
    "DF['4']['calendar']['service_name'] = DF['4']['calendar']['service_idx'].apply(lambda x: x[0])\n",
    "DF['4']['calendar']['branch'] = DF['4']['calendar']['service_idx'].apply(lambda x: x[1])\n",
    "DF['4']['calendar']['pattern'] = DF['4']['calendar'][['monday', 'tuesday', 'wednesday', 'thursday', 'friday', 'saturday', 'sunday']].apply(lambda x: ''.join(x.astype(str)), axis=1)\n",
    "DF['4']['calendar']['startend'] = DF['4']['calendar']['start_date'].astype(str) + '-' + DF['4']['calendar']['end_date'].astype(str)\n",
    "DF['4']['calendar']['patternfull'] = DF['4']['calendar']['pattern'] + '-' + DF['4']['calendar']['startend']\n",
    "# Remove digits from service_name\n",
    "DF['4']['calendar']['service_str'] = DF['4']['calendar']['service_name'].apply(lambda input_string: ''.join([char for char in input_string if char.isalpha()]))\n",
    "# Get only digits from service_name\n",
    "DF['4']['calendar']['service_int'] = DF['4']['calendar']['service_name'].apply(lambda input_string: ''.join([char for char in input_string if char.isdigit()]))\n",
    "DF['4']['calendar']['route_name'] = DF['4']['calendar']['service_idx'].apply(lambda x: ''.join(x[2:-1]))\n",
    "DF['4']['calendar']['stb'] = DF['4']['calendar']['service_str'] + '-' + DF['4']['calendar']['branch']\n",
    "DF['4']['calendar']['snb'] = DF['4']['calendar']['service_name'] + '-' + DF['4']['calendar']['branch']"
   ]
  },
  {
   "cell_type": "code",
   "execution_count": 187,
   "metadata": {},
   "outputs": [],
   "source": [
    "df4_calendar = DF['4']['calendar'].melt(id_vars=['service_id', 'service_name', 'service_str', 'service_int', 'branch', 'pattern', 'startend', 'patternfull', 'service_idx', 'route_name', 'stb', 'snb'], value_vars=['monday', 'tuesday', 'wednesday', 'thursday', 'friday', 'saturday', 'sunday'], var_name='day', value_name='active')\n",
    "# Drop all inactive services\n",
    "df4_calendar = df4_calendar[df4_calendar['active'] == 1]"
   ]
  },
  {
   "cell_type": "code",
   "execution_count": 200,
   "metadata": {},
   "outputs": [
    {
     "data": {
      "text/plain": [
       "array(['0000100', '1101000', '0001000', '1000000', '0010000', '1111000',\n",
       "       '0010100', '1111100', '0100000', '1110000', '0001100', '1101100',\n",
       "       '1011000', '1010000', '1000010', '0000010', '0000001', '0000101'],\n",
       "      dtype=object)"
      ]
     },
     "execution_count": 200,
     "metadata": {},
     "output_type": "execute_result"
    }
   ],
   "source": [
    "DF['4']['calendar']['pattern'].unique()"
   ]
  },
  {
   "cell_type": "code",
   "execution_count": 207,
   "metadata": {},
   "outputs": [],
   "source": [
    "DF['4']['calendar_dates']['pattern'] = DF['4']['calendar_dates']['date'].astype(str) + '.' + DF['4']['calendar_dates']['exception_type'].astype(str)\n",
    "df4_calendar_dates = DF['4']['calendar_dates'].groupby('service_id')['pattern'].apply(lambda x: '-'.join(x)).reset_index()"
   ]
  },
  {
   "cell_type": "code",
   "execution_count": 208,
   "metadata": {},
   "outputs": [
    {
     "data": {
      "text/html": [
       "<div>\n",
       "<style scoped>\n",
       "    .dataframe tbody tr th:only-of-type {\n",
       "        vertical-align: middle;\n",
       "    }\n",
       "\n",
       "    .dataframe tbody tr th {\n",
       "        vertical-align: top;\n",
       "    }\n",
       "\n",
       "    .dataframe thead th {\n",
       "        text-align: right;\n",
       "    }\n",
       "</style>\n",
       "<table border=\"1\" class=\"dataframe\">\n",
       "  <thead>\n",
       "    <tr style=\"text-align: right;\">\n",
       "      <th></th>\n",
       "      <th>service_id</th>\n",
       "      <th>pattern</th>\n",
       "    </tr>\n",
       "  </thead>\n",
       "  <tbody>\n",
       "    <tr>\n",
       "      <th>0</th>\n",
       "      <td>MF1-12-831-aus</td>\n",
       "      <td>20240403.2-20240410.2-20240417.2-20240424.2-20...</td>\n",
       "    </tr>\n",
       "    <tr>\n",
       "      <th>1</th>\n",
       "      <td>MF1-12-834-aus</td>\n",
       "      <td>20240403.2-20240410.2-20240417.2-20240424.2-20...</td>\n",
       "    </tr>\n",
       "    <tr>\n",
       "      <th>2</th>\n",
       "      <td>MF1-12-835-aus</td>\n",
       "      <td>20240403.2-20240410.2-20240417.2-20240424.2-20...</td>\n",
       "    </tr>\n",
       "    <tr>\n",
       "      <th>3</th>\n",
       "      <td>MF1-12-836-aus</td>\n",
       "      <td>20240403.2-20240410.2-20240417.2-20240424.2-20...</td>\n",
       "    </tr>\n",
       "    <tr>\n",
       "      <th>4</th>\n",
       "      <td>MF1-12-837-aus</td>\n",
       "      <td>20240403.2-20240410.2-20240417.2-20240424.2-20...</td>\n",
       "    </tr>\n",
       "    <tr>\n",
       "      <th>...</th>\n",
       "      <td>...</td>\n",
       "      <td>...</td>\n",
       "    </tr>\n",
       "    <tr>\n",
       "      <th>3075</th>\n",
       "      <td>Sun9-32-603-aus</td>\n",
       "      <td>20240310.2-20240317.2-20240324.2-20240331.2-20...</td>\n",
       "    </tr>\n",
       "    <tr>\n",
       "      <th>3076</th>\n",
       "      <td>Sun9-32-604-aus</td>\n",
       "      <td>20240310.2-20240317.2-20240324.2-20240331.2-20...</td>\n",
       "    </tr>\n",
       "    <tr>\n",
       "      <th>3077</th>\n",
       "      <td>Sun9-32-922-aus</td>\n",
       "      <td>20240310.2-20240317.2-20240324.2-20240331.2-20...</td>\n",
       "    </tr>\n",
       "    <tr>\n",
       "      <th>3078</th>\n",
       "      <td>Sun9-32-923-aus</td>\n",
       "      <td>20240310.2-20240317.2-20240324.2-20240331.2-20...</td>\n",
       "    </tr>\n",
       "    <tr>\n",
       "      <th>3079</th>\n",
       "      <td>Sun9-33-902-aus</td>\n",
       "      <td>20240310.2-20240317.2-20240324.2-20240331.2-20...</td>\n",
       "    </tr>\n",
       "  </tbody>\n",
       "</table>\n",
       "<p>3080 rows × 2 columns</p>\n",
       "</div>"
      ],
      "text/plain": [
       "           service_id                                            pattern\n",
       "0      MF1-12-831-aus  20240403.2-20240410.2-20240417.2-20240424.2-20...\n",
       "1      MF1-12-834-aus  20240403.2-20240410.2-20240417.2-20240424.2-20...\n",
       "2      MF1-12-835-aus  20240403.2-20240410.2-20240417.2-20240424.2-20...\n",
       "3      MF1-12-836-aus  20240403.2-20240410.2-20240417.2-20240424.2-20...\n",
       "4      MF1-12-837-aus  20240403.2-20240410.2-20240417.2-20240424.2-20...\n",
       "...               ...                                                ...\n",
       "3075  Sun9-32-603-aus  20240310.2-20240317.2-20240324.2-20240331.2-20...\n",
       "3076  Sun9-32-604-aus  20240310.2-20240317.2-20240324.2-20240331.2-20...\n",
       "3077  Sun9-32-922-aus  20240310.2-20240317.2-20240324.2-20240331.2-20...\n",
       "3078  Sun9-32-923-aus  20240310.2-20240317.2-20240324.2-20240331.2-20...\n",
       "3079  Sun9-33-902-aus  20240310.2-20240317.2-20240324.2-20240331.2-20...\n",
       "\n",
       "[3080 rows x 2 columns]"
      ]
     },
     "execution_count": 208,
     "metadata": {},
     "output_type": "execute_result"
    }
   ],
   "source": [
    "df4_calendar_dates"
   ]
  },
  {
   "cell_type": "code",
   "execution_count": 214,
   "metadata": {},
   "outputs": [
    {
     "data": {
      "text/plain": [
       "{'12': array(['831', '834', '835', '836', '837', '838', '839', '840', '841',\n",
       "        '842', '846', '847', '888', '889', '899', '925', '926', '927',\n",
       "        '928', '929'], dtype=object),\n",
       " '13': array(['462', '463', '460', '469', '476'], dtype=object),\n",
       " '14': array(['200', '207', '270', '271', '273', '279', '280', '281', '282',\n",
       "        '284', '285', '293', '295', '302', '303', '304', '305', '309',\n",
       "        '318', '364', '370', '380', '903', '905', '906', '907', '908',\n",
       "        '901'], dtype=object),\n",
       " '15': array(['503', '506'], dtype=object),\n",
       " '16': array(['501', '511', '528', '529', '530', '531', '532', '533', '537',\n",
       "        '544'], dtype=object),\n",
       " '17': array(['200', '202', '207', '234', '235', '236', '237', '246', '250',\n",
       "        '251', '270', '279', '284', '285', '293', '302', '304', '305',\n",
       "        '309', '350', '510', '512', '903', '905', '906', '907', '908'],\n",
       "       dtype=object),\n",
       " '18': array(['901', '902', '903'], dtype=object),\n",
       " '19': array(['663', '664', '670', '671', '672', '675', '677', '679', '680',\n",
       "        '682', '688', '689', '690', '691', '693', '694', '696', '697',\n",
       "        '699', '732', '734', '735', '736', '737', '742', '745', '753',\n",
       "        '754', '755', '765', '738', '695', '695F'], dtype=object),\n",
       " '20': array(['701', '703', '704', '706', '733', '766', '767', '900'],\n",
       "       dtype=object),\n",
       " '21': array(['670', '693', '201', '663', '664', '671', '672', '675', '677',\n",
       "        '679', '680', '681', '682', '688', '689', '690', '691', '694',\n",
       "        '695', '697', '699', '732', '734', '735', '736', '737', '738',\n",
       "        '740', '742', '745', '753', '754', '755', '757', '758', '765',\n",
       "        '695F', '967'], dtype=object),\n",
       " '22': array(['663', '664', '670', '689', '742', '671', '688', '690', '693',\n",
       "        '694', '696', '737', '695', '697', '699', '695F'], dtype=object),\n",
       " '23': array(['526', '527', '548', '549', '550', '551', '951', '953', '959'],\n",
       "       dtype=object),\n",
       " '24': array(['481', '483', '485', '486', '487', '488', '489'], dtype=object),\n",
       " '25': array(['465', '467', '468'], dtype=object),\n",
       " '26': array(['627', '631', '705', '708', '709', '800', '802', '804', '811',\n",
       "        '812', '813', '814', '816', '822', '823', '824', '825', '828',\n",
       "        '843', '844', '845', '848', '850', '857', '858', '861', '862',\n",
       "        '863', '885'], dtype=object),\n",
       " '27': array(['786', '787', '788', '887'], dtype=object),\n",
       " '28': array(['760', '770', '771', '772', '773', '774', '775', '776', '777',\n",
       "        '778', '779', '780', '781', '782', '783', '784', '785', '832',\n",
       "        '833'], dtype=object),\n",
       " '29': array(['663', '664', '670', '671', '672', '675', '677', '679', '680',\n",
       "        '688', '690', '691', '693', '694', '697', '699', '732', '735',\n",
       "        '736', '737', '742', '755', '765', '695', '695F', '681', '682',\n",
       "        '738', '753', '754'], dtype=object),\n",
       " '32': array(['600', '603', '604', '922', '923'], dtype=object),\n",
       " '33': array(['200', '207', '250', '251', '350', '901', '902'], dtype=object),\n",
       " '35': array(['215', '216', '220', '223', '232', '234', '235', '236', '237',\n",
       "        '426', '429', '903'], dtype=object),\n",
       " '38': array(['407', '408', '409', '410', '418', '419', '421', '423', '424',\n",
       "        '425', '461', '406', '420'], dtype=object),\n",
       " '39': array(['301A', '301', '508', '513', '514', '517', '546', '552', '553',\n",
       "        '555', '556', '558', '561', '567', '609'], dtype=object),\n",
       " '40': array(['683'], dtype=object),\n",
       " '41': array(['627', '631', '705', '708', '709', '800', '802', '804', '811',\n",
       "        '812', '813', '814', '816', '822', '823', '824', '825', '828',\n",
       "        '843', '844', '845', '848', '850', '857', '858', '861', '862',\n",
       "        '863', '885', '900', '978', '979', '981', '982'], dtype=object),\n",
       " '42': array(['356', '357', '358', '381', '382', '383', '384', '385', '386',\n",
       "        '387', '388', '389', '390', '504', '505', '509', '517', '518',\n",
       "        '525', '534', '536', '538', '540', '541', '542', '554', '557',\n",
       "        '559', '564', '566', '569', '570', '577'], dtype=object),\n",
       " '43': array(['477', '478', '479', '482', '484', '490', '543'], dtype=object),\n",
       " '44': array(['684', '685', '965'], dtype=object),\n",
       " '48': array(['343', '578', '579', '580', '582'], dtype=object),\n",
       " '49': array(['601', '606', '626', '900', '605', '612', '624', '630', '623',\n",
       "        '625'], dtype=object),\n",
       " '51': array(['789', '790', '791', '792', '795', '796', '798', '799', '881',\n",
       "        '890', '891', '892', '893', '894', '895', '897', '898'],\n",
       "       dtype=object),\n",
       " '53': array(['400', '401', '402', '403', '404', '422', '431', '432', '444',\n",
       "        '453', '454', '455', '456', '457', '458', '459', '472', '427',\n",
       "        '428', '471', '420', '410', '941', '943', '947', '949'],\n",
       "       dtype=object),\n",
       " '82': array(['400', '414', '161', '415', '417', '439', '496', '497', '150',\n",
       "        '151', '152', '153', '160', '166', '167', '170', '180', '181',\n",
       "        '182', '190', '191', '192', '411', '412', '441', '443', '494',\n",
       "        '495', '498'], dtype=object)}"
      ]
     },
     "execution_count": 214,
     "metadata": {},
     "output_type": "execute_result"
    }
   ],
   "source": [
    "df4_calendar.groupby('branch')['route_name'].unique().to_dict()"
   ]
  },
  {
   "cell_type": "code",
   "execution_count": 180,
   "metadata": {},
   "outputs": [],
   "source": [
    "df4_routenames = DF['4']['calendar'].groupby('route_name')['branch'].apply(lambda x: sorted(x.unique())).reset_index()\n",
    "df4_routenames['branch_count'] = df4_routenames['branch'].apply(lambda x: len(x))\n",
    "df4_routenames['branch_pattern'] = df4_routenames['branch'].apply(lambda x: ''.join(x))"
   ]
  },
  {
   "cell_type": "code",
   "execution_count": 215,
   "metadata": {},
   "outputs": [],
   "source": [
    "DF['4']['calendar'].to_csv('manual.csv', index=False)"
   ]
  },
  {
   "cell_type": "code",
   "execution_count": 186,
   "metadata": {},
   "outputs": [
    {
     "data": {
      "text/plain": [
       "array(['19212229', '14171835', '192122', '192129', '141833', '204149',\n",
       "       '141733', '2641', '3853', '1922', '5382', '3942', '1921', '1417',\n",
       "       '1833', '1733', '1735', '2129', '28', '20', '49', '32', '21', '39',\n",
       "       '44', '40', '82', '51', '12', '27', '23', '41', '53', '38', '42',\n",
       "       '35', '17', '14', '48', '16', '43', '13', '24', '25', '15'],\n",
       "      dtype=object)"
      ]
     },
     "execution_count": 186,
     "metadata": {},
     "output_type": "execute_result"
    }
   ],
   "source": [
    "df4_routenames.sort_values('branch_count', ascending=False)['branch_pattern'].unique()"
   ]
  },
  {
   "cell_type": "code",
   "execution_count": 222,
   "metadata": {},
   "outputs": [],
   "source": [
    "assert DF['4']['calendar'].groupby('branch')['startend'].nunique().unique() == [1]"
   ]
  },
  {
   "cell_type": "code",
   "execution_count": 235,
   "metadata": {},
   "outputs": [],
   "source": [
    "df4rsl = DF['4']['routes'].groupby(['route_short_name'])['route_long_name'].unique()"
   ]
  },
  {
   "cell_type": "code",
   "execution_count": 239,
   "metadata": {},
   "outputs": [],
   "source": [
    "df4rsl = df4rsl.reset_index()"
   ]
  },
  {
   "cell_type": "code",
   "execution_count": 240,
   "metadata": {},
   "outputs": [],
   "source": [
    "df4rsl['name_count'] = df4rsl['route_long_name'].apply(lambda x: len(x))"
   ]
  },
  {
   "cell_type": "code",
   "execution_count": 247,
   "metadata": {},
   "outputs": [
    {
     "data": {
      "text/html": [
       "<div>\n",
       "<style scoped>\n",
       "    .dataframe tbody tr th:only-of-type {\n",
       "        vertical-align: middle;\n",
       "    }\n",
       "\n",
       "    .dataframe tbody tr th {\n",
       "        vertical-align: top;\n",
       "    }\n",
       "\n",
       "    .dataframe thead th {\n",
       "        text-align: right;\n",
       "    }\n",
       "</style>\n",
       "<table border=\"1\" class=\"dataframe\">\n",
       "  <thead>\n",
       "    <tr style=\"text-align: right;\">\n",
       "      <th></th>\n",
       "      <th>service_id</th>\n",
       "      <th>monday</th>\n",
       "      <th>tuesday</th>\n",
       "      <th>wednesday</th>\n",
       "      <th>thursday</th>\n",
       "      <th>friday</th>\n",
       "      <th>saturday</th>\n",
       "      <th>sunday</th>\n",
       "      <th>start_date</th>\n",
       "      <th>end_date</th>\n",
       "      <th>...</th>\n",
       "      <th>service_name</th>\n",
       "      <th>pattern</th>\n",
       "      <th>branch</th>\n",
       "      <th>service_str</th>\n",
       "      <th>service_int</th>\n",
       "      <th>route_name</th>\n",
       "      <th>stb</th>\n",
       "      <th>snb</th>\n",
       "      <th>startend</th>\n",
       "      <th>patternfull</th>\n",
       "    </tr>\n",
       "  </thead>\n",
       "  <tbody>\n",
       "    <tr>\n",
       "      <th>266</th>\n",
       "      <td>MF1-26-800-aus</td>\n",
       "      <td>1</td>\n",
       "      <td>1</td>\n",
       "      <td>1</td>\n",
       "      <td>1</td>\n",
       "      <td>1</td>\n",
       "      <td>0</td>\n",
       "      <td>0</td>\n",
       "      <td>20240223</td>\n",
       "      <td>20240526</td>\n",
       "      <td>...</td>\n",
       "      <td>MF1</td>\n",
       "      <td>1111100</td>\n",
       "      <td>26</td>\n",
       "      <td>MF</td>\n",
       "      <td>1</td>\n",
       "      <td>800</td>\n",
       "      <td>MF-26</td>\n",
       "      <td>MF1-26</td>\n",
       "      <td>20240223-20240526</td>\n",
       "      <td>1111100-20240223-20240526</td>\n",
       "    </tr>\n",
       "    <tr>\n",
       "      <th>371</th>\n",
       "      <td>MF1-41-800-aus</td>\n",
       "      <td>1</td>\n",
       "      <td>1</td>\n",
       "      <td>1</td>\n",
       "      <td>1</td>\n",
       "      <td>1</td>\n",
       "      <td>0</td>\n",
       "      <td>0</td>\n",
       "      <td>20240223</td>\n",
       "      <td>20240526</td>\n",
       "      <td>...</td>\n",
       "      <td>MF1</td>\n",
       "      <td>1111100</td>\n",
       "      <td>41</td>\n",
       "      <td>MF</td>\n",
       "      <td>1</td>\n",
       "      <td>800</td>\n",
       "      <td>MF-41</td>\n",
       "      <td>MF1-41</td>\n",
       "      <td>20240223-20240526</td>\n",
       "      <td>1111100-20240223-20240526</td>\n",
       "    </tr>\n",
       "    <tr>\n",
       "      <th>1780</th>\n",
       "      <td>Sat1-41-800-aus</td>\n",
       "      <td>0</td>\n",
       "      <td>0</td>\n",
       "      <td>0</td>\n",
       "      <td>0</td>\n",
       "      <td>0</td>\n",
       "      <td>1</td>\n",
       "      <td>0</td>\n",
       "      <td>20240223</td>\n",
       "      <td>20240526</td>\n",
       "      <td>...</td>\n",
       "      <td>Sat1</td>\n",
       "      <td>0000010</td>\n",
       "      <td>41</td>\n",
       "      <td>Sat</td>\n",
       "      <td>1</td>\n",
       "      <td>800</td>\n",
       "      <td>Sat-41</td>\n",
       "      <td>Sat1-41</td>\n",
       "      <td>20240223-20240526</td>\n",
       "      <td>0000010-20240223-20240526</td>\n",
       "    </tr>\n",
       "  </tbody>\n",
       "</table>\n",
       "<p>3 rows × 21 columns</p>\n",
       "</div>"
      ],
      "text/plain": [
       "           service_id  monday  tuesday  wednesday  thursday  friday  saturday  \\\n",
       "266    MF1-26-800-aus       1        1          1         1       1         0   \n",
       "371    MF1-41-800-aus       1        1          1         1       1         0   \n",
       "1780  Sat1-41-800-aus       0        0          0         0       0         1   \n",
       "\n",
       "      sunday  start_date  end_date  ... service_name  pattern branch  \\\n",
       "266        0    20240223  20240526  ...          MF1  1111100     26   \n",
       "371        0    20240223  20240526  ...          MF1  1111100     41   \n",
       "1780       0    20240223  20240526  ...         Sat1  0000010     41   \n",
       "\n",
       "     service_str service_int route_name     stb      snb           startend  \\\n",
       "266           MF           1        800   MF-26   MF1-26  20240223-20240526   \n",
       "371           MF           1        800   MF-41   MF1-41  20240223-20240526   \n",
       "1780         Sat           1        800  Sat-41  Sat1-41  20240223-20240526   \n",
       "\n",
       "                    patternfull  \n",
       "266   1111100-20240223-20240526  \n",
       "371   1111100-20240223-20240526  \n",
       "1780  0000010-20240223-20240526  \n",
       "\n",
       "[3 rows x 21 columns]"
      ]
     },
     "execution_count": 247,
     "metadata": {},
     "output_type": "execute_result"
    }
   ],
   "source": [
    "DF['4']['calendar'][DF['4']['calendar']['route_name'] == '800']"
   ]
  },
  {
   "cell_type": "code",
   "execution_count": 245,
   "metadata": {},
   "outputs": [
    {
     "data": {
      "text/html": [
       "<div>\n",
       "<style scoped>\n",
       "    .dataframe tbody tr th:only-of-type {\n",
       "        vertical-align: middle;\n",
       "    }\n",
       "\n",
       "    .dataframe tbody tr th {\n",
       "        vertical-align: top;\n",
       "    }\n",
       "\n",
       "    .dataframe thead th {\n",
       "        text-align: right;\n",
       "    }\n",
       "</style>\n",
       "<table border=\"1\" class=\"dataframe\">\n",
       "  <thead>\n",
       "    <tr style=\"text-align: right;\">\n",
       "      <th></th>\n",
       "      <th>route_id</th>\n",
       "      <th>agency_id</th>\n",
       "      <th>route_short_name</th>\n",
       "      <th>route_long_name</th>\n",
       "      <th>route_type</th>\n",
       "      <th>route_color</th>\n",
       "      <th>route_text_color</th>\n",
       "      <th>route_idx</th>\n",
       "      <th>branch</th>\n",
       "      <th>route_name</th>\n",
       "      <th>route_range</th>\n",
       "      <th>route_id_order</th>\n",
       "    </tr>\n",
       "  </thead>\n",
       "  <tbody>\n",
       "    <tr>\n",
       "      <th>100</th>\n",
       "      <td>19-675-aus-1</td>\n",
       "      <td>NaN</td>\n",
       "      <td>675</td>\n",
       "      <td>Chirnside Park SC - Mooroolbark</td>\n",
       "      <td>3</td>\n",
       "      <td>FF8200</td>\n",
       "      <td>FFFFFF</td>\n",
       "      <td>[19, 675, aus, 1]</td>\n",
       "      <td>19</td>\n",
       "      <td>675</td>\n",
       "      <td>aus</td>\n",
       "      <td>1</td>\n",
       "    </tr>\n",
       "    <tr>\n",
       "      <th>142</th>\n",
       "      <td>21-675-aus-1</td>\n",
       "      <td>NaN</td>\n",
       "      <td>675</td>\n",
       "      <td>Mooroolbark - Chirnside Park SC</td>\n",
       "      <td>3</td>\n",
       "      <td>FF8200</td>\n",
       "      <td>FFFFFF</td>\n",
       "      <td>[21, 675, aus, 1]</td>\n",
       "      <td>21</td>\n",
       "      <td>675</td>\n",
       "      <td>aus</td>\n",
       "      <td>1</td>\n",
       "    </tr>\n",
       "    <tr>\n",
       "      <th>266</th>\n",
       "      <td>29-675-aus-1</td>\n",
       "      <td>NaN</td>\n",
       "      <td>675</td>\n",
       "      <td>Chirnside Park SC - Mooroolbark</td>\n",
       "      <td>3</td>\n",
       "      <td>FF8200</td>\n",
       "      <td>FFFFFF</td>\n",
       "      <td>[29, 675, aus, 1]</td>\n",
       "      <td>29</td>\n",
       "      <td>675</td>\n",
       "      <td>aus</td>\n",
       "      <td>1</td>\n",
       "    </tr>\n",
       "  </tbody>\n",
       "</table>\n",
       "</div>"
      ],
      "text/plain": [
       "         route_id  agency_id route_short_name  \\\n",
       "100  19-675-aus-1        NaN              675   \n",
       "142  21-675-aus-1        NaN              675   \n",
       "266  29-675-aus-1        NaN              675   \n",
       "\n",
       "                     route_long_name  route_type route_color route_text_color  \\\n",
       "100  Chirnside Park SC - Mooroolbark           3      FF8200           FFFFFF   \n",
       "142  Mooroolbark - Chirnside Park SC           3      FF8200           FFFFFF   \n",
       "266  Chirnside Park SC - Mooroolbark           3      FF8200           FFFFFF   \n",
       "\n",
       "             route_idx branch route_name route_range route_id_order  \n",
       "100  [19, 675, aus, 1]     19        675         aus              1  \n",
       "142  [21, 675, aus, 1]     21        675         aus              1  \n",
       "266  [29, 675, aus, 1]     29        675         aus              1  "
      ]
     },
     "execution_count": 245,
     "metadata": {},
     "output_type": "execute_result"
    }
   ],
   "source": [
    "DF['4']['routes'][DF['4']['routes']['route_short_name'] == '675']"
   ]
  },
  {
   "cell_type": "code",
   "execution_count": 250,
   "metadata": {},
   "outputs": [],
   "source": [
    "DF4TRIPS_STOP_COUNT = DF['4']['stop_times'].groupby('trip_id')['stop_id'].count().rename('stop_count').reset_index()"
   ]
  },
  {
   "cell_type": "code",
   "execution_count": 251,
   "metadata": {},
   "outputs": [],
   "source": [
    "DF['4']['trips'] = pd.merge(DF['4']['trips'], DF4TRIPS_STOP_COUNT, on='trip_id')"
   ]
  },
  {
   "cell_type": "code",
   "execution_count": 265,
   "metadata": {},
   "outputs": [],
   "source": [
    "def get_dates(row):\n",
    "    start_date = pd.to_datetime(str(row['start_date']), format='%Y%m%d')\n",
    "    end_date = pd.to_datetime(str(row['end_date']), format='%Y%m%d')\n",
    "    \n",
    "    # Days of the week when service is available\n",
    "    days_of_week = ['monday', 'tuesday', 'wednesday', 'thursday', 'friday', 'saturday', 'sunday']\n",
    "    service_days = [day for day in days_of_week if row[day] == 1]\n",
    "    \n",
    "    dates = []\n",
    "    current_date = start_date\n",
    "    while current_date <= end_date:\n",
    "        if current_date.strftime('%A').lower() in service_days:\n",
    "            dates.append(current_date.strftime('%Y-%m-%d'))\n",
    "        current_date += pd.Timedelta(days=1)\n",
    "    \n",
    "    return sorted(dates)"
   ]
  },
  {
   "cell_type": "code",
   "execution_count": 279,
   "metadata": {},
   "outputs": [],
   "source": [
    "# Get all dates given start date, end date, and monday, tuesday, wednesday, thursday, friday, saturday, sunday\n",
    "DF['4']['calendar']['date'] = DF['4']['calendar'].apply(get_dates, axis=1)"
   ]
  },
  {
   "cell_type": "code",
   "execution_count": 259,
   "metadata": {},
   "outputs": [
    {
     "data": {
      "text/plain": [
       "array([2], dtype=int64)"
      ]
     },
     "execution_count": 259,
     "metadata": {},
     "output_type": "execute_result"
    }
   ],
   "source": [
    "DF['4']['calendar_dates']['exception_type'].unique()"
   ]
  },
  {
   "cell_type": "code",
   "execution_count": 105,
   "metadata": {},
   "outputs": [],
   "source": [
    "dftemp = DF['4']['calendar'][['service_name', 'branch', 'pattern', 'service_str', 'service_int']]"
   ]
  },
  {
   "cell_type": "code",
   "execution_count": 262,
   "metadata": {},
   "outputs": [
    {
     "data": {
      "text/plain": [
       "service_name\n",
       "MF1      [0010000, 0000100, 1111000, 1000000, 0010100, ...\n",
       "MF10                           [0000100, 1101000, 0001000]\n",
       "MF11                                    [1000000, 0000100]\n",
       "MF12                                    [0100000, 1110000]\n",
       "MF13                                    [0010000, 1111000]\n",
       "MF14                                    [0001000, 0000100]\n",
       "MF15                                             [0000100]\n",
       "MF2      [1101100, 1111000, 0000100, 0100000, 1101000, ...\n",
       "MF3      [0010000, 0000100, 1110000, 0100000, 1111000, ...\n",
       "MF4                   [0001000, 0000100, 1111100, 1111000]\n",
       "MF5      [1111100, 0000100, 0001100, 0001000, 1011000, ...\n",
       "MF6      [1000000, 1111100, 1110000, 1010000, 0100000, ...\n",
       "MF7                   [0000100, 0100000, 0001100, 1111100]\n",
       "MF8                   [1111000, 0010000, 1110000, 0000100]\n",
       "MF9                   [0001000, 0010100, 0000100, 1111000]\n",
       "Sat1                                    [1000010, 0000010]\n",
       "Sat2                                    [1000010, 0000010]\n",
       "Sat3                                    [1000010, 0000010]\n",
       "Sat4                                    [0000010, 1000010]\n",
       "Sat5                                             [0000010]\n",
       "Sat6                                             [0000010]\n",
       "Sat7                                    [0000010, 1000010]\n",
       "Sun1                  [0000001, 1000000, 0000101, 0000100]\n",
       "Sun10                                            [0000001]\n",
       "Sun11                                            [0000101]\n",
       "Sun12                                            [0000001]\n",
       "Sun2                           [0000001, 1000000, 0000100]\n",
       "Sun3                  [0000101, 1000000, 0000001, 0000100]\n",
       "Sun4                  [0000001, 1000000, 0000100, 0000101]\n",
       "Sun5                           [0000001, 0000100, 1000000]\n",
       "Sun6                  [0000100, 0000101, 0000001, 1000000]\n",
       "Sun9                                             [0000001]\n",
       "Name: pattern, dtype: object"
      ]
     },
     "execution_count": 262,
     "metadata": {},
     "output_type": "execute_result"
    }
   ],
   "source": [
    "DF['4']['calendar'].groupby('service_name')['pattern'].unique()"
   ]
  },
  {
   "cell_type": "code",
   "execution_count": 284,
   "metadata": {},
   "outputs": [],
   "source": [
    "DF['4']['calendar_dates']['date'] = DF['4']['calendar_dates']['date'].astype(str)"
   ]
  },
  {
   "cell_type": "code",
   "execution_count": 299,
   "metadata": {},
   "outputs": [],
   "source": [
    "df4dates = DF['4']['calendar'][['service_id', 'date']].explode('date').reset_index(drop=True)\n",
    "# Convert date to string of format YYYYMMDD\n",
    "df4dates['date'] = df4dates['date'].astype(str).apply(lambda x: x.replace('-', ''))\n",
    "df4dates = pd.merge(df4dates, DF['4']['calendar_dates'][['service_id', 'date', 'exception_type']], on=['service_id', 'date'], how='left')\n",
    "df4dates = df4dates[df4dates['exception_type'] != 2]\n",
    "df4dates = df4dates.groupby('service_id')['date'].unique()\n",
    "df4dates = df4dates.apply(lambda x: sorted(x))\n",
    "df4dates = df4dates.apply(lambda x: '-'.join(x))\n",
    "df4dates = df4dates.reset_index()"
   ]
  },
  {
   "cell_type": "code",
   "execution_count": 304,
   "metadata": {},
   "outputs": [],
   "source": [
    "df4calendar = DF['4']['calendar'][['service_id', 'service_name', 'pattern', 'branch', 'service_str', 'service_int', 'route_name', 'stb', 'snb', 'startend', 'patternfull']]"
   ]
  },
  {
   "cell_type": "code",
   "execution_count": 305,
   "metadata": {},
   "outputs": [],
   "source": [
    "df4dates = pd.merge(df4dates, df4calendar, on='service_id')"
   ]
  },
  {
   "cell_type": "code",
   "execution_count": 306,
   "metadata": {},
   "outputs": [
    {
     "data": {
      "text/html": [
       "<div>\n",
       "<style scoped>\n",
       "    .dataframe tbody tr th:only-of-type {\n",
       "        vertical-align: middle;\n",
       "    }\n",
       "\n",
       "    .dataframe tbody tr th {\n",
       "        vertical-align: top;\n",
       "    }\n",
       "\n",
       "    .dataframe thead th {\n",
       "        text-align: right;\n",
       "    }\n",
       "</style>\n",
       "<table border=\"1\" class=\"dataframe\">\n",
       "  <thead>\n",
       "    <tr style=\"text-align: right;\">\n",
       "      <th></th>\n",
       "      <th>service_id</th>\n",
       "      <th>date</th>\n",
       "      <th>service_name</th>\n",
       "      <th>pattern</th>\n",
       "      <th>branch</th>\n",
       "      <th>service_str</th>\n",
       "      <th>service_int</th>\n",
       "      <th>route_name</th>\n",
       "      <th>stb</th>\n",
       "      <th>snb</th>\n",
       "      <th>startend</th>\n",
       "      <th>patternfull</th>\n",
       "    </tr>\n",
       "  </thead>\n",
       "  <tbody>\n",
       "    <tr>\n",
       "      <th>0</th>\n",
       "      <td>MF1-12-831-aus</td>\n",
       "      <td>20240228-20240306-20240313-20240320-20240327</td>\n",
       "      <td>MF1</td>\n",
       "      <td>0010000</td>\n",
       "      <td>12</td>\n",
       "      <td>MF</td>\n",
       "      <td>1</td>\n",
       "      <td>831</td>\n",
       "      <td>MF-12</td>\n",
       "      <td>MF1-12</td>\n",
       "      <td>20240223-20240526</td>\n",
       "      <td>0010000-20240223-20240526</td>\n",
       "    </tr>\n",
       "    <tr>\n",
       "      <th>1</th>\n",
       "      <td>MF1-12-834-aus</td>\n",
       "      <td>20240228-20240306-20240313-20240320-20240327</td>\n",
       "      <td>MF1</td>\n",
       "      <td>0010000</td>\n",
       "      <td>12</td>\n",
       "      <td>MF</td>\n",
       "      <td>1</td>\n",
       "      <td>834</td>\n",
       "      <td>MF-12</td>\n",
       "      <td>MF1-12</td>\n",
       "      <td>20240223-20240526</td>\n",
       "      <td>0010000-20240223-20240526</td>\n",
       "    </tr>\n",
       "    <tr>\n",
       "      <th>2</th>\n",
       "      <td>MF1-12-835-aus</td>\n",
       "      <td>20240228-20240306-20240313-20240320-20240327</td>\n",
       "      <td>MF1</td>\n",
       "      <td>0010000</td>\n",
       "      <td>12</td>\n",
       "      <td>MF</td>\n",
       "      <td>1</td>\n",
       "      <td>835</td>\n",
       "      <td>MF-12</td>\n",
       "      <td>MF1-12</td>\n",
       "      <td>20240223-20240526</td>\n",
       "      <td>0010000-20240223-20240526</td>\n",
       "    </tr>\n",
       "    <tr>\n",
       "      <th>3</th>\n",
       "      <td>MF1-12-836-aus</td>\n",
       "      <td>20240228-20240306-20240313-20240320-20240327</td>\n",
       "      <td>MF1</td>\n",
       "      <td>0010000</td>\n",
       "      <td>12</td>\n",
       "      <td>MF</td>\n",
       "      <td>1</td>\n",
       "      <td>836</td>\n",
       "      <td>MF-12</td>\n",
       "      <td>MF1-12</td>\n",
       "      <td>20240223-20240526</td>\n",
       "      <td>0010000-20240223-20240526</td>\n",
       "    </tr>\n",
       "    <tr>\n",
       "      <th>4</th>\n",
       "      <td>MF1-12-837-aus</td>\n",
       "      <td>20240228-20240306-20240313-20240320-20240327</td>\n",
       "      <td>MF1</td>\n",
       "      <td>0010000</td>\n",
       "      <td>12</td>\n",
       "      <td>MF</td>\n",
       "      <td>1</td>\n",
       "      <td>837</td>\n",
       "      <td>MF-12</td>\n",
       "      <td>MF1-12</td>\n",
       "      <td>20240223-20240526</td>\n",
       "      <td>0010000-20240223-20240526</td>\n",
       "    </tr>\n",
       "    <tr>\n",
       "      <th>...</th>\n",
       "      <td>...</td>\n",
       "      <td>...</td>\n",
       "      <td>...</td>\n",
       "      <td>...</td>\n",
       "      <td>...</td>\n",
       "      <td>...</td>\n",
       "      <td>...</td>\n",
       "      <td>...</td>\n",
       "      <td>...</td>\n",
       "      <td>...</td>\n",
       "      <td>...</td>\n",
       "      <td>...</td>\n",
       "    </tr>\n",
       "    <tr>\n",
       "      <th>3075</th>\n",
       "      <td>Sun9-32-603-aus</td>\n",
       "      <td>20240225-20240303</td>\n",
       "      <td>Sun9</td>\n",
       "      <td>0000001</td>\n",
       "      <td>32</td>\n",
       "      <td>Sun</td>\n",
       "      <td>9</td>\n",
       "      <td>603</td>\n",
       "      <td>Sun-32</td>\n",
       "      <td>Sun9-32</td>\n",
       "      <td>20240223-20240526</td>\n",
       "      <td>0000001-20240223-20240526</td>\n",
       "    </tr>\n",
       "    <tr>\n",
       "      <th>3076</th>\n",
       "      <td>Sun9-32-604-aus</td>\n",
       "      <td>20240225-20240303</td>\n",
       "      <td>Sun9</td>\n",
       "      <td>0000001</td>\n",
       "      <td>32</td>\n",
       "      <td>Sun</td>\n",
       "      <td>9</td>\n",
       "      <td>604</td>\n",
       "      <td>Sun-32</td>\n",
       "      <td>Sun9-32</td>\n",
       "      <td>20240223-20240526</td>\n",
       "      <td>0000001-20240223-20240526</td>\n",
       "    </tr>\n",
       "    <tr>\n",
       "      <th>3077</th>\n",
       "      <td>Sun9-32-922-aus</td>\n",
       "      <td>20240225-20240303</td>\n",
       "      <td>Sun9</td>\n",
       "      <td>0000001</td>\n",
       "      <td>32</td>\n",
       "      <td>Sun</td>\n",
       "      <td>9</td>\n",
       "      <td>922</td>\n",
       "      <td>Sun-32</td>\n",
       "      <td>Sun9-32</td>\n",
       "      <td>20240223-20240526</td>\n",
       "      <td>0000001-20240223-20240526</td>\n",
       "    </tr>\n",
       "    <tr>\n",
       "      <th>3078</th>\n",
       "      <td>Sun9-32-923-aus</td>\n",
       "      <td>20240225-20240303</td>\n",
       "      <td>Sun9</td>\n",
       "      <td>0000001</td>\n",
       "      <td>32</td>\n",
       "      <td>Sun</td>\n",
       "      <td>9</td>\n",
       "      <td>923</td>\n",
       "      <td>Sun-32</td>\n",
       "      <td>Sun9-32</td>\n",
       "      <td>20240223-20240526</td>\n",
       "      <td>0000001-20240223-20240526</td>\n",
       "    </tr>\n",
       "    <tr>\n",
       "      <th>3079</th>\n",
       "      <td>Sun9-33-902-aus</td>\n",
       "      <td>20240225-20240303</td>\n",
       "      <td>Sun9</td>\n",
       "      <td>0000001</td>\n",
       "      <td>33</td>\n",
       "      <td>Sun</td>\n",
       "      <td>9</td>\n",
       "      <td>902</td>\n",
       "      <td>Sun-33</td>\n",
       "      <td>Sun9-33</td>\n",
       "      <td>20240223-20240526</td>\n",
       "      <td>0000001-20240223-20240526</td>\n",
       "    </tr>\n",
       "  </tbody>\n",
       "</table>\n",
       "<p>3080 rows × 12 columns</p>\n",
       "</div>"
      ],
      "text/plain": [
       "           service_id                                          date  \\\n",
       "0      MF1-12-831-aus  20240228-20240306-20240313-20240320-20240327   \n",
       "1      MF1-12-834-aus  20240228-20240306-20240313-20240320-20240327   \n",
       "2      MF1-12-835-aus  20240228-20240306-20240313-20240320-20240327   \n",
       "3      MF1-12-836-aus  20240228-20240306-20240313-20240320-20240327   \n",
       "4      MF1-12-837-aus  20240228-20240306-20240313-20240320-20240327   \n",
       "...               ...                                           ...   \n",
       "3075  Sun9-32-603-aus                             20240225-20240303   \n",
       "3076  Sun9-32-604-aus                             20240225-20240303   \n",
       "3077  Sun9-32-922-aus                             20240225-20240303   \n",
       "3078  Sun9-32-923-aus                             20240225-20240303   \n",
       "3079  Sun9-33-902-aus                             20240225-20240303   \n",
       "\n",
       "     service_name  pattern branch service_str service_int route_name     stb  \\\n",
       "0             MF1  0010000     12          MF           1        831   MF-12   \n",
       "1             MF1  0010000     12          MF           1        834   MF-12   \n",
       "2             MF1  0010000     12          MF           1        835   MF-12   \n",
       "3             MF1  0010000     12          MF           1        836   MF-12   \n",
       "4             MF1  0010000     12          MF           1        837   MF-12   \n",
       "...           ...      ...    ...         ...         ...        ...     ...   \n",
       "3075         Sun9  0000001     32         Sun           9        603  Sun-32   \n",
       "3076         Sun9  0000001     32         Sun           9        604  Sun-32   \n",
       "3077         Sun9  0000001     32         Sun           9        922  Sun-32   \n",
       "3078         Sun9  0000001     32         Sun           9        923  Sun-32   \n",
       "3079         Sun9  0000001     33         Sun           9        902  Sun-33   \n",
       "\n",
       "          snb           startend                patternfull  \n",
       "0      MF1-12  20240223-20240526  0010000-20240223-20240526  \n",
       "1      MF1-12  20240223-20240526  0010000-20240223-20240526  \n",
       "2      MF1-12  20240223-20240526  0010000-20240223-20240526  \n",
       "3      MF1-12  20240223-20240526  0010000-20240223-20240526  \n",
       "4      MF1-12  20240223-20240526  0010000-20240223-20240526  \n",
       "...       ...                ...                        ...  \n",
       "3075  Sun9-32  20240223-20240526  0000001-20240223-20240526  \n",
       "3076  Sun9-32  20240223-20240526  0000001-20240223-20240526  \n",
       "3077  Sun9-32  20240223-20240526  0000001-20240223-20240526  \n",
       "3078  Sun9-32  20240223-20240526  0000001-20240223-20240526  \n",
       "3079  Sun9-33  20240223-20240526  0000001-20240223-20240526  \n",
       "\n",
       "[3080 rows x 12 columns]"
      ]
     },
     "execution_count": 306,
     "metadata": {},
     "output_type": "execute_result"
    }
   ],
   "source": [
    "df4dates"
   ]
  },
  {
   "cell_type": "code",
   "execution_count": 298,
   "metadata": {},
   "outputs": [
    {
     "data": {
      "text/html": [
       "<div>\n",
       "<style scoped>\n",
       "    .dataframe tbody tr th:only-of-type {\n",
       "        vertical-align: middle;\n",
       "    }\n",
       "\n",
       "    .dataframe tbody tr th {\n",
       "        vertical-align: top;\n",
       "    }\n",
       "\n",
       "    .dataframe thead th {\n",
       "        text-align: right;\n",
       "    }\n",
       "</style>\n",
       "<table border=\"1\" class=\"dataframe\">\n",
       "  <thead>\n",
       "    <tr style=\"text-align: right;\">\n",
       "      <th></th>\n",
       "      <th>index</th>\n",
       "      <th>service_id</th>\n",
       "      <th>date</th>\n",
       "    </tr>\n",
       "  </thead>\n",
       "  <tbody>\n",
       "    <tr>\n",
       "      <th>0</th>\n",
       "      <td>0</td>\n",
       "      <td>MF1-12-831-aus</td>\n",
       "      <td>20240228-20240306-20240313-20240320-20240327</td>\n",
       "    </tr>\n",
       "    <tr>\n",
       "      <th>1</th>\n",
       "      <td>1</td>\n",
       "      <td>MF1-12-834-aus</td>\n",
       "      <td>20240228-20240306-20240313-20240320-20240327</td>\n",
       "    </tr>\n",
       "    <tr>\n",
       "      <th>2</th>\n",
       "      <td>2</td>\n",
       "      <td>MF1-12-835-aus</td>\n",
       "      <td>20240228-20240306-20240313-20240320-20240327</td>\n",
       "    </tr>\n",
       "    <tr>\n",
       "      <th>3</th>\n",
       "      <td>3</td>\n",
       "      <td>MF1-12-836-aus</td>\n",
       "      <td>20240228-20240306-20240313-20240320-20240327</td>\n",
       "    </tr>\n",
       "    <tr>\n",
       "      <th>4</th>\n",
       "      <td>4</td>\n",
       "      <td>MF1-12-837-aus</td>\n",
       "      <td>20240228-20240306-20240313-20240320-20240327</td>\n",
       "    </tr>\n",
       "    <tr>\n",
       "      <th>...</th>\n",
       "      <td>...</td>\n",
       "      <td>...</td>\n",
       "      <td>...</td>\n",
       "    </tr>\n",
       "    <tr>\n",
       "      <th>3075</th>\n",
       "      <td>3075</td>\n",
       "      <td>Sun9-32-603-aus</td>\n",
       "      <td>20240225-20240303</td>\n",
       "    </tr>\n",
       "    <tr>\n",
       "      <th>3076</th>\n",
       "      <td>3076</td>\n",
       "      <td>Sun9-32-604-aus</td>\n",
       "      <td>20240225-20240303</td>\n",
       "    </tr>\n",
       "    <tr>\n",
       "      <th>3077</th>\n",
       "      <td>3077</td>\n",
       "      <td>Sun9-32-922-aus</td>\n",
       "      <td>20240225-20240303</td>\n",
       "    </tr>\n",
       "    <tr>\n",
       "      <th>3078</th>\n",
       "      <td>3078</td>\n",
       "      <td>Sun9-32-923-aus</td>\n",
       "      <td>20240225-20240303</td>\n",
       "    </tr>\n",
       "    <tr>\n",
       "      <th>3079</th>\n",
       "      <td>3079</td>\n",
       "      <td>Sun9-33-902-aus</td>\n",
       "      <td>20240225-20240303</td>\n",
       "    </tr>\n",
       "  </tbody>\n",
       "</table>\n",
       "<p>3080 rows × 3 columns</p>\n",
       "</div>"
      ],
      "text/plain": [
       "      index       service_id                                          date\n",
       "0         0   MF1-12-831-aus  20240228-20240306-20240313-20240320-20240327\n",
       "1         1   MF1-12-834-aus  20240228-20240306-20240313-20240320-20240327\n",
       "2         2   MF1-12-835-aus  20240228-20240306-20240313-20240320-20240327\n",
       "3         3   MF1-12-836-aus  20240228-20240306-20240313-20240320-20240327\n",
       "4         4   MF1-12-837-aus  20240228-20240306-20240313-20240320-20240327\n",
       "...     ...              ...                                           ...\n",
       "3075   3075  Sun9-32-603-aus                             20240225-20240303\n",
       "3076   3076  Sun9-32-604-aus                             20240225-20240303\n",
       "3077   3077  Sun9-32-922-aus                             20240225-20240303\n",
       "3078   3078  Sun9-32-923-aus                             20240225-20240303\n",
       "3079   3079  Sun9-33-902-aus                             20240225-20240303\n",
       "\n",
       "[3080 rows x 3 columns]"
      ]
     },
     "execution_count": 298,
     "metadata": {},
     "output_type": "execute_result"
    }
   ],
   "source": [
    "df4dates"
   ]
  },
  {
   "cell_type": "code",
   "execution_count": 281,
   "metadata": {},
   "outputs": [
    {
     "data": {
      "text/html": [
       "<div>\n",
       "<style scoped>\n",
       "    .dataframe tbody tr th:only-of-type {\n",
       "        vertical-align: middle;\n",
       "    }\n",
       "\n",
       "    .dataframe tbody tr th {\n",
       "        vertical-align: top;\n",
       "    }\n",
       "\n",
       "    .dataframe thead th {\n",
       "        text-align: right;\n",
       "    }\n",
       "</style>\n",
       "<table border=\"1\" class=\"dataframe\">\n",
       "  <thead>\n",
       "    <tr style=\"text-align: right;\">\n",
       "      <th></th>\n",
       "      <th>service_id</th>\n",
       "      <th>date</th>\n",
       "      <th>exception_type</th>\n",
       "      <th>pattern</th>\n",
       "    </tr>\n",
       "  </thead>\n",
       "  <tbody>\n",
       "    <tr>\n",
       "      <th>0</th>\n",
       "      <td>MF10-14-200-aus</td>\n",
       "      <td>20240308</td>\n",
       "      <td>2</td>\n",
       "      <td>20240308.2</td>\n",
       "    </tr>\n",
       "    <tr>\n",
       "      <th>1</th>\n",
       "      <td>MF10-14-200-aus</td>\n",
       "      <td>20240315</td>\n",
       "      <td>2</td>\n",
       "      <td>20240315.2</td>\n",
       "    </tr>\n",
       "    <tr>\n",
       "      <th>2</th>\n",
       "      <td>MF10-14-200-aus</td>\n",
       "      <td>20240322</td>\n",
       "      <td>2</td>\n",
       "      <td>20240322.2</td>\n",
       "    </tr>\n",
       "    <tr>\n",
       "      <th>3</th>\n",
       "      <td>MF10-14-200-aus</td>\n",
       "      <td>20240329</td>\n",
       "      <td>2</td>\n",
       "      <td>20240329.2</td>\n",
       "    </tr>\n",
       "    <tr>\n",
       "      <th>4</th>\n",
       "      <td>MF10-14-200-aus</td>\n",
       "      <td>20240405</td>\n",
       "      <td>2</td>\n",
       "      <td>20240405.2</td>\n",
       "    </tr>\n",
       "    <tr>\n",
       "      <th>...</th>\n",
       "      <td>...</td>\n",
       "      <td>...</td>\n",
       "      <td>...</td>\n",
       "      <td>...</td>\n",
       "    </tr>\n",
       "    <tr>\n",
       "      <th>48891</th>\n",
       "      <td>Sun9-33-902-aus</td>\n",
       "      <td>20240428</td>\n",
       "      <td>2</td>\n",
       "      <td>20240428.2</td>\n",
       "    </tr>\n",
       "    <tr>\n",
       "      <th>48892</th>\n",
       "      <td>Sun9-33-902-aus</td>\n",
       "      <td>20240505</td>\n",
       "      <td>2</td>\n",
       "      <td>20240505.2</td>\n",
       "    </tr>\n",
       "    <tr>\n",
       "      <th>48893</th>\n",
       "      <td>Sun9-33-902-aus</td>\n",
       "      <td>20240512</td>\n",
       "      <td>2</td>\n",
       "      <td>20240512.2</td>\n",
       "    </tr>\n",
       "    <tr>\n",
       "      <th>48894</th>\n",
       "      <td>Sun9-33-902-aus</td>\n",
       "      <td>20240519</td>\n",
       "      <td>2</td>\n",
       "      <td>20240519.2</td>\n",
       "    </tr>\n",
       "    <tr>\n",
       "      <th>48895</th>\n",
       "      <td>Sun9-33-902-aus</td>\n",
       "      <td>20240526</td>\n",
       "      <td>2</td>\n",
       "      <td>20240526.2</td>\n",
       "    </tr>\n",
       "  </tbody>\n",
       "</table>\n",
       "<p>48896 rows × 4 columns</p>\n",
       "</div>"
      ],
      "text/plain": [
       "            service_id      date  exception_type     pattern\n",
       "0      MF10-14-200-aus  20240308               2  20240308.2\n",
       "1      MF10-14-200-aus  20240315               2  20240315.2\n",
       "2      MF10-14-200-aus  20240322               2  20240322.2\n",
       "3      MF10-14-200-aus  20240329               2  20240329.2\n",
       "4      MF10-14-200-aus  20240405               2  20240405.2\n",
       "...                ...       ...             ...         ...\n",
       "48891  Sun9-33-902-aus  20240428               2  20240428.2\n",
       "48892  Sun9-33-902-aus  20240505               2  20240505.2\n",
       "48893  Sun9-33-902-aus  20240512               2  20240512.2\n",
       "48894  Sun9-33-902-aus  20240519               2  20240519.2\n",
       "48895  Sun9-33-902-aus  20240526               2  20240526.2\n",
       "\n",
       "[48896 rows x 4 columns]"
      ]
     },
     "execution_count": 281,
     "metadata": {},
     "output_type": "execute_result"
    }
   ],
   "source": [
    "DF['4']['calendar_dates']"
   ]
  },
  {
   "cell_type": "code",
   "execution_count": 117,
   "metadata": {},
   "outputs": [
    {
     "name": "stderr",
     "output_type": "stream",
     "text": [
      "C:\\Users\\An\\AppData\\Local\\Temp\\ipykernel_19132\\3932268974.py:1: SettingWithCopyWarning: \n",
      "A value is trying to be set on a copy of a slice from a DataFrame.\n",
      "Try using .loc[row_indexer,col_indexer] = value instead\n",
      "\n",
      "See the caveats in the documentation: https://pandas.pydata.org/pandas-docs/stable/user_guide/indexing.html#returning-a-view-versus-a-copy\n",
      "  dftemp['stb'] = dftemp['service_str'] + '-' + dftemp['branch']\n",
      "C:\\Users\\An\\AppData\\Local\\Temp\\ipykernel_19132\\3932268974.py:2: SettingWithCopyWarning: \n",
      "A value is trying to be set on a copy of a slice from a DataFrame.\n",
      "Try using .loc[row_indexer,col_indexer] = value instead\n",
      "\n",
      "See the caveats in the documentation: https://pandas.pydata.org/pandas-docs/stable/user_guide/indexing.html#returning-a-view-versus-a-copy\n",
      "  dftemp['snb'] = dftemp['service_name'] + '-' + dftemp['branch']\n"
     ]
    }
   ],
   "source": [
    "dftemp['stb'] = dftemp['service_str'] + '-' + dftemp['branch']\n",
    "dftemp['snb'] = dftemp['service_name'] + '-' + dftemp['branch']"
   ]
  },
  {
   "cell_type": "code",
   "execution_count": 120,
   "metadata": {},
   "outputs": [
    {
     "data": {
      "text/plain": [
       "snb\n",
       "MF1-12                           [0010000-20240223-20240526]\n",
       "MF1-13     [0000100-20240223-20240526, 1111000-20240223-2...\n",
       "MF1-14     [1000000-20240223-20240526, 0000100-20240223-2...\n",
       "MF1-15     [0010100-20240223-20240526, 1111100-20240223-2...\n",
       "MF1-16                           [1111100-20240223-20240526]\n",
       "                                 ...                        \n",
       "Sun6-25                          [0000101-20240223-20240526]\n",
       "Sun6-39                          [0000001-20240223-20240526]\n",
       "Sun6-44                          [1000000-20240226-20240526]\n",
       "Sun9-32                          [0000001-20240223-20240526]\n",
       "Sun9-33                          [0000001-20240223-20240526]\n",
       "Name: pattern, Length: 290, dtype: object"
      ]
     },
     "execution_count": 120,
     "metadata": {},
     "output_type": "execute_result"
    }
   ],
   "source": [
    "dftemp.groupby('snb')['pattern'].unique()"
   ]
  },
  {
   "cell_type": "code",
   "execution_count": 85,
   "metadata": {},
   "outputs": [
    {
     "data": {
      "text/html": [
       "<div>\n",
       "<style scoped>\n",
       "    .dataframe tbody tr th:only-of-type {\n",
       "        vertical-align: middle;\n",
       "    }\n",
       "\n",
       "    .dataframe tbody tr th {\n",
       "        vertical-align: top;\n",
       "    }\n",
       "\n",
       "    .dataframe thead th {\n",
       "        text-align: right;\n",
       "    }\n",
       "</style>\n",
       "<table border=\"1\" class=\"dataframe\">\n",
       "  <thead>\n",
       "    <tr style=\"text-align: right;\">\n",
       "      <th></th>\n",
       "      <th>service_name</th>\n",
       "      <th>branch</th>\n",
       "      <th>pattern</th>\n",
       "    </tr>\n",
       "  </thead>\n",
       "  <tbody>\n",
       "    <tr>\n",
       "      <th>1</th>\n",
       "      <td>MF1</td>\n",
       "      <td>13</td>\n",
       "      <td>[0000100-20240223-20240526, 1111000-20240223-2...</td>\n",
       "    </tr>\n",
       "    <tr>\n",
       "      <th>2</th>\n",
       "      <td>MF1</td>\n",
       "      <td>14</td>\n",
       "      <td>[1000000-20240223-20240526, 0000100-20240223-2...</td>\n",
       "    </tr>\n",
       "    <tr>\n",
       "      <th>3</th>\n",
       "      <td>MF1</td>\n",
       "      <td>15</td>\n",
       "      <td>[0010100-20240223-20240526, 1111100-20240223-2...</td>\n",
       "    </tr>\n",
       "    <tr>\n",
       "      <th>10</th>\n",
       "      <td>MF1</td>\n",
       "      <td>25</td>\n",
       "      <td>[1111100-20240223-20240526, 1111000-20240223-2...</td>\n",
       "    </tr>\n",
       "    <tr>\n",
       "      <th>13</th>\n",
       "      <td>MF1</td>\n",
       "      <td>28</td>\n",
       "      <td>[1111100-20240223-20240526, 1111000-20240223-2...</td>\n",
       "    </tr>\n",
       "    <tr>\n",
       "      <th>18</th>\n",
       "      <td>MF1</td>\n",
       "      <td>41</td>\n",
       "      <td>[1111100-20240223-20240526, 0000100-20240223-2...</td>\n",
       "    </tr>\n",
       "    <tr>\n",
       "      <th>19</th>\n",
       "      <td>MF1</td>\n",
       "      <td>42</td>\n",
       "      <td>[1111100-20240223-20240526, 1111000-20240223-2...</td>\n",
       "    </tr>\n",
       "    <tr>\n",
       "      <th>53</th>\n",
       "      <td>MF2</td>\n",
       "      <td>13</td>\n",
       "      <td>[1111000-20240223-20240526, 0000100-20240223-2...</td>\n",
       "    </tr>\n",
       "    <tr>\n",
       "      <th>54</th>\n",
       "      <td>MF2</td>\n",
       "      <td>14</td>\n",
       "      <td>[0100000-20240223-20240526, 0000100-20240223-2...</td>\n",
       "    </tr>\n",
       "    <tr>\n",
       "      <th>61</th>\n",
       "      <td>MF2</td>\n",
       "      <td>22</td>\n",
       "      <td>[1110000-20240223-20240526, 0001100-20240223-2...</td>\n",
       "    </tr>\n",
       "    <tr>\n",
       "      <th>62</th>\n",
       "      <td>MF2</td>\n",
       "      <td>25</td>\n",
       "      <td>[0000100-20240223-20240526, 1111000-20240223-2...</td>\n",
       "    </tr>\n",
       "    <tr>\n",
       "      <th>73</th>\n",
       "      <td>MF2</td>\n",
       "      <td>53</td>\n",
       "      <td>[1111100-20240223-20240526, 0000100-20240223-2...</td>\n",
       "    </tr>\n",
       "    <tr>\n",
       "      <th>78</th>\n",
       "      <td>MF3</td>\n",
       "      <td>21</td>\n",
       "      <td>[0010000-20240223-20240526, 0000100-20240223-2...</td>\n",
       "    </tr>\n",
       "    <tr>\n",
       "      <th>79</th>\n",
       "      <td>MF3</td>\n",
       "      <td>22</td>\n",
       "      <td>[1110000-20240223-20240526, 0100000-20240223-2...</td>\n",
       "    </tr>\n",
       "    <tr>\n",
       "      <th>91</th>\n",
       "      <td>MF3</td>\n",
       "      <td>53</td>\n",
       "      <td>[0000100-20240223-20240526, 1111000-20240223-2...</td>\n",
       "    </tr>\n",
       "    <tr>\n",
       "      <th>104</th>\n",
       "      <td>MF4</td>\n",
       "      <td>49</td>\n",
       "      <td>[1111000-20240223-20240526, 0000100-20240223-2...</td>\n",
       "    </tr>\n",
       "    <tr>\n",
       "      <th>105</th>\n",
       "      <td>MF4</td>\n",
       "      <td>53</td>\n",
       "      <td>[1111000-20240223-20240526, 0000100-20240223-2...</td>\n",
       "    </tr>\n",
       "    <tr>\n",
       "      <th>106</th>\n",
       "      <td>MF4</td>\n",
       "      <td>82</td>\n",
       "      <td>[1111000-20240223-20240526, 1111100-20240223-2...</td>\n",
       "    </tr>\n",
       "    <tr>\n",
       "      <th>113</th>\n",
       "      <td>MF5</td>\n",
       "      <td>22</td>\n",
       "      <td>[0000100-20240223-20240526, 0001000-20240223-2...</td>\n",
       "    </tr>\n",
       "    <tr>\n",
       "      <th>114</th>\n",
       "      <td>MF5</td>\n",
       "      <td>23</td>\n",
       "      <td>[1111100-20240223-20240526, 0000100-20240223-2...</td>\n",
       "    </tr>\n",
       "    <tr>\n",
       "      <th>121</th>\n",
       "      <td>MF5</td>\n",
       "      <td>82</td>\n",
       "      <td>[0000100-20240223-20240526, 1111100-20240223-2...</td>\n",
       "    </tr>\n",
       "    <tr>\n",
       "      <th>141</th>\n",
       "      <td>MF8</td>\n",
       "      <td>21</td>\n",
       "      <td>[1110000-20240223-20240526, 0000100-20240223-2...</td>\n",
       "    </tr>\n",
       "    <tr>\n",
       "      <th>143</th>\n",
       "      <td>MF8</td>\n",
       "      <td>25</td>\n",
       "      <td>[1111000-20240223-20240526, 0000100-20240223-2...</td>\n",
       "    </tr>\n",
       "    <tr>\n",
       "      <th>212</th>\n",
       "      <td>Sun1</td>\n",
       "      <td>22</td>\n",
       "      <td>[0000001-20240223-20240526, 1000000-20240223-2...</td>\n",
       "    </tr>\n",
       "    <tr>\n",
       "      <th>214</th>\n",
       "      <td>Sun1</td>\n",
       "      <td>26</td>\n",
       "      <td>[0000001-20240223-20240526, 1000000-20240223-2...</td>\n",
       "    </tr>\n",
       "    <tr>\n",
       "      <th>216</th>\n",
       "      <td>Sun1</td>\n",
       "      <td>29</td>\n",
       "      <td>[0000001-20240223-20240526, 1000000-20240223-2...</td>\n",
       "    </tr>\n",
       "    <tr>\n",
       "      <th>235</th>\n",
       "      <td>Sun2</td>\n",
       "      <td>17</td>\n",
       "      <td>[1000000-20240223-20240526, 0000001-20240223-2...</td>\n",
       "    </tr>\n",
       "    <tr>\n",
       "      <th>244</th>\n",
       "      <td>Sun2</td>\n",
       "      <td>29</td>\n",
       "      <td>[0000001-20240223-20240526, 0000100-20240223-2...</td>\n",
       "    </tr>\n",
       "    <tr>\n",
       "      <th>251</th>\n",
       "      <td>Sun2</td>\n",
       "      <td>44</td>\n",
       "      <td>[1000000-20240226-20240526, 0000001-20240226-2...</td>\n",
       "    </tr>\n",
       "    <tr>\n",
       "      <th>259</th>\n",
       "      <td>Sun3</td>\n",
       "      <td>22</td>\n",
       "      <td>[0000100-20240223-20240526, 1000000-20240223-2...</td>\n",
       "    </tr>\n",
       "    <tr>\n",
       "      <th>262</th>\n",
       "      <td>Sun3</td>\n",
       "      <td>29</td>\n",
       "      <td>[1000000-20240223-20240526, 0000001-20240223-2...</td>\n",
       "    </tr>\n",
       "    <tr>\n",
       "      <th>271</th>\n",
       "      <td>Sun4</td>\n",
       "      <td>19</td>\n",
       "      <td>[1000000-20240223-20240526, 0000100-20240223-2...</td>\n",
       "    </tr>\n",
       "  </tbody>\n",
       "</table>\n",
       "</div>"
      ],
      "text/plain": [
       "    service_name branch                                            pattern\n",
       "1            MF1     13  [0000100-20240223-20240526, 1111000-20240223-2...\n",
       "2            MF1     14  [1000000-20240223-20240526, 0000100-20240223-2...\n",
       "3            MF1     15  [0010100-20240223-20240526, 1111100-20240223-2...\n",
       "10           MF1     25  [1111100-20240223-20240526, 1111000-20240223-2...\n",
       "13           MF1     28  [1111100-20240223-20240526, 1111000-20240223-2...\n",
       "18           MF1     41  [1111100-20240223-20240526, 0000100-20240223-2...\n",
       "19           MF1     42  [1111100-20240223-20240526, 1111000-20240223-2...\n",
       "53           MF2     13  [1111000-20240223-20240526, 0000100-20240223-2...\n",
       "54           MF2     14  [0100000-20240223-20240526, 0000100-20240223-2...\n",
       "61           MF2     22  [1110000-20240223-20240526, 0001100-20240223-2...\n",
       "62           MF2     25  [0000100-20240223-20240526, 1111000-20240223-2...\n",
       "73           MF2     53  [1111100-20240223-20240526, 0000100-20240223-2...\n",
       "78           MF3     21  [0010000-20240223-20240526, 0000100-20240223-2...\n",
       "79           MF3     22  [1110000-20240223-20240526, 0100000-20240223-2...\n",
       "91           MF3     53  [0000100-20240223-20240526, 1111000-20240223-2...\n",
       "104          MF4     49  [1111000-20240223-20240526, 0000100-20240223-2...\n",
       "105          MF4     53  [1111000-20240223-20240526, 0000100-20240223-2...\n",
       "106          MF4     82  [1111000-20240223-20240526, 1111100-20240223-2...\n",
       "113          MF5     22  [0000100-20240223-20240526, 0001000-20240223-2...\n",
       "114          MF5     23  [1111100-20240223-20240526, 0000100-20240223-2...\n",
       "121          MF5     82  [0000100-20240223-20240526, 1111100-20240223-2...\n",
       "141          MF8     21  [1110000-20240223-20240526, 0000100-20240223-2...\n",
       "143          MF8     25  [1111000-20240223-20240526, 0000100-20240223-2...\n",
       "212         Sun1     22  [0000001-20240223-20240526, 1000000-20240223-2...\n",
       "214         Sun1     26  [0000001-20240223-20240526, 1000000-20240223-2...\n",
       "216         Sun1     29  [0000001-20240223-20240526, 1000000-20240223-2...\n",
       "235         Sun2     17  [1000000-20240223-20240526, 0000001-20240223-2...\n",
       "244         Sun2     29  [0000001-20240223-20240526, 0000100-20240223-2...\n",
       "251         Sun2     44  [1000000-20240226-20240526, 0000001-20240226-2...\n",
       "259         Sun3     22  [0000100-20240223-20240526, 1000000-20240223-2...\n",
       "262         Sun3     29  [1000000-20240223-20240526, 0000001-20240223-2...\n",
       "271         Sun4     19  [1000000-20240223-20240526, 0000100-20240223-2..."
      ]
     },
     "execution_count": 85,
     "metadata": {},
     "output_type": "execute_result"
    }
   ],
   "source": [
    "dftemp[dftemp.apply(lambda x: len(x['pattern']) > 1, axis=1)]"
   ]
  },
  {
   "cell_type": "code",
   "execution_count": 68,
   "metadata": {},
   "outputs": [
    {
     "data": {
      "text/html": [
       "<div>\n",
       "<style scoped>\n",
       "    .dataframe tbody tr th:only-of-type {\n",
       "        vertical-align: middle;\n",
       "    }\n",
       "\n",
       "    .dataframe tbody tr th {\n",
       "        vertical-align: top;\n",
       "    }\n",
       "\n",
       "    .dataframe thead th {\n",
       "        text-align: right;\n",
       "    }\n",
       "</style>\n",
       "<table border=\"1\" class=\"dataframe\">\n",
       "  <thead>\n",
       "    <tr style=\"text-align: right;\">\n",
       "      <th></th>\n",
       "      <th>start_date</th>\n",
       "      <th>end_date</th>\n",
       "    </tr>\n",
       "  </thead>\n",
       "  <tbody>\n",
       "    <tr>\n",
       "      <th>0</th>\n",
       "      <td>20240223</td>\n",
       "      <td>20240526</td>\n",
       "    </tr>\n",
       "    <tr>\n",
       "      <th>461</th>\n",
       "      <td>20240226</td>\n",
       "      <td>20240526</td>\n",
       "    </tr>\n",
       "  </tbody>\n",
       "</table>\n",
       "</div>"
      ],
      "text/plain": [
       "     start_date  end_date\n",
       "0      20240223  20240526\n",
       "461    20240226  20240526"
      ]
     },
     "execution_count": 68,
     "metadata": {},
     "output_type": "execute_result"
    }
   ],
   "source": [
    "df4_calendar[['start_date', 'end_date']].drop_duplicates()"
   ]
  },
  {
   "cell_type": "code",
   "execution_count": 40,
   "metadata": {},
   "outputs": [
    {
     "data": {
      "text/plain": [
       "0         [12, 831, aus, 1]\n",
       "1         [12, 831, aus, 1]\n",
       "2         [12, 831, aus, 1]\n",
       "3         [12, 831, aus, 1]\n",
       "4         [12, 831, aus, 1]\n",
       "                ...        \n",
       "124313    [82, 498, aus, 1]\n",
       "124314    [82, 498, aus, 1]\n",
       "124315    [82, 498, aus, 1]\n",
       "124316    [82, 498, aus, 1]\n",
       "124317    [82, 498, aus, 1]\n",
       "Name: route_idx, Length: 124318, dtype: object"
      ]
     },
     "execution_count": 40,
     "metadata": {},
     "output_type": "execute_result"
    }
   ],
   "source": [
    "DF['4']['trips']['route_idx']"
   ]
  },
  {
   "cell_type": "code",
   "execution_count": 38,
   "metadata": {},
   "outputs": [
    {
     "data": {
      "text/html": [
       "<div>\n",
       "<style scoped>\n",
       "    .dataframe tbody tr th:only-of-type {\n",
       "        vertical-align: middle;\n",
       "    }\n",
       "\n",
       "    .dataframe tbody tr th {\n",
       "        vertical-align: top;\n",
       "    }\n",
       "\n",
       "    .dataframe thead th {\n",
       "        text-align: right;\n",
       "    }\n",
       "</style>\n",
       "<table border=\"1\" class=\"dataframe\">\n",
       "  <thead>\n",
       "    <tr style=\"text-align: right;\">\n",
       "      <th></th>\n",
       "      <th>service_id</th>\n",
       "      <th>trip_id</th>\n",
       "    </tr>\n",
       "  </thead>\n",
       "  <tbody>\n",
       "    <tr>\n",
       "      <th>0</th>\n",
       "      <td>MF1-12-831-aus</td>\n",
       "      <td>12-831--1-MF1-104</td>\n",
       "    </tr>\n",
       "    <tr>\n",
       "      <th>1</th>\n",
       "      <td>MF1-12-831-aus</td>\n",
       "      <td>12-831--1-MF1-106</td>\n",
       "    </tr>\n",
       "    <tr>\n",
       "      <th>2</th>\n",
       "      <td>MF1-12-831-aus</td>\n",
       "      <td>12-831--1-MF1-108</td>\n",
       "    </tr>\n",
       "    <tr>\n",
       "      <th>3</th>\n",
       "      <td>MF1-12-831-aus</td>\n",
       "      <td>12-831--1-MF1-110</td>\n",
       "    </tr>\n",
       "    <tr>\n",
       "      <th>4</th>\n",
       "      <td>MF1-12-831-aus</td>\n",
       "      <td>12-831--1-MF1-112</td>\n",
       "    </tr>\n",
       "    <tr>\n",
       "      <th>...</th>\n",
       "      <td>...</td>\n",
       "      <td>...</td>\n",
       "    </tr>\n",
       "    <tr>\n",
       "      <th>124313</th>\n",
       "      <td>Sun4-82-498-aus</td>\n",
       "      <td>82-498--1-Sun4-32374</td>\n",
       "    </tr>\n",
       "    <tr>\n",
       "      <th>124314</th>\n",
       "      <td>Sun4-82-498-aus</td>\n",
       "      <td>82-498--1-Sun4-32474</td>\n",
       "    </tr>\n",
       "    <tr>\n",
       "      <th>124315</th>\n",
       "      <td>Sun4-82-498-aus</td>\n",
       "      <td>82-498--1-Sun4-32774</td>\n",
       "    </tr>\n",
       "    <tr>\n",
       "      <th>124316</th>\n",
       "      <td>Sun4-82-498-aus</td>\n",
       "      <td>82-498--1-Sun4-32874</td>\n",
       "    </tr>\n",
       "    <tr>\n",
       "      <th>124317</th>\n",
       "      <td>Sun4-82-498-aus</td>\n",
       "      <td>82-498--1-Sun4-33174</td>\n",
       "    </tr>\n",
       "  </tbody>\n",
       "</table>\n",
       "<p>124318 rows × 2 columns</p>\n",
       "</div>"
      ],
      "text/plain": [
       "             service_id               trip_id\n",
       "0        MF1-12-831-aus     12-831--1-MF1-104\n",
       "1        MF1-12-831-aus     12-831--1-MF1-106\n",
       "2        MF1-12-831-aus     12-831--1-MF1-108\n",
       "3        MF1-12-831-aus     12-831--1-MF1-110\n",
       "4        MF1-12-831-aus     12-831--1-MF1-112\n",
       "...                 ...                   ...\n",
       "124313  Sun4-82-498-aus  82-498--1-Sun4-32374\n",
       "124314  Sun4-82-498-aus  82-498--1-Sun4-32474\n",
       "124315  Sun4-82-498-aus  82-498--1-Sun4-32774\n",
       "124316  Sun4-82-498-aus  82-498--1-Sun4-32874\n",
       "124317  Sun4-82-498-aus  82-498--1-Sun4-33174\n",
       "\n",
       "[124318 rows x 2 columns]"
      ]
     },
     "execution_count": 38,
     "metadata": {},
     "output_type": "execute_result"
    }
   ],
   "source": [
    "DF['4']['trips'][['service_id', 'trip_id']]"
   ]
  },
  {
   "cell_type": "code",
   "execution_count": 5,
   "metadata": {},
   "outputs": [
    {
     "data": {
      "text/html": [
       "<div>\n",
       "<style scoped>\n",
       "    .dataframe tbody tr th:only-of-type {\n",
       "        vertical-align: middle;\n",
       "    }\n",
       "\n",
       "    .dataframe tbody tr th {\n",
       "        vertical-align: top;\n",
       "    }\n",
       "\n",
       "    .dataframe thead th {\n",
       "        text-align: right;\n",
       "    }\n",
       "</style>\n",
       "<table border=\"1\" class=\"dataframe\">\n",
       "  <thead>\n",
       "    <tr style=\"text-align: right;\">\n",
       "      <th></th>\n",
       "      <th>route_id</th>\n",
       "      <th>agency_id</th>\n",
       "      <th>route_short_name</th>\n",
       "      <th>route_long_name</th>\n",
       "      <th>route_type</th>\n",
       "      <th>route_color</th>\n",
       "      <th>route_text_color</th>\n",
       "      <th>route_idx</th>\n",
       "      <th>branch</th>\n",
       "      <th>route_name</th>\n",
       "      <th>route_range</th>\n",
       "      <th>route_id_order</th>\n",
       "    </tr>\n",
       "  </thead>\n",
       "  <tbody>\n",
       "    <tr>\n",
       "      <th>329</th>\n",
       "      <td>39-301-A-aus-1</td>\n",
       "      <td>NaN</td>\n",
       "      <td>301SB</td>\n",
       "      <td>NaN</td>\n",
       "      <td>3</td>\n",
       "      <td>FF8200</td>\n",
       "      <td>FFFFFF</td>\n",
       "      <td>[39, 301, A, aus, 1]</td>\n",
       "      <td>39</td>\n",
       "      <td>301A</td>\n",
       "      <td>aus</td>\n",
       "      <td>1</td>\n",
       "    </tr>\n",
       "    <tr>\n",
       "      <th>330</th>\n",
       "      <td>39-301-aus-1</td>\n",
       "      <td>NaN</td>\n",
       "      <td>301</td>\n",
       "      <td>Reservoir - La Trobe University</td>\n",
       "      <td>3</td>\n",
       "      <td>FF8200</td>\n",
       "      <td>FFFFFF</td>\n",
       "      <td>[39, 301, aus, 1]</td>\n",
       "      <td>39</td>\n",
       "      <td>301</td>\n",
       "      <td>aus</td>\n",
       "      <td>1</td>\n",
       "    </tr>\n",
       "  </tbody>\n",
       "</table>\n",
       "</div>"
      ],
      "text/plain": [
       "           route_id  agency_id route_short_name  \\\n",
       "329  39-301-A-aus-1        NaN            301SB   \n",
       "330    39-301-aus-1        NaN              301   \n",
       "\n",
       "                     route_long_name  route_type route_color route_text_color  \\\n",
       "329                              NaN           3      FF8200           FFFFFF   \n",
       "330  Reservoir - La Trobe University           3      FF8200           FFFFFF   \n",
       "\n",
       "                route_idx branch route_name route_range route_id_order  \n",
       "329  [39, 301, A, aus, 1]     39       301A         aus              1  \n",
       "330     [39, 301, aus, 1]     39        301         aus              1  "
      ]
     },
     "execution_count": 5,
     "metadata": {},
     "output_type": "execute_result"
    }
   ],
   "source": [
    "DF['4']['routes'][DF['4']['routes']['route_name'].str.contains('301')]"
   ]
  },
  {
   "cell_type": "code",
   "execution_count": 32,
   "metadata": {},
   "outputs": [
    {
     "name": "stdout",
     "output_type": "stream",
     "text": [
      "4 shape_id contains null\n"
     ]
    }
   ],
   "source": [
    "for bid in BRANCH_IDS:\n",
    "    if DF[bid]['trips']['shape_id'].isna().any():\n",
    "        print(bid, '> trips > shape_id contains NA')"
   ]
  },
  {
   "cell_type": "code",
   "execution_count": 37,
   "metadata": {},
   "outputs": [],
   "source": [
    "routeId_shapeIdNA = DF['4']['trips'][DF['4']['trips']['shape_id'].isna()]['route_id'].unique()"
   ]
  },
  {
   "cell_type": "code",
   "execution_count": 41,
   "metadata": {},
   "outputs": [
    {
     "data": {
      "text/plain": [
       "array([nan], dtype=object)"
      ]
     },
     "execution_count": 41,
     "metadata": {},
     "output_type": "execute_result"
    }
   ],
   "source": [
    "DF['4']['trips'].groupby('route_id')['shape_id'].unique()[routeId_shapeIdNA[1]]"
   ]
  },
  {
   "cell_type": "code",
   "execution_count": 53,
   "metadata": {},
   "outputs": [
    {
     "data": {
      "text/html": [
       "<div>\n",
       "<style scoped>\n",
       "    .dataframe tbody tr th:only-of-type {\n",
       "        vertical-align: middle;\n",
       "    }\n",
       "\n",
       "    .dataframe tbody tr th {\n",
       "        vertical-align: top;\n",
       "    }\n",
       "\n",
       "    .dataframe thead th {\n",
       "        text-align: right;\n",
       "    }\n",
       "</style>\n",
       "<table border=\"1\" class=\"dataframe\">\n",
       "  <thead>\n",
       "    <tr style=\"text-align: right;\">\n",
       "      <th></th>\n",
       "      <th>route_id</th>\n",
       "      <th>service_id</th>\n",
       "      <th>trip_id</th>\n",
       "      <th>shape_id</th>\n",
       "      <th>trip_headsign</th>\n",
       "      <th>direction_id</th>\n",
       "    </tr>\n",
       "  </thead>\n",
       "  <tbody>\n",
       "    <tr>\n",
       "      <th>50411</th>\n",
       "      <td>19-754-aus-1</td>\n",
       "      <td>MF3-19-754-aus</td>\n",
       "      <td>19-754--1-MF3-4</td>\n",
       "      <td>NaN</td>\n",
       "      <td>Glen Waverley</td>\n",
       "      <td>0</td>\n",
       "    </tr>\n",
       "    <tr>\n",
       "      <th>50412</th>\n",
       "      <td>19-754-aus-1</td>\n",
       "      <td>MF5-19-754-aus</td>\n",
       "      <td>19-754--1-MF5-4</td>\n",
       "      <td>NaN</td>\n",
       "      <td>Glen Waverley</td>\n",
       "      <td>0</td>\n",
       "    </tr>\n",
       "    <tr>\n",
       "      <th>50413</th>\n",
       "      <td>19-754-aus-1</td>\n",
       "      <td>MF6-19-754-aus</td>\n",
       "      <td>19-754--1-MF6-14</td>\n",
       "      <td>NaN</td>\n",
       "      <td>Glen Waverley</td>\n",
       "      <td>0</td>\n",
       "    </tr>\n",
       "    <tr>\n",
       "      <th>94812</th>\n",
       "      <td>39-301-A-aus-1</td>\n",
       "      <td>MF3-39-301-A-aus</td>\n",
       "      <td>39-301-A-1-MF3-516</td>\n",
       "      <td>NaN</td>\n",
       "      <td>Reservoir Station</td>\n",
       "      <td>1</td>\n",
       "    </tr>\n",
       "    <tr>\n",
       "      <th>94813</th>\n",
       "      <td>39-301-A-aus-1</td>\n",
       "      <td>MF6-39-301-A-aus</td>\n",
       "      <td>39-301-A-1-MF6-516</td>\n",
       "      <td>NaN</td>\n",
       "      <td>Reservoir Station</td>\n",
       "      <td>1</td>\n",
       "    </tr>\n",
       "  </tbody>\n",
       "</table>\n",
       "</div>"
      ],
      "text/plain": [
       "             route_id        service_id             trip_id shape_id  \\\n",
       "50411    19-754-aus-1    MF3-19-754-aus     19-754--1-MF3-4      NaN   \n",
       "50412    19-754-aus-1    MF5-19-754-aus     19-754--1-MF5-4      NaN   \n",
       "50413    19-754-aus-1    MF6-19-754-aus    19-754--1-MF6-14      NaN   \n",
       "94812  39-301-A-aus-1  MF3-39-301-A-aus  39-301-A-1-MF3-516      NaN   \n",
       "94813  39-301-A-aus-1  MF6-39-301-A-aus  39-301-A-1-MF6-516      NaN   \n",
       "\n",
       "           trip_headsign  direction_id  \n",
       "50411      Glen Waverley             0  \n",
       "50412      Glen Waverley             0  \n",
       "50413      Glen Waverley             0  \n",
       "94812  Reservoir Station             1  \n",
       "94813  Reservoir Station             1  "
      ]
     },
     "execution_count": 53,
     "metadata": {},
     "output_type": "execute_result"
    }
   ],
   "source": [
    "DF['4']['trips'][DF['4']['trips']['shape_id'].isna()]"
   ]
  },
  {
   "cell_type": "code",
   "execution_count": 47,
   "metadata": {},
   "outputs": [
    {
     "data": {
      "text/html": [
       "<div>\n",
       "<style scoped>\n",
       "    .dataframe tbody tr th:only-of-type {\n",
       "        vertical-align: middle;\n",
       "    }\n",
       "\n",
       "    .dataframe tbody tr th {\n",
       "        vertical-align: top;\n",
       "    }\n",
       "\n",
       "    .dataframe thead th {\n",
       "        text-align: right;\n",
       "    }\n",
       "</style>\n",
       "<table border=\"1\" class=\"dataframe\">\n",
       "  <thead>\n",
       "    <tr style=\"text-align: right;\">\n",
       "      <th></th>\n",
       "      <th>route_id</th>\n",
       "      <th>agency_id</th>\n",
       "      <th>route_short_name</th>\n",
       "      <th>route_long_name</th>\n",
       "      <th>route_type</th>\n",
       "      <th>route_color</th>\n",
       "      <th>route_text_color</th>\n",
       "      <th>route_idx</th>\n",
       "      <th>branch</th>\n",
       "      <th>route_name</th>\n",
       "      <th>route_range</th>\n",
       "      <th>route_id_order</th>\n",
       "    </tr>\n",
       "  </thead>\n",
       "  <tbody>\n",
       "    <tr>\n",
       "      <th>329</th>\n",
       "      <td>39-301-A-aus-1</td>\n",
       "      <td>NaN</td>\n",
       "      <td>301SB</td>\n",
       "      <td>NaN</td>\n",
       "      <td>3</td>\n",
       "      <td>FF8200</td>\n",
       "      <td>FFFFFF</td>\n",
       "      <td>[39, 301, A, aus, 1]</td>\n",
       "      <td>39</td>\n",
       "      <td>301A</td>\n",
       "      <td>aus</td>\n",
       "      <td>1</td>\n",
       "    </tr>\n",
       "    <tr>\n",
       "      <th>330</th>\n",
       "      <td>39-301-aus-1</td>\n",
       "      <td>NaN</td>\n",
       "      <td>301</td>\n",
       "      <td>Reservoir - La Trobe University</td>\n",
       "      <td>3</td>\n",
       "      <td>FF8200</td>\n",
       "      <td>FFFFFF</td>\n",
       "      <td>[39, 301, aus, 1]</td>\n",
       "      <td>39</td>\n",
       "      <td>301</td>\n",
       "      <td>aus</td>\n",
       "      <td>1</td>\n",
       "    </tr>\n",
       "  </tbody>\n",
       "</table>\n",
       "</div>"
      ],
      "text/plain": [
       "           route_id  agency_id route_short_name  \\\n",
       "329  39-301-A-aus-1        NaN            301SB   \n",
       "330    39-301-aus-1        NaN              301   \n",
       "\n",
       "                     route_long_name  route_type route_color route_text_color  \\\n",
       "329                              NaN           3      FF8200           FFFFFF   \n",
       "330  Reservoir - La Trobe University           3      FF8200           FFFFFF   \n",
       "\n",
       "                route_idx branch route_name route_range route_id_order  \n",
       "329  [39, 301, A, aus, 1]     39       301A         aus              1  \n",
       "330     [39, 301, aus, 1]     39        301         aus              1  "
      ]
     },
     "execution_count": 47,
     "metadata": {},
     "output_type": "execute_result"
    }
   ],
   "source": [
    "DF['4']['routes'][DF['4']['routes']['route_short_name'].str.contains('301')]"
   ]
  },
  {
   "cell_type": "code",
   "execution_count": 48,
   "metadata": {},
   "outputs": [
    {
     "data": {
      "text/html": [
       "<div>\n",
       "<style scoped>\n",
       "    .dataframe tbody tr th:only-of-type {\n",
       "        vertical-align: middle;\n",
       "    }\n",
       "\n",
       "    .dataframe tbody tr th {\n",
       "        vertical-align: top;\n",
       "    }\n",
       "\n",
       "    .dataframe thead th {\n",
       "        text-align: right;\n",
       "    }\n",
       "</style>\n",
       "<table border=\"1\" class=\"dataframe\">\n",
       "  <thead>\n",
       "    <tr style=\"text-align: right;\">\n",
       "      <th></th>\n",
       "      <th>route_id</th>\n",
       "      <th>service_id</th>\n",
       "      <th>trip_id</th>\n",
       "      <th>shape_id</th>\n",
       "      <th>trip_headsign</th>\n",
       "      <th>direction_id</th>\n",
       "    </tr>\n",
       "  </thead>\n",
       "  <tbody>\n",
       "    <tr>\n",
       "      <th>94812</th>\n",
       "      <td>39-301-A-aus-1</td>\n",
       "      <td>MF3-39-301-A-aus</td>\n",
       "      <td>39-301-A-1-MF3-516</td>\n",
       "      <td>NaN</td>\n",
       "      <td>Reservoir Station</td>\n",
       "      <td>1</td>\n",
       "    </tr>\n",
       "    <tr>\n",
       "      <th>94813</th>\n",
       "      <td>39-301-A-aus-1</td>\n",
       "      <td>MF6-39-301-A-aus</td>\n",
       "      <td>39-301-A-1-MF6-516</td>\n",
       "      <td>NaN</td>\n",
       "      <td>Reservoir Station</td>\n",
       "      <td>1</td>\n",
       "    </tr>\n",
       "    <tr>\n",
       "      <th>94814</th>\n",
       "      <td>39-301-aus-1</td>\n",
       "      <td>MF3-39-301-aus</td>\n",
       "      <td>39-301--1-MF3-443</td>\n",
       "      <td>39-301-aus-1.2.H</td>\n",
       "      <td>Reservoir</td>\n",
       "      <td>0</td>\n",
       "    </tr>\n",
       "    <tr>\n",
       "      <th>94815</th>\n",
       "      <td>39-301-aus-1</td>\n",
       "      <td>MF3-39-301-aus</td>\n",
       "      <td>39-301--1-MF3-444</td>\n",
       "      <td>39-301-aus-1.2.H</td>\n",
       "      <td>Reservoir</td>\n",
       "      <td>0</td>\n",
       "    </tr>\n",
       "    <tr>\n",
       "      <th>94816</th>\n",
       "      <td>39-301-aus-1</td>\n",
       "      <td>MF3-39-301-aus</td>\n",
       "      <td>39-301--1-MF3-445</td>\n",
       "      <td>39-301-aus-1.2.H</td>\n",
       "      <td>Reservoir</td>\n",
       "      <td>0</td>\n",
       "    </tr>\n",
       "    <tr>\n",
       "      <th>...</th>\n",
       "      <td>...</td>\n",
       "      <td>...</td>\n",
       "      <td>...</td>\n",
       "      <td>...</td>\n",
       "      <td>...</td>\n",
       "      <td>...</td>\n",
       "    </tr>\n",
       "    <tr>\n",
       "      <th>95101</th>\n",
       "      <td>39-301-aus-1</td>\n",
       "      <td>MF6-39-301-aus</td>\n",
       "      <td>39-301--1-MF6-585</td>\n",
       "      <td>39-301-aus-1.3.R</td>\n",
       "      <td>La Trobe University</td>\n",
       "      <td>1</td>\n",
       "    </tr>\n",
       "    <tr>\n",
       "      <th>95102</th>\n",
       "      <td>39-301-aus-1</td>\n",
       "      <td>MF6-39-301-aus</td>\n",
       "      <td>39-301--1-MF6-586</td>\n",
       "      <td>39-301-aus-1.3.R</td>\n",
       "      <td>La Trobe University</td>\n",
       "      <td>1</td>\n",
       "    </tr>\n",
       "    <tr>\n",
       "      <th>95103</th>\n",
       "      <td>39-301-aus-1</td>\n",
       "      <td>MF6-39-301-aus</td>\n",
       "      <td>39-301--1-MF6-587</td>\n",
       "      <td>39-301-aus-1.3.R</td>\n",
       "      <td>La Trobe University</td>\n",
       "      <td>1</td>\n",
       "    </tr>\n",
       "    <tr>\n",
       "      <th>95104</th>\n",
       "      <td>39-301-aus-1</td>\n",
       "      <td>MF6-39-301-aus</td>\n",
       "      <td>39-301--1-MF6-588</td>\n",
       "      <td>39-301-aus-1.3.R</td>\n",
       "      <td>La Trobe University</td>\n",
       "      <td>1</td>\n",
       "    </tr>\n",
       "    <tr>\n",
       "      <th>95105</th>\n",
       "      <td>39-301-aus-1</td>\n",
       "      <td>MF6-39-301-aus</td>\n",
       "      <td>39-301--1-MF6-589</td>\n",
       "      <td>39-301-aus-1.3.R</td>\n",
       "      <td>La Trobe University</td>\n",
       "      <td>1</td>\n",
       "    </tr>\n",
       "  </tbody>\n",
       "</table>\n",
       "<p>294 rows × 6 columns</p>\n",
       "</div>"
      ],
      "text/plain": [
       "             route_id        service_id             trip_id          shape_id  \\\n",
       "94812  39-301-A-aus-1  MF3-39-301-A-aus  39-301-A-1-MF3-516               NaN   \n",
       "94813  39-301-A-aus-1  MF6-39-301-A-aus  39-301-A-1-MF6-516               NaN   \n",
       "94814    39-301-aus-1    MF3-39-301-aus   39-301--1-MF3-443  39-301-aus-1.2.H   \n",
       "94815    39-301-aus-1    MF3-39-301-aus   39-301--1-MF3-444  39-301-aus-1.2.H   \n",
       "94816    39-301-aus-1    MF3-39-301-aus   39-301--1-MF3-445  39-301-aus-1.2.H   \n",
       "...               ...               ...                 ...               ...   \n",
       "95101    39-301-aus-1    MF6-39-301-aus   39-301--1-MF6-585  39-301-aus-1.3.R   \n",
       "95102    39-301-aus-1    MF6-39-301-aus   39-301--1-MF6-586  39-301-aus-1.3.R   \n",
       "95103    39-301-aus-1    MF6-39-301-aus   39-301--1-MF6-587  39-301-aus-1.3.R   \n",
       "95104    39-301-aus-1    MF6-39-301-aus   39-301--1-MF6-588  39-301-aus-1.3.R   \n",
       "95105    39-301-aus-1    MF6-39-301-aus   39-301--1-MF6-589  39-301-aus-1.3.R   \n",
       "\n",
       "             trip_headsign  direction_id  \n",
       "94812    Reservoir Station             1  \n",
       "94813    Reservoir Station             1  \n",
       "94814            Reservoir             0  \n",
       "94815            Reservoir             0  \n",
       "94816            Reservoir             0  \n",
       "...                    ...           ...  \n",
       "95101  La Trobe University             1  \n",
       "95102  La Trobe University             1  \n",
       "95103  La Trobe University             1  \n",
       "95104  La Trobe University             1  \n",
       "95105  La Trobe University             1  \n",
       "\n",
       "[294 rows x 6 columns]"
      ]
     },
     "execution_count": 48,
     "metadata": {},
     "output_type": "execute_result"
    }
   ],
   "source": [
    "DF['4']['trips'][DF['4']['trips']['route_id'].str.contains('39-301-')]"
   ]
  },
  {
   "cell_type": "code",
   "execution_count": 56,
   "metadata": {},
   "outputs": [
    {
     "data": {
      "text/html": [
       "<div>\n",
       "<style scoped>\n",
       "    .dataframe tbody tr th:only-of-type {\n",
       "        vertical-align: middle;\n",
       "    }\n",
       "\n",
       "    .dataframe tbody tr th {\n",
       "        vertical-align: top;\n",
       "    }\n",
       "\n",
       "    .dataframe thead th {\n",
       "        text-align: right;\n",
       "    }\n",
       "</style>\n",
       "<table border=\"1\" class=\"dataframe\">\n",
       "  <thead>\n",
       "    <tr style=\"text-align: right;\">\n",
       "      <th></th>\n",
       "      <th>trip_id</th>\n",
       "      <th>arrival_time</th>\n",
       "      <th>departure_time</th>\n",
       "      <th>stop_id</th>\n",
       "      <th>stop_sequence</th>\n",
       "      <th>stop_headsign</th>\n",
       "      <th>pickup_type</th>\n",
       "      <th>drop_off_type</th>\n",
       "      <th>shape_dist_traveled</th>\n",
       "      <th>stop_name</th>\n",
       "      <th>stop_lat</th>\n",
       "      <th>stop_lon</th>\n",
       "    </tr>\n",
       "  </thead>\n",
       "  <tbody>\n",
       "    <tr>\n",
       "      <th>5197169</th>\n",
       "      <td>19-754--1-MF3-4</td>\n",
       "      <td>06:59:00</td>\n",
       "      <td>06:59:00</td>\n",
       "      <td>21015</td>\n",
       "      <td>2</td>\n",
       "      <td>NaN</td>\n",
       "      <td>0</td>\n",
       "      <td>0</td>\n",
       "      <td>0.0</td>\n",
       "      <td>Glen Waverley Station/Railway Pde (Glen Waverley)</td>\n",
       "      <td>-37.879473</td>\n",
       "      <td>145.162979</td>\n",
       "    </tr>\n",
       "    <tr>\n",
       "      <th>5200859</th>\n",
       "      <td>19-754--1-MF3-4</td>\n",
       "      <td>06:39:00</td>\n",
       "      <td>06:39:00</td>\n",
       "      <td>21316</td>\n",
       "      <td>1</td>\n",
       "      <td>NaN</td>\n",
       "      <td>0</td>\n",
       "      <td>0</td>\n",
       "      <td>0.0</td>\n",
       "      <td>Stud Park SC (Rowville)</td>\n",
       "      <td>-37.919465</td>\n",
       "      <td>145.237567</td>\n",
       "    </tr>\n",
       "  </tbody>\n",
       "</table>\n",
       "</div>"
      ],
      "text/plain": [
       "                 trip_id arrival_time departure_time  stop_id  stop_sequence  \\\n",
       "5197169  19-754--1-MF3-4     06:59:00       06:59:00    21015              2   \n",
       "5200859  19-754--1-MF3-4     06:39:00       06:39:00    21316              1   \n",
       "\n",
       "         stop_headsign  pickup_type  drop_off_type  shape_dist_traveled  \\\n",
       "5197169            NaN            0              0                  0.0   \n",
       "5200859            NaN            0              0                  0.0   \n",
       "\n",
       "                                                 stop_name   stop_lat  \\\n",
       "5197169  Glen Waverley Station/Railway Pde (Glen Waverley) -37.879473   \n",
       "5200859                            Stud Park SC (Rowville) -37.919465   \n",
       "\n",
       "           stop_lon  \n",
       "5197169  145.162979  \n",
       "5200859  145.237567  "
      ]
     },
     "execution_count": 56,
     "metadata": {},
     "output_type": "execute_result"
    }
   ],
   "source": [
    "DF['4']['stop_times'][DF['4']['stop_times']['trip_id'] == '19-754--1-MF3-4']"
   ]
  },
  {
   "cell_type": "code",
   "execution_count": 52,
   "metadata": {},
   "outputs": [],
   "source": [
    "for bid in BRANCH_IDS:\n",
    "    DF[bid]['stop_times'] = pd.merge(DF[bid]['stop_times'], DF[bid]['stops'], on='stop_id')"
   ]
  },
  {
   "cell_type": "code",
   "execution_count": null,
   "metadata": {},
   "outputs": [],
   "source": [
    "bid = '2'\n",
    "dft = DF[bid]['stop_times'].groupby('trip_id')['stop_id'].apply(lambda x: x.to_numpy()).to_frame(name='stops_sequence').reset_index()\n",
    "dft = pd.merge(DF[bid]['trips'], dft, on='trip_id')\n",
    "dft = pd.merge(DF[bid]['routes'], dft, on='route_id')\n",
    "dft['stops_count'] = dft['stops_sequence'].apply(lambda x: len(x))"
   ]
  },
  {
   "cell_type": "code",
   "execution_count": null,
   "metadata": {},
   "outputs": [],
   "source": [
    "DF['1']['routes']"
   ]
  },
  {
   "cell_type": "code",
   "execution_count": null,
   "metadata": {},
   "outputs": [],
   "source": [
    "for bid in BRANCH_IDS:\n",
    "    dfrt = pd.merge(DF[bid]['routes'], DF[bid]['trips'], on='route_id')\n",
    "    dfrd = dfrt[['route_short_name', 'trip_headsign' ,'direction_id']].drop_duplicates()\n",
    "    print(dfrd.groupby(['route_short_name', 'direction_id']).value_counts().nunique())\n",
    "    \n"
   ]
  },
  {
   "cell_type": "code",
   "execution_count": null,
   "metadata": {},
   "outputs": [],
   "source": [
    "for bid in BRANCH_IDS:\n",
    "    if not (DF[bid]['routes']['route_short_name'].notna().all() or DF[bid]['routes']['route_short_name'].isna().all()):\n",
    "        print(bid)"
   ]
  },
  {
   "cell_type": "code",
   "execution_count": null,
   "metadata": {},
   "outputs": [],
   "source": [
    "dfshapes = pd.concat([DF[bid]['shapes'] for bid in BRANCH_IDS]).groupby('shape_id')[['shape_pt_lon', 'shape_pt_lat']].apply(lambda x: x.to_numpy())"
   ]
  },
  {
   "cell_type": "code",
   "execution_count": null,
   "metadata": {},
   "outputs": [],
   "source": [
    "dfshapes"
   ]
  },
  {
   "cell_type": "code",
   "execution_count": null,
   "metadata": {},
   "outputs": [],
   "source": [
    "bid = '4'\n",
    "k_short_long_names = {}\n",
    "k_route_order = {}\n",
    "k_range = {}\n",
    "k_type = {}\n",
    "k_branches = {}\n",
    "for bid in BRANCH_IDS_ALL:\n",
    "    k_short_long_names[bid] = DF[bid]['routes'].dropna(subset=['route_short_name', 'route_long_name']).groupby('route_long_name')['route_short_name'].nunique().unique()\n",
    "    k_range[bid] = DF[bid]['routes']['route_range'].unique()\n",
    "    k_type[bid] = DF[bid]['routes']['route_type'].apply(lambda x: ROUTE_TYPES[x]).unique()\n",
    "    k_route_order[bid] = DF[bid]['routes']['route_id_order'].unique()\n",
    "    k_branches[bid] = DF[bid]['routes']['branch'].unique()"
   ]
  },
  {
   "cell_type": "code",
   "execution_count": null,
   "metadata": {},
   "outputs": [],
   "source": [
    "k_branches"
   ]
  },
  {
   "cell_type": "code",
   "execution_count": null,
   "metadata": {},
   "outputs": [],
   "source": [
    "DF['8']['routes']['route_short_name'].sort_values().unique()"
   ]
  },
  {
   "cell_type": "code",
   "execution_count": null,
   "metadata": {},
   "outputs": [],
   "source": [
    "DF['4']['routes']['route_short_name'].sort_values().unique()"
   ]
  },
  {
   "cell_type": "code",
   "execution_count": null,
   "metadata": {},
   "outputs": [],
   "source": [
    "DF['2']['routes'].dropna(subset=['route_short_name', 'route_long_name']).groupby('route_short_name')['route_long_name'].unique()"
   ]
  },
  {
   "cell_type": "code",
   "execution_count": null,
   "metadata": {},
   "outputs": [],
   "source": [
    "bid = '10'\n",
    "DF[bid]['routes'][(DF[bid]['routes']['route_short_name'].astype(str) != DF[bid]['routes']['route_name']) & (DF[bid]['routes']['route_short_name'].notna())]\n",
    "DF[bid]['routes']"
   ]
  },
  {
   "cell_type": "code",
   "execution_count": null,
   "metadata": {},
   "outputs": [],
   "source": [
    "DF['4']['routes']['route_id'].transform(lambda x: x.split('-')[2]).unique()"
   ]
  },
  {
   "cell_type": "code",
   "execution_count": null,
   "metadata": {},
   "outputs": [],
   "source": [
    "DF['11']['routes']['route_short_name'].isna().all()"
   ]
  },
  {
   "cell_type": "code",
   "execution_count": null,
   "metadata": {},
   "outputs": [],
   "source": [
    "DF['4']['routes']['route_id'].transform(lambda x: x.split('-')[1]).unique()"
   ]
  },
  {
   "cell_type": "code",
   "execution_count": null,
   "metadata": {},
   "outputs": [],
   "source": [
    "bid = '5'\n",
    "dfrt = pd.merge(DF[bid]['routes'], DF[bid]['trips'], on='route_id')\n",
    "dfrd = dfrt[['route_short_name', 'trip_headsign' ,'direction_id']].drop_duplicates()\n",
    "dfrd"
   ]
  },
  {
   "cell_type": "code",
   "execution_count": null,
   "metadata": {},
   "outputs": [],
   "source": [
    "dfrd.groupby(['route_short_name', 'direction_id']).value_counts()"
   ]
  },
  {
   "cell_type": "code",
   "execution_count": null,
   "metadata": {},
   "outputs": [],
   "source": [
    "dfrd.groupby(['route_short_name', 'direction_id']).value_counts().nunique()"
   ]
  },
  {
   "cell_type": "code",
   "execution_count": null,
   "metadata": {},
   "outputs": [],
   "source": [
    "dft.groupby('route_id')['service_id'].unique()"
   ]
  },
  {
   "cell_type": "code",
   "execution_count": null,
   "metadata": {},
   "outputs": [],
   "source": [
    "bid = '3'"
   ]
  },
  {
   "cell_type": "code",
   "execution_count": null,
   "metadata": {},
   "outputs": [],
   "source": [
    "df_trams = DF['3']['stop_times'].groupby('trip_id')['stop_id'].apply(lambda x: x.to_numpy()).to_frame(name='stops_sequence').reset_index()\n",
    "df_trams = pd.merge(DF['3']['trips'], df_trams, on='trip_id')\n",
    "df_trams = pd.merge(DF['3']['routes'], df_trams, on='route_id')\n",
    "df_trams['stops_count'] = df_trams['stops_sequence'].apply(lambda x: len(x))\n",
    "df_trams = df_trams.sort_values(by=['route_short_name', 'stops_count'], ascending=False).drop_duplicates(subset=['route_short_name', 'trip_headsign', 'direction_id'], keep='first')\n",
    "\n",
    "df_tram_stops = pd.merge(DF['3']['stop_times'], DF['3']['trips'], on='trip_id')\n",
    "df_tram_stops = pd.merge(df_tram_stops, DF['3']['routes'], on='route_id')\n",
    "df_tram_stops  = df_tram_stops.groupby(['route_short_name', 'trip_headsign', 'direction_id'])['stop_id'].apply(lambda x: x.unique()).to_frame(name='stops').reset_index()\n",
    "\n",
    "df_trams = df_trams.merge(df_tram_stops, on=['route_short_name', 'trip_headsign', 'direction_id'])\n",
    "\n",
    "df_trams['stops_count_2'] = df_trams['stops'].apply(lambda x: len(x))\n",
    "df_trams['stops_set_1'] = df_trams['stops_sequence'].apply(lambda x: sorted(x))\n",
    "df_trams['stops_set_2'] = df_trams['stops'].apply(lambda x: sorted(x))\n",
    "\n",
    "df_trams['stops_set_1_size'] = df_trams['stops_set_1'].apply(lambda x: len(set(x)))\n",
    "df_trams['stops_set_2_size'] = df_trams['stops_set_2'].apply(lambda x: len(set(x)))"
   ]
  },
  {
   "cell_type": "code",
   "execution_count": null,
   "metadata": {},
   "outputs": [],
   "source": [
    "df_trams[df_trams['stops_set_1'] != df_trams['stops_set_2']].iloc[2]['stops_sequence']"
   ]
  },
  {
   "cell_type": "code",
   "execution_count": null,
   "metadata": {},
   "outputs": [],
   "source": [
    "df_routes_full = pd.merge(DF['3']['trips'], DF['3']['routes'], on='route_id', how='left')"
   ]
  },
  {
   "cell_type": "code",
   "execution_count": null,
   "metadata": {},
   "outputs": [],
   "source": [
    "df_routes_full = pd.merge(df_routes_full, DF['3']['stop_times'], on='trip_id', how='left')"
   ]
  },
  {
   "cell_type": "code",
   "execution_count": null,
   "metadata": {},
   "outputs": [],
   "source": [
    "df_trams['anomalies'] = df_trams.apply(lambda x: set(x['stops']) - set(x['stops_sequence']), axis=1)"
   ]
  },
  {
   "cell_type": "code",
   "execution_count": null,
   "metadata": {},
   "outputs": [],
   "source": [
    "df_anomalies = df_trams[df_trams['anomalies'].apply(lambda x: len(x) > 0)][['route_short_name', 'trip_headsign', 'direction_id', 'anomalies']]"
   ]
  },
  {
   "cell_type": "code",
   "execution_count": null,
   "metadata": {},
   "outputs": [],
   "source": [
    "df_at = df_anomalies.explode('anomalies').merge(df_routes_full, left_on=['route_short_name', 'trip_headsign', 'direction_id', 'anomalies'], right_on=['route_short_name', 'trip_headsign', 'direction_id', 'stop_id']).sort_values(by=['trip_id', 'stop_sequence'], ascending=True)\n",
    "df_at = df_at.groupby('trip_id')['stop_id'].apply(lambda x: x.to_numpy()).to_frame(name='stops_sequence').reset_index()"
   ]
  },
  {
   "cell_type": "code",
   "execution_count": null,
   "metadata": {},
   "outputs": [],
   "source": [
    "df_at = df_at.groupby('trip_id')['stop_id'].apply(lambda x: x.to_numpy()).to_frame(name='stops_sequence').reset_index()"
   ]
  },
  {
   "cell_type": "code",
   "execution_count": null,
   "metadata": {},
   "outputs": [],
   "source": [
    "df_at = pd.merge(DF['3']['trips'], df_at, on='trip_id')"
   ]
  },
  {
   "cell_type": "code",
   "execution_count": null,
   "metadata": {},
   "outputs": [],
   "source": [
    "df_at['stops_count'] = df_at['stops_sequence'].apply(lambda x: len(x))"
   ]
  },
  {
   "cell_type": "code",
   "execution_count": null,
   "metadata": {},
   "outputs": [],
   "source": [
    "df_at = pd.merge(DF['3']['routes'], df_at, on='route_id')"
   ]
  },
  {
   "cell_type": "code",
   "execution_count": null,
   "metadata": {},
   "outputs": [],
   "source": [
    "df_at = df_at.sort_values(by=['route_short_name', 'stops_count'], ascending=False).drop_duplicates(subset=['route_short_name', 'trip_headsign', 'direction_id'], keep='first').merge(df_anomalies, on=['route_short_name', 'trip_headsign', 'direction_id'], how='left')"
   ]
  },
  {
   "cell_type": "code",
   "execution_count": null,
   "metadata": {},
   "outputs": [],
   "source": [
    "df_at[df_at.apply(lambda x: set(x['anomalies']) - set(x['stops_sequence']), axis=1).apply(lambda x: len(x) > 0)]"
   ]
  },
  {
   "cell_type": "code",
   "execution_count": null,
   "metadata": {},
   "outputs": [],
   "source": [
    "df_at = df_at[['route_short_name', 'trip_headsign', 'direction_id', 'trip_id']]"
   ]
  },
  {
   "cell_type": "code",
   "execution_count": null,
   "metadata": {},
   "outputs": [],
   "source": [
    "df_at = df_at.merge(DF['3']['stop_times'], on='trip_id')"
   ]
  },
  {
   "cell_type": "code",
   "execution_count": null,
   "metadata": {},
   "outputs": [],
   "source": [
    "df_at = df_at.groupby('trip_id')['stop_id'].apply(lambda x: x.to_numpy()).to_frame(name='stops_sequence').reset_index()"
   ]
  },
  {
   "cell_type": "code",
   "execution_count": null,
   "metadata": {},
   "outputs": [],
   "source": [
    "df_at = pd.merge(DF['3']['trips'], df_at, on='trip_id')\n",
    "df_at = pd.merge(DF['3']['routes'], df_at, on='route_id')"
   ]
  },
  {
   "cell_type": "code",
   "execution_count": null,
   "metadata": {},
   "outputs": [],
   "source": [
    "df_at = pd.concat([df_at, df_trams])"
   ]
  },
  {
   "cell_type": "code",
   "execution_count": null,
   "metadata": {},
   "outputs": [],
   "source": [
    "df_at.drop(columns=['anomalies', 'stops_count', 'stops', 'stops_count_2', 'stops_set_1', 'stops_set_2', 'stops_set_1_size', 'stops_set_2_size'], inplace=True)"
   ]
  },
  {
   "cell_type": "code",
   "execution_count": null,
   "metadata": {},
   "outputs": [],
   "source": [
    "df_at['stops_count'] = df_at['stops_sequence'].apply(lambda x: len(x))"
   ]
  },
  {
   "cell_type": "code",
   "execution_count": null,
   "metadata": {},
   "outputs": [],
   "source": [
    "df_at.sort_values(by=['route_short_name', 'trip_headsign', 'direction_id', 'stops_count'], ascending=False, inplace=True)\n",
    "df_at.to_csv('trips.csv', index=False)"
   ]
  },
  {
   "cell_type": "code",
   "execution_count": null,
   "metadata": {},
   "outputs": [],
   "source": [
    "DF['3']['shapes']['point'] = DF['3']['shapes'].apply(lambda x: sg.Point(x['shape_pt_lon'], x['shape_pt_lat']), axis=1)"
   ]
  },
  {
   "cell_type": "code",
   "execution_count": null,
   "metadata": {},
   "outputs": [],
   "source": [
    "df_lines = DF['3']['shapes'].groupby('shape_id')['point'].apply(lambda x: sg.LineString(x.to_numpy())).to_frame(name='line').reset_index()"
   ]
  },
  {
   "cell_type": "code",
   "execution_count": null,
   "metadata": {},
   "outputs": [],
   "source": [
    "DF['3']['stops']['stop_pt'] = DF['3']['stops'].apply(lambda x: sg.Point(x['stop_lon'], x['stop_lat']), axis=1)"
   ]
  },
  {
   "cell_type": "code",
   "execution_count": null,
   "metadata": {},
   "outputs": [],
   "source": [
    "df_geo = pd.merge(DF['3']['stop_times'], DF['3']['trips'][['trip_id', 'shape_id']], on='trip_id')\n",
    "df_geo = pd.merge(df_geo, df_lines, on='shape_id')\n",
    "df_geo = df_geo[['shape_id', 'stop_id']].drop_duplicates()\n",
    "df_geo = pd.merge(df_geo, df_lines, on='shape_id')\n",
    "df_geo = pd.merge(df_geo, DF['3']['stops'][['stop_id', 'stop_pt']], on='stop_id')"
   ]
  },
  {
   "cell_type": "code",
   "execution_count": null,
   "metadata": {},
   "outputs": [],
   "source": [
    "df_geo[df_geo.apply(lambda x: x['line'].contains(x['stop_pt']), axis=1)]"
   ]
  },
  {
   "cell_type": "code",
   "execution_count": null,
   "metadata": {},
   "outputs": [],
   "source": [
    "bid = '4'\n",
    "dfrt = pd.merge(DF[bid]['routes'], DF[bid]['trips'], on='route_id')\n",
    "# assert dfrt.apply(lambda x: str(x['route_short_name']) in x['route_id'], axis=1).all()\n"
   ]
  },
  {
   "cell_type": "code",
   "execution_count": null,
   "metadata": {},
   "outputs": [],
   "source": [
    "assert dfrt.apply(lambda x: str(x['route_id']) in str(x['shape_id']), axis=1).all()\n",
    "assert dfrt.apply(lambda x: x['shape_id'] in x['trip_id'], axis=1).all()\n"
   ]
  },
  {
   "cell_type": "code",
   "execution_count": null,
   "metadata": {},
   "outputs": [],
   "source": [
    "bid = '5'\n",
    "dfrt = pd.merge(DF[bid]['routes'], DF[bid]['trips'], on='route_id')\n",
    "dfrt.dropna(subset=['shape_id'], inplace=True)\n",
    "dfrt['shape_id_x'] = dfrt['shape_id'].apply(lambda x: x.split('.'))\n",
    "shape_id_x = dfrt['shape_id_x'].apply(len).unique()\n",
    "assert len(shape_id_x) == 1\n",
    "shape_id_count = shape_id_x[0]\n",
    "for i in range(shape_id_count):\n",
    "    dfrt[f'shape_id_{i}'] = dfrt['shape_id_x'].apply(lambda x: x[i])\n",
    "dfrt[['shape_id_1', 'shape_id_2']].sort_values(by=['shape_id_1', 'shape_id_2'], ascending=True).value_counts()\n"
   ]
  },
  {
   "cell_type": "code",
   "execution_count": null,
   "metadata": {},
   "outputs": [],
   "source": [
    "bid = '11'\n",
    "dfrt = pd.merge(DF[bid]['routes'], DF[bid]['trips'], on='route_id')\n",
    "dfrt.groupby('route_id')['direction_id'].unique().apply(len).value_counts()"
   ]
  },
  {
   "cell_type": "code",
   "execution_count": null,
   "metadata": {},
   "outputs": [],
   "source": [
    "dfrt[['shape_id_1', 'shape_id_2']].value_counts()"
   ]
  },
  {
   "cell_type": "code",
   "execution_count": null,
   "metadata": {},
   "outputs": [],
   "source": [
    "bid = '11'\n",
    "DF[bid]['routes'][DF[bid]['routes'].apply(lambda x: str(x['route_short_name']) not in x['route_id'], axis=1)]"
   ]
  },
  {
   "cell_type": "code",
   "execution_count": null,
   "metadata": {},
   "outputs": [],
   "source": [
    "dfrt[['direction_id', 'trip_id_4']].value_counts()"
   ]
  },
  {
   "cell_type": "code",
   "execution_count": null,
   "metadata": {},
   "outputs": [],
   "source": [
    "DF['3']['trips']['direction_id'].unique()"
   ]
  },
  {
   "cell_type": "code",
   "execution_count": null,
   "metadata": {},
   "outputs": [],
   "source": [
    "DF['5']['trips']['direction_id']"
   ]
  },
  {
   "cell_type": "code",
   "execution_count": null,
   "metadata": {},
   "outputs": [],
   "source": [
    "assert dfrt.apply(lambda x: x['shape_id'] in x['trip_id'], axis=1).all()"
   ]
  },
  {
   "cell_type": "code",
   "execution_count": null,
   "metadata": {},
   "outputs": [],
   "source": [
    "dfrt['shape_id_1'].unique()"
   ]
  },
  {
   "cell_type": "code",
   "execution_count": null,
   "metadata": {},
   "outputs": [],
   "source": [
    "assert dfrt['shape_id_x'].apply(len).nunique()"
   ]
  },
  {
   "cell_type": "code",
   "execution_count": null,
   "metadata": {},
   "outputs": [],
   "source": [
    "dfrt['trip_id_x'].apply(len).unique()"
   ]
  },
  {
   "cell_type": "code",
   "execution_count": null,
   "metadata": {},
   "outputs": [],
   "source": [
    "dfrt['shape_id_2'] = dfrt['shape_id_1'].apply(lambda x: x[1])\n",
    "dfrt['trip_id_2'] = dfrt['trip_id_1'].apply(lambda x: x[1])\n"
   ]
  },
  {
   "cell_type": "code",
   "execution_count": null,
   "metadata": {},
   "outputs": [],
   "source": [
    "pd.merge(DF['3']['routes'], DF['3']['trips'], on='route_id').groupby(['route_short_name', 'trip_headsign', 'direction_id'])['shape_id'].unique()"
   ]
  }
 ],
 "metadata": {
  "kernelspec": {
   "display_name": "Python 3",
   "language": "python",
   "name": "python3"
  },
  "language_info": {
   "codemirror_mode": {
    "name": "ipython",
    "version": 3
   },
   "file_extension": ".py",
   "mimetype": "text/x-python",
   "name": "python",
   "nbconvert_exporter": "python",
   "pygments_lexer": "ipython3",
   "version": "3.12.0"
  }
 },
 "nbformat": 4,
 "nbformat_minor": 2
}
