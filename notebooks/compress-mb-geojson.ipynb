{
 "cells": [
  {
   "cell_type": "code",
   "execution_count": 1,
   "metadata": {},
   "outputs": [],
   "source": [
    "import pandas as pd\n",
    "import geopandas as gpd\n",
    "import numpy as np\n",
    "import os\n",
    "from shapely.geometry import LineString, MultiLineString, Polygon\n",
    "from shapely.geometry.base import GeometrySequence"
   ]
  },
  {
   "cell_type": "code",
   "execution_count": 3,
   "metadata": {},
   "outputs": [
    {
     "name": "stderr",
     "output_type": "stream",
     "text": [
      "C:\\Users\\An\\AppData\\Local\\Temp\\ipykernel_8360\\298017243.py:2: FutureWarning: The behavior of DataFrame concatenation with empty or all-NA entries is deprecated. In a future version, this will no longer exclude empty or all-NA columns when determining the result dtypes. To retain the old behavior, exclude the relevant entries before the concat operation.\n",
      "  GDF : gpd.GeoDataFrame = gpd.GeoDataFrame(pd.concat([gpd.read_file(f'../data/core/mb-geojson/{file}') for file in os.listdir('../data/core/mb-geojson')], ignore_index=True))\n"
     ]
    }
   ],
   "source": [
    "# 1 liner to import a geodataframe of all meshblocks data\n",
    "GDF : gpd.GeoDataFrame = gpd.GeoDataFrame(pd.concat([gpd.read_file(f'../data/core/mb-geojson/{file}') for file in os.listdir('../data/core/mb-geojson')], ignore_index=True))\n",
    "# 20 - 30 secs per file. About 5 - 15 - 20 minutes total."
   ]
  },
  {
   "cell_type": "code",
   "execution_count": null,
   "metadata": {},
   "outputs": [],
   "source": [
    "GDF = GDF[['MB_CODE21', 'SA4_CODE21', 'geometry']]\n",
    "GDF.rename(columns={'MB_CODE21': 'id'}, inplace=True)\n",
    "GDF.set_index('id', inplace=True)\n",
    "os.makedirs('../data/mb-geojson', exist_ok=True)"
   ]
  },
  {
   "cell_type": "code",
   "execution_count": 8,
   "metadata": {},
   "outputs": [
    {
     "data": {
      "text/html": [
       "<div>\n",
       "<style scoped>\n",
       "    .dataframe tbody tr th:only-of-type {\n",
       "        vertical-align: middle;\n",
       "    }\n",
       "\n",
       "    .dataframe tbody tr th {\n",
       "        vertical-align: top;\n",
       "    }\n",
       "\n",
       "    .dataframe thead th {\n",
       "        text-align: right;\n",
       "    }\n",
       "</style>\n",
       "<table border=\"1\" class=\"dataframe\">\n",
       "  <thead>\n",
       "    <tr style=\"text-align: right;\">\n",
       "      <th></th>\n",
       "    </tr>\n",
       "  </thead>\n",
       "  <tbody>\n",
       "  </tbody>\n",
       "</table>\n",
       "</div>"
      ],
      "text/plain": [
       "Empty DataFrame\n",
       "Columns: []\n",
       "Index: []"
      ]
     },
     "execution_count": 8,
     "metadata": {},
     "output_type": "execute_result"
    }
   ],
   "source": [
    "\n",
    "GDF.groupby('SA4_CODE21').apply(lambda x: x[['geometry']].to_file(f'../data/mb-geojson/MB-SA4-{x.name}.geojson', driver='GeoJSON', index=True))\n",
    "# 10m - 20m"
   ]
  },
  {
   "cell_type": "code",
   "execution_count": null,
   "metadata": {},
   "outputs": [],
   "source": [
    "DFS = { file.split('.')[0] : pd.read_csv(f'../data/core/mb-info/{file}', dtype=str) for file in os.listdir('../data/core/mb-info')}"
   ]
  },
  {
   "cell_type": "code",
   "execution_count": null,
   "metadata": {},
   "outputs": [],
   "source": [
    "# Convert the AREA_ALBERS_SQKM columns to np.float64\n",
    "# Assert all columns that contains \"AREA\" are named AREA_ALBERS_SQKM\n",
    "for df_name, df in DFS.items():\n",
    "  for col in df.columns:\n",
    "    if 'AREA' in col:\n",
    "      assert (col == 'AREA_ALBERS_SQKM' or 'AREA_ALBERS_SQKM_' in col), df_name\n",
    "      df[col] = df[col].astype(np.float64)"
   ]
  },
  {
   "cell_type": "code",
   "execution_count": null,
   "metadata": {},
   "outputs": [],
   "source": [
    "GDF = GDF[['MB_CODE21', 'geometry']]"
   ]
  },
  {
   "cell_type": "code",
   "execution_count": null,
   "metadata": {},
   "outputs": [],
   "source": [
    "GDF = GDF[['MB_CODE21', 'SA4_CODE21', 'geometry']]"
   ]
  },
  {
   "cell_type": "code",
   "execution_count": null,
   "metadata": {},
   "outputs": [],
   "source": [
    "os.makedirs('../data/mb-geojson', exist_ok=True)"
   ]
  },
  {
   "cell_type": "code",
   "execution_count": null,
   "metadata": {},
   "outputs": [],
   "source": [
    "GDF.groupby('SA4_CODE21').apply(lambda x: x[['MB_CODE21', 'geometry']].to_file(f'../data/mb-geojson/MB-SA4-{x.name}.geojson', driver='GeoJSON'))\n",
    "# 10m - 20m\n"
   ]
  },
  {
   "cell_type": "code",
   "execution_count": null,
   "metadata": {},
   "outputs": [],
   "source": [
    "GDF.dropna(subset=['geometry'], inplace=True)"
   ]
  },
  {
   "cell_type": "code",
   "execution_count": null,
   "metadata": {},
   "outputs": [],
   "source": [
    "GDF['geometry'] = GDF['geometry'].boundary\n",
    "# 10s"
   ]
  },
  {
   "cell_type": "code",
   "execution_count": null,
   "metadata": {},
   "outputs": [],
   "source": [
    "GDF['geometry'] = GDF['geometry'].apply(lambda x: list(l.coords for l in x.geoms) if isinstance(x, MultiLineString) else [x.coords])\n",
    "# 30s - 1m"
   ]
  },
  {
   "cell_type": "code",
   "execution_count": null,
   "metadata": {},
   "outputs": [],
   "source": [
    "GDF['line_order'] = GDF['geometry'].apply(lambda x: list(range(len(x))))"
   ]
  },
  {
   "cell_type": "code",
   "execution_count": null,
   "metadata": {},
   "outputs": [],
   "source": [
    "GDF = GDF.explode(['line_order', 'geometry'])"
   ]
  },
  {
   "cell_type": "code",
   "execution_count": null,
   "metadata": {},
   "outputs": [],
   "source": [
    "is_self_loop = GDF['geometry'].apply(lambda x: x[0] == x[-1]).all()\n",
    "# 10s - 20s\n",
    "assert is_self_loop\n",
    "\n",
    "GDF['geometry'] = GDF['geometry'].apply(lambda x: x[:-1])\n",
    "# 40s - 2m\n",
    "\n",
    "not_self_loop = GDF['geometry'].apply(lambda x: x[0] != x[-1]).all()\n",
    "# 10s - 20s\n",
    "\n",
    "assert not_self_loop"
   ]
  },
  {
   "cell_type": "code",
   "execution_count": null,
   "metadata": {},
   "outputs": [],
   "source": [
    "GDF['point_order'] = GDF['geometry'].apply(lambda x: list(range(len(x))))\n",
    "# 10s - 20s"
   ]
  },
  {
   "cell_type": "code",
   "execution_count": null,
   "metadata": {},
   "outputs": [],
   "source": [
    "GDF = GDF.explode(['point_order', 'geometry'])\n",
    "# 3m - 5m - 10m"
   ]
  },
  {
   "cell_type": "code",
   "execution_count": null,
   "metadata": {},
   "outputs": [],
   "source": [
    "GDF['lat'] = GDF['geometry'].apply(lambda x: x[1])\n",
    "# 1m 30s - 3m"
   ]
  },
  {
   "cell_type": "code",
   "execution_count": null,
   "metadata": {},
   "outputs": [],
   "source": [
    "GDF['lon'] = GDF['geometry'].apply(lambda x: x[0])\n",
    "# 1m 30s - 3m"
   ]
  },
  {
   "cell_type": "code",
   "execution_count": null,
   "metadata": {},
   "outputs": [],
   "source": [
    "GDF.drop(columns=['geometry'], inplace=True)\n",
    "# 1m 30s"
   ]
  },
  {
   "cell_type": "code",
   "execution_count": null,
   "metadata": {},
   "outputs": [],
   "source": [
    "GDF['id'] = GDF['MB_CODE21'] + '-' + GDF['line_order'].astype(str)\n",
    "# 1m 30s"
   ]
  },
  {
   "cell_type": "code",
   "execution_count": null,
   "metadata": {},
   "outputs": [],
   "source": [
    "GDF.drop(columns=['MB_CODE21', 'line_order'], inplace=True)\n",
    "# 40s - 1m"
   ]
  },
  {
   "cell_type": "code",
   "execution_count": null,
   "metadata": {},
   "outputs": [],
   "source": [
    "os.makedirs('../data/mb-edges', exist_ok=True)"
   ]
  },
  {
   "cell_type": "code",
   "execution_count": null,
   "metadata": {},
   "outputs": [],
   "source": [
    "GDF.groupby('id').apply(lambda x: x[['point_order', 'lat', 'lon']].to_csv(f'../data/mb-edges/{x.name}.csv', index=False))\n",
    "# 45m - 1h 30m\n",
    "# Compressed down from 1GB to 800MB\n",
    "# -> Too time consuming to compress, and probably not worth it."
   ]
  }
 ],
 "metadata": {
  "kernelspec": {
   "display_name": "Python 3",
   "language": "python",
   "name": "python3"
  },
  "language_info": {
   "codemirror_mode": {
    "name": "ipython",
    "version": 3
   },
   "file_extension": ".py",
   "mimetype": "text/x-python",
   "name": "python",
   "nbconvert_exporter": "python",
   "pygments_lexer": "ipython3",
   "version": "3.12.0"
  }
 },
 "nbformat": 4,
 "nbformat_minor": 2
}
