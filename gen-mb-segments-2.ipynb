{
 "cells": [
  {
   "cell_type": "code",
   "execution_count": 1,
   "metadata": {},
   "outputs": [],
   "source": [
    "import pandas as pd\n",
    "import geopandas as gpd\n",
    "import shapely.geometry as geom\n",
    "import numpy as np\n",
    "import json"
   ]
  },
  {
   "cell_type": "code",
   "execution_count": 2,
   "metadata": {},
   "outputs": [],
   "source": [
    "\n",
    "gdf : gpd.GeoDataFrame = gpd.read_file('local/MB_2021_AUST_SHP_GDA2020/MB_2021_AUST_GDA2020.shp')\n",
    "# 4m"
   ]
  },
  {
   "cell_type": "code",
   "execution_count": 3,
   "metadata": {},
   "outputs": [],
   "source": [
    "gdf : gpd.GeoDataFrame = gdf[['MB_CODE21', 'geometry']].rename(columns={'MB_CODE21': 'id'})"
   ]
  },
  {
   "cell_type": "code",
   "execution_count": 4,
   "metadata": {},
   "outputs": [],
   "source": [
    "gdf_geom : gpd.GeoSeries = gdf.boundary\n",
    "# 30s"
   ]
  },
  {
   "cell_type": "code",
   "execution_count": 5,
   "metadata": {},
   "outputs": [],
   "source": [
    "# Combine multiple linestring and multilinestring geometries into single multilinestring geometry\n",
    "gdml = gdf_geom.apply(lambda x: geom.MultiLineString([x]) if isinstance(x, geom.LineString) else x)\n",
    "# 1m\n",
    "# 30s"
   ]
  },
  {
   "cell_type": "code",
   "execution_count": 6,
   "metadata": {},
   "outputs": [],
   "source": [
    "gdl = gdml.apply(lambda x: x.geoms if x is not None else None).explode()\n",
    "# 1m"
   ]
  },
  {
   "cell_type": "code",
   "execution_count": 7,
   "metadata": {},
   "outputs": [],
   "source": [
    "gdl.dropna(inplace=True)"
   ]
  },
  {
   "cell_type": "code",
   "execution_count": 8,
   "metadata": {},
   "outputs": [],
   "source": [
    "sf_lines = gdl.apply(lambda x: np.array(x.coords))\n",
    "# 1m"
   ]
  },
  {
   "cell_type": "code",
   "execution_count": 9,
   "metadata": {},
   "outputs": [
    {
     "data": {
      "text/plain": [
       "19647448"
      ]
     },
     "execution_count": 9,
     "metadata": {},
     "output_type": "execute_result"
    }
   ],
   "source": [
    "# Get all points\n",
    "points_full = np.concatenate(sf_lines.to_numpy())\n",
    "# points_full.sort(axis=0)\n",
    "len(points_full)\n",
    "# 19647448\n",
    "# 10s"
   ]
  },
  {
   "cell_type": "code",
   "execution_count": 20,
   "metadata": {},
   "outputs": [],
   "source": [
    "sf_lines_len = sf_lines.transform(lambda x: np.array(range(len(x))))\n",
    "# 10s"
   ]
  },
  {
   "cell_type": "code",
   "execution_count": 23,
   "metadata": {},
   "outputs": [],
   "source": [
    "points_order = sf_lines_len.explode().reset_index().rename(columns={'index': 'line', 0: 'order'})\n",
    "# 20s"
   ]
  },
  {
   "cell_type": "code",
   "execution_count": 27,
   "metadata": {},
   "outputs": [],
   "source": [
    "points_order = points_order.to_numpy()\n",
    "# 20s"
   ]
  },
  {
   "cell_type": "code",
   "execution_count": 28,
   "metadata": {},
   "outputs": [
    {
     "data": {
      "text/plain": [
       "array([[0, 0],\n",
       "       [0, 1],\n",
       "       [0, 2],\n",
       "       ...,\n",
       "       [368283, 2],\n",
       "       [368283, 3],\n",
       "       [368283, 4]], dtype=object)"
      ]
     },
     "execution_count": 28,
     "metadata": {},
     "output_type": "execute_result"
    }
   ],
   "source": [
    "points_order"
   ]
  },
  {
   "cell_type": "code",
   "execution_count": 30,
   "metadata": {},
   "outputs": [],
   "source": [
    "points = np.concatenate([points_order, points_full], axis=1)"
   ]
  },
  {
   "cell_type": "code",
   "execution_count": 32,
   "metadata": {},
   "outputs": [],
   "source": [
    "df = pd.DataFrame(points, columns=['line', 'order', 'lon', 'lat'])"
   ]
  },
  {
   "cell_type": "code",
   "execution_count": 35,
   "metadata": {},
   "outputs": [],
   "source": [
    "dfp = df[['lon', 'lat']].drop_duplicates().reset_index(drop=True)\n",
    "# 2m"
   ]
  },
  {
   "cell_type": "code",
   "execution_count": 37,
   "metadata": {},
   "outputs": [],
   "source": [
    "dfp = dfp.reset_index(drop=False).rename(columns={'index': 'point_id'})\n",
    "# 5s"
   ]
  },
  {
   "cell_type": "code",
   "execution_count": 40,
   "metadata": {},
   "outputs": [],
   "source": [
    "df_lines = pd.merge(df, dfp, on=['lon', 'lat'], how='left')\n",
    "# 5m"
   ]
  },
  {
   "cell_type": "code",
   "execution_count": 42,
   "metadata": {},
   "outputs": [],
   "source": [
    "df_lines.drop(columns=['lon', 'lat'], inplace=True)\n",
    "# 2m"
   ]
  },
  {
   "cell_type": "code",
   "execution_count": 44,
   "metadata": {},
   "outputs": [],
   "source": [
    "df_lines.to_csv('local/mb_lines.csv', index=False)\n",
    "# 2m"
   ]
  },
  {
   "cell_type": "code",
   "execution_count": 45,
   "metadata": {},
   "outputs": [],
   "source": [
    "dfp.to_csv('local/mb_points.csv', index=False)\n",
    "# 1m 30s"
   ]
  },
  {
   "cell_type": "code",
   "execution_count": 53,
   "metadata": {},
   "outputs": [
    {
     "data": {
      "text/html": [
       "<div>\n",
       "<style scoped>\n",
       "    .dataframe tbody tr th:only-of-type {\n",
       "        vertical-align: middle;\n",
       "    }\n",
       "\n",
       "    .dataframe tbody tr th {\n",
       "        vertical-align: top;\n",
       "    }\n",
       "\n",
       "    .dataframe thead th {\n",
       "        text-align: right;\n",
       "    }\n",
       "</style>\n",
       "<table border=\"1\" class=\"dataframe\">\n",
       "  <thead>\n",
       "    <tr style=\"text-align: right;\">\n",
       "      <th></th>\n",
       "      <th>id</th>\n",
       "      <th>geometry</th>\n",
       "    </tr>\n",
       "  </thead>\n",
       "  <tbody>\n",
       "    <tr>\n",
       "      <th>0</th>\n",
       "      <td>10000010000</td>\n",
       "      <td>POLYGON ((146.92785 -36.08365, 146.92815 -36.0...</td>\n",
       "    </tr>\n",
       "    <tr>\n",
       "      <th>1</th>\n",
       "      <td>10000021000</td>\n",
       "      <td>POLYGON ((146.93543 -36.04752, 146.93722 -36.0...</td>\n",
       "    </tr>\n",
       "    <tr>\n",
       "      <th>2</th>\n",
       "      <td>10000022000</td>\n",
       "      <td>POLYGON ((146.93040 -36.04996, 146.93054 -36.0...</td>\n",
       "    </tr>\n",
       "    <tr>\n",
       "      <th>3</th>\n",
       "      <td>10000023000</td>\n",
       "      <td>POLYGON ((146.93254 -36.05238, 146.93101 -36.0...</td>\n",
       "    </tr>\n",
       "    <tr>\n",
       "      <th>4</th>\n",
       "      <td>10000024000</td>\n",
       "      <td>POLYGON ((146.93044 -36.04733, 146.93036 -36.0...</td>\n",
       "    </tr>\n",
       "    <tr>\n",
       "      <th>...</th>\n",
       "      <td>...</td>\n",
       "      <td>...</td>\n",
       "    </tr>\n",
       "    <tr>\n",
       "      <th>368279</th>\n",
       "      <td>90000733000</td>\n",
       "      <td>POLYGON ((167.99423 -29.04525, 167.99414 -29.0...</td>\n",
       "    </tr>\n",
       "    <tr>\n",
       "      <th>368280</th>\n",
       "      <td>97500000000</td>\n",
       "      <td>POLYGON ((150.69854 -35.13603, 150.69079 -35.1...</td>\n",
       "    </tr>\n",
       "    <tr>\n",
       "      <th>368281</th>\n",
       "      <td>97000001777</td>\n",
       "      <td>POLYGON ((105.66649 -10.42203, 105.66649 -10.4...</td>\n",
       "    </tr>\n",
       "    <tr>\n",
       "      <th>368282</th>\n",
       "      <td>97000002777</td>\n",
       "      <td>POLYGON ((96.88760 -12.11086, 96.88852 -12.110...</td>\n",
       "    </tr>\n",
       "    <tr>\n",
       "      <th>368283</th>\n",
       "      <td>97000003777</td>\n",
       "      <td>POLYGON ((167.97281 -29.01656, 167.97281 -29.0...</td>\n",
       "    </tr>\n",
       "  </tbody>\n",
       "</table>\n",
       "<p>368255 rows × 2 columns</p>\n",
       "</div>"
      ],
      "text/plain": [
       "                 id                                           geometry\n",
       "0       10000010000  POLYGON ((146.92785 -36.08365, 146.92815 -36.0...\n",
       "1       10000021000  POLYGON ((146.93543 -36.04752, 146.93722 -36.0...\n",
       "2       10000022000  POLYGON ((146.93040 -36.04996, 146.93054 -36.0...\n",
       "3       10000023000  POLYGON ((146.93254 -36.05238, 146.93101 -36.0...\n",
       "4       10000024000  POLYGON ((146.93044 -36.04733, 146.93036 -36.0...\n",
       "...             ...                                                ...\n",
       "368279  90000733000  POLYGON ((167.99423 -29.04525, 167.99414 -29.0...\n",
       "368280  97500000000  POLYGON ((150.69854 -35.13603, 150.69079 -35.1...\n",
       "368281  97000001777  POLYGON ((105.66649 -10.42203, 105.66649 -10.4...\n",
       "368282  97000002777  POLYGON ((96.88760 -12.11086, 96.88852 -12.110...\n",
       "368283  97000003777  POLYGON ((167.97281 -29.01656, 167.97281 -29.0...\n",
       "\n",
       "[368255 rows x 2 columns]"
      ]
     },
     "execution_count": 53,
     "metadata": {},
     "output_type": "execute_result"
    }
   ],
   "source": [
    "gdf.dropna()"
   ]
  },
  {
   "cell_type": "code",
   "execution_count": 72,
   "metadata": {},
   "outputs": [],
   "source": [
    "sf_poly_lines : np.ndarray = gdml.dropna().apply(lambda x: np.array(range(len(x.geoms)))).to_numpy()\n",
    "# 10s"
   ]
  },
  {
   "cell_type": "code",
   "execution_count": 65,
   "metadata": {},
   "outputs": [],
   "source": [
    "arr_block_id : np.ndarray = gdf.dropna()['id'].to_numpy()"
   ]
  },
  {
   "cell_type": "code",
   "execution_count": 82,
   "metadata": {},
   "outputs": [],
   "source": [
    "df_pl = pd.DataFrame({'block_id': arr_block_id, 'lines': sf_poly_lines}).explode('lines')"
   ]
  },
  {
   "cell_type": "code",
   "execution_count": 89,
   "metadata": {},
   "outputs": [],
   "source": [
    "df_pl['points'] = sf_lines_len.reset_index(drop=True, inplace=False)"
   ]
  },
  {
   "cell_type": "code",
   "execution_count": 93,
   "metadata": {},
   "outputs": [],
   "source": [
    "df_pl = df_pl.explode('points')\n",
    "# 2m"
   ]
  },
  {
   "cell_type": "code",
   "execution_count": 96,
   "metadata": {},
   "outputs": [
    {
     "data": {
      "text/html": [
       "<div>\n",
       "<style scoped>\n",
       "    .dataframe tbody tr th:only-of-type {\n",
       "        vertical-align: middle;\n",
       "    }\n",
       "\n",
       "    .dataframe tbody tr th {\n",
       "        vertical-align: top;\n",
       "    }\n",
       "\n",
       "    .dataframe thead th {\n",
       "        text-align: right;\n",
       "    }\n",
       "</style>\n",
       "<table border=\"1\" class=\"dataframe\">\n",
       "  <thead>\n",
       "    <tr style=\"text-align: right;\">\n",
       "      <th></th>\n",
       "      <th>block_id</th>\n",
       "      <th>lines</th>\n",
       "      <th>points</th>\n",
       "    </tr>\n",
       "  </thead>\n",
       "  <tbody>\n",
       "    <tr>\n",
       "      <th>0</th>\n",
       "      <td>10000010000</td>\n",
       "      <td>0</td>\n",
       "      <td>0</td>\n",
       "    </tr>\n",
       "    <tr>\n",
       "      <th>0</th>\n",
       "      <td>10000010000</td>\n",
       "      <td>0</td>\n",
       "      <td>1</td>\n",
       "    </tr>\n",
       "    <tr>\n",
       "      <th>0</th>\n",
       "      <td>10000010000</td>\n",
       "      <td>0</td>\n",
       "      <td>2</td>\n",
       "    </tr>\n",
       "    <tr>\n",
       "      <th>0</th>\n",
       "      <td>10000010000</td>\n",
       "      <td>0</td>\n",
       "      <td>3</td>\n",
       "    </tr>\n",
       "    <tr>\n",
       "      <th>0</th>\n",
       "      <td>10000010000</td>\n",
       "      <td>0</td>\n",
       "      <td>4</td>\n",
       "    </tr>\n",
       "    <tr>\n",
       "      <th>...</th>\n",
       "      <td>...</td>\n",
       "      <td>...</td>\n",
       "      <td>...</td>\n",
       "    </tr>\n",
       "    <tr>\n",
       "      <th>368254</th>\n",
       "      <td>97000003777</td>\n",
       "      <td>0</td>\n",
       "      <td>34</td>\n",
       "    </tr>\n",
       "    <tr>\n",
       "      <th>368254</th>\n",
       "      <td>97000003777</td>\n",
       "      <td>0</td>\n",
       "      <td>35</td>\n",
       "    </tr>\n",
       "    <tr>\n",
       "      <th>368254</th>\n",
       "      <td>97000003777</td>\n",
       "      <td>0</td>\n",
       "      <td>36</td>\n",
       "    </tr>\n",
       "    <tr>\n",
       "      <th>368254</th>\n",
       "      <td>97000003777</td>\n",
       "      <td>0</td>\n",
       "      <td>37</td>\n",
       "    </tr>\n",
       "    <tr>\n",
       "      <th>368254</th>\n",
       "      <td>97000003777</td>\n",
       "      <td>0</td>\n",
       "      <td>38</td>\n",
       "    </tr>\n",
       "  </tbody>\n",
       "</table>\n",
       "<p>19696684 rows × 3 columns</p>\n",
       "</div>"
      ],
      "text/plain": [
       "           block_id lines points\n",
       "0       10000010000     0      0\n",
       "0       10000010000     0      1\n",
       "0       10000010000     0      2\n",
       "0       10000010000     0      3\n",
       "0       10000010000     0      4\n",
       "...             ...   ...    ...\n",
       "368254  97000003777     0     34\n",
       "368254  97000003777     0     35\n",
       "368254  97000003777     0     36\n",
       "368254  97000003777     0     37\n",
       "368254  97000003777     0     38\n",
       "\n",
       "[19696684 rows x 3 columns]"
      ]
     },
     "execution_count": 96,
     "metadata": {},
     "output_type": "execute_result"
    }
   ],
   "source": [
    "df_pl"
   ]
  },
  {
   "cell_type": "code",
   "execution_count": 97,
   "metadata": {},
   "outputs": [
    {
     "data": {
      "text/html": [
       "<div>\n",
       "<style scoped>\n",
       "    .dataframe tbody tr th:only-of-type {\n",
       "        vertical-align: middle;\n",
       "    }\n",
       "\n",
       "    .dataframe tbody tr th {\n",
       "        vertical-align: top;\n",
       "    }\n",
       "\n",
       "    .dataframe thead th {\n",
       "        text-align: right;\n",
       "    }\n",
       "</style>\n",
       "<table border=\"1\" class=\"dataframe\">\n",
       "  <thead>\n",
       "    <tr style=\"text-align: right;\">\n",
       "      <th></th>\n",
       "      <th>line</th>\n",
       "      <th>order</th>\n",
       "      <th>lon</th>\n",
       "      <th>lat</th>\n",
       "    </tr>\n",
       "  </thead>\n",
       "  <tbody>\n",
       "    <tr>\n",
       "      <th>0</th>\n",
       "      <td>0</td>\n",
       "      <td>0</td>\n",
       "      <td>146.927851</td>\n",
       "      <td>-36.083648</td>\n",
       "    </tr>\n",
       "    <tr>\n",
       "      <th>1</th>\n",
       "      <td>0</td>\n",
       "      <td>1</td>\n",
       "      <td>146.928145</td>\n",
       "      <td>-36.082104</td>\n",
       "    </tr>\n",
       "    <tr>\n",
       "      <th>2</th>\n",
       "      <td>0</td>\n",
       "      <td>2</td>\n",
       "      <td>146.92834</td>\n",
       "      <td>-36.081122</td>\n",
       "    </tr>\n",
       "    <tr>\n",
       "      <th>3</th>\n",
       "      <td>0</td>\n",
       "      <td>3</td>\n",
       "      <td>146.929139</td>\n",
       "      <td>-36.081218</td>\n",
       "    </tr>\n",
       "    <tr>\n",
       "      <th>4</th>\n",
       "      <td>0</td>\n",
       "      <td>4</td>\n",
       "      <td>146.929059</td>\n",
       "      <td>-36.081643</td>\n",
       "    </tr>\n",
       "    <tr>\n",
       "      <th>...</th>\n",
       "      <td>...</td>\n",
       "      <td>...</td>\n",
       "      <td>...</td>\n",
       "      <td>...</td>\n",
       "    </tr>\n",
       "    <tr>\n",
       "      <th>19647443</th>\n",
       "      <td>368283</td>\n",
       "      <td>0</td>\n",
       "      <td>167.972812</td>\n",
       "      <td>-29.016558</td>\n",
       "    </tr>\n",
       "    <tr>\n",
       "      <th>19647444</th>\n",
       "      <td>368283</td>\n",
       "      <td>1</td>\n",
       "      <td>167.972812</td>\n",
       "      <td>-29.015658</td>\n",
       "    </tr>\n",
       "    <tr>\n",
       "      <th>19647445</th>\n",
       "      <td>368283</td>\n",
       "      <td>2</td>\n",
       "      <td>167.97384</td>\n",
       "      <td>-29.015658</td>\n",
       "    </tr>\n",
       "    <tr>\n",
       "      <th>19647446</th>\n",
       "      <td>368283</td>\n",
       "      <td>3</td>\n",
       "      <td>167.97384</td>\n",
       "      <td>-29.016558</td>\n",
       "    </tr>\n",
       "    <tr>\n",
       "      <th>19647447</th>\n",
       "      <td>368283</td>\n",
       "      <td>4</td>\n",
       "      <td>167.972812</td>\n",
       "      <td>-29.016558</td>\n",
       "    </tr>\n",
       "  </tbody>\n",
       "</table>\n",
       "<p>19647448 rows × 4 columns</p>\n",
       "</div>"
      ],
      "text/plain": [
       "            line order         lon        lat\n",
       "0              0     0  146.927851 -36.083648\n",
       "1              0     1  146.928145 -36.082104\n",
       "2              0     2   146.92834 -36.081122\n",
       "3              0     3  146.929139 -36.081218\n",
       "4              0     4  146.929059 -36.081643\n",
       "...          ...   ...         ...        ...\n",
       "19647443  368283     0  167.972812 -29.016558\n",
       "19647444  368283     1  167.972812 -29.015658\n",
       "19647445  368283     2   167.97384 -29.015658\n",
       "19647446  368283     3   167.97384 -29.016558\n",
       "19647447  368283     4  167.972812 -29.016558\n",
       "\n",
       "[19647448 rows x 4 columns]"
      ]
     },
     "execution_count": 97,
     "metadata": {},
     "output_type": "execute_result"
    }
   ],
   "source": [
    "df"
   ]
  }
 ],
 "metadata": {
  "kernelspec": {
   "display_name": "Python 3",
   "language": "python",
   "name": "python3"
  },
  "language_info": {
   "codemirror_mode": {
    "name": "ipython",
    "version": 3
   },
   "file_extension": ".py",
   "mimetype": "text/x-python",
   "name": "python",
   "nbconvert_exporter": "python",
   "pygments_lexer": "ipython3",
   "version": "3.12.0"
  }
 },
 "nbformat": 4,
 "nbformat_minor": 2
}
