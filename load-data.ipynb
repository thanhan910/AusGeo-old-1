{
 "cells": [
  {
   "cell_type": "code",
   "execution_count": 1,
   "metadata": {},
   "outputs": [],
   "source": [
    "import pandas as pd\n",
    "import geopandas as gpd\n",
    "import numpy as np\n",
    "import json\n",
    "import os"
   ]
  },
  {
   "cell_type": "code",
   "execution_count": 2,
   "metadata": {},
   "outputs": [],
   "source": [
    "# 1 liner to import a dataframe of all meshblocks data \n",
    "dfMB = pd.concat([pd.read_csv(f'data/blocks/MB-{state_code}.csv', dtype=str) for state_code in [1, 2, 4, 5, 6, 8, 9, 'Z']], ignore_index=True)\n",
    "# 2 secs - 5 secs."
   ]
  },
  {
   "cell_type": "code",
   "execution_count": 4,
   "metadata": {},
   "outputs": [],
   "source": [
    "geojson_files = os.listdir('data/mb-geojson')\n",
    "# data\\mb-geojson\\MB-SA4-999.geojson"
   ]
  },
  {
   "cell_type": "code",
   "execution_count": 8,
   "metadata": {},
   "outputs": [
    {
     "name": "stderr",
     "output_type": "stream",
     "text": [
      "C:\\Users\\An\\AppData\\Local\\Temp\\ipykernel_14816\\3384876120.py:2: FutureWarning: The behavior of DataFrame concatenation with empty or all-NA entries is deprecated. In a future version, this will no longer exclude empty or all-NA columns when determining the result dtypes. To retain the old behavior, exclude the relevant entries before the concat operation.\n",
      "  gdf : gpd.GeoDataFrame = gpd.GeoDataFrame(pd.concat([gpd.read_file(f'data/mb-geojson/{file}') for file in os.listdir('data/mb-geojson')], ignore_index=True))\n"
     ]
    }
   ],
   "source": [
    "# 1 liner to import a geodataframe of all meshblocks data\n",
    "gdf : gpd.GeoDataFrame = gpd.GeoDataFrame(pd.concat([gpd.read_file(f'data/mb-geojson/{file}') for file in os.listdir('data/mb-geojson')], ignore_index=True))\n",
    "# 20 - 30 secs per file. About 5 - 10 minutes total."
   ]
  },
  {
   "cell_type": "code",
   "execution_count": 7,
   "metadata": {},
   "outputs": [
    {
     "name": "stdout",
     "output_type": "stream",
     "text": [
      "MB-SA4-101.geojson\n",
      "MB-SA4-102.geojson\n",
      "MB-SA4-103.geojson\n",
      "MB-SA4-104.geojson\n",
      "MB-SA4-105.geojson\n",
      "MB-SA4-106.geojson\n",
      "MB-SA4-107.geojson\n",
      "MB-SA4-108.geojson\n",
      "MB-SA4-109.geojson\n",
      "MB-SA4-110.geojson\n",
      "MB-SA4-111.geojson\n",
      "MB-SA4-112.geojson\n",
      "MB-SA4-113.geojson\n",
      "MB-SA4-114.geojson\n",
      "MB-SA4-115.geojson\n",
      "MB-SA4-116.geojson\n",
      "MB-SA4-117.geojson\n",
      "MB-SA4-118.geojson\n",
      "MB-SA4-119.geojson\n",
      "MB-SA4-120.geojson\n",
      "MB-SA4-121.geojson\n",
      "MB-SA4-122.geojson\n",
      "MB-SA4-123.geojson\n",
      "MB-SA4-124.geojson\n",
      "MB-SA4-125.geojson\n",
      "MB-SA4-126.geojson\n",
      "MB-SA4-127.geojson\n",
      "MB-SA4-128.geojson\n",
      "MB-SA4-197.geojson\n",
      "MB-SA4-199.geojson\n",
      "MB-SA4-201.geojson\n",
      "MB-SA4-202.geojson\n",
      "MB-SA4-203.geojson\n",
      "MB-SA4-204.geojson\n",
      "MB-SA4-205.geojson\n",
      "MB-SA4-206.geojson\n",
      "MB-SA4-207.geojson\n",
      "MB-SA4-208.geojson\n",
      "MB-SA4-209.geojson\n",
      "MB-SA4-210.geojson\n",
      "MB-SA4-211.geojson\n",
      "MB-SA4-212.geojson\n",
      "MB-SA4-213.geojson\n",
      "MB-SA4-214.geojson\n",
      "MB-SA4-215.geojson\n",
      "MB-SA4-216.geojson\n",
      "MB-SA4-217.geojson\n",
      "MB-SA4-297.geojson\n",
      "MB-SA4-299.geojson\n",
      "MB-SA4-301.geojson\n",
      "MB-SA4-302.geojson\n",
      "MB-SA4-303.geojson\n",
      "MB-SA4-304.geojson\n",
      "MB-SA4-305.geojson\n",
      "MB-SA4-306.geojson\n",
      "MB-SA4-307.geojson\n",
      "MB-SA4-308.geojson\n",
      "MB-SA4-309.geojson\n",
      "MB-SA4-310.geojson\n",
      "MB-SA4-311.geojson\n",
      "MB-SA4-312.geojson\n",
      "MB-SA4-313.geojson\n",
      "MB-SA4-314.geojson\n",
      "MB-SA4-315.geojson\n",
      "MB-SA4-316.geojson\n",
      "MB-SA4-317.geojson\n",
      "MB-SA4-318.geojson\n",
      "MB-SA4-319.geojson\n",
      "MB-SA4-397.geojson\n",
      "MB-SA4-399.geojson\n",
      "MB-SA4-401.geojson\n",
      "MB-SA4-402.geojson\n",
      "MB-SA4-403.geojson\n",
      "MB-SA4-404.geojson\n",
      "MB-SA4-405.geojson\n",
      "MB-SA4-406.geojson\n",
      "MB-SA4-407.geojson\n",
      "MB-SA4-497.geojson\n",
      "MB-SA4-499.geojson\n",
      "MB-SA4-501.geojson\n",
      "MB-SA4-502.geojson\n",
      "MB-SA4-503.geojson\n",
      "MB-SA4-504.geojson\n",
      "MB-SA4-505.geojson\n",
      "MB-SA4-506.geojson\n",
      "MB-SA4-507.geojson\n",
      "MB-SA4-509.geojson\n",
      "MB-SA4-510.geojson\n",
      "MB-SA4-511.geojson\n",
      "MB-SA4-597.geojson\n",
      "MB-SA4-599.geojson\n",
      "MB-SA4-601.geojson\n",
      "MB-SA4-602.geojson\n",
      "MB-SA4-603.geojson\n",
      "MB-SA4-604.geojson\n",
      "MB-SA4-697.geojson\n",
      "MB-SA4-699.geojson\n",
      "MB-SA4-701.geojson\n",
      "MB-SA4-702.geojson\n",
      "MB-SA4-797.geojson\n",
      "MB-SA4-799.geojson\n",
      "MB-SA4-801.geojson\n",
      "MB-SA4-897.geojson\n",
      "MB-SA4-899.geojson\n",
      "MB-SA4-901.geojson\n",
      "MB-SA4-997.geojson\n",
      "MB-SA4-999.geojson\n",
      "MB-SA4-ZZZ.geojson\n"
     ]
    }
   ],
   "source": [
    "gdfs = []\n",
    "for f in geojson_files:\n",
    "    with open(f'data/mb-geojson/{f}') as file:\n",
    "        gdfs.append(gpd.read_file(file))\n",
    "        print(f)\n",
    "# 20 - 30 secs per file. About 5 - 10 minutes total."
   ]
  }
 ],
 "metadata": {
  "kernelspec": {
   "display_name": "Python 3",
   "language": "python",
   "name": "python3"
  },
  "language_info": {
   "codemirror_mode": {
    "name": "ipython",
    "version": 3
   },
   "file_extension": ".py",
   "mimetype": "text/x-python",
   "name": "python",
   "nbconvert_exporter": "python",
   "pygments_lexer": "ipython3",
   "version": "3.12.0"
  }
 },
 "nbformat": 4,
 "nbformat_minor": 2
}
