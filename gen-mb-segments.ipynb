{
 "cells": [
  {
   "cell_type": "code",
   "execution_count": 1,
   "metadata": {},
   "outputs": [],
   "source": [
    "import pandas as pd\n",
    "import geopandas as gpd\n",
    "import shapely.geometry as geom\n",
    "import numpy as np\n",
    "import json"
   ]
  },
  {
   "cell_type": "code",
   "execution_count": 2,
   "metadata": {},
   "outputs": [],
   "source": [
    "\n",
    "gdf : gpd.GeoDataFrame = gpd.read_file('local/MB_2021_AUST_SHP_GDA2020/MB_2021_AUST_GDA2020.shp')\n",
    "# 4m"
   ]
  },
  {
   "cell_type": "code",
   "execution_count": 3,
   "metadata": {},
   "outputs": [],
   "source": [
    "gdf : gpd.GeoDataFrame = gdf[['MB_CODE21', 'geometry']].rename(columns={'MB_CODE21': 'id'})"
   ]
  },
  {
   "cell_type": "code",
   "execution_count": 4,
   "metadata": {},
   "outputs": [],
   "source": [
    "gdf_geom : gpd.GeoSeries = gdf.boundary\n",
    "# 30s"
   ]
  },
  {
   "cell_type": "code",
   "execution_count": 5,
   "metadata": {},
   "outputs": [],
   "source": [
    "# Combine multiple linestring and multilinestring geometries into single multilinestring geometry\n",
    "gdml = gdf_geom.apply(lambda x: geom.MultiLineString([x]) if isinstance(x, geom.LineString) else x)\n",
    "# 1m"
   ]
  },
  {
   "cell_type": "code",
   "execution_count": 6,
   "metadata": {},
   "outputs": [],
   "source": [
    "gdl = gdml.apply(lambda x: x.geoms if x is not None else None).explode()\n",
    "# 1m"
   ]
  },
  {
   "cell_type": "code",
   "execution_count": 7,
   "metadata": {},
   "outputs": [],
   "source": [
    "gdl.dropna(inplace=True)"
   ]
  },
  {
   "cell_type": "code",
   "execution_count": 8,
   "metadata": {},
   "outputs": [],
   "source": [
    "coords = gdl.apply(lambda x: np.array(x.coords))\n",
    "# 1m"
   ]
  },
  {
   "cell_type": "code",
   "execution_count": 9,
   "metadata": {},
   "outputs": [
    {
     "data": {
      "text/plain": [
       "19647448"
      ]
     },
     "execution_count": 9,
     "metadata": {},
     "output_type": "execute_result"
    }
   ],
   "source": [
    "# Get all points\n",
    "points_full = np.concatenate(coords.to_numpy())\n",
    "# points_full.sort(axis=0)\n",
    "len(points_full)\n",
    "# 19647448\n",
    "# 10s"
   ]
  },
  {
   "cell_type": "code",
   "execution_count": 10,
   "metadata": {},
   "outputs": [],
   "source": [
    "# # Drop duplicates\n",
    "# points = np.unique(points_full, axis=0)\n",
    "# len(points)\n",
    "# # 14983534\n",
    "\n",
    "# # Split long and lat into separate columns, and save to csv, with index and header\n",
    "# df = pd.DataFrame(points, columns=['long', 'lat'])\n",
    "# df.to_csv('local/mb_points.csv', index=True, header=True)\n",
    "# # 1m 30s\n",
    "\n",
    "# pd.read_csv('local/mb_points.csv', index_col=0)\n",
    "# # 10s"
   ]
  },
  {
   "cell_type": "code",
   "execution_count": 11,
   "metadata": {},
   "outputs": [],
   "source": [
    "df_full = pd.DataFrame(points_full, columns=['long', 'lat'])\n",
    "dfx = df_full.drop_duplicates().reset_index(drop=True)\n",
    "# 20s"
   ]
  },
  {
   "cell_type": "code",
   "execution_count": null,
   "metadata": {},
   "outputs": [],
   "source": [
    "# coords.apply(lambda line: [dfx[(dfx['long'] == x[0]) & (dfx['lat'] == x[1])].index[0] for x in line])\n",
    "# # 0.5s per line -> 300,000 lines -> 48 hours"
   ]
  },
  {
   "cell_type": "code",
   "execution_count": null,
   "metadata": {},
   "outputs": [],
   "source": [
    "[dfx[(dfx['long'] == x[0]) & (dfx['lat'] == x[1])].index[0] for x in coords[0]]"
   ]
  },
  {
   "cell_type": "code",
   "execution_count": null,
   "metadata": {},
   "outputs": [],
   "source": [
    "coords[:5].apply(lambda line: [dfx[(dfx['long'] == x[0]) & (dfx['lat'] == x[1])].index[0] for x in line])"
   ]
  },
  {
   "cell_type": "code",
   "execution_count": null,
   "metadata": {},
   "outputs": [],
   "source": [
    "dfx.set_index(['long', 'lat'], inplace=False, drop=False)\n",
    "# 1m"
   ]
  },
  {
   "cell_type": "code",
   "execution_count": 14,
   "metadata": {},
   "outputs": [
    {
     "data": {
      "text/html": [
       "<div>\n",
       "<style scoped>\n",
       "    .dataframe tbody tr th:only-of-type {\n",
       "        vertical-align: middle;\n",
       "    }\n",
       "\n",
       "    .dataframe tbody tr th {\n",
       "        vertical-align: top;\n",
       "    }\n",
       "\n",
       "    .dataframe thead th {\n",
       "        text-align: right;\n",
       "    }\n",
       "</style>\n",
       "<table border=\"1\" class=\"dataframe\">\n",
       "  <thead>\n",
       "    <tr style=\"text-align: right;\">\n",
       "      <th></th>\n",
       "      <th>id</th>\n",
       "      <th>long</th>\n",
       "      <th>lat</th>\n",
       "    </tr>\n",
       "  </thead>\n",
       "  <tbody>\n",
       "    <tr>\n",
       "      <th>0</th>\n",
       "      <td>0</td>\n",
       "      <td>146.927851</td>\n",
       "      <td>-36.083648</td>\n",
       "    </tr>\n",
       "    <tr>\n",
       "      <th>1</th>\n",
       "      <td>1</td>\n",
       "      <td>146.928145</td>\n",
       "      <td>-36.082104</td>\n",
       "    </tr>\n",
       "    <tr>\n",
       "      <th>2</th>\n",
       "      <td>2</td>\n",
       "      <td>146.928340</td>\n",
       "      <td>-36.081122</td>\n",
       "    </tr>\n",
       "    <tr>\n",
       "      <th>3</th>\n",
       "      <td>3</td>\n",
       "      <td>146.929139</td>\n",
       "      <td>-36.081218</td>\n",
       "    </tr>\n",
       "    <tr>\n",
       "      <th>4</th>\n",
       "      <td>4</td>\n",
       "      <td>146.929059</td>\n",
       "      <td>-36.081643</td>\n",
       "    </tr>\n",
       "    <tr>\n",
       "      <th>...</th>\n",
       "      <td>...</td>\n",
       "      <td>...</td>\n",
       "      <td>...</td>\n",
       "    </tr>\n",
       "    <tr>\n",
       "      <th>10107713</th>\n",
       "      <td>10107713</td>\n",
       "      <td>96.887598</td>\n",
       "      <td>-12.111763</td>\n",
       "    </tr>\n",
       "    <tr>\n",
       "      <th>10107714</th>\n",
       "      <td>10107714</td>\n",
       "      <td>167.972812</td>\n",
       "      <td>-29.016558</td>\n",
       "    </tr>\n",
       "    <tr>\n",
       "      <th>10107715</th>\n",
       "      <td>10107715</td>\n",
       "      <td>167.972812</td>\n",
       "      <td>-29.015658</td>\n",
       "    </tr>\n",
       "    <tr>\n",
       "      <th>10107716</th>\n",
       "      <td>10107716</td>\n",
       "      <td>167.973840</td>\n",
       "      <td>-29.015658</td>\n",
       "    </tr>\n",
       "    <tr>\n",
       "      <th>10107717</th>\n",
       "      <td>10107717</td>\n",
       "      <td>167.973840</td>\n",
       "      <td>-29.016558</td>\n",
       "    </tr>\n",
       "  </tbody>\n",
       "</table>\n",
       "<p>10107718 rows × 3 columns</p>\n",
       "</div>"
      ],
      "text/plain": [
       "                id        long        lat\n",
       "0                0  146.927851 -36.083648\n",
       "1                1  146.928145 -36.082104\n",
       "2                2  146.928340 -36.081122\n",
       "3                3  146.929139 -36.081218\n",
       "4                4  146.929059 -36.081643\n",
       "...            ...         ...        ...\n",
       "10107713  10107713   96.887598 -12.111763\n",
       "10107714  10107714  167.972812 -29.016558\n",
       "10107715  10107715  167.972812 -29.015658\n",
       "10107716  10107716  167.973840 -29.015658\n",
       "10107717  10107717  167.973840 -29.016558\n",
       "\n",
       "[10107718 rows x 3 columns]"
      ]
     },
     "execution_count": 14,
     "metadata": {},
     "output_type": "execute_result"
    }
   ],
   "source": [
    "dfx.reset_index(drop=False).rename(columns={'index': 'id'})"
   ]
  },
  {
   "cell_type": "code",
   "execution_count": 19,
   "metadata": {},
   "outputs": [],
   "source": [
    "df_lines = coords.to_frame(name='coords').reset_index(drop=False).rename(columns={'index': 'id'})"
   ]
  },
  {
   "cell_type": "code",
   "execution_count": null,
   "metadata": {},
   "outputs": [],
   "source": [
    "# Explode the coords column into separate rows, also add order column\n",
    "dfp = df_lines.explode('coords')\n",
    "# 3m"
   ]
  },
  {
   "cell_type": "code",
   "execution_count": 26,
   "metadata": {},
   "outputs": [],
   "source": [
    "sflines = gdl.apply(lambda x: np.array(x.coords.xy))\n",
    "# 30s"
   ]
  },
  {
   "cell_type": "code",
   "execution_count": 45,
   "metadata": {},
   "outputs": [],
   "source": [
    "dfli = coords.explode().to_frame(name='coords').reset_index(drop=False).rename(columns={'index': 'line_id'}).reset_index(drop=False).rename(columns={'index': 'point_order'})\n",
    "# 2m 30s"
   ]
  },
  {
   "cell_type": "code",
   "execution_count": 47,
   "metadata": {},
   "outputs": [],
   "source": [
    "dfli['long'] = dfli['coords'].apply(lambda x: x[0])\n",
    "dfli['lat'] = dfli['coords'].apply(lambda x: x[1])\n",
    "# 2m 30s"
   ]
  },
  {
   "cell_type": "code",
   "execution_count": 48,
   "metadata": {},
   "outputs": [],
   "source": [
    "dfli.drop(columns=['coords'], inplace=True)\n",
    "# 30s"
   ]
  },
  {
   "cell_type": "code",
   "execution_count": 50,
   "metadata": {},
   "outputs": [],
   "source": [
    "dfli.to_csv('local/mb_lines.csv', index=False, header=True)\n",
    "# 3m. 1GB"
   ]
  }
 ],
 "metadata": {
  "kernelspec": {
   "display_name": "Python 3",
   "language": "python",
   "name": "python3"
  },
  "language_info": {
   "codemirror_mode": {
    "name": "ipython",
    "version": 3
   },
   "file_extension": ".py",
   "mimetype": "text/x-python",
   "name": "python",
   "nbconvert_exporter": "python",
   "pygments_lexer": "ipython3",
   "version": "3.12.0"
  }
 },
 "nbformat": 4,
 "nbformat_minor": 2
}
