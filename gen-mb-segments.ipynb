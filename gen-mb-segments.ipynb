{
 "cells": [
  {
   "cell_type": "code",
   "execution_count": 1,
   "metadata": {},
   "outputs": [],
   "source": [
    "import pandas as pd\n",
    "import geopandas as gpd\n",
    "import shapely.geometry as geom\n",
    "import numpy as np\n",
    "import json"
   ]
  },
  {
   "cell_type": "code",
   "execution_count": 2,
   "metadata": {},
   "outputs": [],
   "source": [
    "\n",
    "gdf : gpd.GeoDataFrame = gpd.read_file('local/MB_2021_AUST_SHP_GDA2020/MB_2021_AUST_GDA2020.shp')\n",
    "# 4m"
   ]
  },
  {
   "cell_type": "code",
   "execution_count": 3,
   "metadata": {},
   "outputs": [],
   "source": [
    "gdf : gpd.GeoDataFrame = gdf[['MB_CODE21', 'geometry']].rename(columns={'MB_CODE21': 'id'})"
   ]
  },
  {
   "cell_type": "code",
   "execution_count": 4,
   "metadata": {},
   "outputs": [],
   "source": [
    "gdf_geom : gpd.GeoSeries = gdf.boundary\n",
    "# 30s"
   ]
  },
  {
   "cell_type": "code",
   "execution_count": 5,
   "metadata": {},
   "outputs": [],
   "source": [
    "# Combine multiple linestring and multilinestring geometries into single multilinestring geometry\n",
    "gdml = gdf_geom.apply(lambda x: geom.MultiLineString([x]) if isinstance(x, geom.LineString) else x)\n",
    "# 1m"
   ]
  },
  {
   "cell_type": "code",
   "execution_count": 6,
   "metadata": {},
   "outputs": [],
   "source": [
    "gl = gdml.apply(lambda x: x.geoms if x is not None else None).explode()\n",
    "# 1m"
   ]
  },
  {
   "cell_type": "code",
   "execution_count": 7,
   "metadata": {},
   "outputs": [],
   "source": [
    "gl.dropna(inplace=True)"
   ]
  },
  {
   "cell_type": "code",
   "execution_count": 8,
   "metadata": {},
   "outputs": [],
   "source": [
    "coords = gl.apply(lambda x: np.array(x.coords))\n",
    "# 1m 30s for list, 10s for numpy array"
   ]
  },
  {
   "cell_type": "code",
   "execution_count": 9,
   "metadata": {},
   "outputs": [],
   "source": [
    "coords.reset_index(drop=True, inplace=True)"
   ]
  },
  {
   "cell_type": "code",
   "execution_count": 10,
   "metadata": {},
   "outputs": [
    {
     "data": {
      "text/plain": [
       "0         [[146.92785052248806, -36.083647638487946], [1...\n",
       "1         [[146.93543157545233, -36.04752350882983], [14...\n",
       "2         [[146.93040435597695, -36.049962708462175], [1...\n",
       "3         [[146.9325386953542, -36.0523838486409], [146....\n",
       "4         [[146.9304386362757, -36.04733293844756], [146...\n",
       "                                ...                        \n",
       "371519    [[167.994230239959, -29.045246369874825], [167...\n",
       "371520    [[150.69854153401263, -35.136031388427355], [1...\n",
       "371521    [[105.66649220160672, -10.422030053283393], [1...\n",
       "371522    [[96.88759755192176, -12.110863535868376], [96...\n",
       "371523    [[167.97281153877768, -29.016557751834803], [1...\n",
       "Length: 371524, dtype: object"
      ]
     },
     "execution_count": 10,
     "metadata": {},
     "output_type": "execute_result"
    }
   ],
   "source": [
    "coords"
   ]
  },
  {
   "cell_type": "code",
   "execution_count": 11,
   "metadata": {},
   "outputs": [
    {
     "data": {
      "text/plain": [
       "19647448"
      ]
     },
     "execution_count": 11,
     "metadata": {},
     "output_type": "execute_result"
    }
   ],
   "source": [
    "# Get all points\n",
    "points = np.concatenate(coords.to_numpy())\n",
    "points.sort(axis=0)\n",
    "len(points)\n",
    "# 19647448\n",
    "# 10s"
   ]
  },
  {
   "cell_type": "code",
   "execution_count": 12,
   "metadata": {},
   "outputs": [
    {
     "data": {
      "text/plain": [
       "14983534"
      ]
     },
     "execution_count": 12,
     "metadata": {},
     "output_type": "execute_result"
    }
   ],
   "source": [
    "# Drop duplicates\n",
    "points = np.unique(points, axis=0)\n",
    "len(points)\n",
    "# 14983534"
   ]
  },
  {
   "cell_type": "code",
   "execution_count": 14,
   "metadata": {},
   "outputs": [],
   "source": [
    "# Split long and lat into separate columns, and save to csv, with index and header\n",
    "df = pd.DataFrame(points, columns=['long', 'lat'])\n",
    "df.to_csv('local/mb_points.csv', index=True, header=True)\n",
    "# 1m 30s"
   ]
  }
 ],
 "metadata": {
  "kernelspec": {
   "display_name": "Python 3",
   "language": "python",
   "name": "python3"
  },
  "language_info": {
   "codemirror_mode": {
    "name": "ipython",
    "version": 3
   },
   "file_extension": ".py",
   "mimetype": "text/x-python",
   "name": "python",
   "nbconvert_exporter": "python",
   "pygments_lexer": "ipython3",
   "version": "3.12.0"
  }
 },
 "nbformat": 4,
 "nbformat_minor": 2
}
