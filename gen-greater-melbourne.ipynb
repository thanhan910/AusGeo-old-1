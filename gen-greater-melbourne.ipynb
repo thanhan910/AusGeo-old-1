{
 "cells": [
  {
   "cell_type": "code",
   "execution_count": 1,
   "metadata": {},
   "outputs": [],
   "source": [
    "import pandas as pd\n",
    "import geopandas as gpd\n",
    "import numpy as np\n",
    "import json\n",
    "import os\n",
    "import requests\n",
    "import io\n",
    "import zipfile"
   ]
  },
  {
   "cell_type": "code",
   "execution_count": 2,
   "metadata": {},
   "outputs": [],
   "source": [
    "dfMB = pd.concat([pd.read_csv(f'data/blocks/MB-{state_code}.csv', dtype=str) for state_code in [1, 2, 4, 5, 6, 8, 9, 'Z']], ignore_index=True)"
   ]
  },
  {
   "cell_type": "code",
   "execution_count": 3,
   "metadata": {},
   "outputs": [],
   "source": [
    "dfMB['AREA_ALBERS_SQKM'] = dfMB['AREA_ALBERS_SQKM'].astype(float)"
   ]
  },
  {
   "cell_type": "code",
   "execution_count": 4,
   "metadata": {},
   "outputs": [
    {
     "data": {
      "text/plain": [
       "Index(['MB_CODE_2021', 'MB_CATEGORY_2021', 'CHANGE_FLAG_2021',\n",
       "       'CHANGE_LABEL_2021', 'SA1_CODE_2021', 'SA2_CODE_2021', 'SA2_NAME_2021',\n",
       "       'SA3_CODE_2021', 'SA3_NAME_2021', 'SA4_CODE_2021', 'SA4_NAME_2021',\n",
       "       'GCCSA_CODE_2021', 'GCCSA_NAME_2021', 'STATE_CODE_2021',\n",
       "       'STATE_NAME_2021', 'AUS_CODE_2021', 'AUS_NAME_2021', 'AREA_ALBERS_SQKM',\n",
       "       'ASGS_LOCI_URI_2021', 'LGA_CODE_2023', 'LGA_NAME_2023', 'SAL_CODE_2021',\n",
       "       'SAL_NAME_2021', 'POA_CODE_2021', 'POA_NAME_2021'],\n",
       "      dtype='object')"
      ]
     },
     "execution_count": 4,
     "metadata": {},
     "output_type": "execute_result"
    }
   ],
   "source": [
    "dfMB.columns"
   ]
  },
  {
   "cell_type": "code",
   "execution_count": 5,
   "metadata": {},
   "outputs": [
    {
     "data": {
      "text/plain": [
       "GCCSA_NAME_2021\n",
       "Greater Sydney                            60881\n",
       "Greater Melbourne                         59483\n",
       "Rest of NSW                               51848\n",
       "Rest of Vic.                              29248\n",
       "Greater Perth                             27112\n",
       "Greater Adelaide                          19362\n",
       "Rest of WA                                16186\n",
       "Rest of Tas.                               9088\n",
       "Rest of SA                                 9054\n",
       "Australian Capital Territory               6660\n",
       "Greater Hobart                             3928\n",
       "Other Territories                           132\n",
       "Migratory - Offshore - Shipping (WA)         23\n",
       "Migratory - Offshore - Shipping (Tas.)       17\n",
       "Migratory - Offshore - Shipping (SA)         14\n",
       "Migratory - Offshore - Shipping (NSW)         8\n",
       "Migratory - Offshore - Shipping (Vic.)        7\n",
       "Migratory - Offshore - Shipping (OT)          3\n",
       "Migratory - Offshore - Shipping (ACT)         1\n",
       "No usual address (OT)                         1\n",
       "No usual address (ACT)                        1\n",
       "No usual address (NSW)                        1\n",
       "No usual address (Tas.)                       1\n",
       "No usual address (WA)                         1\n",
       "No usual address (SA)                         1\n",
       "No usual address (Vic.)                       1\n",
       "Outside Australia                             1\n",
       "Name: count, dtype: int64"
      ]
     },
     "execution_count": 5,
     "metadata": {},
     "output_type": "execute_result"
    }
   ],
   "source": [
    "dfMB['GCCSA_NAME_2021'].value_counts()"
   ]
  },
  {
   "cell_type": "code",
   "execution_count": 6,
   "metadata": {},
   "outputs": [],
   "source": [
    "\n",
    "df_suburbs = dfMB.groupby(['SAL_CODE_2021', 'POA_CODE_2021']).aggregate({\n",
    "    'SAL_NAME_2021' : 'first',\n",
    "    'POA_NAME_2021' : 'first',\n",
    "    'GCCSA_NAME_2021' : 'unique',\n",
    "    'LGA_NAME_2023' : 'unique',\n",
    "    'STATE_CODE_2021' : 'first',\n",
    "    'STATE_NAME_2021' : 'first',\n",
    "    'AUS_CODE_2021' : 'first',\n",
    "    'AUS_NAME_2021' : 'first',\n",
    "    'AREA_ALBERS_SQKM' : 'sum',\n",
    "    'MB_CATEGORY_2021' : 'unique',\n",
    "}).reset_index().rename(columns={\n",
    "    'SAL_CODE_2021' : 'suburb_id',\n",
    "    'POA_CODE_2021' : 'postcode_id',\n",
    "    'SAL_NAME_2021' : 'suburb_name',\n",
    "    'POA_NAME_2021' : 'postcode',\n",
    "    'GCCSA_NAME_2021' : 'capital_city',\n",
    "    'LGA_NAME_2023' : 'lgas',\n",
    "    'STATE_CODE_2021' : 'state_id',\n",
    "    'STATE_NAME_2021' : 'state_name',\n",
    "    'AUS_CODE_2021' : 'country_id',\n",
    "    'AUS_NAME_2021' : 'country_name',\n",
    "    'AREA_ALBERS_SQKM' : 'area_sqkm',\n",
    "    'MB_CATEGORY_2021' : 'categories',\n",
    "})"
   ]
  },
  {
   "cell_type": "code",
   "execution_count": 7,
   "metadata": {},
   "outputs": [
    {
     "data": {
      "text/plain": [
       "lga_count\n",
       "1    10888\n",
       "2     1004\n",
       "3       63\n",
       "4        5\n",
       "5        1\n",
       "Name: count, dtype: int64"
      ]
     },
     "execution_count": 7,
     "metadata": {},
     "output_type": "execute_result"
    }
   ],
   "source": [
    "# Temporary analyses\n",
    "df_suburbs['lga'] = df_suburbs['lgas'].apply(lambda x: x[0] if len(x) == 1 else x)\n",
    "df_suburbs['lga_count'] = df_suburbs['lgas'].apply(len)\n",
    "df_suburbs['gccsa_count'] = df_suburbs['capital_city'].apply(len)\n",
    "df_suburbs['lga_count'].value_counts()"
   ]
  },
  {
   "cell_type": "code",
   "execution_count": 8,
   "metadata": {},
   "outputs": [],
   "source": [
    "greater_melbourne_postcodes_2 = df_suburbs[(df_suburbs['capital_city'].apply(lambda x: 'Greater Melbourne' in x))]['postcode_id'].str[:2].unique()\n",
    "greater_melbourne_postcodes_2.sort()"
   ]
  },
  {
   "cell_type": "code",
   "execution_count": 9,
   "metadata": {},
   "outputs": [],
   "source": [
    "gdf : gpd.GeoDataFrame = gpd.GeoDataFrame(pd.concat([gpd.read_file(f'data/suburbs/suburbs-2-{p2}.geojson') for p2 in greater_melbourne_postcodes_2], ignore_index=True))\n",
    "# 20s - 30s"
   ]
  },
  {
   "cell_type": "code",
   "execution_count": 10,
   "metadata": {},
   "outputs": [],
   "source": [
    "df_greater_melbourne_ids = df_suburbs[(df_suburbs['capital_city'].apply(lambda x: 'Greater Melbourne' in x))][['suburb_id', 'postcode_id']]"
   ]
  },
  {
   "cell_type": "code",
   "execution_count": 11,
   "metadata": {},
   "outputs": [],
   "source": [
    "df_greater_melbourne_ids['Greater Melbourne'] = True"
   ]
  },
  {
   "cell_type": "code",
   "execution_count": 12,
   "metadata": {},
   "outputs": [],
   "source": [
    "gdf = gdf.merge(df_greater_melbourne_ids, on=['suburb_id', 'postcode_id'], how='left')"
   ]
  },
  {
   "cell_type": "code",
   "execution_count": 13,
   "metadata": {},
   "outputs": [],
   "source": [
    "gdf = gdf[gdf['Greater Melbourne'] == True]"
   ]
  },
  {
   "cell_type": "code",
   "execution_count": 14,
   "metadata": {},
   "outputs": [],
   "source": [
    "gdf.drop(columns=['Greater Melbourne'], inplace=True)"
   ]
  },
  {
   "cell_type": "code",
   "execution_count": 15,
   "metadata": {},
   "outputs": [],
   "source": [
    "os.makedirs('data/custom', exist_ok=True)"
   ]
  },
  {
   "cell_type": "code",
   "execution_count": 16,
   "metadata": {},
   "outputs": [],
   "source": [
    "gdf.to_file('data/custom/suburbs-greater-melbourne.geojson', driver='GeoJSON')"
   ]
  }
 ],
 "metadata": {
  "kernelspec": {
   "display_name": "Python 3",
   "language": "python",
   "name": "python3"
  },
  "language_info": {
   "codemirror_mode": {
    "name": "ipython",
    "version": 3
   },
   "file_extension": ".py",
   "mimetype": "text/x-python",
   "name": "python",
   "nbconvert_exporter": "python",
   "pygments_lexer": "ipython3",
   "version": "3.12.0"
  }
 },
 "nbformat": 4,
 "nbformat_minor": 2
}
